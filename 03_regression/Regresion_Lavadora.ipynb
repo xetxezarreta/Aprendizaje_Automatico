{
 "cells": [
  {
   "cell_type": "markdown",
   "metadata": {},
   "source": [
    "# Regression Lavadora"
   ]
  },
  {
   "cell_type": "code",
   "execution_count": 53,
   "metadata": {},
   "outputs": [],
   "source": [
    "SEED = 46079990\n",
    "\n",
    "import itertools as it\n",
    "from sklearn.model_selection import cross_validate\n",
    "import pandas as pd\n",
    "import numpy as np\n",
    "import datetime\n",
    "from sklearn.metrics import mean_squared_error\n",
    "\n",
    "\n",
    "class CrossValidator:\n",
    "\n",
    "    def __init__(self, df, k_folds, algorithm):\n",
    "        self.dataset = df.values\n",
    "        self.k_folds = k_folds\n",
    "        self.algorithm = algorithm\n",
    "\n",
    "\n",
    "    def getfolds(self,k):\n",
    "        lenght = len(self.dataset)//self.k_folds\n",
    "        inicio = k*lenght\n",
    "        fin = inicio + lenght\n",
    "        validation = self.dataset[inicio:fin,:]\n",
    "        training = []\n",
    "        for i in range(len(self.dataset)):\n",
    "            if i not in range(inicio,fin):\n",
    "                training.append(self.dataset[i,:])\n",
    "        training=np.array(training)\n",
    "        return training, validation\n",
    "\n",
    "    def crossValidate(self):\n",
    "        np.random.shuffle(self.dataset)\n",
    "        scores = []\n",
    "        for i in range(self.k_folds):\n",
    "            training, validation = self.getfolds(i)\n",
    "            training_x = training[:,:-1]\n",
    "            training_y = training[:,-1]\n",
    "            validation_x = validation[:,:-1]\n",
    "            validation_y = validation[:, -1]\n",
    "            model = self.algorithm.fit(training_x, training_y)\n",
    "            y_pred = model.predict(validation_x)\n",
    "            scores.append(mean_squared_error(validation_y,y_pred))\n",
    "\n",
    "        return sum(scores)/self.k_folds\n",
    "def get_best_hyperparameter_config(algorithm_class, df, dictionary, debug=False, logger=False):\n",
    "    if debug:\n",
    "        t0 = datetime.datetime.now()\n",
    "        print(\"=====================================\")\n",
    "        print(t0)\n",
    "\n",
    "    k_folds = 5\n",
    "    best_config = {}\n",
    "    best_score = None\n",
    "\n",
    "    allNames = []\n",
    "    for i in dictionary:\n",
    "        allNames.append(i)\n",
    "\n",
    "    combinations = it.product(*(dictionary[Name] for Name in allNames))\n",
    "    combinations_list = list(combinations)\n",
    "\n",
    "    if combinations_list == [()]:\n",
    "        algorithm_instance = algorithm_class()\n",
    "        if logger:\n",
    "            print({})\n",
    "        #cv_results = cross_validate(algorithm_instance, X=X, y=y, cv=5)\n",
    "        cv = CrossValidator(df=df, algorithm=algorithm_instance, k_folds=5)\n",
    "        mean = cv.crossValidate()\n",
    "        best_score = mean\n",
    "        best_config = {}\n",
    "        if logger:\n",
    "            print(\"error (min error): \" + str(mean))\n",
    "            print(\"config: \" + str({}))\n",
    "    else:\n",
    "        for combination in combinations_list:\n",
    "            kwargs = {}\n",
    "            for i in range(len(allNames)):\n",
    "                kwargs.update({allNames[i]: combination[i]})\n",
    "                algorithm_instance = algorithm_class(**kwargs)\n",
    "                if logger:\n",
    "                    print(kwargs)\n",
    "                #cv_results = cross_validate(algorithm_instance, X=X, y=y, cv=5)\n",
    "\n",
    "                cv = CrossValidator(df=df, algorithm=algorithm_instance, k_folds=5)\n",
    "                mean = cv.crossValidate()\n",
    "                if best_score == None:\n",
    "                    best_score = mean\n",
    "                    best_config = kwargs\n",
    "                elif mean < best_score:\n",
    "                    best_score = mean\n",
    "                    best_config = kwargs\n",
    "                if logger:\n",
    "                    print(\"error (min error): \" + str(mean))\n",
    "                    print(\"config: \" + str(kwargs))\n",
    "    if debug:\n",
    "        t1 = datetime.datetime.now()\n",
    "        print(t1)\n",
    "        print(algorithm_class)\n",
    "        print(\"Best error (min error): \" + str(best_score))\n",
    "        print(\"Best config: \" + str(best_config))\n",
    "        print(\"Elapsed time: \" + str(t1-t0))\n",
    "        print(\"=====================================\")\n",
    "\n",
    "\n",
    "    return best_score, best_config\n",
    "\n",
    "########################################################################################################################\n",
    "\"\"\"\n",
    "https://scikit-learn.org/stable/modules/generated/sklearn.linear_model.LinearRegression.html\n",
    "\"\"\"\n",
    "from sklearn.linear_model import LinearRegression\n",
    "\n",
    "def linear_regression_grid_search(data, debug=True, logger=True):\n",
    "\n",
    "    dictionary = {\n",
    "\n",
    "    }\n",
    "    config, score = get_best_hyperparameter_config(LinearRegression, data, dictionary, debug, logger)\n",
    "    return \"linear_regression\", config, score\n",
    "########################################################################################################################\n",
    "\"\"\"\n",
    "https://scikit-learn.org/stable/modules/generated/sklearn.neighbors.KNeighborsRegressor.html\n",
    "\"\"\"\n",
    "from sklearn.neighbors import KNeighborsRegressor\n",
    "\n",
    "def knn_regression_grid_search(data, debug=True, logger=True):\n",
    "    \n",
    "    dictionary = {\n",
    "        \"n_neighbors\": [3,5,7,10,15,20],\n",
    "        \"weights\": [\"uniform\", \"distance\"] #Distance tends to overfit\n",
    "    }\n",
    "    config, score = get_best_hyperparameter_config(KNeighborsRegressor, data, dictionary, debug, logger)\n",
    "    return \"knn_regression\", config, score\n",
    "########################################################################################################################\n",
    "def regressor_grid_search(data, debug=True, logger=False):\n",
    "    print(\"LOW ERROR MEANS BETTER\")\n",
    "    t0 = datetime.datetime.now()\n",
    "\n",
    "    functions_to_be_called = [\n",
    "        #Parametric method\n",
    "        linear_regression_grid_search,\n",
    "        #NON Parametric method\n",
    "        knn_regression_grid_search,\n",
    "    ]\n",
    "\n",
    "    functions_to_be_called = [\n",
    "        linear_regression_grid_search,\n",
    "        knn_regression_grid_search,\n",
    "    ]\n",
    "\n",
    "    scores = []\n",
    "    for func in functions_to_be_called:\n",
    "        classifier, score, config = func(data, debug, logger)\n",
    "        scores.append({\"regressor\": classifier, \"mean_squared_error\": score, \"config\": config})\n",
    "\n",
    "    sorted_scores = sorted(scores, key=lambda k: k['mean_squared_error'])\n",
    "    for i in sorted_scores:\n",
    "        print(str(i[\"mean_squared_error\"]) + \"\\t \" + str(i[\"regressor\"]) + \"\\t \" + str(i[\"config\"]))\n",
    "\n",
    "    t1 = datetime.datetime.now()\n",
    "    print(\"\\n \\n \\n \\n \")\n",
    "    print(\"TOTAL ELAPSED TIME: \" + str(t1-t0))"
   ]
  },
  {
   "cell_type": "code",
   "execution_count": 91,
   "metadata": {
    "scrolled": false
   },
   "outputs": [
    {
     "name": "stdout",
     "output_type": "stream",
     "text": [
      "               TV       Sales\n",
      "count  200.000000  200.000000\n",
      "mean   147.042500   14.022500\n",
      "std     85.854236    5.217457\n",
      "min      0.700000    1.600000\n",
      "25%     74.375000   10.375000\n",
      "50%    149.750000   12.900000\n",
      "75%    218.825000   17.400000\n",
      "max    296.400000   27.000000\n",
      "LOW ERROR MEANS BETTER\n",
      "=====================================\n",
      "2019-11-10 19:09:36.204681\n",
      "2019-11-10 19:09:36.210665\n",
      "<class 'sklearn.linear_model.base.LinearRegression'>\n",
      "Best error (min error): 2.94190056129207\n",
      "Best config: {}\n",
      "Elapsed time: 0:00:00.005984\n",
      "=====================================\n",
      "=====================================\n",
      "2019-11-10 19:09:36.212659\n",
      "2019-11-10 19:09:36.405144\n",
      "<class 'sklearn.neighbors.regression.KNeighborsRegressor'>\n",
      "Best error (min error): 1.9766055746926057\n",
      "Best config: {'n_neighbors': 5, 'weights': 'distance'}\n",
      "Elapsed time: 0:00:00.192485\n",
      "=====================================\n",
      "1.9766055746926057\t knn_regression\t {'n_neighbors': 5, 'weights': 'distance'}\n",
      "2.94190056129207\t linear_regression\t {}\n",
      "\n",
      " \n",
      " \n",
      " \n",
      " \n",
      "TOTAL ELAPSED TIME: 0:00:00.202458\n"
     ]
    }
   ],
   "source": [
    "advertising = pd.read_csv('Advertising.csv', usecols=[1,2,3,4])\n",
    "\n",
    "x_TV = advertising.TV.values.reshape(-1, 1)#one column unknown nb of rows\n",
    "y_sales = advertising.sales\n",
    "\n",
    "df = pd.DataFrame(x_TV, columns=[\"TV\"])\n",
    "df.insert(len(df.columns), \"Sales\", y_sales)\n",
    "\n",
    "print(df.describe())\n",
    "\n",
    "regressor_grid_search(advertising, logger=False)"
   ]
  },
  {
   "cell_type": "markdown",
   "metadata": {},
   "source": [
    "# Codigo Ploters"
   ]
  },
  {
   "cell_type": "code",
   "execution_count": null,
   "metadata": {},
   "outputs": [],
   "source": []
  },
  {
   "cell_type": "markdown",
   "metadata": {},
   "source": [
    "# Knn Plotter"
   ]
  },
  {
   "cell_type": "code",
   "execution_count": 88,
   "metadata": {},
   "outputs": [],
   "source": [
    "SEED = 46079990\n",
    "import matplotlib.pyplot as plt\n",
    "import seaborn as sns \n",
    "\n",
    "def plot_knn_regression(instance, df, title, split=True, X_test=None):\n",
    "    from sklearn.model_selection import train_test_split\n",
    "    \n",
    "    if split:\n",
    "        X_train, X_test, y_train, y_test = train_test_split(df.values[:,:-1], df.values[:,-1], test_size=0.33, random_state=SEED)\n",
    "    else:\n",
    "        X_train = df.values[:,:-1]\n",
    "        y_train = df.values[:,-1]\n",
    "        \n",
    "    y_pred = instance.fit(X_train, y_train).predict(X_test)\n",
    "    # Plots\n",
    "    plt.figure(figsize=(8,8))\n",
    "    #\n",
    "    plt.scatter(X_train, y_train, c='k', label='train data')\n",
    "    #\n",
    "    plt.scatter(X_test, y_pred, c='g', label='predicted values')\n",
    "    #plt.plot(T, y_knn_uniform, c='g', linewidth=1)\n",
    "    #\n",
    "    plt.axis('tight')\n",
    "    plt.legend()\n",
    "    plt.title(title);\n",
    "    sns.regplot(X_train, y_train, order=1, ci=None, scatter=False, label='Linear', color='b')\n"
   ]
  },
  {
   "cell_type": "code",
   "execution_count": 89,
   "metadata": {},
   "outputs": [
    {
     "data": {
      "image/png": "[encoded data removed]",
      "text/plain": [
       "<Figure size 576x576 with 1 Axes>"
      ]
     },
     "metadata": {
      "needs_background": "light"
     },
     "output_type": "display_data"
    }
   ],
   "source": [
    "knn = KNeighborsRegressor(n_neighbors=5, weights=\"uniform\")\n",
    "plot_knn_regression(knn ,df, \"knn 5 - uniform\")"
   ]
  },
  {
   "cell_type": "code",
   "execution_count": 84,
   "metadata": {},
   "outputs": [
    {
     "data": {
      "image/png": "[encoded data removed]",
      "text/plain": [
       "<Figure size 576x576 with 1 Axes>"
      ]
     },
     "metadata": {
      "needs_background": "light"
     },
     "output_type": "display_data"
    }
   ],
   "source": [
    "X = np.sort(5 * np.random.rand(40, 1), axis=0)\n",
    "y = np.sin(X).ravel() #Return a contiguous flattened array.\n",
    "# Add noise to targets\n",
    "y[::5] += 1 * (0.5 - np.random.rand(8))\n",
    "\n",
    "df_reduced = pd.DataFrame(X, columns=[\"\"])\n",
    "df_reduced.insert(len(df_reduced.columns), \"target\", y)\n",
    "\n",
    "X_test = np.linspace(0, 5, 500)[:, np.newaxis]\n",
    "\n",
    "knn = KNeighborsRegressor(n_neighbors=10, weights=\"distance\")\n",
    "\n",
    "plot_knn_regression(knn ,df_reduced, \"knn 5 - distance\", split=False, X_test=X_test)"
   ]
  },
  {
   "cell_type": "markdown",
   "metadata": {},
   "source": [
    "# Linear Regression Plotter"
   ]
  },
  {
   "cell_type": "code",
   "execution_count": null,
   "metadata": {},
   "outputs": [],
   "source": [
    "SEED = 46079990\n",
    "import matplotlib.pyplot as plt\n",
    "import seaborn as sns \n",
    "\n",
    "def plot_linear_regression(instance, df, title, split=True, X_test=None):\n",
    "    from sklearn.model_selection import train_test_split\n",
    "    \n",
    "    if split:\n",
    "        X_train, X_test, y_train, y_test = train_test_split(df.values[:,:-1], df.values[:,-1], test_size=0.33, random_state=SEED)\n",
    "    else:\n",
    "        X_train = df.values[:,:-1]\n",
    "        y_train = df.values[:,-1]\n",
    "        \n",
    "    y_pred = instance.fit(X_train, y_train).predict(X_test)\n",
    "    # Plots\n",
    "    plt.figure(figsize=(8,8))\n",
    "    #\n",
    "    plt.scatter(X_train, y_train, c='k', label='train data')\n",
    "    #\n",
    "    plt.scatter(X_test, y_pred, c='g', label='predicted values')\n",
    "    #plt.plot(T, y_knn_uniform, c='g', linewidth=1)\n",
    "    #\n",
    "    plt.axis('tight')\n",
    "    plt.legend()\n",
    "    plt.title(title);\n",
    "    sns.regplot(X_train, y_train, order=1, ci=None, scatter=False, label='Linear', color='b')"
   ]
  }
 ],
 "metadata": {
  "kernelspec": {
   "display_name": "Python 3",
   "language": "python",
   "name": "python3"
  },
  "language_info": {
   "codemirror_mode": {
    "name": "ipython",
    "version": 3
   },
   "file_extension": ".py",
   "mimetype": "text/x-python",
   "name": "python",
   "nbconvert_exporter": "python",
   "pygments_lexer": "ipython3",
   "version": "3.7.5"
  }
 },
 "nbformat": 4,
 "nbformat_minor": 1
}

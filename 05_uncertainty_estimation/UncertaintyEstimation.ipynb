{
 "cells": [
  {
   "cell_type": "markdown",
   "metadata": {},
   "source": [
    "# Uncertainty estimation"
   ]
  },
  {
   "cell_type": "markdown",
   "metadata": {},
   "source": [
    "### Confidence intervals for model parameters"
   ]
  },
  {
   "cell_type": "markdown",
   "metadata": {},
   "source": [
    "We will focus on simple linear regression using artificial data, just for visual purposes.\n",
    "\n",
    "For instance we can consider the following example. The owner of a shop assumes that the amount of customers visiting the shop is enough to predict the amount of units of certain product that will be sold. We create artificial data for the amount of visitors (x) and the sales (y)."
   ]
  },
  {
   "cell_type": "code",
   "execution_count": 1,
   "metadata": {},
   "outputs": [],
   "source": [
    "import numpy as np\n",
    "\n",
    "\n",
    "# random number seed\n",
    "np.random.seed(0)\n",
    "# Number of samples\n",
    "size = 100\n",
    "x = 20 * (2.5 + np.random.randn(size)) \n",
    "y = x + (10 * np.random.randn(size) + 50)"
   ]
  },
  {
   "cell_type": "markdown",
   "metadata": {},
   "source": [
    "Let us see how the data looks like."
   ]
  },
  {
   "cell_type": "code",
   "execution_count": 2,
   "metadata": {},
   "outputs": [
    {
     "data": {
      "text/plain": [
       "Text(0, 0.5, 'Sales')"
      ]
     },
     "execution_count": 2,
     "metadata": {},
     "output_type": "execute_result"
    },
    {
     "data": {
      "image/png": "[encoded data removed]",
      "text/plain": [
       "<Figure size 432x288 with 1 Axes>"
      ]
     },
     "metadata": {
      "needs_background": "light"
     },
     "output_type": "display_data"
    }
   ],
   "source": [
    "import matplotlib.pyplot as plt\n",
    "%matplotlib inline\n",
    "\n",
    "plt.plot(x, y,'ro')\n",
    "plt.xlabel('Visitors')\n",
    "plt.ylabel('Sales')\n"
   ]
  },
  {
   "cell_type": "markdown",
   "metadata": {},
   "source": [
    "We use bootstrapping to create $k = 1000$ models"
   ]
  },
  {
   "cell_type": "code",
   "execution_count": 3,
   "metadata": {},
   "outputs": [],
   "source": [
    "from sklearn.utils import resample\n",
    "from sklearn.linear_model import LinearRegression\n",
    "\n",
    "coefficients = []\n",
    "intercepts = []\n",
    "for _ in range(1000):\n",
    "    idx = np.random.randint(0, size, size).reshape(-1, 1)\n",
    "    #print(idx.shape)\n",
    "    x_train = x[idx]\n",
    "    y_train = y[idx]\n",
    "    # models training\n",
    "    model = LinearRegression().fit(x_train, y_train)\n",
    "    # storing coefficients\n",
    "    coefficients.append(model.coef_.item())\n",
    "    intercepts.append(model.intercept_)\n",
    "intercepts = np.array(intercepts).reshape([1000,])"
   ]
  },
  {
   "cell_type": "markdown",
   "metadata": {},
   "source": [
    "We calculate the limits, cutting tails by percentiles calculation."
   ]
  },
  {
   "cell_type": "code",
   "execution_count": 4,
   "metadata": {},
   "outputs": [],
   "source": [
    "upper_coefficient = np.percentile(coefficients, 97.5)\n",
    "upper_intercept = np.percentile(intercepts, 97.5)\n",
    "lower_coefficient = np.percentile(coefficients, 2.5)\n",
    "lower_intercept = np.percentile(intercepts, 2.5)"
   ]
  },
  {
   "cell_type": "markdown",
   "metadata": {},
   "source": [
    "We plot histograms for both parameters."
   ]
  },
  {
   "cell_type": "code",
   "execution_count": 5,
   "metadata": {},
   "outputs": [
    {
     "data": {
      "image/png": "[encoded data removed]",
      "text/plain": [
       "<Figure size 432x288 with 1 Axes>"
      ]
     },
     "metadata": {
      "needs_background": "light"
     },
     "output_type": "display_data"
    }
   ],
   "source": [
    "plt.hist(coefficients, 40, facecolor='b');\n",
    "plt.xlabel('Coefficients')\n",
    "plt.title('Histogram of coefficients')\n",
    "plt.show()"
   ]
  },
  {
   "cell_type": "code",
   "execution_count": 6,
   "metadata": {},
   "outputs": [
    {
     "data": {
      "image/png": "[encoded data removed]",
      "text/plain": [
       "<Figure size 432x288 with 1 Axes>"
      ]
     },
     "metadata": {
      "needs_background": "light"
     },
     "output_type": "display_data"
    }
   ],
   "source": [
    "plt.hist(intercepts, 40, facecolor='g');\n",
    "plt.xlabel('Intercepts')\n",
    "plt.title('Histogram of intercepts')\n",
    "plt.show()"
   ]
  },
  {
   "cell_type": "markdown",
   "metadata": {},
   "source": [
    "The confidence interval for the coefficient ($b$) with 95% precision is "
   ]
  },
  {
   "cell_type": "code",
   "execution_count": 7,
   "metadata": {},
   "outputs": [
    {
     "name": "stdout",
     "output_type": "stream",
     "text": [
      "[0.960541832476306, 1.1489550620729876]\n"
     ]
    }
   ],
   "source": [
    "print([lower_coefficient, upper_coefficient])"
   ]
  },
  {
   "cell_type": "markdown",
   "metadata": {},
   "source": [
    "The confidence interval for the intercept ($a$) with 95% precision is "
   ]
  },
  {
   "cell_type": "code",
   "execution_count": 8,
   "metadata": {},
   "outputs": [
    {
     "name": "stdout",
     "output_type": "stream",
     "text": [
      "[43.08637886084862, 53.07706641672887]\n"
     ]
    }
   ],
   "source": [
    "print([lower_intercept, upper_intercept])"
   ]
  },
  {
   "cell_type": "markdown",
   "metadata": {},
   "source": [
    "### Prediction intervals"
   ]
  },
  {
   "cell_type": "markdown",
   "metadata": {},
   "source": [
    "We will see graphically the shape of prediction intervals and its interpretation, using the same example we have used before.\n",
    "\n",
    "We create the same data again"
   ]
  },
  {
   "cell_type": "code",
   "execution_count": 9,
   "metadata": {},
   "outputs": [],
   "source": [
    "import numpy as np\n",
    "\n",
    "\n",
    "# random number seed\n",
    "np.random.seed(0)\n",
    "# Number of samples\n",
    "size = 100\n",
    "x = 20 * (2.5 + np.random.randn(size)) \n",
    "y = x + (10 * np.random.randn(size) + 50)"
   ]
  },
  {
   "cell_type": "markdown",
   "metadata": {},
   "source": [
    "We train the model and calculate the necessary statistics"
   ]
  },
  {
   "cell_type": "code",
   "execution_count": 10,
   "metadata": {},
   "outputs": [],
   "source": [
    "from sklearn.linear_model import LinearRegression\n",
    "\n",
    "# model training\n",
    "model = LinearRegression().fit(x.reshape(-1,1), y.reshape(-1,1))\n",
    "# make predictions\n",
    "yhat = model.predict(x.reshape(-1,1))\n",
    "# estimate stdev of yhat\n",
    "sum_errs = np.sum((y - yhat)**2)\n",
    "stdev = np.sqrt(1/(len(y)-2) * sum_errs)\n",
    "# calculate prediction interval\n",
    "interval = 1.96 * stdev"
   ]
  },
  {
   "cell_type": "markdown",
   "metadata": {},
   "source": [
    "The regression line is"
   ]
  },
  {
   "cell_type": "code",
   "execution_count": 11,
   "metadata": {},
   "outputs": [
    {
     "data": {
      "image/png": "[encoded data removed]",
      "text/plain": [
       "<Figure size 432x288 with 1 Axes>"
      ]
     },
     "metadata": {
      "needs_background": "light"
     },
     "output_type": "display_data"
    }
   ],
   "source": [
    "plt.scatter(x, y)\n",
    "plt.plot(x, yhat, color='red')\n",
    "plt.show()"
   ]
  },
  {
   "cell_type": "markdown",
   "metadata": {},
   "source": [
    "Now that we have the model, we get a single values for calculating their prediction intervals. "
   ]
  },
  {
   "cell_type": "markdown",
   "metadata": {},
   "source": [
    "First, we take a point in the upper side. For instance, the forth sample in x has a real value $y= 154.51$"
   ]
  },
  {
   "cell_type": "code",
   "execution_count": 12,
   "metadata": {},
   "outputs": [
    {
     "data": {
      "text/plain": [
       "154.51183106560927"
      ]
     },
     "execution_count": 12,
     "metadata": {},
     "output_type": "execute_result"
    }
   ],
   "source": [
    "y[3]"
   ]
  },
  {
   "cell_type": "markdown",
   "metadata": {},
   "source": [
    "We get its prediction interval"
   ]
  },
  {
   "cell_type": "code",
   "execution_count": 13,
   "metadata": {},
   "outputs": [],
   "source": [
    "# define new input, expected value and prediction\n",
    "# extreme value (high)\n",
    "x1_in = x[3]\n",
    "y1_out = y[3]\n",
    "y1hat_out = yhat[3]"
   ]
  },
  {
   "cell_type": "code",
   "execution_count": 14,
   "metadata": {},
   "outputs": [
    {
     "name": "stdout",
     "output_type": "stream",
     "text": [
      "Prediction Interval: 630.548\n",
      "95% likelihood that the true value is between -476.036 and 785.060\n",
      "True value: 148.140\n"
     ]
    },
    {
     "data": {
      "image/png": "[encoded data removed]",
      "text/plain": [
       "<Figure size 432x288 with 1 Axes>"
      ]
     },
     "metadata": {
      "needs_background": "light"
     },
     "output_type": "display_data"
    }
   ],
   "source": [
    "print('Prediction Interval: %.3f' % interval)\n",
    "lower1, upper1 = y1_out - interval, y1_out + interval\n",
    "print('95%% likelihood that the true value is between %.3f and %.3f' % (lower1, upper1))\n",
    "print('True value: %.3f' % y1hat_out)\n",
    "# plot dataset and prediction with interval\n",
    "plt.scatter(x, y)\n",
    "plt.plot(x, yhat, color='red')\n",
    "plt.errorbar(x1_in, y1hat_out, yerr=interval, color='black', fmt='o')\n",
    "plt.show()"
   ]
  },
  {
   "cell_type": "markdown",
   "metadata": {},
   "source": [
    "Secondly, we take a value on the lower tail. For instance, the 21st sample in x has a real value $y= 52.70$"
   ]
  },
  {
   "cell_type": "code",
   "execution_count": 15,
   "metadata": {},
   "outputs": [
    {
     "data": {
      "text/plain": [
       "52.70445899487473"
      ]
     },
     "execution_count": 15,
     "metadata": {},
     "output_type": "execute_result"
    }
   ],
   "source": [
    "y[20]"
   ]
  },
  {
   "cell_type": "code",
   "execution_count": 16,
   "metadata": {},
   "outputs": [],
   "source": [
    "# define new input, expected value and prediction\n",
    "# extreme value (low)\n",
    "x2_in = x[20]\n",
    "y2_out = y[20]\n",
    "y2hat_out = yhat[20]\n"
   ]
  },
  {
   "cell_type": "code",
   "execution_count": 17,
   "metadata": {},
   "outputs": [
    {
     "name": "stdout",
     "output_type": "stream",
     "text": [
      "Prediction Interval: 630.548\n",
      "95% likelihood that the true value is between -577.844 and 683.252\n",
      "True value: 46.763\n"
     ]
    },
    {
     "data": {
      "image/png": "[encoded data removed]",
      "text/plain": [
       "<Figure size 432x288 with 1 Axes>"
      ]
     },
     "metadata": {
      "needs_background": "light"
     },
     "output_type": "display_data"
    }
   ],
   "source": [
    "print('Prediction Interval: %.3f' % interval)\n",
    "lower2, upper2 = y2_out - interval, y2_out + interval\n",
    "print('95%% likelihood that the true value is between %.3f and %.3f' % (lower2, upper2))\n",
    "print('True value: %.3f' % y2hat_out)\n",
    "# plot dataset and prediction with interval\n",
    "plt.scatter(x, y)\n",
    "plt.plot(x, yhat, color='red')\n",
    "plt.errorbar(x2_in, y2hat_out, yerr=interval, color='black', fmt='o')\n",
    "plt.show()"
   ]
  },
  {
   "cell_type": "markdown",
   "metadata": {},
   "source": [
    "Last, we take the point that is closest to the mean value ($102.01$). Concretely, the 22nd sample, with $y=102.08$"
   ]
  },
  {
   "cell_type": "code",
   "execution_count": 18,
   "metadata": {},
   "outputs": [
    {
     "data": {
      "text/plain": [
       "102.07836400296526"
      ]
     },
     "execution_count": 18,
     "metadata": {},
     "output_type": "execute_result"
    }
   ],
   "source": [
    "y[21]"
   ]
  },
  {
   "cell_type": "code",
   "execution_count": 19,
   "metadata": {},
   "outputs": [],
   "source": [
    "# define new input, expected value and prediction\n",
    "# closest to the average value\n",
    "x3_in = x[21]\n",
    "y3_out = y[21]\n",
    "y3hat_out = yhat[21]"
   ]
  },
  {
   "cell_type": "code",
   "execution_count": 20,
   "metadata": {},
   "outputs": [
    {
     "name": "stdout",
     "output_type": "stream",
     "text": [
      "Prediction Interval: 630.548\n",
      "95% likelihood that the true value is between -528.470 and 732.626\n",
      "True value: 114.574\n"
     ]
    },
    {
     "data": {
      "image/png": "[encoded data removed]",
      "text/plain": [
       "<Figure size 432x288 with 1 Axes>"
      ]
     },
     "metadata": {
      "needs_background": "light"
     },
     "output_type": "display_data"
    }
   ],
   "source": [
    "print('Prediction Interval: %.3f' % interval)\n",
    "lower3, upper3 = y3_out - interval, y3_out + interval\n",
    "print('95%% likelihood that the true value is between %.3f and %.3f' % (lower3, upper3))\n",
    "print('True value: %.3f' % y3hat_out)\n",
    "# plot dataset and prediction with interval\n",
    "plt.scatter(x, y)\n",
    "plt.plot(x, yhat, color='red')\n",
    "plt.errorbar(x3_in, y3hat_out, yerr=interval, color='black', fmt='o')\n",
    "plt.show()"
   ]
  },
  {
   "cell_type": "markdown",
   "metadata": {},
   "source": [
    "With this random data, the amount of information is so spread that we have a lot of uncertainty everywhere.\n",
    "\n",
    "A confidence interval for the standard error would have been wider in the tails, but narrower in the central part, as it is more densely represented by data."
   ]
  },
  {
   "cell_type": "code",
   "execution_count": null,
   "metadata": {},
   "outputs": [],
   "source": []
  }
 ],
 "metadata": {
  "kernelspec": {
   "display_name": "Python 3",
   "language": "python",
   "name": "python3"
  },
  "language_info": {
   "codemirror_mode": {
    "name": "ipython",
    "version": 3
   },
   "file_extension": ".py",
   "mimetype": "text/x-python",
   "name": "python",
   "nbconvert_exporter": "python",
   "pygments_lexer": "ipython3",
   "version": "3.7.4"
  }
 },
 "nbformat": 4,
 "nbformat_minor": 2
}

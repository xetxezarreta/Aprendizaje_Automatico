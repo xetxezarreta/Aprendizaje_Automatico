{
 "cells": [
  {
   "cell_type": "markdown",
   "metadata": {},
   "source": [
    "# Control point: Data preprocessing\n",
    "#### Máster en Análisis de Datos, Ciberseguridad y Computación en la Nube\n",
    "#### Aprendizaje Automático - Punto de Control 1 (31/10/2019)"
   ]
  },
  {
   "cell_type": "markdown",
   "metadata": {},
   "source": [
    "#### Name & Surnames: Iker Ocio Zuazo"
   ]
  },
  {
   "cell_type": "markdown",
   "metadata": {},
   "source": [
    "### Introduction"
   ]
  },
  {
   "cell_type": "markdown",
   "metadata": {},
   "source": [
    "The dataset named Hoerchen (Hoerchen.csv) has more than 145K samples and more than 70 features."
   ]
  },
  {
   "cell_type": "markdown",
   "metadata": {},
   "source": [
    "The main objective of the control point is to preprocess the train data, designing a complete preprocessing scheme, and test it on test data. \n",
    "\n",
    "You must take into account that this is not a toy dataset, and its size could be relevant."
   ]
  },
  {
   "cell_type": "markdown",
   "metadata": {},
   "source": [
    "The function \"automatic_scoring\" provides a way for comparing different schemes using a classifier, by means of 10-Fold CV and using AUC as metric. You will need to put the right seed as requested. Notice that the function just needs inputs (X) and target (y) arrays as input."
   ]
  },
  {
   "cell_type": "markdown",
   "metadata": {},
   "source": [
    "If you try anytime several options it is important to show the results of those discarded trials, because what is not visible cannot be evaluated."
   ]
  },
  {
   "cell_type": "markdown",
   "metadata": {},
   "source": [
    "The function \"automatic_testing\" trains the model on the train data and applies it to the test data. Do not change the classification algorithm, its parameters and the scoring choice. Those are fixed and their optimization is out of the scope of this control point."
   ]
  },
  {
   "cell_type": "markdown",
   "metadata": {},
   "source": [
    "The deliverable of this control point is this Jupyter Notebook containing the code, plus some short answers in markdown cells if required."
   ]
  },
  {
   "cell_type": "markdown",
   "metadata": {},
   "source": [
    "NOTE: Keep in mind that some functions accept both Pandas dataframes and Numpy arrays, but some others only one of them. Nevertheless, we should know how to pass form one to the other and viceversa."
   ]
  },
  {
   "cell_type": "markdown",
   "metadata": {},
   "source": [
    "NOTE: Keep in mind that some functions will take some time to run. You can continue working on other cells during the run to avoid wasting time waiting."
   ]
  },
  {
   "cell_type": "markdown",
   "metadata": {},
   "source": [
    "### Exercises:"
   ]
  },
  {
   "cell_type": "markdown",
   "metadata": {},
   "source": [
    "* (i) Split the data into 4 parts, i.e. train inputs and target (xtr, ytr) and test inputs and target (xte and yte), in such a way that the proportion of the classes is kept constant in train and test parts. The size of the training set must be 70% of the total size of the data, and the random seed to be used must be your ID card number (i.e. DNI without the letter). This random seed must be kept during all the control point in any possible place. [5%] <br>\n",
    "<br>\n",
    "* (ii) Checking for missing values and outliers. If any, treat the data however you consider better, arguing your decisions. [20%] <br>\n",
    "  <br>\n",
    "    - (a) Is there any missing value? If so, regarding the characteristics of the data, decide what to do arguing your answer. Modify your data according to your answer if necessary.  <br>\n",
    "      <br>\n",
    "    - (b) Is there any collective outlier? If so, regarding the characteristics of the data, decide what to do arguing your answer.  Modify your data according to your answer if necessary. <br>\n",
    "    <br>\n",
    "    - (c) From now on, this is your basic data. Therefore, it is save to overwrite the names of the data parts. <br>\n",
    "<br>\n",
    "\n",
    "* (iii) The feature selection method SelectPercentile (sklearn.feature_selection.SelectPercentile) uses different scores (f_classif, mutual_info_classif, chi2, f_regression, etc) in order to select the most relevant features. In the Scikit-Learn documentation\n",
    "(https://scikit-learn.org/stable/modules/generated/sklearn.feature_selection.SelectPercentile.html#sklearn.feature_selection.SelectPercentile)\n",
    "you have the function info and an example of use of chi2 score. Use the feature selection method SelectPercentile with the mutual_info_classif score, and percentile parameter 20. [30%] <br>\n",
    "<br>\n",
    "    - (a) Which is the compression ratio you obtained? (Note: Compression ratio is the proportion of variables kept after the selection). <br>\n",
    "    <br>\n",
    "    - (b) Compare the performance with and without feature selection with the right scheme and function. Is selecting those variables a good idea? Argue your response. <br>\n",
    "    <br>\n",
    "    - (c) Regarding the answer to (b), get your current data in order to continue preprocessing.  <br>\n",
    "    <br>\n",
    "    \n",
    "* (iv) Check the balance of your current dataset. Which is its imbalance ratio? We can understand it both as the number of times the majority class is bigger than the minority class, or the proportion of the samples that are from minority class. If imbalance ratio is higher than 49 to 1 (equivalent to having less than 2% of minority class samples), discuss if it makes sense to apply imbalanced data treatments or not. Consider the size of the data and the performance you have obtained in (iii) (b) for the data you currently have. Act in consequence with total freedom on the sampling method to use if you need any. [20%] <br>\n",
    "<br>\n",
    "* (v) Apply principal component analysis to your data for compression, capturing at least 95% of the cumulative variance. How many extracted variables do you have? Which reduction percentage would you get if you apply it? Compare the performance with the one of your current non-compressed data. Would you use the pca compression here? Act consequently with your answer, and keep the data overwriting the names. [15%] <br> \n",
    "<br>\n",
    "* (vi) Once you are here, you have final preprocessed data using the definitive preprocessing scheme you have reasonably chosen. Check now the performance using the test data. Comment on the result you have obtained compared to the one in (v). [10%]"
   ]
  },
  {
   "cell_type": "markdown",
   "metadata": {},
   "source": [
    "#### Auxiliar functions"
   ]
  },
  {
   "cell_type": "code",
   "execution_count": 1,
   "metadata": {
    "pycharm": {
     "is_executing": false
    }
   },
   "outputs": [],
   "source": [
    "from sklearn.ensemble import RandomForestClassifier\n",
    "from sklearn.model_selection import cross_val_score\n",
    "\n",
    "\n",
    "seed = 72726275 # Your DNI number without letter and left zeros here, e.g. 09425400T => 9425400\n",
    "\n",
    "\n",
    "def automatic_scoring(X, y):\n",
    "    average_score = cross_val_score(estimator=RandomForestClassifier(n_estimators=100, random_state=seed), X=X, y=y, cv=5, scoring='roc_auc').mean()\n",
    "    return average_score"
   ]
  },
  {
   "cell_type": "code",
   "execution_count": 2,
   "metadata": {
    "pycharm": {
     "is_executing": false
    }
   },
   "outputs": [],
   "source": [
    "from sklearn.ensemble import RandomForestClassifier\n",
    "from sklearn.model_selection import cross_val_score\n",
    "from sklearn.metrics import roc_auc_score\n",
    "\n",
    "\n",
    "def automatic_testing(X_train, y_train, X_test, y_test):\n",
    "    auc_score = roc_auc_score(y_test, RandomForestClassifier(n_estimators=100, random_state=seed).fit(X_train, y_train).predict_proba(X_test)[:,1])\n",
    "    return auc_score"
   ]
  },
  {
   "cell_type": "markdown",
   "metadata": {},
   "source": [
    "### Solution:"
   ]
  },
  {
   "cell_type": "markdown",
   "metadata": {},
   "source": [
    "(i) **Split the data into 4 parts, i.e. train inputs and target (xtr, ytr) and test inputs and target (xte and yte), in such a way that the proportion of the classes is kept constant in train and test parts. The size of the training set must be 70% of the total size of the data, and the random seed to be used must be your ID card number (i.e. DNI without the letter). This random seed must be kept during all the control point in any possible place. [5%]**"
   ]
  },
  {
   "cell_type": "code",
   "execution_count": 3,
   "metadata": {
    "pycharm": {
     "is_executing": false
    }
   },
   "outputs": [
    {
     "data": {
      "text/html": [
       "<div>\n",
       "<style scoped>\n",
       "    .dataframe tbody tr th:only-of-type {\n",
       "        vertical-align: middle;\n",
       "    }\n",
       "\n",
       "    .dataframe tbody tr th {\n",
       "        vertical-align: top;\n",
       "    }\n",
       "\n",
       "    .dataframe thead th {\n",
       "        text-align: right;\n",
       "    }\n",
       "</style>\n",
       "<table border=\"1\" class=\"dataframe\">\n",
       "  <thead>\n",
       "    <tr style=\"text-align: right;\">\n",
       "      <th></th>\n",
       "      <th>v1</th>\n",
       "      <th>v2</th>\n",
       "      <th>v3</th>\n",
       "      <th>v4</th>\n",
       "      <th>v5</th>\n",
       "      <th>v6</th>\n",
       "      <th>v7</th>\n",
       "      <th>v8</th>\n",
       "      <th>v9</th>\n",
       "      <th>v10</th>\n",
       "      <th>...</th>\n",
       "      <th>v66</th>\n",
       "      <th>v67</th>\n",
       "      <th>v68</th>\n",
       "      <th>v69</th>\n",
       "      <th>v70</th>\n",
       "      <th>v71</th>\n",
       "      <th>v72</th>\n",
       "      <th>v73</th>\n",
       "      <th>v74</th>\n",
       "      <th>class</th>\n",
       "    </tr>\n",
       "  </thead>\n",
       "  <tbody>\n",
       "    <tr>\n",
       "      <td>0</td>\n",
       "      <td>52.0</td>\n",
       "      <td>32.69</td>\n",
       "      <td>0.3</td>\n",
       "      <td>2.5</td>\n",
       "      <td>20.0</td>\n",
       "      <td>1256.8</td>\n",
       "      <td>-0.89</td>\n",
       "      <td>0.33</td>\n",
       "      <td>11.0</td>\n",
       "      <td>-55.0</td>\n",
       "      <td>...</td>\n",
       "      <td>1595.1</td>\n",
       "      <td>-1.64</td>\n",
       "      <td>2.83</td>\n",
       "      <td>-2.0</td>\n",
       "      <td>-50.0</td>\n",
       "      <td>445.2</td>\n",
       "      <td>-0.35</td>\n",
       "      <td>0.26</td>\n",
       "      <td>0.76</td>\n",
       "      <td>-1.0</td>\n",
       "    </tr>\n",
       "    <tr>\n",
       "      <td>1</td>\n",
       "      <td>58.0</td>\n",
       "      <td>33.33</td>\n",
       "      <td>0.0</td>\n",
       "      <td>16.5</td>\n",
       "      <td>9.5</td>\n",
       "      <td>608.1</td>\n",
       "      <td>0.50</td>\n",
       "      <td>0.07</td>\n",
       "      <td>20.5</td>\n",
       "      <td>-52.5</td>\n",
       "      <td>...</td>\n",
       "      <td>762.9</td>\n",
       "      <td>0.29</td>\n",
       "      <td>0.82</td>\n",
       "      <td>-3.0</td>\n",
       "      <td>-35.0</td>\n",
       "      <td>140.3</td>\n",
       "      <td>1.16</td>\n",
       "      <td>0.39</td>\n",
       "      <td>0.73</td>\n",
       "      <td>-1.0</td>\n",
       "    </tr>\n",
       "  </tbody>\n",
       "</table>\n",
       "<p>2 rows × 75 columns</p>\n",
       "</div>"
      ],
      "text/plain": [
       "     v1     v2   v3    v4    v5      v6    v7    v8    v9   v10  ...     v66  \\\n",
       "0  52.0  32.69  0.3   2.5  20.0  1256.8 -0.89  0.33  11.0 -55.0  ...  1595.1   \n",
       "1  58.0  33.33  0.0  16.5   9.5   608.1  0.50  0.07  20.5 -52.5  ...   762.9   \n",
       "\n",
       "    v67   v68  v69   v70    v71   v72   v73   v74  class  \n",
       "0 -1.64  2.83 -2.0 -50.0  445.2 -0.35  0.26  0.76   -1.0  \n",
       "1  0.29  0.82 -3.0 -35.0  140.3  1.16  0.39  0.73   -1.0  \n",
       "\n",
       "[2 rows x 75 columns]"
      ]
     },
     "execution_count": 3,
     "metadata": {},
     "output_type": "execute_result"
    }
   ],
   "source": [
    "import pandas as pd\n",
    "\n",
    "\n",
    "hoerchen = pd.read_csv('Hoerchen.csv')\n",
    "hoerchen.head(2)"
   ]
  },
  {
   "cell_type": "code",
   "execution_count": 4,
   "metadata": {
    "pycharm": {
     "is_executing": false
    }
   },
   "outputs": [],
   "source": [
    "from sklearn.model_selection import train_test_split\n",
    "\n",
    "X = hoerchen.iloc[:,:-1]\n",
    "y = hoerchen.iloc[:,-1]\n",
    "\n",
    "xtr, xte, ytr, yte = train_test_split(X, y, random_state=seed, train_size = 0.70)"
   ]
  },
  {
   "cell_type": "markdown",
   "metadata": {},
   "source": [
    "(ii) **Checking for missing values and outliers. If any, treat the data however you consider better, arguing your decisions. [20%] **<br>\n",
    "  <br>\n",
    "    - (a) Is there any missing value? If so, regarding the characteristics of the data, decide what to do arguing your answer. Modify your data according to your answer if necessary.\n"
   ]
  },
  {
   "cell_type": "code",
   "execution_count": 5,
   "metadata": {
    "pycharm": {
     "is_executing": false
    }
   },
   "outputs": [
    {
     "name": "stdout",
     "output_type": "stream",
     "text": [
      "Is there any NaN value?\n",
      "v1        True\n",
      "v2        True\n",
      "v3        True\n",
      "v4        True\n",
      "v5        True\n",
      "         ...  \n",
      "v71       True\n",
      "v72       True\n",
      "v73       True\n",
      "v74       True\n",
      "class    False\n",
      "Length: 75, dtype: bool\n",
      "Number of rows: 145751\n"
     ]
    },
    {
     "data": {
      "text/html": [
       "<div>\n",
       "<style scoped>\n",
       "    .dataframe tbody tr th:only-of-type {\n",
       "        vertical-align: middle;\n",
       "    }\n",
       "\n",
       "    .dataframe tbody tr th {\n",
       "        vertical-align: top;\n",
       "    }\n",
       "\n",
       "    .dataframe thead th {\n",
       "        text-align: right;\n",
       "    }\n",
       "</style>\n",
       "<table border=\"1\" class=\"dataframe\">\n",
       "  <thead>\n",
       "    <tr style=\"text-align: right;\">\n",
       "      <th></th>\n",
       "      <th>v1</th>\n",
       "      <th>v2</th>\n",
       "      <th>v3</th>\n",
       "      <th>v4</th>\n",
       "      <th>v5</th>\n",
       "      <th>v6</th>\n",
       "      <th>v7</th>\n",
       "      <th>v8</th>\n",
       "      <th>v9</th>\n",
       "      <th>v10</th>\n",
       "      <th>...</th>\n",
       "      <th>v66</th>\n",
       "      <th>v67</th>\n",
       "      <th>v68</th>\n",
       "      <th>v69</th>\n",
       "      <th>v70</th>\n",
       "      <th>v71</th>\n",
       "      <th>v72</th>\n",
       "      <th>v73</th>\n",
       "      <th>v74</th>\n",
       "      <th>class</th>\n",
       "    </tr>\n",
       "  </thead>\n",
       "  <tbody>\n",
       "    <tr>\n",
       "      <td>count</td>\n",
       "      <td>145750.000000</td>\n",
       "      <td>145750.000000</td>\n",
       "      <td>145750.000000</td>\n",
       "      <td>145750.000000</td>\n",
       "      <td>145750.000000</td>\n",
       "      <td>145750.000000</td>\n",
       "      <td>145750.000000</td>\n",
       "      <td>145750.000000</td>\n",
       "      <td>145750.000000</td>\n",
       "      <td>145750.000000</td>\n",
       "      <td>...</td>\n",
       "      <td>145750.000000</td>\n",
       "      <td>145750.000000</td>\n",
       "      <td>145750.000000</td>\n",
       "      <td>145750.000000</td>\n",
       "      <td>145750.000000</td>\n",
       "      <td>145750.000000</td>\n",
       "      <td>145750.000000</td>\n",
       "      <td>145750.000000</td>\n",
       "      <td>145750.000000</td>\n",
       "      <td>145751.000000</td>\n",
       "    </tr>\n",
       "    <tr>\n",
       "      <td>mean</td>\n",
       "      <td>61.163887</td>\n",
       "      <td>26.494016</td>\n",
       "      <td>0.181130</td>\n",
       "      <td>1.688134</td>\n",
       "      <td>18.291705</td>\n",
       "      <td>1820.221539</td>\n",
       "      <td>-0.004247</td>\n",
       "      <td>0.197883</td>\n",
       "      <td>1.012614</td>\n",
       "      <td>-73.721691</td>\n",
       "      <td>...</td>\n",
       "      <td>1820.512690</td>\n",
       "      <td>0.026845</td>\n",
       "      <td>0.529557</td>\n",
       "      <td>0.263808</td>\n",
       "      <td>-64.705242</td>\n",
       "      <td>472.778180</td>\n",
       "      <td>0.472763</td>\n",
       "      <td>0.260546</td>\n",
       "      <td>0.191865</td>\n",
       "      <td>-0.982216</td>\n",
       "    </tr>\n",
       "    <tr>\n",
       "      <td>std</td>\n",
       "      <td>18.992155</td>\n",
       "      <td>4.531692</td>\n",
       "      <td>1.243167</td>\n",
       "      <td>31.923489</td>\n",
       "      <td>80.619876</td>\n",
       "      <td>1404.343739</td>\n",
       "      <td>1.028843</td>\n",
       "      <td>1.422744</td>\n",
       "      <td>20.642540</td>\n",
       "      <td>26.536070</td>\n",
       "      <td>...</td>\n",
       "      <td>1689.147092</td>\n",
       "      <td>1.181415</td>\n",
       "      <td>1.649862</td>\n",
       "      <td>9.655640</td>\n",
       "      <td>36.776184</td>\n",
       "      <td>406.651331</td>\n",
       "      <td>1.073043</td>\n",
       "      <td>0.187474</td>\n",
       "      <td>0.499650</td>\n",
       "      <td>0.187754</td>\n",
       "    </tr>\n",
       "    <tr>\n",
       "      <td>min</td>\n",
       "      <td>2.680000</td>\n",
       "      <td>12.000000</td>\n",
       "      <td>-3.860000</td>\n",
       "      <td>-144.000000</td>\n",
       "      <td>-1082.000000</td>\n",
       "      <td>-718.800000</td>\n",
       "      <td>-6.120000</td>\n",
       "      <td>-2.860000</td>\n",
       "      <td>-85.500000</td>\n",
       "      <td>-1082.000000</td>\n",
       "      <td>...</td>\n",
       "      <td>-668.000000</td>\n",
       "      <td>-7.780000</td>\n",
       "      <td>-10.000000</td>\n",
       "      <td>-63.000000</td>\n",
       "      <td>-322.000000</td>\n",
       "      <td>-509.200000</td>\n",
       "      <td>-20.000000</td>\n",
       "      <td>-0.550000</td>\n",
       "      <td>-1.910000</td>\n",
       "      <td>-1.000000</td>\n",
       "    </tr>\n",
       "    <tr>\n",
       "      <td>25%</td>\n",
       "      <td>47.950000</td>\n",
       "      <td>23.560000</td>\n",
       "      <td>-0.580000</td>\n",
       "      <td>-17.500000</td>\n",
       "      <td>-13.000000</td>\n",
       "      <td>1017.600000</td>\n",
       "      <td>-0.660000</td>\n",
       "      <td>-0.600000</td>\n",
       "      <td>-9.500000</td>\n",
       "      <td>-86.000000</td>\n",
       "      <td>...</td>\n",
       "      <td>862.400000</td>\n",
       "      <td>-0.720000</td>\n",
       "      <td>-0.550000</td>\n",
       "      <td>-5.000000</td>\n",
       "      <td>-82.000000</td>\n",
       "      <td>175.300000</td>\n",
       "      <td>-0.170000</td>\n",
       "      <td>0.140000</td>\n",
       "      <td>-0.100000</td>\n",
       "      <td>-1.000000</td>\n",
       "    </tr>\n",
       "    <tr>\n",
       "      <td>50%</td>\n",
       "      <td>62.400000</td>\n",
       "      <td>25.770000</td>\n",
       "      <td>0.100000</td>\n",
       "      <td>1.000000</td>\n",
       "      <td>11.000000</td>\n",
       "      <td>1530.850000</td>\n",
       "      <td>0.040000</td>\n",
       "      <td>0.030000</td>\n",
       "      <td>0.500000</td>\n",
       "      <td>-69.500000</td>\n",
       "      <td>...</td>\n",
       "      <td>1435.300000</td>\n",
       "      <td>0.085000</td>\n",
       "      <td>0.390000</td>\n",
       "      <td>0.000000</td>\n",
       "      <td>-55.000000</td>\n",
       "      <td>377.900000</td>\n",
       "      <td>0.560000</td>\n",
       "      <td>0.260000</td>\n",
       "      <td>0.280000</td>\n",
       "      <td>-1.000000</td>\n",
       "    </tr>\n",
       "    <tr>\n",
       "      <td>75%</td>\n",
       "      <td>75.340000</td>\n",
       "      <td>28.570000</td>\n",
       "      <td>0.820000</td>\n",
       "      <td>19.500000</td>\n",
       "      <td>40.000000</td>\n",
       "      <td>2295.600000</td>\n",
       "      <td>0.700000</td>\n",
       "      <td>0.770000</td>\n",
       "      <td>10.500000</td>\n",
       "      <td>-56.500000</td>\n",
       "      <td>...</td>\n",
       "      <td>2334.100000</td>\n",
       "      <td>0.830000</td>\n",
       "      <td>1.460000</td>\n",
       "      <td>5.000000</td>\n",
       "      <td>-38.000000</td>\n",
       "      <td>669.100000</td>\n",
       "      <td>1.210000</td>\n",
       "      <td>0.390000</td>\n",
       "      <td>0.580000</td>\n",
       "      <td>-1.000000</td>\n",
       "    </tr>\n",
       "    <tr>\n",
       "      <td>max</td>\n",
       "      <td>100.000000</td>\n",
       "      <td>100.000000</td>\n",
       "      <td>50.380000</td>\n",
       "      <td>1059.500000</td>\n",
       "      <td>3380.000000</td>\n",
       "      <td>52817.900000</td>\n",
       "      <td>5.990000</td>\n",
       "      <td>72.280000</td>\n",
       "      <td>973.500000</td>\n",
       "      <td>-23.000000</td>\n",
       "      <td>...</td>\n",
       "      <td>64129.400000</td>\n",
       "      <td>5.940000</td>\n",
       "      <td>18.850000</td>\n",
       "      <td>146.000000</td>\n",
       "      <td>0.000000</td>\n",
       "      <td>4197.900000</td>\n",
       "      <td>6.600000</td>\n",
       "      <td>1.000000</td>\n",
       "      <td>1.000000</td>\n",
       "      <td>1.000000</td>\n",
       "    </tr>\n",
       "  </tbody>\n",
       "</table>\n",
       "<p>8 rows × 75 columns</p>\n",
       "</div>"
      ],
      "text/plain": [
       "                  v1             v2             v3             v4  \\\n",
       "count  145750.000000  145750.000000  145750.000000  145750.000000   \n",
       "mean       61.163887      26.494016       0.181130       1.688134   \n",
       "std        18.992155       4.531692       1.243167      31.923489   \n",
       "min         2.680000      12.000000      -3.860000    -144.000000   \n",
       "25%        47.950000      23.560000      -0.580000     -17.500000   \n",
       "50%        62.400000      25.770000       0.100000       1.000000   \n",
       "75%        75.340000      28.570000       0.820000      19.500000   \n",
       "max       100.000000     100.000000      50.380000    1059.500000   \n",
       "\n",
       "                  v5             v6             v7             v8  \\\n",
       "count  145750.000000  145750.000000  145750.000000  145750.000000   \n",
       "mean       18.291705    1820.221539      -0.004247       0.197883   \n",
       "std        80.619876    1404.343739       1.028843       1.422744   \n",
       "min     -1082.000000    -718.800000      -6.120000      -2.860000   \n",
       "25%       -13.000000    1017.600000      -0.660000      -0.600000   \n",
       "50%        11.000000    1530.850000       0.040000       0.030000   \n",
       "75%        40.000000    2295.600000       0.700000       0.770000   \n",
       "max      3380.000000   52817.900000       5.990000      72.280000   \n",
       "\n",
       "                  v9            v10  ...            v66            v67  \\\n",
       "count  145750.000000  145750.000000  ...  145750.000000  145750.000000   \n",
       "mean        1.012614     -73.721691  ...    1820.512690       0.026845   \n",
       "std        20.642540      26.536070  ...    1689.147092       1.181415   \n",
       "min       -85.500000   -1082.000000  ...    -668.000000      -7.780000   \n",
       "25%        -9.500000     -86.000000  ...     862.400000      -0.720000   \n",
       "50%         0.500000     -69.500000  ...    1435.300000       0.085000   \n",
       "75%        10.500000     -56.500000  ...    2334.100000       0.830000   \n",
       "max       973.500000     -23.000000  ...   64129.400000       5.940000   \n",
       "\n",
       "                 v68            v69            v70            v71  \\\n",
       "count  145750.000000  145750.000000  145750.000000  145750.000000   \n",
       "mean        0.529557       0.263808     -64.705242     472.778180   \n",
       "std         1.649862       9.655640      36.776184     406.651331   \n",
       "min       -10.000000     -63.000000    -322.000000    -509.200000   \n",
       "25%        -0.550000      -5.000000     -82.000000     175.300000   \n",
       "50%         0.390000       0.000000     -55.000000     377.900000   \n",
       "75%         1.460000       5.000000     -38.000000     669.100000   \n",
       "max        18.850000     146.000000       0.000000    4197.900000   \n",
       "\n",
       "                 v72            v73            v74          class  \n",
       "count  145750.000000  145750.000000  145750.000000  145751.000000  \n",
       "mean        0.472763       0.260546       0.191865      -0.982216  \n",
       "std         1.073043       0.187474       0.499650       0.187754  \n",
       "min       -20.000000      -0.550000      -1.910000      -1.000000  \n",
       "25%        -0.170000       0.140000      -0.100000      -1.000000  \n",
       "50%         0.560000       0.260000       0.280000      -1.000000  \n",
       "75%         1.210000       0.390000       0.580000      -1.000000  \n",
       "max         6.600000       1.000000       1.000000       1.000000  \n",
       "\n",
       "[8 rows x 75 columns]"
      ]
     },
     "execution_count": 5,
     "metadata": {},
     "output_type": "execute_result"
    }
   ],
   "source": [
    "print(\"Is there any NaN value?\")\n",
    "print(hoerchen.isnull().any())\n",
    "print(\"Number of rows: \"+str(hoerchen.shape[0]))\n",
    "hoerchen.describe()"
   ]
  },
  {
   "cell_type": "markdown",
   "metadata": {},
   "source": [
    "I will impute nan values because there is just one NaN value per column as we can see in *describe* table count."
   ]
  },
  {
   "cell_type": "code",
   "execution_count": 6,
   "metadata": {
    "pycharm": {
     "is_executing": false
    }
   },
   "outputs": [
    {
     "data": {
      "text/html": [
       "<div>\n",
       "<style scoped>\n",
       "    .dataframe tbody tr th:only-of-type {\n",
       "        vertical-align: middle;\n",
       "    }\n",
       "\n",
       "    .dataframe tbody tr th {\n",
       "        vertical-align: top;\n",
       "    }\n",
       "\n",
       "    .dataframe thead th {\n",
       "        text-align: right;\n",
       "    }\n",
       "</style>\n",
       "<table border=\"1\" class=\"dataframe\">\n",
       "  <thead>\n",
       "    <tr style=\"text-align: right;\">\n",
       "      <th></th>\n",
       "      <th>v1</th>\n",
       "      <th>v2</th>\n",
       "      <th>v3</th>\n",
       "      <th>v4</th>\n",
       "      <th>v5</th>\n",
       "      <th>v6</th>\n",
       "      <th>v7</th>\n",
       "      <th>v8</th>\n",
       "      <th>v9</th>\n",
       "      <th>v10</th>\n",
       "      <th>...</th>\n",
       "      <th>v66</th>\n",
       "      <th>v67</th>\n",
       "      <th>v68</th>\n",
       "      <th>v69</th>\n",
       "      <th>v70</th>\n",
       "      <th>v71</th>\n",
       "      <th>v72</th>\n",
       "      <th>v73</th>\n",
       "      <th>v74</th>\n",
       "      <th>class</th>\n",
       "    </tr>\n",
       "  </thead>\n",
       "  <tbody>\n",
       "    <tr>\n",
       "      <td>count</td>\n",
       "      <td>145751.000000</td>\n",
       "      <td>145751.000000</td>\n",
       "      <td>145751.000000</td>\n",
       "      <td>145751.000000</td>\n",
       "      <td>145751.000000</td>\n",
       "      <td>145751.000000</td>\n",
       "      <td>145751.000000</td>\n",
       "      <td>145751.000000</td>\n",
       "      <td>145751.000000</td>\n",
       "      <td>145751.000000</td>\n",
       "      <td>...</td>\n",
       "      <td>145751.000000</td>\n",
       "      <td>145751.000000</td>\n",
       "      <td>145751.000000</td>\n",
       "      <td>145751.000000</td>\n",
       "      <td>145751.000000</td>\n",
       "      <td>145751.000000</td>\n",
       "      <td>145751.000000</td>\n",
       "      <td>145751.000000</td>\n",
       "      <td>145751.000000</td>\n",
       "      <td>145751.000000</td>\n",
       "    </tr>\n",
       "    <tr>\n",
       "      <td>mean</td>\n",
       "      <td>61.163887</td>\n",
       "      <td>26.494016</td>\n",
       "      <td>0.181130</td>\n",
       "      <td>1.688134</td>\n",
       "      <td>18.291705</td>\n",
       "      <td>1820.221539</td>\n",
       "      <td>-0.004247</td>\n",
       "      <td>0.197883</td>\n",
       "      <td>1.012614</td>\n",
       "      <td>-73.721691</td>\n",
       "      <td>...</td>\n",
       "      <td>1820.512690</td>\n",
       "      <td>0.026845</td>\n",
       "      <td>0.529557</td>\n",
       "      <td>0.263808</td>\n",
       "      <td>-64.705242</td>\n",
       "      <td>472.778180</td>\n",
       "      <td>0.472763</td>\n",
       "      <td>0.260546</td>\n",
       "      <td>0.191865</td>\n",
       "      <td>-0.982216</td>\n",
       "    </tr>\n",
       "    <tr>\n",
       "      <td>std</td>\n",
       "      <td>18.992089</td>\n",
       "      <td>4.531676</td>\n",
       "      <td>1.243162</td>\n",
       "      <td>31.923380</td>\n",
       "      <td>80.619599</td>\n",
       "      <td>1404.338921</td>\n",
       "      <td>1.028840</td>\n",
       "      <td>1.422739</td>\n",
       "      <td>20.642469</td>\n",
       "      <td>26.535979</td>\n",
       "      <td>...</td>\n",
       "      <td>1689.141298</td>\n",
       "      <td>1.181411</td>\n",
       "      <td>1.649856</td>\n",
       "      <td>9.655607</td>\n",
       "      <td>36.776057</td>\n",
       "      <td>406.649936</td>\n",
       "      <td>1.073039</td>\n",
       "      <td>0.187473</td>\n",
       "      <td>0.499648</td>\n",
       "      <td>0.187754</td>\n",
       "    </tr>\n",
       "    <tr>\n",
       "      <td>min</td>\n",
       "      <td>2.680000</td>\n",
       "      <td>12.000000</td>\n",
       "      <td>-3.860000</td>\n",
       "      <td>-144.000000</td>\n",
       "      <td>-1082.000000</td>\n",
       "      <td>-718.800000</td>\n",
       "      <td>-6.120000</td>\n",
       "      <td>-2.860000</td>\n",
       "      <td>-85.500000</td>\n",
       "      <td>-1082.000000</td>\n",
       "      <td>...</td>\n",
       "      <td>-668.000000</td>\n",
       "      <td>-7.780000</td>\n",
       "      <td>-10.000000</td>\n",
       "      <td>-63.000000</td>\n",
       "      <td>-322.000000</td>\n",
       "      <td>-509.200000</td>\n",
       "      <td>-20.000000</td>\n",
       "      <td>-0.550000</td>\n",
       "      <td>-1.910000</td>\n",
       "      <td>-1.000000</td>\n",
       "    </tr>\n",
       "    <tr>\n",
       "      <td>25%</td>\n",
       "      <td>47.950000</td>\n",
       "      <td>23.560000</td>\n",
       "      <td>-0.580000</td>\n",
       "      <td>-17.500000</td>\n",
       "      <td>-13.000000</td>\n",
       "      <td>1017.600000</td>\n",
       "      <td>-0.660000</td>\n",
       "      <td>-0.600000</td>\n",
       "      <td>-9.500000</td>\n",
       "      <td>-86.000000</td>\n",
       "      <td>...</td>\n",
       "      <td>862.400000</td>\n",
       "      <td>-0.720000</td>\n",
       "      <td>-0.550000</td>\n",
       "      <td>-5.000000</td>\n",
       "      <td>-82.000000</td>\n",
       "      <td>175.300000</td>\n",
       "      <td>-0.170000</td>\n",
       "      <td>0.140000</td>\n",
       "      <td>-0.100000</td>\n",
       "      <td>-1.000000</td>\n",
       "    </tr>\n",
       "    <tr>\n",
       "      <td>50%</td>\n",
       "      <td>62.400000</td>\n",
       "      <td>25.770000</td>\n",
       "      <td>0.100000</td>\n",
       "      <td>1.000000</td>\n",
       "      <td>11.000000</td>\n",
       "      <td>1530.900000</td>\n",
       "      <td>0.040000</td>\n",
       "      <td>0.030000</td>\n",
       "      <td>0.500000</td>\n",
       "      <td>-69.500000</td>\n",
       "      <td>...</td>\n",
       "      <td>1435.300000</td>\n",
       "      <td>0.080000</td>\n",
       "      <td>0.390000</td>\n",
       "      <td>0.000000</td>\n",
       "      <td>-55.000000</td>\n",
       "      <td>377.900000</td>\n",
       "      <td>0.560000</td>\n",
       "      <td>0.260000</td>\n",
       "      <td>0.280000</td>\n",
       "      <td>-1.000000</td>\n",
       "    </tr>\n",
       "    <tr>\n",
       "      <td>75%</td>\n",
       "      <td>75.340000</td>\n",
       "      <td>28.570000</td>\n",
       "      <td>0.820000</td>\n",
       "      <td>19.500000</td>\n",
       "      <td>40.000000</td>\n",
       "      <td>2295.600000</td>\n",
       "      <td>0.700000</td>\n",
       "      <td>0.770000</td>\n",
       "      <td>10.500000</td>\n",
       "      <td>-56.500000</td>\n",
       "      <td>...</td>\n",
       "      <td>2334.100000</td>\n",
       "      <td>0.830000</td>\n",
       "      <td>1.460000</td>\n",
       "      <td>5.000000</td>\n",
       "      <td>-38.000000</td>\n",
       "      <td>669.100000</td>\n",
       "      <td>1.210000</td>\n",
       "      <td>0.390000</td>\n",
       "      <td>0.580000</td>\n",
       "      <td>-1.000000</td>\n",
       "    </tr>\n",
       "    <tr>\n",
       "      <td>max</td>\n",
       "      <td>100.000000</td>\n",
       "      <td>100.000000</td>\n",
       "      <td>50.380000</td>\n",
       "      <td>1059.500000</td>\n",
       "      <td>3380.000000</td>\n",
       "      <td>52817.900000</td>\n",
       "      <td>5.990000</td>\n",
       "      <td>72.280000</td>\n",
       "      <td>973.500000</td>\n",
       "      <td>-23.000000</td>\n",
       "      <td>...</td>\n",
       "      <td>64129.400000</td>\n",
       "      <td>5.940000</td>\n",
       "      <td>18.850000</td>\n",
       "      <td>146.000000</td>\n",
       "      <td>0.000000</td>\n",
       "      <td>4197.900000</td>\n",
       "      <td>6.600000</td>\n",
       "      <td>1.000000</td>\n",
       "      <td>1.000000</td>\n",
       "      <td>1.000000</td>\n",
       "    </tr>\n",
       "  </tbody>\n",
       "</table>\n",
       "<p>8 rows × 75 columns</p>\n",
       "</div>"
      ],
      "text/plain": [
       "                  v1             v2             v3             v4  \\\n",
       "count  145751.000000  145751.000000  145751.000000  145751.000000   \n",
       "mean       61.163887      26.494016       0.181130       1.688134   \n",
       "std        18.992089       4.531676       1.243162      31.923380   \n",
       "min         2.680000      12.000000      -3.860000    -144.000000   \n",
       "25%        47.950000      23.560000      -0.580000     -17.500000   \n",
       "50%        62.400000      25.770000       0.100000       1.000000   \n",
       "75%        75.340000      28.570000       0.820000      19.500000   \n",
       "max       100.000000     100.000000      50.380000    1059.500000   \n",
       "\n",
       "                  v5             v6             v7             v8  \\\n",
       "count  145751.000000  145751.000000  145751.000000  145751.000000   \n",
       "mean       18.291705    1820.221539      -0.004247       0.197883   \n",
       "std        80.619599    1404.338921       1.028840       1.422739   \n",
       "min     -1082.000000    -718.800000      -6.120000      -2.860000   \n",
       "25%       -13.000000    1017.600000      -0.660000      -0.600000   \n",
       "50%        11.000000    1530.900000       0.040000       0.030000   \n",
       "75%        40.000000    2295.600000       0.700000       0.770000   \n",
       "max      3380.000000   52817.900000       5.990000      72.280000   \n",
       "\n",
       "                  v9            v10  ...            v66            v67  \\\n",
       "count  145751.000000  145751.000000  ...  145751.000000  145751.000000   \n",
       "mean        1.012614     -73.721691  ...    1820.512690       0.026845   \n",
       "std        20.642469      26.535979  ...    1689.141298       1.181411   \n",
       "min       -85.500000   -1082.000000  ...    -668.000000      -7.780000   \n",
       "25%        -9.500000     -86.000000  ...     862.400000      -0.720000   \n",
       "50%         0.500000     -69.500000  ...    1435.300000       0.080000   \n",
       "75%        10.500000     -56.500000  ...    2334.100000       0.830000   \n",
       "max       973.500000     -23.000000  ...   64129.400000       5.940000   \n",
       "\n",
       "                 v68            v69            v70            v71  \\\n",
       "count  145751.000000  145751.000000  145751.000000  145751.000000   \n",
       "mean        0.529557       0.263808     -64.705242     472.778180   \n",
       "std         1.649856       9.655607      36.776057     406.649936   \n",
       "min       -10.000000     -63.000000    -322.000000    -509.200000   \n",
       "25%        -0.550000      -5.000000     -82.000000     175.300000   \n",
       "50%         0.390000       0.000000     -55.000000     377.900000   \n",
       "75%         1.460000       5.000000     -38.000000     669.100000   \n",
       "max        18.850000     146.000000       0.000000    4197.900000   \n",
       "\n",
       "                 v72            v73            v74          class  \n",
       "count  145751.000000  145751.000000  145751.000000  145751.000000  \n",
       "mean        0.472763       0.260546       0.191865      -0.982216  \n",
       "std         1.073039       0.187473       0.499648       0.187754  \n",
       "min       -20.000000      -0.550000      -1.910000      -1.000000  \n",
       "25%        -0.170000       0.140000      -0.100000      -1.000000  \n",
       "50%         0.560000       0.260000       0.280000      -1.000000  \n",
       "75%         1.210000       0.390000       0.580000      -1.000000  \n",
       "max         6.600000       1.000000       1.000000       1.000000  \n",
       "\n",
       "[8 rows x 75 columns]"
      ]
     },
     "execution_count": 6,
     "metadata": {},
     "output_type": "execute_result"
    }
   ],
   "source": [
    "from sklearn.impute import SimpleImputer\n",
    "\n",
    "imp = SimpleImputer(strategy='mean')\n",
    "\n",
    "nan_imputed_data = pd.DataFrame(data=imp.fit_transform(hoerchen))\n",
    "nan_imputed_data.columns = hoerchen.columns\n",
    "nan_imputed_data.describe()"
   ]
  },
  {
   "cell_type": "markdown",
   "metadata": {},
   "source": [
    "    - (b) Is there any collective outlier? If so, regarding the characteristics of the data, decide what to do arguing your answer.  Modify your data according to your answer if necessary. <br>\n",
    "    <br>\n"
   ]
  },
  {
   "cell_type": "code",
   "execution_count": 7,
   "metadata": {
    "pycharm": {
     "is_executing": false
    }
   },
   "outputs": [
    {
     "data": {
      "text/plain": [
       "array([-1.,  1.])"
      ]
     },
     "execution_count": 7,
     "metadata": {},
     "output_type": "execute_result"
    }
   ],
   "source": [
    "nan_imputed_data[\"class\"].unique()"
   ]
  },
  {
   "cell_type": "code",
   "execution_count": 8,
   "metadata": {
    "pycharm": {
     "is_executing": false
    }
   },
   "outputs": [],
   "source": [
    "import sklearn\n",
    "from sklearn.covariance import EllipticEnvelope\n",
    "\n",
    "X = nan_imputed_data.iloc[:,:-1]\n",
    "y = nan_imputed_data.iloc[:,-1]"
   ]
  },
  {
   "cell_type": "code",
   "execution_count": 9,
   "metadata": {
    "pycharm": {
     "is_executing": false
    }
   },
   "outputs": [
    {
     "name": "stdout",
     "output_type": "stream",
     "text": [
      "Wall time: 2min 26s\n"
     ]
    }
   ],
   "source": [
    "%%time\n",
    "elip_env = sklearn.covariance.EllipticEnvelope(random_state = seed).fit(X)\n",
    "detection = elip_env.predict(X)"
   ]
  },
  {
   "cell_type": "code",
   "execution_count": 10,
   "metadata": {
    "pycharm": {
     "is_executing": false
    }
   },
   "outputs": [],
   "source": [
    "outlier_positions_mah = []\n",
    "for x in range(X.shape[0]):\n",
    "    if detection[x] == -1:\n",
    "        outlier_positions_mah.append(x)"
   ]
  },
  {
   "cell_type": "code",
   "execution_count": 11,
   "metadata": {
    "pycharm": {
     "is_executing": false
    }
   },
   "outputs": [
    {
     "name": "stdout",
     "output_type": "stream",
     "text": [
      "The 14576 outliers found are in positions:\n",
      "[40, 76, 281, 477, 890, 1352, 1586, 1735, 1751, 1756, 1774, 1777, 1786, 1822, 1825, 1862, 1864, 1871, 1898, 1951, 1955, 1985, 1988, 2002, 2007, 2010, 2026, 2045, 2051, 2077, 2081, 2087, 2111, 2134, 2140, 2197, 2201, 2325, 2366, 2369, 2377, 2387, 2416, 2488, 2492, 2500, 2510, 2515, 2517, 2522, 2554, 2578, 2589, 2594, 2599, 2614, 2650, 2654, 2661, 2676, 2679, 2680, 2699, 2730, 2731, 2757, 2761, 2810, 2814, 2819, 2829, 2861, 2866, 2877, 2910, 2911, 2926, 2946, 2959, 2962, 2963, 2976, 2997, 3002, 3009, 3028, 3031, 3035, 3051, 3055, 3056, 3060, 3065, 3074, 3077, 3111, 3120, 3195, 3199, 3212, 3219, 3222, 3234, 3235, 3252, 3261, 3272, 3277, 3283, 3310, 3327, 3343, 3348, 3355, 3384, 3385, 3408, 3414, 3431, 3434, 3441, 3464, 3466, 3490, 3494, 3499, 3515, 3529, 3539, 3560, 3570, 3573, 3576, 3614, 3615, 3631, 3642, 3648, 3649, 3651, 3652, 3655, 3680, 3686, 3698, 3722, 3727, 3744, 3752, 3780, 3792, 3817, 3827, 3850, 3859, 3890, 3907, 3943, 3987, 4034, 4043, 4160, 4337, 4352, 4356, 4444, 4464, 4488, 4558, 4581, 4626, 4636, 4674, 4711, 4733, 4747, 4797, 4820, 4866, 4886, 4928, 4975, 5013, 5039, 5137, 5146, 5203, 5288, 5343, 5395, 5497, 5540, 5581, 6021, 6177, 6461, 6571, 6643, 6682, 6864, 6894, 6999, 7003, 7207, 7246, 7351, 7379, 7463, 7464, 7467, 7470, 7471, 7472, 7475, 7477, 7478, 7479, 7480, 7482, 7483, 7484, 7485, 7487, 7490, 7491, 7492, 7493, 7494, 7501, 7502, 7503, 7506, 7507, 7511, 7513, 7515, 7517, 7521, 7522, 7523, 7525, 7527, 7528, 7529, 7530, 7531, 7533, 7534, 7538, 7540, 7541, 7543, 7546, 7547, 7549, 7550, 7551, 7553, 7554, 7555, 7556, 7557, 7558, 7560, 7561, 7562, 7564, 7567, 7568, 7570, 7571, 7572, 7573, 7574, 7578, 7580, 7581, 7582, 7583, 7585, 7587, 7589, 7590, 7592, 7594, 7595, 7597, 7599, 7600, 7601, 7603, 7604, 7606, 7608, 7609, 7610, 7611, 7612, 7613, 7616, 7617, 7619, 7621, 7622, 7623, 7625, 7626, 7627, 7629, 7630, 7632, 7633, 7634, 7637, 7638, 7639, 7641, 7643, 7644, 7646, 7648, 7650, 7651, 7652, 7654, 7655, 7656, 7657, 7660, 7661, 7662, 7663, 7664, 7665, 7666, 7667, 7671, 7672, 7673, 7675, 7676, 7679, 7680, 7681, 7685, 7687, 7688, 7689, 7690, 7691, 7693, 7694, 7696, 7697, 7700, 7702, 7703, 7704, 7705, 7706, 7707, 7708, 7709, 7710, 7711, 7713, 7715, 7716, 7717, 7718, 7719, 7720, 7721, 7722, 7723, 7725, 7726, 7727, 7729, 7730, 7732, 7733, 7734, 7735, 7736, 7737, 7738, 7741, 7742, 7743, 7745, 7746, 7747, 7748, 7749, 7752, 7754, 7756, 7757, 7758, 7759, 7760, 7761, 7763, 7765, 7767, 7768, 7769, 7770, 7771, 7773, 7775, 7776, 7778, 7779, 7781, 7782, 7783, 7788, 7792, 7793, 7795, 7798, 7799, 7801, 7802, 7803, 7811, 7812, 7814, 7815, 7817, 7818, 7819, 7820, 7821, 7823, 7825, 7827, 7828, 7831, 7833, 7834, 7836, 7837, 7839, 7841, 7843, 7844, 7845, 7846, 7847, 7849, 7850, 7851, 7852, 7853, 7854, 7856, 7857, 7858, 7859, 7866, 7868, 7869, 7870, 7871, 7872, 7873, 7874, 7875, 7876, 7877, 7878, 7879, 7880, 7881, 7882, 7883, 7886, 7887, 7888, 7889, 7891, 7896, 7897, 7898, 7899, 7900, 7903, 7905, 7906, 7907, 7910, 7912, 7913, 7914, 7917, 7919, 7921, 7922, 7923, 7926, 7929, 7930, 7931, 7932, 7933, 7934, 7935, 7936, 7937, 7938, 7939, 7941, 7942, 7943, 7944, 7945, 7948, 7950, 7951, 7952, 7956, 7958, 7959, 7960, 7962, 7965, 7966, 7967, 7968, 7969, 7970, 7971, 7973, 7975, 7977, 7978, 7980, 7981, 7982, 7984, 7985, 7986, 7987, 7988, 7989, 7991, 7993, 7994, 7997, 7999, 8000, 8001, 8002, 8005, 8006, 8009, 8010, 8011, 8012, 8013, 8014, 8015, 8016, 8018, 8019, 8021, 8023, 8024, 8026, 8027, 8028, 8029, 8030, 8031, 8035, 8036, 8037, 8038, 8040, 8041, 8044, 8045, 8047, 8048, 8050, 8052, 8053, 8054, 8059, 8060, 8061, 8062, 8064, 8065, 8068, 8070, 8071, 8072, 8073, 8074, 8075, 8076, 8077, 8078, 8079, 8081, 8082, 8083, 8084, 8085, 8088, 8089, 8091, 8093, 8095, 8097, 8098, 8099, 8100, 8101, 8102, 8103, 8104, 8105, 8108, 8109, 8112, 8115, 8118, 8119, 8122, 8123, 8125, 8126, 8127, 8128, 8129, 8133, 8135, 8136, 8137, 8138, 8139, 8140, 8141, 8143, 8144, 8145, 8147, 8148, 8149, 8150, 8151, 8152, 8153, 8154, 8156, 8160, 8161, 8163, 8164, 8166, 8169, 8170, 8172, 8173, 8174, 8178, 8179, 8180, 8182, 8187, 8188, 8189, 8190, 8192, 8193, 8197, 8198, 8199, 8200, 8201, 8203, 8204, 8205, 8206, 8207, 8209, 8210, 8212, 8213, 8214, 8215, 8217, 8219, 8221, 8222, 8226, 8229, 8231, 8233, 8234, 8235, 8237, 8238, 8239, 8240, 8241, 8242, 8243, 8244, 8245, 8247, 8248, 8249, 8251, 8255, 8256, 8257, 8258, 8259, 8261, 8262, 8263, 8264, 8265, 8268, 8269, 8272, 8273, 8274, 8275, 8276, 8277, 8278, 8280, 8282, 8283, 8284, 8285, 8286, 8287, 8288, 8289, 8291, 8294, 8295, 8297, 8298, 8299, 8301, 8303, 8304, 8305, 8306, 8313, 8314, 8316, 8317, 8318, 8319, 8322, 8323, 8325, 8328, 8329, 8331, 8332, 8334, 8336, 8338, 8340, 8341, 8342, 8343, 8344, 8345, 8348, 8353, 8354, 8355, 8356, 8358, 8361, 8363, 8364, 8367, 8368, 8371, 8376, 8377, 8378, 8379, 8381, 8383, 8384, 8387, 8388, 8389, 8391, 8392, 8394, 8396, 8398, 8400, 8403, 8404, 8405, 8407, 8409, 8410, 8411, 8413, 8414, 8415, 8416, 8419, 8421, 8423, 8424, 8425, 8427, 8428, 8429, 8430, 8434, 8435, 8437, 8439, 8440, 8443, 8534, 8824, 9088, 9169, 9278, 9290, 9322, 9534, 9535, 9536, 9537, 9538, 9539, 9540, 9541, 9542, 9543, 9544, 9545, 9546, 9547, 9548, 9549, 9550, 9551, 9553, 9554, 9556, 9557, 9558, 9559, 9560, 9561, 9562, 9563, 9565, 9566, 9567, 9568, 9569, 9571, 9572, 9573, 9574, 9575, 9576, 9577, 9578, 9580, 9581, 9582, 9583, 9584, 9586, 9589, 9591, 9592, 9594, 9595, 9596, 9597, 9598, 9600, 9601, 9602, 9603, 9604, 9605, 9606, 9607, 9608, 9609, 9610, 9611, 9612, 9613, 9614, 9616, 9618, 9619, 9620, 9621, 9622, 9623, 9624, 9625, 9626, 9628, 9629, 9631, 9632, 9633, 9634, 9636, 9637, 9638, 9639, 9640, 9641, 9642, 9643, 9644, 9646, 9647, 9649, 9650, 9651, 9653, 9654, 9655, 9656, 9657, 9659, 9661, 9664, 9665, 9666, 9667, 9668, 9669, 9670, 9671, 9672, 9673, 9675, 9676, 9677, 9678, 9679, 9680, 9681, 9682, 9683, 9686, 9688, 9689, 9690, 9691, 9692, 9693, 9694, 9696, 9697, 9698, 9699, 9701, 9702, 9703, 9704, 9705, 9706, 9709, 9711, 9712, 9713, 9714, 9715, 9717, 9718, 9719, 9721, 9722, 9723, 9724, 9725, 9726, 9727, 9728, 9729, 9730, 9731, 9732, 9735, 9736, 9737, 9738, 9739, 9740, 9741, 9744, 9745, 9747, 9748, 9749, 9750, 9752, 9753, 9754, 9755, 9756, 9757, 9759, 9760, 9761, 9762, 9763, 9764, 9765, 9766, 9768, 9769, 9770, 9772, 9773, 9774, 9775, 9776, 9777, 9778, 9779, 9780, 9781, 9782, 9783, 9784, 9785, 9786, 9787, 9788, 9789, 9792, 9793, 9794, 9795, 9796, 9797, 9798, 9799, 9800, 9801, 9802, 9803, 9804, 9805, 9806, 9807, 9808, 9810, 9811, 9813, 9815, 9816, 9817, 9818, 9819, 9820, 9822, 9823, 9824, 9825, 9827, 9829, 9830, 9831, 9832, 9833, 9835, 9836, 9837, 9838, 9839, 9840, 9842, 9843, 9844, 9845, 9848, 9849, 9851, 9853, 9856, 9857, 9858, 9859, 9860, 9861, 9862, 9863, 9864, 9865, 9866, 9867, 9868, 9870, 9871, 9872, 9874, 9875, 9876, 9877, 9878, 9879, 9880, 9881, 9882, 9883, 9884, 9886, 9887, 9888, 9889, 9891, 9893, 9894, 9895, 9896, 9897, 9898, 9899, 9900, 9901, 9903, 9904, 9906, 9907, 9908, 9911, 9912, 9913, 9915, 9916, 9917, 9918, 9919, 9920, 9921, 9922, 9923, 9924, 9925, 9927, 9928, 9929, 9930, 9931, 9932, 9933, 9934, 9935, 9936, 9937, 9938, 9939, 9940, 9941, 9943, 9944, 9945, 9946, 9947, 9948, 9949, 9952, 9953, 9954, 9957, 9958, 9960, 9961, 9963, 9964, 9967, 9968, 9969, 9970, 9971, 9972, 9974, 9976, 9978, 9979, 9980, 9981, 9982, 9984, 9988, 9989, 9990, 9991, 9992, 9993, 9994, 9995, 9996, 9998, 9999, 10000, 10001, 10002, 10004, 10007, 10008, 10009, 10010, 10011, 10012, 10013, 10014, 10015, 10016, 10018, 10019, 10020, 10021, 10022, 10023, 10024, 10025, 10026, 10027, 10028, 10030, 10031, 10032, 10033, 10034, 10035, 10037, 10038, 10040, 10041, 10042, 10043, 10044, 10045, 10046, 10048, 10049, 10050, 10052, 10053, 10054, 10055, 10056, 10057, 10058, 10059, 10062, 10063, 10064, 10065, 10068, 10069, 10070, 10071, 10072, 10074, 10076, 10078, 10079, 10080, 10081, 10083, 10084, 10085, 10086, 10087, 10088, 10089, 10090, 10092, 10093, 10094, 10096, 10097, 10100, 10101, 10102, 10103, 10104, 10105, 10106, 10107, 10108, 10110, 10112, 10116, 10117, 10118, 10119, 10120, 10122, 10123, 10124, 10125, 10126, 10127, 10128, 10129, 10130, 10131, 10132, 10133, 10134, 10137, 10138, 10140, 10141, 10142, 10143, 10144, 10146, 10147, 10148, 10149, 10150, 10151, 10152, 10153, 10154, 10155, 10158, 10159, 10160, 10161, 10163, 10165, 10167, 10168, 10170, 10171, 10172, 10173, 10174, 10175, 10176, 10178, 10179, 10181, 10182, 10183, 10185, 10186, 10187, 10188, 10189, 10191, 10193, 10194, 10195, 10196, 10197, 10199, 10200, 10203, 10205, 10206, 10207, 10208, 10209, 10210, 10211, 10212, 10213, 10215, 10216, 10217, 10218, 10219, 10220, 10221, 10222, 10223, 10224, 10225, 10226, 10227, 10228, 10229, 10230, 10231, 10232, 10233, 10235, 10236, 10237, 10238, 10239, 10240, 10242, 10243, 10244, 10245, 10246, 10247, 10248, 10249, 10250, 10251, 10252, 10253, 10254, 10255, 10256, 10257, 10258, 10259, 10260, 10261, 10262, 10263, 10264, 10265, 10266, 10268, 10269, 10271, 10272, 10274, 10275, 10276, 10282, 10284, 10285, 10288, 10289, 10290, 10292, 10293, 10294, 10295, 10296, 10298, 10299, 10301, 10302, 10303, 10304, 10305, 10308, 10310, 10311, 10312, 10315, 10316, 10317, 10319, 10320, 10321, 10323, 10324, 10325, 10326, 10327, 10328, 10329, 10331, 10332, 10333, 10334, 10335, 10336, 10337, 10338, 10339, 10340, 10341, 10342, 10343, 10345, 10346, 10347, 10349, 10350, 10351, 10352, 10353, 10354, 10355, 10356, 10357, 10358, 10359, 10360, 10361, 10362, 10364, 10365, 10366, 10367, 10368, 10369, 10370, 10373, 10374, 10375, 10376, 10377, 10379, 10380, 10381, 10382, 10385, 10386, 10387, 10389, 10390, 10391, 10393, 10394, 10396, 10397, 10398, 10401, 10403, 10404, 10405, 10406, 10407, 10408, 10409, 10410, 10411, 10412, 10413, 10414, 10415, 10416, 10417, 10418, 10420, 10421, 10422, 10424, 10425, 10426, 10427, 10428, 10429, 10430, 10431, 10433, 10434, 10435, 10436, 10438, 10439, 10440, 10441, 10443, 10444, 10445, 10446, 10447, 10448, 10449, 10450, 10451, 10452, 10454, 10455, 10456, 10457, 10458, 10461, 10462, 10463, 10464, 10465, 10467, 10468, 10469, 10470, 10471, 10472, 10474, 10475, 10476, 10477, 10478, 10479, 10480, 10481, 10482, 10483, 10484, 10485, 10486, 10488, 10489, 10490, 10491, 10494, 10496, 10497, 10498, 10500, 10501, 10502, 10503, 10504, 10505, 10506, 10507, 10508, 10509, 10510, 10511, 10514, 10515, 10516, 10519, 10523, 10524, 10525, 10526, 10527, 10528, 10530, 10531, 10532, 10534, 10535, 10536, 10539, 10540, 10541, 10542, 10543, 10544, 10546, 10547, 10549, 10551, 10552, 10554, 10556, 10558, 10560, 10562, 10563, 10564, 10565, 10566, 10568, 10569, 10570, 10573, 10574, 10575, 10576, 10577, 10578, 10579, 10580, 10581, 10582, 10587, 10589, 10591, 10592, 10593, 10594, 10596, 10597, 10598, 10599, 10600, 10601, 10602, 10603, 10605, 10607, 10608, 10609, 10610, 10612, 10614, 10615, 10616, 10618, 10619, 10620, 10621, 10622, 10623, 10624, 10625, 10627, 10628, 10630, 10631, 10632, 10633, 10634, 10635, 10638, 10639, 10640, 10641, 10642, 10643, 10644, 10647, 10648, 10650, 10651, 10652, 10653, 10654, 10655, 10656, 10657, 10658, 10660, 10663, 10664, 10665, 10667, 10668, 10669, 10671, 10672, 10673, 10674, 10675, 10676, 10677, 10678, 10681, 10682, 10683, 10686, 10687, 10691, 10692, 10694, 10695, 10699, 10700, 10701, 10702, 10706, 10707, 10708, 10709, 10710, 10711, 10713, 10715, 10718, 10719, 10720, 10721, 10722, 10723, 10724, 10725, 10726, 10727, 10729, 10731, 10732, 10735, 10736, 10737, 10739, 10740, 10741, 10743, 10745, 10746, 10748, 10752, 10753, 10754, 10755, 10756, 10757, 10758, 10762, 10764, 10765, 10766, 10767, 10772, 10773, 10774, 10776, 10777, 10778, 10780, 10782, 10783, 10784, 10785, 10786, 10787, 10788, 10790, 10791, 10792, 10795, 10796, 10797, 10798, 10800, 10802, 10803, 10804, 10805, 10806, 10807, 10808, 10810, 10811, 10812, 10813, 10814, 10816, 10817, 10819, 10820, 10821, 10822, 10824, 10825, 10827, 10830, 10831, 10834, 10835, 10836, 10837, 10838, 10840, 10841, 10842, 10843, 10844, 10846, 10847, 10850, 10852, 10853, 10856, 10857, 10858, 10859, 10860, 10861, 10862, 10863, 10864, 10866, 10867, 10868, 10869, 10871, 10876, 10880, 10881, 10882, 10883, 10885, 10887, 10888, 10889, 10890, 10892, 10893, 10895, 10896, 10897, 10898, 10899, 10900, 10901, 10902, 10903, 10907, 10908, 10909, 10912, 10914, 10915, 10916, 10917, 10919, 10920, 10921, 10922, 10923, 10924, 10925, 10928, 10929, 10931, 10932, 10933, 10934, 10935, 10936, 10937, 10938, 10939, 10940, 10941, 10942, 10943, 10944, 10945, 10946, 10947, 10950, 10951, 10952, 10954, 10955, 10957, 10958, 10959, 10960, 10961, 10962, 10963, 10964, 10965, 10966, 10973, 10975, 10977, 10979, 10981, 10982, 10983, 10985, 10987, 10988, 10989, 10990, 10993, 10994, 10995, 10996, 10997, 10999, 11000, 11001, 11002, 11004, 11005, 11006, 11007, 11010, 11011, 11013, 11014, 11015, 11016, 11017, 11018, 11020, 11021, 11023, 11025, 11026, 11027, 11028, 11029, 11030, 11032, 11033, 11035, 11036, 11037, 11038, 11039, 11043, 11046, 11048, 11049, 11050, 11052, 11055, 11057, 11058, 11059, 11060, 11061, 11062, 11063, 11064, 11066, 11067, 11068, 11070, 11071, 11072, 11074, 11075, 11076, 11077, 11078, 11080, 11081, 11082, 11083, 11086, 11087, 11089, 11090, 11091, 11092, 11094, 11095, 11096, 11097, 11098, 11099, 11101, 11102, 11103, 11104, 11105, 11106, 11107, 11108, 11111, 11112, 11113, 11264, 11276, 11306, 11334, 11344, 11346, 11507, 11640, 11889, 11902, 12093, 12133, 12224, 12239, 12244, 12248, 12249, 12260, 12284, 12285, 12297, 12298, 12314, 12361, 12389, 12396, 12405, 12424, 12473, 12484, 12490, 12492, 12496, 12501, 12517, 12526, 12540, 12550, 12554, 12557, 12605, 12631, 12641, 12653, 12674, 12675, 12684, 12688, 12715, 12726, 12755, 12765, 12794, 12799, 12814, 12816, 12854, 12866, 12872, 12896, 12913, 12940, 12948, 12971, 12981, 12982, 12987, 13005, 13034, 13039, 13073, 13098, 13112, 13124, 13145, 13167, 13172, 13173, 13194, 13205, 13208, 13224, 13230, 13243, 13249, 13253, 13254, 13264, 13271, 13288, 13289, 13297, 13304, 13319, 13320, 13364, 13368, 13389, 13391, 13396, 13404, 13423, 13437, 13463, 13464, 13482, 13502, 13505, 13513, 13533, 13546, 13554, 13593, 13599, 13626, 13632, 13648, 13653, 13666, 13676, 13677, 13680, 13681, 13708, 13732, 13740, 13758, 13761, 13784, 13791, 13797, 13800, 13808, 13810, 13848, 13852, 13882, 13885, 13898, 13909, 13924, 13955, 13964, 13971, 13980, 13992, 13998, 14016, 14022, 14044, 14050, 14078, 14092, 14111, 14121, 14141, 14150, 14155, 14171, 14182, 14184, 14192, 14223, 14227, 14234, 14257, 14263, 14302, 14316, 14335, 14344, 14357, 14381, 14472, 14498, 14519, 14575, 14671, 14688, 14742, 14754, 14775, 14787, 14846, 14865, 14904, 14921, 15000, 15016, 15024, 15025, 15063, 15101, 15337, 15531, 16083, 16106, 16229, 16413, 16507, 16539, 16623, 16694, 16745, 16782, 16927, 16946, 16975, 17006, 17107, 17115, 17184, 17204, 17252, 17297, 17298, 17344, 17359, 17397, 17494, 17496, 17527, 17545, 17550, 17557, 17593, 17606, 17609, 17673, 17677, 17687, 17689, 17696, 17757, 17777, 17832, 17857, 17887, 17977, 17999, 18018, 18027, 18030, 18066, 18069, 18072, 18087, 18091, 18096, 18101, 18103, 18139, 18159, 18167, 18195, 18260, 18265, 18272, 18277, 18292, 18329, 18362, 18364, 18371, 18380, 18398, 18407, 18433, 18489, 18490, 18512, 18521, 18531, 18558, 18568, 18570, 18575, 18595, 18601, 18613, 18657, 18662, 18695, 18721, 18728, 18733, 18748, 18763, 18768, 18817, 18820, 18833, 18851, 18892, 18904, 18908, 18917, 18935, 18944, 18957, 18963, 18964, 18976, 18979, 18984, 18992, 18996, 18998, 19006, 19008, 19018, 19024, 19031, 19035, 19037, 19038, 19048, 19053, 19058, 19060, 19110, 19118, 19219, 19223, 19227, 19231, 19233, 19239, 19241, 19246, 19253, 19258, 19259, 19274, 19281, 19282, 19309, 19321, 19338, 19341, 19342, 19344, 19355, 19358, 19367, 19369, 19376, 19385, 19399, 19423, 19424, 19433, 19437, 19466, 19489, 19496, 19499, 19512, 19522, 19546, 19551, 19563, 19568, 19570, 19601, 19602, 19614, 19618, 19628, 19641, 19658, 19706, 19716, 19742, 19746, 19752, 19760, 19765, 19767, 19776, 19797, 19804, 19805, 19811, 19834, 19840, 19852, 19855, 19869, 19880, 19929, 19939, 19979, 19980, 19992, 20004, 20010, 20062, 20067, 20071, 20076, 20121, 20151, 20153, 20163, 20165, 20184, 20198, 20202, 20215, 20216, 20233, 20237, 20244, 20260, 20263, 20276, 20280, 20283, 20284, 20301, 20304, 20337, 20344, 20388, 20391, 20410, 20417, 20421, 20423, 20443, 20473, 20479, 20484, 20527, 20545, 20572, 20586, 20606, 20631, 20660, 20690, 20716, 20753, 20755, 20792, 20793, 20807, 20822, 20823, 20825, 20828, 20854, 20895, 20903, 20927, 20935, 20956, 20960, 20966, 20999, 21030, 21033, 21043, 21050, 21055, 21056, 21063, 21070, 21079, 21087, 21089, 21091, 21098, 21109, 21112, 21122, 21132, 21133, 21136, 21137, 21144, 21145, 21151, 21152, 21157, 21164, 21166, 21173, 21174, 21178, 21185, 21199, 21202, 21205, 21215, 21241, 21256, 21258, 21265, 21266, 21288, 21308, 21312, 21334, 21337, 21353, 21354, 21355, 21364, 21367, 21383, 21385, 21406, 21408, 21410, 21430, 21431, 21437, 21449, 21451, 21465, 21484, 21485, 21497, 21506, 21514, 21520, 21523, 21535, 21543, 21547, 21549, 21555, 21561, 21569, 21572, 21583, 21584, 21588, 21591, 21592, 21602, 21610, 21614, 21629, 21642, 21650, 21667, 21686, 21690, 21696, 21706, 21709, 21712, 21713, 21757, 21767, 21768, 21769, 21775, 21780, 21784, 21788, 21794, 21798, 21799, 21809, 21811, 21813, 21814, 21820, 21823, 21824, 21832, 21846, 21849, 21854, 21855, 21866, 21867, 21881, 21883, 21886, 21900, 21914, 21933, 21938, 21939, 21942, 21944, 21954, 21956, 21960, 21968, 21975, 21978, 21982, 21984, 21986, 21989, 22004, 22010, 22014, 22028, 22052, 22057, 22059, 22070, 22077, 22097, 22111, 22117, 22119, 22122, 22136, 22137, 22145, 22154, 22162, 22167, 22173, 22182, 22202, 22251, 22289, 22520, 22707, 23073, 23123, 23124, 23137, 23152, 23197, 23201, 23225, 23231, 23298, 23315, 23316, 23320, 23334, 23376, 23387, 23426, 23451, 23460, 23473, 23487, 23496, 23501, 23502, 23533, 23566, 23581, 23589, 23613, 23683, 23707, 23715, 23783, 23798, 23803, 23824, 23830, 23838, 23847, 23866, 23879, 23893, 23908, 23921, 23957, 23966, 23977, 23979, 23986, 23987, 23988, 23989, 23990, 23991, 23992, 23993, 23994, 23995, 23996, 23997, 23999, 24000, 24001, 24002, 24004, 24006, 24008, 24009, 24011, 24012, 24013, 24014, 24016, 24017, 24018, 24019, 24021, 24023, 24024, 24025, 24026, 24027, 24028, 24029, 24031, 24032, 24034, 24035, 24036, 24037, 24038, 24039, 24040, 24042, 24044, 24045, 24046, 24047, 24048, 24049, 24050, 24051, 24052, 24053, 24054, 24055, 24057, 24058, 24060, 24061, 24062, 24063, 24067, 24068, 24069, 24070, 24071, 24072, 24073, 24074, 24076, 24077, 24078, 24079, 24081, 24082, 24083, 24085, 24086, 24087, 24088, 24089, 24090, 24091, 24092, 24097, 24098, 24099, 24100, 24102, 24103, 24105, 24106, 24107, 24108, 24109, 24110, 24111, 24112, 24113, 24114, 24115, 24116, 24118, 24119, 24121, 24122, 24123, 24124, 24125, 24126, 24127, 24128, 24129, 24130, 24131, 24134, 24135, 24136, 24137, 24138, 24139, 24140, 24141, 24143, 24145, 24146, 24147, 24148, 24149, 24150, 24151, 24152, 24153, 24154, 24155, 24156, 24157, 24158, 24159, 24160, 24161, 24163, 24164, 24165, 24166, 24167, 24168, 24171, 24172, 24174, 24175, 24176, 24177, 24178, 24180, 24181, 24182, 24184, 24185, 24186, 24187, 24188, 24189, 24190, 24191, 24192, 24193, 24194, 24195, 24196, 24197, 24198, 24199, 24201, 24202, 24203, 24204, 24205, 24206, 24207, 24208, 24209, 24210, 24211, 24212, 24213, 24214, 24215, 24216, 24217, 24220, 24221, 24223, 24224, 24226, 24227, 24229, 24230, 24231, 24232, 24233, 24235, 24236, 24237, 24238, 24239, 24240, 24241, 24242, 24243, 24244, 24246, 24248, 24249, 24250, 24251, 24252, 24253, 24254, 24255, 24256, 24257, 24258, 24259, 24260, 24261, 24262, 24263, 24264, 24266, 24268, 24270, 24271, 24272, 24273, 24275, 24276, 24277, 24278, 24280, 24281, 24283, 24285, 24286, 24287, 24288, 24289, 24291, 24292, 24293, 24294, 24295, 24296, 24297, 24299, 24300, 24301, 24302, 24303, 24304, 24306, 24308, 24310, 24311, 24312, 24313, 24314, 24315, 24316, 24317, 24318, 24320, 24321, 24323, 24324, 24325, 24326, 24327, 24332, 24333, 24334, 24335, 24336, 24337, 24339, 24340, 24342, 24343, 24344, 24345, 24346, 24347, 24348, 24349, 24350, 24351, 24352, 24353, 24354, 24355, 24356, 24357, 24358, 24359, 24360, 24361, 24362, 24363, 24364, 24366, 24367, 24369, 24371, 24372, 24373, 24374, 24376, 24377, 24378, 24381, 24382, 24384, 24385, 24386, 24388, 24390, 24391, 24392, 24393, 24394, 24395, 24396, 24397, 24398, 24400, 24403, 24405, 24406, 24408, 24410, 24411, 24413, 24414, 24415, 24416, 24417, 24419, 24420, 24421, 24422, 24423, 24424, 24425, 24426, 24427, 24428, 24429, 24431, 24434, 24436, 24438, 24439, 24440, 24441, 24442, 24443, 24444, 24446, 24447, 24448, 24449, 24450, 24451, 24452, 24453, 24454, 24455, 24456, 24457, 24458, 24459, 24460, 24462, 24463, 24464, 24465, 24466, 24468, 24469, 24470, 24471, 24472, 24473, 24474, 24476, 24477, 24479, 24481, 24482, 24483, 24484, 24486, 24487, 24488, 24490, 24491, 24492, 24494, 24495, 24496, 24497, 24498, 24499, 24500, 24501, 24503, 24506, 24508, 24509, 24510, 24512, 24513, 24515, 24516, 24517, 24518, 24519, 24520, 24523, 24524, 24525, 24526, 24527, 24528, 24531, 24532, 24533, 24534, 24535, 24536, 24537, 24539, 24541, 24542, 24543, 24545, 24546, 24548, 24550, 24551, 24553, 24554, 24555, 24556, 24558, 24560, 24561, 24562, 24563, 24564, 24565, 24567, 24568, 24569, 24571, 24572, 24574, 24575, 24576, 24577, 24578, 24579, 24582, 24583, 24584, 24585, 24586, 24587, 24588, 24589, 24590, 24591, 24592, 24593, 24594, 24595, 24596, 24597, 24598, 24599, 24600, 24602, 24603, 24605, 24606, 24607, 24609, 24610, 24611, 24612, 24613, 24614, 24615, 24616, 24617, 24618, 24619, 24620, 24622, 24623, 24624, 24625, 24626, 24627, 24628, 24629, 24630, 24631, 24632, 24633, 24634, 24635, 24636, 24638, 24639, 24640, 24641, 24643, 24644, 24645, 24647, 24649, 24650, 24651, 24652, 24653, 24656, 24659, 24660, 24661, 24662, 24663, 24664, 24665, 24667, 24668, 24669, 24670, 24671, 24672, 24673, 24674, 24676, 24677, 24678, 24679, 24680, 24681, 24682, 24683, 24684, 24685, 24686, 24687, 24689, 24690, 24691, 24693, 24694, 24695, 24696, 24697, 24698, 24699, 24701, 24702, 24703, 24704, 24705, 24706, 24707, 24709, 24710, 24711, 24712, 24713, 24714, 24715, 24716, 24717, 24719, 24721, 24722, 24723, 24724, 24725, 24726, 24727, 24763, 24787, 24801, 24805, 24826, 24833, 24842, 24845, 24851, 24853, 24878, 24903, 24920, 24979, 25006, 25047, 25062, 25065, 25163, 25189, 25198, 25268, 25297, 25308, 25327, 25348, 25363, 25386, 25440, 25450, 25484, 25493, 25500, 25505, 25508, 25530, 25533, 25542, 25630, 25999, 26031, 26081, 26504, 26512, 26546, 26630, 27014, 27400, 27402, 27403, 27404, 27405, 27406, 27408, 27409, 27410, 27411, 27412, 27413, 27414, 27415, 27416, 27417, 27418, 27419, 27420, 27422, 27423, 27424, 27425, 27427, 27428, 27430, 27431, 27432, 27433, 27434, 27435, 27436, 27437, 27438, 27439, 27440, 27441, 27442, 27444, 27445, 27446, 27447, 27448, 27449, 27450, 27452, 27453, 27454, 27455, 27456, 27457, 27458, 27460, 27461, 27462, 27463, 27464, 27465, 27467, 27468, 27470, 27471, 27472, 27473, 27475, 27477, 27480, 27481, 27482, 27484, 27485, 27486, 27487, 27488, 27489, 27490, 27491, 27492, 27493, 27495, 27496, 27497, 27498, 27499, 27500, 27502, 27503, 27504, 27507, 27508, 27509, 27510, 27511, 27512, 27513, 27514, 27515, 27516, 27517, 27518, 27519, 27520, 27521, 27523, 27524, 27525, 27526, 27527, 27528, 27529, 27530, 27531, 27532, 27534, 27535, 27536, 27537, 27538, 27539, 27540, 27541, 27542, 27544, 27545, 27546, 27547, 27548, 27549, 27550, 27552, 27555, 27556, 27557, 27558, 27559, 27560, 27562, 27563, 27566, 27567, 27568, 27569, 27571, 27572, 27573, 27574, 27576, 27577, 27578, 27579, 27580, 27581, 27582, 27583, 27584, 27585, 27586, 27587, 27588, 27589, 27590, 27591, 27592, 27593, 27594, 27595, 27596, 27597, 27598, 27599, 27600, 27602, 27603, 27604, 27605, 27606, 27607, 27608, 27609, 27610, 27611, 27612, 27613, 27614, 27616, 27617, 27618, 27619, 27620, 27621, 27622, 27623, 27624, 27625, 27626, 27627, 27629, 27630, 27631, 27632, 27633, 27634, 27636, 27637, 27638, 27639, 27640, 27641, 27643, 27644, 27645, 27646, 27647, 27648, 27650, 27651, 27652, 27653, 27654, 27655, 27656, 27657, 27659, 27660, 27661, 27662, 27663, 27665, 27666, 27667, 27668, 27670, 27671, 27672, 27673, 27674, 27675, 27676, 27677, 27679, 27680, 27681, 27683, 27684, 27685, 27686, 27687, 27689, 27690, 27692, 27693, 27694, 27695, 27697, 27698, 27699, 27700, 27702, 27704, 27705, 27706, 27707, 27708, 27709, 27710, 27711, 27713, 27716, 27719, 27721, 27722, 27724, 27725, 27726, 27727, 27728, 27730, 27731, 27732, 27734, 27735, 27736, 27738, 27739, 27740, 27742, 27744, 27745, 27747, 27748, 27750, 27751, 27752, 27753, 27756, 27757, 27759, 27760, 27761, 27763, 27764, 27765, 27766, 27767, 27768, 27769, 27770, 27771, 27772, 27773, 27775, 27777, 27778, 27779, 27780, 27782, 27783, 27784, 27785, 27786, 27787, 27788, 27789, 27790, 27794, 27796, 27797, 27798, 27799, 27801, 27802, 27803, 27804, 27805, 27806, 27808, 27809, 27811, 27812, 27813, 27815, 27816, 27817, 27819, 27820, 27821, 27823, 27824, 27827, 27828, 27829, 27830, 27831, 27832, 27833, 27834, 27835, 27836, 27837, 27838, 27839, 27840, 27841, 27842, 27844, 27845, 27846, 27848, 27849, 27850, 27851, 27852, 27853, 27855, 27856, 27859, 27860, 27862, 27863, 27864, 27866, 27867, 27868, 27869, 27870, 27871, 27873, 27874, 27875, 27876, 27877, 27878, 27879, 27880, 27882, 27883, 27884, 27887, 27888, 27889, 27890, 27892, 27893, 27894, 27896, 27897, 27898, 27900, 27902, 27904, 27905, 27907, 27908, 27909, 27910, 27911, 27912, 27914, 27915, 27916, 27918, 27919, 27920, 27921, 27922, 27923, 27924, 27925, 27926, 27927, 27928, 27929, 27930, 27931, 27932, 27933, 27935, 27936, 27937, 27938, 27940, 27943, 27944, 27945, 27946, 27947, 27949, 27951, 27952, 27953, 27954, 27956, 27958, 27959, 27960, 27961, 27962, 27963, 27965, 27966, 27967, 27968, 27970, 27971, 27972, 27973, 27975, 27976, 27977, 27978, 27980, 27981, 27983, 27984, 27985, 27986, 27988, 27990, 27992, 27993, 27994, 27995, 27996, 27997, 27998, 27999, 28000, 28001, 28003, 28004, 28005, 28006, 28007, 28008, 28009, 28011, 28012, 28013, 28014, 28015, 28016, 28018, 28019, 28020, 28021, 28022, 28023, 28024, 28026, 28027, 28028, 28029, 28030, 28031, 28033, 28068, 28110, 28197, 28230, 28803, 29031, 29054, 29068, 29203, 29458, 29532, 29645, 29693, 29794, 29812, 29826, 29836, 29844, 29846, 29849, 29850, 29856, 29861, 29865, 29866, 29868, 29869, 29870, 29878, 29881, 29882, 29883, 29893, 29894, 29902, 29905, 29909, 29915, 29921, 29927, 29928, 29933, 29946, 29956, 29957, 29969, 29974, 29975, 29980, 29985, 29988, 29989, 29994, 30003, 30019, 30020, 30026, 30038, 30040, 30043, 30046, 30049, 30052, 30055, 30064, 30067, 30068, 30071, 30083, 30099, 30101, 30102, 30104, 30105, 30106, 30108, 30109, 30112, 30135, 30144, 30155, 30167, 30171, 30175, 30179, 30181, 30192, 30198, 30205, 30208, 30215, 30218, 30223, 30228, 30236, 30237, 30242, 30248, 30250, 30255, 30274, 30279, 30280, 30281, 30285, 30298, 30318, 30322, 30327, 30328, 30337, 30340, 30341, 30342, 30343, 30354, 30359, 30363, 30370, 30376, 30380, 30383, 30389, 30391, 30396, 30400, 30406, 30409, 30412, 30416, 30418, 30422, 30429, 30439, 30453, 30461, 30469, 30474, 30487, 30497, 30499, 30524, 30534, 30538, 30542, 30544, 30550, 30552, 30559, 30561, 30567, 30570, 30573, 30574, 30589, 30591, 30592, 30594, 30595, 30601, 30609, 30611, 30613, 30621, 30630, 30640, 30641, 30651, 30655, 30657, 30660, 30661, 30666, 30674, 30675, 30676, 30683, 30689, 30699, 30704, 30707, 30712, 30721, 30723, 30727, 30728, 30733, 30789, 30819, 30834, 31115, 31167, 31278, 31649, 31650, 31651, 31652, 31653, 31654, 31656, 31658, 31659, 31660, 31661, 31663, 31664, 31665, 31666, 31667, 31668, 31669, 31670, 31671, 31672, 31674, 31675, 31676, 31677, 31678, 31680, 31683, 31686, 31688, 31689, 31690, 31691, 31692, 31694, 31695, 31696, 31697, 31698, 31699, 31700, 31701, 31702, 31703, 31704, 31705, 31706, 31708, 31709, 31710, 31711, 31712, 31714, 31715, 31716, 31718, 31719, 31721, 31722, 31723, 31724, 31727, 31728, 31729, 31730, 31731, 31732, 31735, 31737, 31738, 31739, 31740, 31742, 31743, 31744, 31745, 31747, 31748, 31749, 31750, 31751, 31752, 31753, 31754, 31755, 31756, 31757, 31758, 31759, 31760, 31762, 31763, 31764, 31765, 31766, 31767, 31768, 31770, 31772, 31774, 31776, 31777, 31778, 31779, 31780, 31781, 31782, 31783, 31784, 31785, 31786, 31787, 31788, 31789, 31790, 31791, 31792, 31794, 31795, 31797, 31798, 31800, 31801, 31802, 31803, 31804, 31805, 31806, 31807, 31808, 31809, 31810, 31811, 31813, 31814, 31815, 31816, 31817, 31819, 31820, 31821, 31822, 31823, 31824, 31825, 31826, 31827, 31828, 31829, 31830, 31831, 31833, 31834, 31835, 31836, 31838, 31839, 31841, 31842, 31843, 31844, 31846, 31847, 31848, 31851, 31852, 31853, 31854, 31856, 31857, 31858, 31859, 31861, 31864, 31865, 31866, 31867, 31868, 31869, 31870, 31871, 31872, 31874, 31875, 31876, 31877, 31878, 31879, 31880, 31881, 31883, 31884, 31885, 31886, 31887, 31889, 31890, 31891, 31892, 31894, 31895, 31896, 31897, 31899, 31900, 31901, 31903, 31905, 31906, 31907, 31908, 31909, 31910, 31911, 31912, 31914, 31915, 31916, 31919, 31920, 31921, 31922, 31923, 31924, 31925, 31926, 31927, 31929, 31930, 31931, 31933, 31934, 31936, 31937, 31938, 31939, 31940, 31941, 31943, 31944, 31945, 31946, 31947, 31948, 31949, 31950, 31951, 31954, 31956, 31957, 31958, 31961, 31962, 31963, 31964, 31965, 31966, 31967, 31968, 31969, 31970, 31971, 31972, 31973, 31974, 31975, 31976, 31977, 31978, 31979, 31980, 31982, 31984, 31985, 31987, 31988, 31989, 31990, 31991, 31992, 31993, 31994, 31995, 31996, 31997, 31998, 31999, 32000, 32001, 32002, 32003, 32004, 32005, 32006, 32007, 32008, 32009, 32010, 32012, 32013, 32015, 32016, 32017, 32018, 32019, 32020, 32021, 32022, 32023, 32025, 32026, 32027, 32029, 32030, 32032, 32033, 32035, 32036, 32037, 32039, 32040, 32041, 32042, 32043, 32045, 32046, 32047, 32049, 32051, 32053, 32054, 32055, 32059, 32060, 32061, 32062, 32063, 32064, 32065, 32066, 32067, 32068, 32069, 32070, 32071, 32072, 32073, 32075, 32076, 32077, 32078, 32079, 32081, 32082, 32083, 32085, 32086, 32089, 32090, 32091, 32092, 32093, 32095, 32096, 32097, 32098, 32099, 32100, 32101, 32102, 32103, 32104, 32105, 32106, 32107, 32108, 32109, 32111, 32112, 32113, 32116, 32117, 32119, 32120, 32121, 32123, 32124, 32126, 32127, 32128, 32129, 32131, 32133, 32134, 32135, 32136, 32137, 32138, 32139, 32140, 32141, 32142, 32143, 32144, 32145, 32146, 32147, 32148, 32149, 32150, 32152, 32153, 32154, 32155, 32156, 32158, 32160, 32161, 32162, 32163, 32164, 32165, 32171, 32173, 32174, 32175, 32176, 32177, 32178, 32179, 32180, 32181, 32182, 32183, 32184, 32186, 32187, 32188, 32189, 32190, 32192, 32194, 32195, 32196, 32197, 32198, 32199, 32201, 32202, 32203, 32204, 32205, 32207, 32208, 32209, 32210, 32211, 32212, 32213, 32214, 32215, 32218, 32219, 32220, 32221, 32222, 32223, 32228, 32229, 32230, 32231, 32232, 32233, 32234, 32235, 32236, 32237, 32238, 32239, 32240, 32241, 32242, 32243, 32244, 32245, 32246, 32247, 32250, 32251, 32252, 32254, 32256, 32257, 32258, 32259, 32262, 32263, 32264, 32265, 32266, 32267, 32268, 32269, 32270, 32272, 32273, 32274, 32275, 32276, 32278, 32279, 32280, 32281, 32283, 32284, 32286, 32287, 32288, 32289, 32290, 32291, 32293, 32295, 32296, 32297, 32298, 32299, 32301, 32302, 32304, 32305, 32306, 32307, 32308, 32309, 32310, 32312, 32314, 32315, 32316, 32317, 32318, 32321, 32322, 32324, 32325, 32326, 32328, 32329, 32330, 32331, 32332, 32334, 32340, 32344, 32345, 32348, 32353, 32354, 32356, 32360, 32364, 32365, 32366, 32367, 32370, 32372, 32375, 32377, 32390, 32391, 32393, 32396, 32403, 32404, 32405, 32410, 32412, 32413, 32414, 32415, 32419, 32421, 32422, 32424, 32428, 32429, 32433, 32434, 32436, 32439, 32441, 32443, 32445, 32446, 32448, 32450, 32453, 32454, 32460, 32464, 32466, 32469, 32471, 32482, 32483, 32487, 32490, 32491, 32492, 32498, 32501, 32503, 32507, 32508, 32510, 32512, 32514, 32517, 32518, 32528, 32541, 32545, 32548, 32550, 32551, 32555, 32558, 32560, 32561, 32563, 32565, 32569, 32572, 32573, 32576, 32582, 32584, 32586, 32592, 32593, 32597, 32600, 32606, 32608, 32609, 32610, 32611, 32612, 32616, 32617, 32618, 32619, 32623, 32627, 32629, 32636, 32645, 32646, 32649, 32654, 32658, 32665, 32666, 32676, 32677, 32678, 32680, 32681, 32683, 32684, 32688, 32689, 32690, 32692, 32695, 32698, 32704, 32711, 32719, 32720, 32723, 32724, 32733, 32735, 32736, 32737, 32744, 32749, 32760, 32764, 32765, 32772, 32773, 32774, 32776, 32778, 32781, 32784, 32785, 32788, 32789, 32797, 32800, 32801, 32807, 32808, 32811, 32819, 32820, 32828, 32832, 32838, 32841, 32843, 32844, 32849, 32857, 32860, 32863, 32869, 32870, 32872, 32878, 32882, 32883, 32889, 32890, 32893, 32894, 32896, 32897, 32900, 32901, 32904, 32905, 32907, 32909, 32913, 32914, 32915, 32916, 32917, 32921, 32930, 32931, 32932, 32934, 32936, 32939, 32942, 32945, 32946, 32949, 32953, 32954, 32962, 32972, 32979, 32981, 32983, 32984, 32986, 32991, 32995, 32996, 32997, 33000, 33003, 33005, 33010, 33014, 33015, 33017, 33024, 33025, 33031, 33032, 33033, 33036, 33042, 33045, 33050, 33059, 33062, 33067, 33069, 33071, 33072, 33073, 33080, 33081, 33089, 33096, 33099, 33101, 33108, 33109, 33112, 33126, 33128, 33130, 33139, 33142, 33144, 33156, 33157, 33158, 33159, 33173, 33175, 33177, 33178, 33180, 33189, 33199, 33201, 33202, 33203, 33206, 33210, 33215, 33216, 33221, 33226, 33227, 33228, 33232, 33235, 33239, 33240, 33246, 33247, 33252, 33256, 33259, 33264, 33265, 33272, 33274, 33275, 33277, 33281, 33282, 33284, 33285, 33293, 33301, 33302, 33307, 33310, 33312, 33314, 33318, 33319, 33326, 33328, 33329, 33332, 33333, 33334, 33337, 33339, 33340, 33341, 33342, 33343, 33345, 33350, 33352, 33357, 33361, 33364, 33366, 33374, 33377, 33381, 33382, 33383, 33391, 33396, 33398, 33399, 33402, 33410, 33411, 33418, 33421, 33422, 33423, 33427, 33428, 33429, 33431, 33432, 33433, 33439, 33477, 33518, 33548, 33931, 34127, 34241, 34347, 34442, 34716, 34756, 34835, 35097, 35211, 35304, 35324, 35333, 35432, 35459, 35738, 35855, 35876, 36041, 36073, 36191, 36208, 36274, 36288, 36328, 36352, 36370, 36484, 36745, 36780, 36802, 36803, 36817, 36827, 36842, 36846, 36848, 36878, 36901, 36911, 36930, 36938, 36940, 37002, 37044, 37080, 37084, 37086, 37111, 37198, 37217, 37322, 37332, 37367, 37455, 37985, 38254, 38281, 38297, 38343, 38364, 38381, 38419, 38436, 38455, 38499, 38525, 38527, 38529, 38533, 38651, 38690, 38726, 38788, 38819, 38891, 38902, 38907, 38920, 39036, 39058, 39081, 39134, 39205, 39236, 39283, 39290, 39302, 39305, 39310, 39319, 39323, 39325, 39331, 39333, 39346, 39351, 39360, 39366, 39370, 39375, 39384, 39403, 39424, 39431, 39436, 39445, 39462, 39482, 39523, 39536, 39544, 39548, 39564, 39568, 39582, 39594, 39597, 39599, 39621, 39628, 39636, 39639, 39652, 39660, 39667, 39671, 39683, 39693, 39701, 39709, 39712, 39713, 39726, 39729, 39753, 39763, 39768, 39769, 39798, 39805, 39834, 39851, 39887, 39900, 39904, 39906, 39932, 39940, 39954, 39967, 39970, 39979, 39997, 40056, 40065, 40085, 40092, 40100, 40105, 40127, 40137, 40151, 40177, 40181, 40186, 40198, 40246, 40274, 40276, 40283, 40312, 40334, 40339, 40349, 40358, 40386, 40390, 40401, 40416, 40461, 40466, 40468, 40483, 40490, 40499, 40505, 40549, 40566, 40580, 40583, 40591, 40602, 40603, 40604, 40620, 40646, 40649, 40656, 40658, 40660, 40666, 40679, 40705, 40722, 40728, 40732, 40739, 40751, 40757, 40767, 40772, 40784, 40788, 40792, 40810, 40816, 40819, 40829, 40852, 40865, 40875, 40895, 40908, 40911, 40916, 40925, 40927, 40942, 40944, 40964, 40973, 40988, 41002, 41009, 41027, 41041, 41047, 41055, 41056, 41062, 41076, 41101, 41106, 41112, 41124, 41132, 41152, 41153, 41155, 41161, 41190, 41225, 41254, 41264, 41269, 41297, 41305, 41306, 41319, 41322, 41327, 41328, 41333, 41339, 41351, 41365, 41370, 41376, 41393, 41394, 41409, 41416, 41417, 41444, 41445, 41446, 41450, 41462, 41468, 41477, 41501, 41504, 41518, 41519, 41537, 41538, 41541, 41552, 41559, 41560, 41588, 41594, 41598, 41600, 41604, 41607, 41620, 41626, 41644, 41648, 41650, 41653, 41659, 41669, 41677, 41681, 41687, 41695, 41715, 41730, 41737, 41740, 41750, 41755, 41756, 41757, 41771, 41775, 41777, 41784, 41814, 41815, 41816, 41818, 41851, 41861, 41897, 41898, 41903, 41931, 41944, 41959, 41961, 41966, 41986, 41987, 41989, 41997, 41999, 42014, 42015, 42029, 42033, 42039, 42054, 42067, 42079, 42081, 42097, 42100, 42110, 42115, 42118, 42130, 42135, 42149, 42150, 42153, 42155, 42178, 42186, 42201, 42214, 42215, 42218, 42221, 42225, 42227, 42228, 42231, 42247, 42256, 42276, 42280, 42292, 42293, 42324, 42333, 42341, 42360, 42430, 42481, 42729, 42962, 43003, 43213, 43248, 43329, 43405, 43544, 43696, 43826, 43873, 43997, 44237, 44241, 44280, 44309, 44361, 44389, 44397, 44403, 44461, 44478, 44498, 44510, 44544, 44564, 44588, 44591, 44597, 44603, 44625, 44627, 44630, 44647, 44665, 44673, 44678, 44679, 44684, 44700, 44745, 44760, 44768, 44778, 44792, 44794, 44876, 44889, 44916, 44944, 44973, 44990, 44991, 44996, 45022, 45024, 45035, 45056, 45078, 45110, 45123, 45133, 45161, 45180, 45181, 45382, 45409, 45711, 45764, 45861, 46163, 46200, 46295, 46297, 46333, 46338, 46342, 46379, 46393, 46396, 46456, 46474, 46481, 46490, 46491, 46502, 46525, 46526, 46535, 46540, 46544, 46584, 46591, 46607, 46609, 46617, 46633, 46637, 46638, 46654, 46657, 46674, 46681, 46691, 46693, 46697, 46781, 46785, 46787, 46795, 46800, 46808, 46809, 46825, 46826, 46831, 46857, 46861, 46889, 46948, 46953, 46958, 46969, 46978, 47001, 47018, 47025, 47026, 47030, 47033, 47042, 47066, 47104, 47135, 47144, 47180, 47181, 47183, 47222, 47224, 47225, 47243, 47262, 47263, 47268, 47297, 47302, 47315, 47319, 47344, 47353, 47369, 47370, 47379, 47385, 47398, 47407, 47459, 47464, 47467, 47490, 47495, 47519, 47524, 47533, 47542, 47543, 47545, 47560, 47575, 47589, 47606, 47652, 47657, 47664, 47680, 47686, 47694, 47725, 47769, 47776, 47797, 47801, 47813, 47828, 47841, 47853, 47855, 47891, 47898, 47927, 47950, 47957, 47965, 47970, 47977, 47981, 47982, 47985, 48010, 48013, 48047, 48074, 48083, 48097, 48099, 48115, 48130, 48132, 48152, 48161, 48173, 48179, 48192, 48199, 48215, 48231, 48244, 48264, 48297, 48317, 48350, 48351, 48357, 48363, 48430, 48450, 48459, 48465, 48474, 48498, 48510, 48512, 48514, 48521, 48523, 48527, 48560, 48567, 48605, 48607, 48612, 48632, 48647, 48658, 48678, 48701, 48786, 48789, 48892, 48896, 48907, 48928, 48954, 48967, 48968, 48970, 48980, 49005, 49042, 49068, 49093, 49121, 49141, 49145, 49153, 49180, 49244, 49245, 49252, 49270, 49332, 49381, 49414, 49440, 49471, 49494, 49515, 49517, 49532, 49538, 49550, 49558, 49631, 49637, 49657, 49674, 49692, 49703, 49710, 49728, 49730, 49755, 49772, 49798, 49801, 49829, 49835, 49860, 49882, 49884, 49895, 49921, 49929, 49932, 49936, 49941, 49969, 49972, 49979, 49991, 50006, 50017, 50045, 50046, 50050, 50058, 50071, 50074, 50270, 50612, 50617, 50703, 50766, 50869, 50989, 50992, 51064, 51099, 51194, 51201, 51213, 51225, 51243, 51259, 51267, 51276, 51293, 51302, 51348, 51372, 51382, 51412, 51466, 51488, 51493, 51513, 51523, 51545, 51560, 51566, 51577, 51649, 51657, 51668, 51682, 51721, 51723, 51726, 51727, 51757, 51797, 51801, 51834, 51854, 51859, 51873, 51880, 51883, 51895, 51917, 51932, 51947, 51975, 52074, 52079, 52080, 52106, 52184, 52185, 52202, 52203, 52221, 52247, 52260, 52283, 52288, 52291, 52374, 52417, 52506, 52643, 53026, 53332, 53347, 53507, 53639, 53647, 53699, 53741, 53801, 53844, 54048, 54058, 54432, 54476, 54931, 55023, 55353, 55387, 55493, 55730, 55789, 56124, 56142, 56312, 56514, 56659, 56866, 56935, 56994, 57028, 57280, 57285, 57305, 57325, 57373, 57410, 57442, 57628, 57715, 57995, 58192, 58193, 58194, 58195, 58196, 58197, 58198, 58199, 58201, 58202, 58203, 58205, 58206, 58207, 58208, 58209, 58211, 58212, 58214, 58216, 58218, 58220, 58224, 58229, 58230, 58231, 58232, 58233, 58234, 58235, 58236, 58237, 58238, 58239, 58241, 58243, 58244, 58245, 58247, 58249, 58250, 58253, 58254, 58255, 58257, 58258, 58259, 58260, 58261, 58262, 58263, 58264, 58265, 58266, 58267, 58268, 58269, 58271, 58272, 58273, 58274, 58275, 58276, 58277, 58279, 58280, 58281, 58282, 58283, 58284, 58285, 58286, 58288, 58289, 58290, 58291, 58292, 58293, 58294, 58295, 58296, 58297, 58298, 58299, 58300, 58301, 58303, 58304, 58306, 58307, 58308, 58309, 58310, 58311, 58312, 58313, 58314, 58315, 58316, 58317, 58319, 58320, 58321, 58322, 58323, 58324, 58327, 58329, 58330, 58331, 58332, 58333, 58334, 58337, 58338, 58339, 58340, 58341, 58342, 58343, 58344, 58345, 58346, 58348, 58349, 58350, 58351, 58352, 58353, 58354, 58355, 58356, 58357, 58358, 58360, 58361, 58362, 58363, 58364, 58365, 58366, 58367, 58368, 58369, 58370, 58371, 58372, 58374, 58375, 58376, 58377, 58379, 58380, 58381, 58384, 58385, 58386, 58387, 58388, 58389, 58394, 58395, 58396, 58397, 58398, 58401, 58402, 58403, 58404, 58406, 58408, 58409, 58410, 58411, 58413, 58414, 58415, 58416, 58417, 58418, 58419, 58420, 58421, 58422, 58423, 58425, 58426, 58427, 58428, 58429, 58430, 58432, 58433, 58434, 58435, 58436, 58437, 58438, 58439, 58440, 58441, 58442, 58443, 58444, 58446, 58447, 58450, 58451, 58452, 58453, 58454, 58455, 58456, 58457, 58458, 58459, 58460, 58461, 58462, 58464, 58466, 58467, 58469, 58470, 58471, 58472, 58473, 58475, 58476, 58477, 58478, 58479, 58480, 58482, 58483, 58484, 58485, 58486, 58487, 58488, 58490, 58491, 58492, 58495, 58497, 58498, 58500, 58501, 58502, 58503, 58505, 58506, 58508, 58509, 58510, 58511, 58512, 58513, 58514, 58515, 58516, 58517, 58518, 58519, 58520, 58521, 58522, 58523, 58524, 58526, 58527, 58529, 58531, 58535, 58536, 58537, 58538, 58540, 58541, 58542, 58543, 58544, 58545, 58546, 58547, 58549, 58550, 58552, 58553, 58555, 58557, 58559, 58560, 58562, 58563, 58564, 58566, 58567, 58568, 58570, 58571, 58572, 58573, 58576, 58578, 58579, 58580, 58582, 58584, 58585, 58586, 58587, 58588, 58590, 58591, 58592, 58593, 58594, 58595, 58596, 58597, 58598, 58599, 58600, 58601, 58602, 58603, 58604, 58605, 58606, 58607, 58608, 58609, 58612, 58613, 58614, 58615, 58616, 58618, 58619, 58620, 58622, 58624, 58625, 58626, 58628, 58629, 58630, 58631, 58632, 58633, 58634, 58635, 58636, 58637, 58638, 58639, 58640, 58641, 58642, 58643, 58644, 58645, 58646, 58647, 58648, 58649, 58650, 58651, 58652, 58653, 58654, 58655, 58656, 58659, 58661, 58662, 58663, 58664, 58665, 58666, 58667, 58669, 58672, 58673, 58674, 58676, 58678, 58680, 58681, 58683, 58684, 58685, 58687, 58689, 58690, 58691, 58695, 58696, 58697, 58698, 58699, 58700, 58701, 58702, 58704, 58706, 58707, 58708, 58709, 58710, 58711, 58712, 58714, 58715, 58716, 58718, 58719, 58720, 58721, 58722, 58723, 58726, 58727, 58729, 58730, 58732, 58733, 58734, 58735, 58736, 58737, 58738, 58739, 58740, 58741, 58743, 58744, 58746, 58748, 58749, 58751, 58753, 58754, 58755, 58756, 58757, 58758, 58759, 58760, 58761, 58762, 58763, 58764, 58765, 58766, 58767, 58768, 58769, 58770, 58772, 58773, 58774, 58775, 58776, 58777, 58778, 58779, 58781, 58783, 58784, 58785, 58786, 58788, 58789, 58790, 58791, 58792, 58793, 58794, 58795, 58797, 58798, 58799, 58800, 58801, 58802, 58803, 58805, 58806, 58807, 58809, 58810, 58811, 58812, 58814, 58816, 58969, 58998, 59078, 59086, 59121, 59206, 59313, 59347, 59444, 59689, 59730, 59816, 59831, 59837, 59875, 59917, 59922, 59927, 59947, 59999, 60010, 60018, 60046, 60048, 60052, 60092, 60101, 60210, 60259, 60330, 60468, 60496, 60514, 60576, 60626, 60630, 60638, 60649, 60706, 60714, 60719, 60725, 60738, 60757, 60761, 60774, 60780, 60792, 60796, 60811, 60821, 60865, 60889, 60900, 60901, 60911, 60932, 60986, 60993, 61009, 61011, 61014, 61019, 61047, 61050, 61073, 61093, 61102, 61153, 61200, 61215, 61253, 61258, 61259, 61291, 61304, 61330, 61355, 61394, 61414, 61416, 61451, 61468, 61477, 61483, 61485, 61514, 61551, 61601, 61622, 61625, 61628, 61639, 61668, 61678, 61687, 61713, 61743, 61744, 61826, 61832, 61839, 61850, 61867, 61928, 61971, 61979, 62062, 63349, 63386, 63395, 63473, 63775, 63872, 63878, 63924, 64359, 64486, 64781, 64801, 65176, 65229, 65343, 65613, 65632, 65668, 65693, 65759, 66065, 66067, 66264, 66275, 66433, 66440, 66449, 66458, 66461, 66466, 66483, 66493, 66494, 66501, 66502, 66505, 66509, 66510, 66515, 66522, 66534, 66538, 66544, 66554, 66556, 66574, 66588, 66597, 66611, 66617, 66625, 66626, 66652, 66668, 66670, 66692, 66695, 66706, 66715, 66716, 66722, 66724, 66728, 66737, 66742, 66763, 66765, 66772, 66775, 66776, 66781, 66794, 66799, 66804, 66819, 66830, 66837, 66839, 66842, 66855, 66860, 66863, 66874, 66883, 66889, 66902, 66908, 66910, 66922, 66924, 66939, 66940, 66944, 66946, 66948, 66971, 67045, 67050, 67053, 67068, 67069, 67072, 67076, 67087, 67120, 67138, 67145, 67159, 67165, 67170, 67174, 67177, 67181, 67183, 67185, 67195, 67197, 67212, 67214, 67215, 67223, 67240, 67245, 67254, 67256, 67271, 67274, 67291, 67305, 67307, 67308, 67310, 67311, 67323, 67326, 67331, 67346, 67347, 67349, 67353, 67357, 67360, 67375, 67376, 67380, 67386, 67387, 67404, 67427, 67429, 67431, 67438, 67460, 67468, 67470, 67483, 67489, 67492, 67494, 67509, 67517, 67529, 67535, 67537, 67543, 67546, 67556, 67566, 67580, 67604, 67627, 67647, 67660, 67675, 67687, 67693, 67733, 67752, 67771, 67786, 67790, 67826, 67834, 67845, 67852, 67857, 67862, 67876, 67886, 67922, 67934, 67942, 67950, 67971, 67997, 68007, 68018, 68055, 68057, 68091, 68097, 68114, 68175, 68182, 68211, 68224, 68236, 68240, 68255, 68260, 68269, 68272, 68297, 68300, 68333, 68352, 68368, 68373, 68394, 68419, 68441, 68462, 68476, 68510, 68538, 68559, 68579, 68580, 68585, 68587, 68588, 68590, 68597, 68600, 68602, 68605, 68609, 68613, 68616, 68622, 68628, 68632, 68640, 68642, 68644, 68645, 68652, 68663, 68664, 68667, 68668, 68675, 68676, 68681, 68683, 68686, 68687, 68691, 68695, 68707, 68711, 68717, 68720, 68721, 68723, 68726, 68728, 68729, 68735, 68739, 68749, 68762, 68782, 68790, 68797, 68799, 68802, 68808, 68829, 68830, 68831, 68833, 68850, 68853, 68855, 68857, 68864, 68867, 68868, 68869, 68880, 68886, 68902, 68903, 68906, 68909, 68912, 68917, 68924, 68925, 68927, 68932, 68935, 68940, 68946, 68950, 68955, 68966, 68970, 68972, 68975, 68979, 68982, 68984, 68989, 68993, 68997, 69013, 69015, 69016, 69028, 69035, 69042, 69043, 69045, 69048, 69052, 69054, 69056, 69065, 69067, 69073, 69078, 69081, 69084, 69086, 69094, 69107, 69116, 69123, 69134, 69135, 69139, 69140, 69141, 69143, 69146, 69152, 69161, 69168, 69181, 69190, 69219, 69226, 69237, 69238, 69242, 69246, 69249, 69252, 69254, 69255, 69268, 69269, 69283, 69297, 69299, 69316, 69317, 69318, 69320, 69322, 69324, 69326, 69328, 69332, 69338, 69342, 69351, 69354, 69356, 69358, 69361, 69368, 69373, 69379, 69381, 69391, 69401, 69413, 69424, 69426, 69436, 69440, 69442, 69446, 69454, 69459, 69469, 69486, 69498, 69503, 69505, 69506, 69516, 69519, 69523, 69524, 69528, 69532, 69544, 69545, 69546, 69552, 69556, 69570, 69571, 69582, 69598, 69606, 69609, 69610, 69615, 69625, 69628, 69636, 69641, 69643, 69653, 69668, 69672, 69675, 69680, 69685, 69688, 69702, 69706, 69709, 69712, 69715, 69722, 69726, 69731, 69736, 69742, 69747, 69751, 69754, 69759, 69781, 69821, 69854, 70205, 70523, 70559, 70647, 71028, 71370, 71424, 71430, 71435, 71442, 71443, 71447, 71451, 71452, 71460, 71462, 71469, 71485, 71486, 71496, 71514, 71558, 71561, 71584, 71588, 71594, 71595, 71652, 71653, 71664, 71669, 71671, 71684, 71700, 71705, 71726, 71737, 71740, 71782, 71788, 71816, 71837, 71855, 71856, 71865, 71866, 71869, 71870, 71895, 71919, 71925, 71927, 71975, 71993, 71995, 72032, 72046, 72068, 72082, 72083, 72122, 72148, 72154, 72163, 72172, 72204, 72205, 72211, 72227, 72245, 72248, 72261, 72273, 72277, 72304, 72320, 72332, 72358, 72360, 72372, 72379, 72388, 72391, 72396, 72400, 72401, 72418, 72435, 72436, 72441, 72455, 72466, 72508, 72510, 72511, 72533, 72539, 72549, 72611, 72612, 72629, 72630, 72634, 72651, 72657, 72662, 72680, 72696, 72706, 72738, 72744, 72787, 72816, 72818, 72845, 72856, 72893, 72896, 72920, 72925, 72933, 72940, 72941, 72945, 72974, 72982, 73012, 73026, 73075, 73077, 73088, 73095, 73111, 73140, 73161, 73177, 73181, 73183, 73193, 73210, 73229, 73239, 73257, 73269, 73275, 73280, 73290, 73293, 73337, 73359, 73374, 73415, 73422, 73462, 73489, 73511, 73558, 73786, 73863, 73930, 74018, 74033, 74073, 74105, 74168, 74212, 74673, 74902, 75093, 75126, 75332, 75529, 75550, 75842, 75874, 75879, 75892, 75917, 75923, 75933, 75951, 75956, 75957, 75964, 75965, 75970, 75974, 75976, 75977, 75993, 75996, 76007, 76015, 76018, 76021, 76036, 76048, 76049, 76067, 76088, 76096, 76100, 76107, 76111, 76127, 76135, 76145, 76155, 76178, 76187, 76203, 76205, 76207, 76228, 76250, 76269, 76275, 76295, 76312, 76316, 76322, 76329, 76332, 76338, 76352, 76371, 76400, 76413, 76424, 76511, 76513, 76559, 76568, 76570, 76572, 76575, 76580, 76583, 76594, 76595, 76597, 76608, 76613, 76616, 76620, 76648, 76654, 76666, 76680, 76683, 76685, 76686, 76694, 76707, 76714, 76740, 76751, 76756, 76763, 76773, 76776, 76781, 76784, 76795, 76799, 76810, 76826, 76849, 76863, 76864, 76912, 76917, 76946, 76951, 76965, 76966, 76970, 76980, 76988, 76993, 76997, 77042, 77045, 77068, 77082, 77116, 77126, 77132, 77171, 77180, 77198, 77287, 77344, 77422, 77482, 77614, 77716, 77718, 77783, 77790, 77792, 77823, 77824, 77872, 77915, 78037, 78129, 78200, 78360, 78443, 78495, 78738, 78740, 78742, 78744, 78746, 78747, 78748, 78751, 78753, 78754, 78758, 78762, 78764, 78768, 78769, 78772, 78773, 78774, 78775, 78776, 78779, 78780, 78785, 78787, 78789, 78790, 78793, 78795, 78800, 78803, 78807, 78808, 78809, 78810, 78814, 78818, 78819, 78821, 78822, 78823, 78824, 78826, 78828, 78829, 78834, 78837, 78839, 78841, 78842, 78850, 78854, 78855, 78858, 78859, 78860, 78861, 78864, 78868, 78870, 78871, 78872, 78873, 78877, 78878, 78879, 78880, 78886, 78887, 78889, 78890, 78899, 78900, 78905, 78907, 78910, 78913, 78915, 78916, 78920, 78921, 78924, 78925, 78930, 78933, 78934, 78935, 78939, 78944, 78945, 78946, 78947, 78950, 78952, 78954, 78957, 78958, 78959, 78960, 78961, 78963, 78965, 78967, 78968, 78973, 78975, 78978, 78982, 78983, 78985, 78988, 78989, 78990, 78996, 78997, 79001, 79005, 79006, 79009, 79010, 79013, 79014, 79016, 79019, 79020, 79022, 79023, 79025, 79028, 79030, 79035, 79037, 79042, 79046, 79047, 79048, 79050, 79056, 79057, 79061, 79067, 79070, 79079, 79081, 79082, 79084, 79085, 79086, 79089, 79090, 79092, 79095, 79100, 79101, 79103, 79106, 79107, 79108, 79112, 79114, 79116, 79117, 79118, 79119, 79127, 79129, 79130, 79133, 79135, 79146, 79148, 79151, 79152, 79155, 79158, 79159, 79160, 79164, 79167, 79169, 79170, 79173, 79175, 79176, 79177, 79178, 79179, 79186, 79189, 79193, 79194, 79197, 79200, 79201, 79205, 79208, 79209, 79210, 79211, 79213, 79214, 79217, 79222, 79223, 79224, 79227, 79229, 79231, 79236, 79238, 79242, 79244, 79245, 79246, 79248, 79250, 79252, 79254, 79258, 79268, 79269, 79270, 79272, 79276, 79277, 79284, 79285, 79288, 79289, 79293, 79296, 79297, 79298, 79299, 79304, 79306, 79308, 79314, 79315, 79318, 79319, 79321, 79322, 79323, 79324, 79325, 79332, 79333, 79335, 79338, 79342, 79344, 79349, 79350, 79351, 79352, 79354, 79356, 79358, 79362, 79365, 79366, 79367, 79368, 79369, 79374, 79376, 79378, 79379, 79383, 79385, 79387, 79392, 79393, 79394, 79397, 79403, 79404, 79405, 79407, 79408, 79414, 79416, 79417, 79419, 79423, 79428, 79430, 79433, 79439, 79441, 79443, 79447, 79448, 79450, 79451, 79452, 79453, 79455, 79457, 79459, 79461, 79463, 79467, 79468, 79471, 79472, 79474, 79478, 79486, 79487, 79493, 79494, 79498, 79501, 79507, 79508, 79509, 79512, 79519, 79526, 79527, 79528, 79529, 79531, 79533, 79534, 79536, 79537, 79538, 79542, 79545, 79550, 79553, 79558, 79559, 79561, 79562, 79563, 79564, 79571, 79575, 79576, 79581, 79585, 79586, 79591, 79592, 79594, 79597, 79598, 79600, 79601, 79602, 79603, 79607, 79608, 79609, 79613, 79616, 79619, 79625, 79626, 79642, 79646, 79647, 79656, 79662, 79666, 79670, 79678, 79695, 79701, 79704, 79705, 79710, 79711, 79714, 79717, 79720, 79728, 79740, 79748, 79749, 79753, 79759, 79778, 79782, 79788, 79832, 79843, 79848, 79854, 79872, 79895, 79897, 79905, 79913, 79914, 79922, 79926, 79941, 79953, 79963, 79965, 79973, 79975, 79989, 79991, 79997, 79999, 80007, 80017, 80026, 80031, 80040, 80041, 80043, 80048, 80050, 80052, 80059, 80063, 80066, 80069, 80080, 80084, 80097, 80115, 80124, 80127, 80130, 80135, 80142, 80143, 80165, 80170, 80175, 80200, 80229, 80242, 80250, 80253, 80255, 80282, 80299, 80312, 80315, 80321, 80330, 80332, 80336, 80343, 80346, 80352, 80363, 80364, 80385, 80393, 80394, 80395, 80412, 80422, 80438, 80458, 80473, 80477, 80492, 80495, 80496, 80502, 80505, 80507, 80520, 80529, 80536, 80545, 80552, 80565, 80592, 80596, 80604, 80607, 80620, 80625, 80649, 80653, 80656, 80673, 80676, 80679, 80685, 80699, 80708, 80710, 80724, 80730, 80813, 80866, 80975, 81182, 81489, 81524, 81547, 81560, 81600, 81605, 81642, 81652, 81671, 81691, 81735, 81816, 81962, 82037, 82089, 82103, 82194, 82196, 82208, 82244, 82254, 82260, 82264, 82268, 82302, 82309, 82311, 82312, 82313, 82318, 82319, 82320, 82321, 82325, 82328, 82331, 82336, 82341, 82344, 82347, 82351, 82353, 82355, 82357, 82359, 82362, 82366, 82369, 82370, 82376, 82377, 82384, 82385, 82387, 82388, 82389, 82394, 82395, 82396, 82398, 82399, 82401, 82405, 82408, 82410, 82418, 82420, 82423, 82424, 82427, 82429, 82432, 82433, 82434, 82437, 82446, 82455, 82459, 82461, 82464, 82465, 82474, 82476, 82480, 82483, 82491, 82493, 82498, 82502, 82513, 82522, 82525, 82526, 82533, 82537, 82540, 82542, 82543, 82545, 82547, 82549, 82550, 82552, 82562, 82563, 82565, 82577, 82579, 82581, 82583, 82589, 82590, 82597, 82598, 82599, 82601, 82603, 82604, 82606, 82607, 82610, 82612, 82616, 82620, 82621, 82625, 82627, 82629, 82636, 82638, 82639, 82642, 82648, 82660, 82662, 82663, 82664, 82665, 82666, 82668, 82672, 82675, 82678, 82692, 82698, 82704, 82708, 82711, 82713, 82715, 82717, 82724, 82727, 82728, 82729, 82734, 82737, 82740, 82745, 82746, 82748, 82749, 82750, 82752, 82756, 82758, 82762, 82765, 82766, 82769, 82770, 82773, 82783, 82786, 82787, 82788, 82790, 82792, 82795, 82798, 82800, 82803, 82807, 82811, 82817, 82820, 82823, 82826, 82828, 82839, 82840, 82854, 82856, 82865, 82867, 82871, 82872, 82873, 82876, 82878, 82879, 82881, 82882, 82883, 82886, 82887, 82890, 82893, 82900, 82901, 82906, 82912, 82917, 82924, 82925, 82930, 82936, 82944, 82946, 82948, 82951, 82953, 82954, 82956, 82961, 82962, 82965, 82967, 82969, 82970, 82975, 82978, 82979, 82981, 82984, 82987, 82993, 82995, 82998, 82999, 83000, 83001, 83005, 83006, 83015, 83018, 83024, 83034, 83035, 83037, 83038, 83044, 83045, 83046, 83053, 83059, 83060, 83062, 83063, 83064, 83069, 83071, 83074, 83078, 83079, 83085, 83086, 83089, 83094, 83103, 83106, 83109, 83110, 83111, 83116, 83117, 83130, 83131, 83133, 83135, 83138, 83141, 83143, 83148, 83149, 83151, 83156, 83157, 83160, 83168, 83171, 83172, 83173, 83176, 83177, 83182, 83184, 83187, 83189, 83193, 83195, 83196, 83200, 83203, 83206, 83212, 83213, 83214, 83222, 83224, 83225, 83226, 83229, 83230, 83231, 83232, 83233, 83234, 83236, 83238, 83239, 83240, 83242, 83244, 83246, 83248, 83251, 83255, 83258, 83260, 83263, 83275, 83276, 83281, 83282, 83283, 83290, 83291, 83298, 83299, 83309, 83317, 83319, 83320, 83321, 83331, 83332, 83333, 83337, 83339, 83340, 83343, 83350, 83354, 83356, 83359, 83384, 83423, 83428, 83472, 83515, 83532, 83544, 83584, 83629, 83634, 83702, 83751, 83795, 83802, 83901, 83909, 83990, 84082, 84124, 84223, 84261, 84283, 84284, 84285, 84287, 84288, 84289, 84291, 84292, 84294, 84295, 84296, 84297, 84298, 84301, 84302, 84303, 84304, 84305, 84307, 84308, 84309, 84311, 84312, 84313, 84315, 84316, 84318, 84319, 84320, 84321, 84324, 84325, 84326, 84329, 84335, 84336, 84337, 84339, 84340, 84341, 84343, 84344, 84345, 84348, 84349, 84350, 84353, 84355, 84356, 84357, 84358, 84359, 84360, 84361, 84362, 84363, 84364, 84366, 84368, 84369, 84370, 84372, 84373, 84374, 84375, 84376, 84377, 84378, 84380, 84381, 84382, 84383, 84384, 84388, 84390, 84391, 84393, 84394, 84396, 84399, 84400, 84401, 84402, 84405, 84408, 84409, 84412, 84413, 84414, 84415, 84417, 84421, 84422, 84424, 84425, 84426, 84427, 84429, 84430, 84431, 84432, 84433, 84434, 84437, 84439, 84440, 84442, 84444, 84445, 84447, 84448, 84449, 84451, 84454, 84455, 84456, 84457, 84460, 84462, 84463, 84464, 84465, 84466, 84467, 84469, 84471, 84472, 84473, 84475, 84476, 84477, 84479, 84480, 84484, 84485, 84486, 84488, 84489, 84492, 84494, 84495, 84497, 84498, 84500, 84501, 84502, 84504, 84506, 84507, 84512, 84513, 84514, 84515, 84516, 84519, 84520, 84521, 84522, 84523, 84524, 84527, 84528, 84529, 84531, 84532, 84533, 84534, 84535, 84537, 84538, 84539, 84540, 84541, 84542, 84544, 84545, 84548, 84550, 84551, 84554, 84556, 84557, 84560, 84561, 84563, 84565, 84567, 84572, 84573, 84575, 84578, 84580, 84581, 84582, 84584, 84585, 84586, 84589, 84590, 84592, 84600, 84602, 84605, 84608, 84609, 84610, 84611, 84612, 84613, 84614, 84615, 84616, 84618, 84619, 84622, 84623, 84624, 84626, 84627, 84628, 84632, 84634, 84636, 84637, 84638, 84639, 84640, 84642, 84644, 84645, 84646, 84648, 84651, 84652, 84653, 84655, 84657, 84658, 84659, 84660, 84661, 84662, 84663, 84664, 84665, 84667, 84670, 84671, 84674, 84675, 84676, 84679, 84680, 84682, 84683, 84689, 84691, 84692, 84693, 84695, 84696, 84700, 84701, 84702, 84704, 84709, 84710, 84711, 84713, 84715, 84716, 84717, 84718, 84719, 84722, 84724, 84725, 84727, 84728, 84729, 84730, 84731, 84732, 84733, 84735, 84737, 84739, 84740, 84742, 84743, 84744, 84745, 84748, 84749, 84752, 84757, 84758, 84759, 84760, 84763, 84764, 84766, 84767, 84769, 84771, 84773, 84774, 84775, 84776, 84779, 84780, 84781, 84782, 84783, 84786, 84788, 84790, 84791, 84793, 84795, 84796, 84797, 84798, 84799, 84807, 84811, 84812, 84813, 84820, 84821, 84822, 84825, 84827, 84829, 84830, 84831, 84832, 84833, 84834, 84835, 84837, 84838, 84840, 84841, 84842, 84843, 84844, 84845, 84848, 84850, 84851, 84853, 84856, 84857, 84858, 84859, 84861, 84862, 84864, 84867, 84871, 84874, 84876, 84877, 84878, 84879, 84881, 84882, 84883, 84884, 84885, 84891, 84893, 84895, 84897, 84898, 84900, 84901, 84905, 84907, 84909, 84910, 84912, 84915, 84916, 84919, 84920, 84922, 84923, 84924, 84927, 84928, 84933, 84934, 84936, 84941, 84942, 84943, 84944, 84945, 84946, 84948, 84950, 84951, 84952, 84953, 84955, 84956, 84958, 84961, 84963, 84964, 84966, 84967, 84968, 84972, 84973, 84974, 84975, 84977, 84978, 84979, 84980, 84981, 84982, 84983, 84984, 84985, 84986, 84987, 84988, 84989, 84990, 84991, 84992, 84993, 84994, 84995, 84996, 84999, 85001, 85002, 85003, 85006, 85007, 85009, 85010, 85011, 85012, 85013, 85014, 85016, 85019, 85020, 85024, 85025, 85026, 85027, 85029, 85030, 85032, 85035, 85036, 85037, 85038, 85039, 85041, 85044, 85045, 85046, 85047, 85048, 85049, 85050, 85051, 85054, 85055, 85057, 85058, 85059, 85061, 85063, 85064, 85065, 85066, 85068, 85069, 85071, 85073, 85074, 85075, 85077, 85079, 85080, 85081, 85082, 85083, 85085, 85086, 85087, 85090, 85091, 85092, 85093, 85094, 85095, 85096, 85098, 85099, 85100, 85103, 85108, 85112, 85113, 85114, 85117, 85120, 85121, 85122, 85124, 85125, 85127, 85128, 85130, 85131, 85132, 85133, 85134, 85138, 85139, 85140, 85141, 85142, 85143, 85145, 85147, 85148, 85150, 85151, 85152, 85154, 85155, 85156, 85159, 85160, 85161, 85162, 85163, 85165, 85166, 85168, 85170, 85172, 85174, 85176, 85177, 85178, 85179, 85180, 85182, 85183, 85184, 85185, 85186, 85187, 85188, 85190, 85192, 85193, 85194, 85195, 85196, 85197, 85198, 85199, 85200, 85201, 85202, 85203, 85204, 85205, 85207, 85208, 85209, 85210, 85212, 85215, 85254, 85302, 86222, 86227, 86239, 86243, 86249, 86253, 86269, 86285, 86287, 86298, 86301, 86339, 86361, 86385, 86392, 86469, 86484, 86491, 86517, 86531, 86548, 86563, 86566, 86572, 86616, 86634, 86638, 86644, 86646, 86648, 86657, 86670, 86692, 86701, 86703, 86706, 86707, 86713, 86734, 86747, 86769, 86772, 86777, 86790, 86798, 86801, 86819, 86823, 86841, 86843, 86874, 86892, 86907, 86914, 86929, 86951, 86975, 87021, 87027, 87061, 87063, 87078, 87128, 87140, 87141, 87158, 87160, 87195, 87262, 87304, 87339, 87379, 87410, 87427, 87438, 87457, 87480, 87551, 87566, 87610, 87687, 87746, 87933, 87983, 88049, 88156, 88246, 88269, 88336, 88369, 88415, 88428, 88435, 88560, 88760, 88904, 88940, 89019, 89095, 89106, 89114, 89117, 89149, 89162, 89171, 89173, 89181, 89207, 89211, 89212, 89225, 89242, 89247, 89255, 89264, 89334, 89355, 89357, 89397, 89425, 89466, 89499, 89531, 89532, 89579, 89585, 89594, 89648, 89660, 89705, 89707, 89732, 89751, 89758, 89820, 89821, 89828, 89832, 89852, 89854, 89878, 89914, 89963, 89983, 89987, 89988, 89993, 90012, 90017, 90046, 90056, 90057, 90058, 90060, 90062, 90064, 90065, 90066, 90069, 90071, 90073, 90074, 90077, 90079, 90080, 90081, 90082, 90085, 90086, 90088, 90091, 90096, 90100, 90101, 90102, 90105, 90107, 90110, 90116, 90118, 90119, 90120, 90121, 90123, 90128, 90131, 90133, 90136, 90137, 90138, 90139, 90142, 90143, 90144, 90145, 90147, 90148, 90150, 90153, 90155, 90156, 90157, 90158, 90160, 90162, 90163, 90164, 90165, 90166, 90168, 90169, 90170, 90174, 90175, 90177, 90178, 90179, 90182, 90184, 90187, 90189, 90190, 90191, 90192, 90195, 90196, 90197, 90198, 90199, 90201, 90203, 90204, 90205, 90206, 90207, 90210, 90212, 90214, 90215, 90217, 90219, 90221, 90223, 90227, 90229, 90230, 90231, 90234, 90235, 90237, 90240, 90241, 90243, 90244, 90246, 90248, 90249, 90251, 90257, 90262, 90263, 90265, 90266, 90267, 90269, 90272, 90277, 90278, 90281, 90284, 90287, 90288, 90291, 90292, 90293, 90294, 90295, 90296, 90301, 90304, 90306, 90312, 90314, 90315, 90316, 90322, 90324, 90325, 90326, 90328, 90329, 90331, 90334, 90335, 90338, 90339, 90341, 90345, 90351, 90352, 90353, 90355, 90356, 90357, 90359, 90360, 90361, 90366, 90369, 90372, 90373, 90374, 90379, 90383, 90384, 90385, 90388, 90389, 90390, 90391, 90392, 90393, 90396, 90401, 90402, 90407, 90409, 90412, 90413, 90416, 90417, 90420, 90421, 90423, 90424, 90426, 90427, 90428, 90429, 90430, 90435, 90438, 90439, 90440, 90442, 90444, 90446, 90448, 90450, 90453, 90454, 90455, 90461, 90462, 90463, 90465, 90466, 90467, 90469, 90470, 90471, 90476, 90479, 90487, 90488, 90491, 90492, 90493, 90498, 90500, 90501, 90502, 90503, 90504, 90507, 90509, 90510, 90511, 90513, 90517, 90522, 90527, 90530, 90532, 90533, 90535, 90537, 90539, 90543, 90544, 90545, 90546, 90547, 90549, 90550, 90551, 90554, 90556, 90557, 90560, 90561, 90562, 90563, 90566, 90568, 90569, 90572, 90576, 90577, 90578, 90579, 90580, 90581, 90583, 90584, 90588, 90591, 90594, 90595, 90596, 90604, 90612, 90613, 90614, 90616, 90617, 90618, 90621, 90622, 90624, 90630, 90632, 90634, 90636, 90637, 90638, 90641, 90645, 90647, 90650, 90652, 90656, 90658, 90659, 90660, 90664, 90668, 90670, 90671, 90673, 90677, 90679, 90680, 90685, 90687, 90688, 90689, 90692, 90694, 90696, 90699, 90701, 90702, 90704, 90707, 90711, 90712, 90714, 90716, 90717, 90718, 90720, 90722, 90729, 90730, 90734, 90735, 90736, 90737, 90739, 90742, 90744, 90745, 90746, 90747, 90752, 90753, 90754, 90758, 90759, 90760, 90762, 90766, 90768, 90769, 90771, 90772, 90777, 90778, 90779, 90780, 90781, 90782, 90783, 90785, 90786, 90788, 90789, 90790, 90791, 90798, 90799, 90801, 90802, 90805, 90807, 90808, 90811, 90812, 90813, 90814, 90815, 90818, 90821, 90823, 90828, 90829, 90830, 90832, 90833, 90834, 90837, 90838, 90839, 90843, 90845, 90846, 90848, 90851, 90855, 90858, 90860, 90862, 90863, 90864, 90865, 90866, 90867, 90871, 90874, 90875, 90876, 90878, 90881, 90882, 90884, 90885, 90886, 90889, 90890, 90891, 90892, 90893, 90894, 90895, 90896, 90897, 90901, 90902, 90903, 90904, 90905, 90908, 90910, 90912, 90913, 90916, 90917, 90922, 90924, 90926, 90933, 90934, 90936, 90941, 90943, 90947, 90948, 90950, 90952, 90955, 90956, 90958, 90959, 90960, 90963, 90964, 90965, 90971, 90972, 90974, 90978, 90981, 90982, 90987, 90995, 90996, 90998, 91001, 91002, 91004, 91005, 91006, 91008, 91009, 91010, 91011, 91012, 91013, 91015, 91018, 91023, 91024, 91026, 91027, 91028, 91030, 91032, 91033, 91036, 91039, 91040, 91041, 91042, 91044, 91048, 91050, 91051, 91052, 91053, 91056, 91057, 91058, 91059, 91060, 91062, 91064, 91067, 91070, 91071, 91072, 91074, 91078, 91079, 91080, 91083, 91085, 91087, 91088, 91090, 91092, 91093, 91094, 91095, 91096, 91097, 91099, 91103, 91108, 91110, 91133, 91138, 91178, 91194, 91202, 91207, 91226, 91242, 91243, 91254, 91286, 91287, 91319, 91329, 91334, 91338, 91351, 91374, 91391, 91416, 91419, 91420, 91438, 91441, 91455, 91482, 91485, 91542, 91572, 91588, 91611, 91620, 91621, 91625, 91629, 91644, 91669, 91686, 91713, 91726, 91748, 91771, 91774, 91803, 91833, 91846, 91848, 91857, 91861, 91899, 91900, 91928, 91937, 91938, 91952, 91967, 91968, 91970, 91986, 91999, 92037, 92045, 92046, 92062, 92072, 92075, 92094, 92100, 92111, 92166, 92174, 92198, 92230, 92235, 92265, 92361, 92480, 92677, 92697, 92738, 92755, 92792, 92831, 92895, 92941, 92949, 92991, 93126, 93147, 93190, 93201, 93243, 93249, 93252, 93254, 93272, 93292, 93296, 93320, 93321, 93362, 93395, 93399, 93404, 93427, 93462, 93476, 93502, 93504, 93507, 93519, 93549, 93557, 93564, 93596, 93675, 93703, 93741, 93744, 93748, 93763, 93779, 93821, 93822, 93843, 93847, 93859, 93865, 93888, 93901, 93945, 93955, 93956, 93962, 93980, 93984, 94009, 94014, 94022, 94034, 94104, 94115, 94119, 94128, 94149, 94161, 94165, 94177, 94186, 94221, 94224, 94233, 94259, 94265, 94299, 94302, 94306, 94312, 94337, 94347, 94355, 94357, 94374, 94395, 94462, 94480, 94486, 94559, 94652, 94667, 94752, 94788, 94826, 94866, 94878, 94889, 94892, 94933, 94946, 94978, 94980, 94996, 95048, 95125, 95755, 95857, 95903, 96349, 96485, 96730, 96748, 96766, 96768, 96773, 96788, 96794, 96806, 96812, 96818, 96863, 96867, 96894, 96904, 96981, 96986, 97004, 97016, 97041, 97086, 97088, 97120, 97126, 97127, 97138, 97164, 97167, 97168, 97227, 97231, 97245, 97246, 97255, 97273, 97279, 97287, 97293, 97296, 97311, 97337, 97367, 97380, 97389, 97452, 97458, 97476, 97481, 97506, 97555, 97567, 97601, 97615, 97618, 97656, 97658, 97854, 97873, 97936, 98080, 98171, 98262, 98724, 98725, 98727, 98728, 98729, 98731, 98732, 98733, 98734, 98737, 98738, 98739, 98741, 98743, 98745, 98749, 98750, 98751, 98752, 98753, 98754, 98755, 98756, 98757, 98758, 98759, 98760, 98761, 98762, 98763, 98764, 98765, 98766, 98767, 98768, 98769, 98770, 98771, 98772, 98773, 98774, 98777, 98778, 98781, 98782, 98785, 98786, 98787, 98788, 98789, 98792, 98793, 98795, 98797, 98798, 98799, 98800, 98801, 98802, 98803, 98805, 98810, 98811, 98812, 98814, 98817, 98818, 98819, 98821, 98822, 98823, 98824, 98825, 98826, 98827, 98828, 98829, 98831, 98832, 98834, 98836, 98837, 98838, 98839, 98842, 98843, 98847, 98850, 98851, 98852, 98853, 98854, 98856, 98857, 98858, 98859, 98860, 98861, 98864, 98865, 98866, 98867, 98868, 98869, 98870, 98871, 98872, 98873, 98874, 98875, 98876, 98877, 98879, 98880, 98881, 98883, 98884, 98885, 98886, 98887, 98888, 98890, 98891, 98892, 98894, 98896, 98900, 98901, 98902, 98903, 98904, 98905, 98906, 98908, 98912, 98913, 98914, 98915, 98916, 98917, 98919, 98920, 98922, 98925, 98926, 98927, 98928, 98929, 98931, 98934, 98935, 98936, 98938, 98941, 98942, 98943, 98945, 98946, 98947, 98949, 98950, 98951, 98952, 98954, 98955, 98959, 98960, 98961, 98963, 98964, 98965, 98968, 98969, 98970, 98971, 98972, 98973, 98974, 98976, 98977, 98978, 98979, 98980, 98981, 98982, 98983, 98985, 98987, 98988, 98989, 98990, 98991, 98992, 98994, 98995, 98996, 98997, 98998, 98999, 99000, 99001, 99003, 99004, 99007, 99011, 99012, 99013, 99014, 99015, 99017, 99018, 99019, 99021, 99022, 99023, 99025, 99026, 99027, 99028, 99029, 99030, 99033, 99036, 99037, 99038, 99042, 99043, 99047, 99049, 99052, 99053, 99054, 99056, 99057, 99058, 99059, 99060, 99061, 99063, 99064, 99065, 99066, 99067, 99071, 99072, 99073, 99074, 99075, 99077, 99080, 99081, 99082, 99083, 99084, 99085, 99086, 99088, 99091, 99092, 99096, 99099, 99100, 99102, 99103, 99104, 99105, 99106, 99108, 99110, 99111, 99112, 99113, 99115, 99117, 99119, 99121, 99126, 99127, 99129, 99130, 99131, 99132, 99133, 99134, 99135, 99136, 99137, 99138, 99139, 99140, 99141, 99143, 99144, 99146, 99148, 99150, 99151, 99152, 99153, 99155, 99156, 99157, 99158, 99159, 99162, 99163, 99164, 99166, 99167, 99170, 99172, 99173, 99174, 99179, 99181, 99182, 99183, 99185, 99187, 99189, 99190, 99191, 99194, 99195, 99196, 99197, 99198, 99200, 99201, 99203, 99204, 99205, 99206, 99207, 99211, 99213, 99214, 99215, 99216, 99218, 99219, 99223, 99225, 99226, 99227, 99228, 99229, 99230, 99231, 99233, 99237, 99238, 99239, 99240, 99241, 99244, 99245, 99246, 99247, 99249, 99250, 99253, 99256, 99257, 99259, 99263, 99264, 99265, 99268, 99270, 99271, 99272, 99273, 99274, 99275, 99277, 99279, 99280, 99282, 99284, 99286, 99287, 99288, 99291, 99292, 99293, 99297, 99299, 99300, 99301, 99303, 99304, 99306, 99307, 99308, 99311, 99312, 99313, 99315, 99316, 99325, 99327, 99328, 99332, 99334, 99335, 99336, 99337, 99338, 99339, 99341, 99343, 99344, 99345, 99346, 99347, 99348, 99349, 99350, 99351, 99352, 99356, 99358, 99360, 99363, 99365, 99366, 99367, 99370, 99371, 99372, 99373, 99375, 99378, 99379, 99380, 99381, 99382, 99384, 99387, 99389, 99390, 99391, 99393, 99395, 99396, 99397, 99398, 99400, 99402, 99403, 99404, 99405, 99406, 99407, 99411, 99412, 99413, 99414, 99415, 99416, 99417, 99422, 99425, 99426, 99427, 99428, 99429, 99430, 99432, 99433, 99434, 99435, 99436, 99438, 99442, 99444, 99445, 99447, 99448, 99451, 99452, 99453, 99455, 99457, 99458, 99459, 99460, 99461, 99463, 99464, 99465, 99466, 99467, 99469, 99470, 99472, 99473, 99474, 99475, 99476, 99479, 99481, 99483, 99484, 99486, 99487, 99490, 99492, 99493, 99494, 99497, 99499, 99500, 99502, 99503, 99504, 99505, 99506, 99507, 99509, 99512, 99513, 99515, 99516, 99517, 99518, 99521, 99522, 99523, 99524, 99525, 99526, 99528, 99529, 99530, 99533, 99535, 99536, 99537, 99538, 99539, 99541, 99542, 99543, 99546, 99547, 99549, 99552, 99554, 99557, 99558, 99559, 99561, 99562, 99563, 99566, 99568, 99571, 99572, 99573, 99574, 99575, 99578, 99579, 99580, 99581, 99583, 99584, 99586, 99587, 99589, 99591, 99592, 99593, 99594, 99596, 99597, 99600, 99603, 99605, 99606, 99607, 99608, 99609, 99610, 99613, 99615, 99616, 99618, 99619, 99620, 99621, 99622, 99623, 99624, 99628, 99629, 99630, 99631, 99632, 99634, 99635, 99636, 99637, 99641, 99643, 99645, 99646, 99647, 99650, 99653, 99655, 99656, 99657, 99658, 99659, 99660, 99661, 99662, 99663, 99664, 99665, 99667, 99668, 99669, 99671, 99674, 99675, 99677, 99678, 99681, 99682, 99684, 99685, 99686, 99687, 99688, 99689, 99690, 99691, 99692, 99693, 99694, 99696, 99697, 99698, 99701, 99702, 99705, 99706, 99710, 99711, 99715, 99716, 99717, 99718, 99720, 99721, 99728, 99729, 99730, 99732, 99734, 99737, 99738, 99739, 99740, 99742, 99743, 99749, 99751, 99752, 99756, 99757, 99758, 99761, 99763, 99765, 99768, 99772, 99774, 99782, 99788, 99795, 99796, 99799, 99800, 99803, 99804, 99805, 99806, 99808, 99810, 99811, 99813, 99814, 99817, 99820, 99821, 99822, 99824, 99825, 99826, 99827, 99831, 99832, 99833, 99837, 99839, 99841, 99842, 99845, 99848, 99849, 99852, 99857, 99858, 99861, 99863, 99864, 99866, 99872, 99877, 99878, 99879, 99883, 99886, 99888, 99890, 99892, 99894, 99895, 99897, 99898, 99904, 99907, 99909, 99912, 99913, 99918, 99926, 99927, 99934, 99938, 99946, 99947, 99948, 99949, 99950, 99952, 99954, 99959, 99964, 99965, 99966, 99967, 99968, 99971, 99973, 99975, 99978, 99981, 99985, 99989, 99991, 99992, 99996, 99999, 100003, 100005, 100006, 100007, 100008, 100009, 100010, 100011, 100013, 100014, 100015, 100019, 100023, 100027, 100029, 100031, 100040, 100044, 100046, 100053, 100054, 100056, 100060, 100065, 100068, 100071, 100076, 100079, 100080, 100081, 100084, 100086, 100087, 100091, 100092, 100094, 100095, 100096, 100097, 100101, 100102, 100105, 100106, 100107, 100109, 100116, 100120, 100122, 100123, 100125, 100126, 100127, 100137, 100138, 100139, 100140, 100141, 100149, 100154, 100161, 100162, 100167, 100170, 100174, 100176, 100177, 100180, 100182, 100184, 100185, 100192, 100197, 100205, 100208, 100209, 100212, 100215, 100220, 100223, 100227, 100228, 100243, 100249, 100251, 100252, 100253, 100254, 100259, 100266, 100269, 100270, 100271, 100273, 100276, 100281, 100283, 100288, 100293, 100294, 100296, 100301, 100306, 100308, 100310, 100313, 100314, 100319, 100320, 100322, 100323, 100324, 100325, 100326, 100332, 100338, 100341, 100345, 100348, 100351, 100357, 100358, 100359, 100360, 100361, 100364, 100368, 100369, 100373, 100375, 100381, 100382, 100388, 100391, 100394, 100399, 100400, 100402, 100405, 100408, 100410, 100412, 100413, 100414, 100416, 100419, 100420, 100422, 100423, 100425, 100431, 100432, 100434, 100436, 100438, 100439, 100440, 100441, 100446, 100452, 100454, 100455, 100457, 100461, 100462, 100465, 100466, 100470, 100477, 100480, 100483, 100488, 100490, 100492, 100493, 100495, 100496, 100497, 100499, 100502, 100507, 100508, 100510, 100511, 100516, 100517, 100522, 100532, 100533, 100536, 100538, 100541, 100544, 100545, 100546, 100549, 100552, 100554, 100555, 100559, 100560, 100565, 100567, 100578, 100582, 100593, 100596, 100598, 100602, 100603, 100605, 100609, 100612, 100614, 100617, 100620, 100623, 100628, 100629, 100633, 100642, 100644, 100646, 100647, 100649, 100652, 100653, 100669, 100670, 100671, 100673, 100674, 100677, 100678, 100681, 100694, 100695, 100698, 100700, 100715, 100723, 100726, 100728, 100732, 100733, 100735, 100739, 100743, 100744, 100746, 100749, 100751, 100754, 100757, 100760, 100761, 100763, 100764, 100767, 100775, 100776, 100778, 100779, 100780, 100782, 100785, 100787, 100791, 100794, 100795, 100796, 100798, 100799, 100800, 100803, 100805, 100808, 100809, 100812, 100813, 100818, 100821, 100822, 100823, 100853, 100854, 100857, 100860, 100866, 100868, 100869, 100870, 100871, 100872, 100874, 100876, 100877, 100880, 100881, 100882, 100885, 100886, 100887, 100889, 100892, 100898, 100902, 100903, 100904, 100907, 100908, 100910, 100912, 100914, 100917, 100918, 100919, 100920, 100921, 100923, 100924, 100925, 100927, 100928, 100930, 100932, 100933, 100939, 100940, 100941, 100942, 100943, 100944, 100945, 100947, 100948, 100951, 100956, 100958, 100959, 100960, 100961, 100963, 100964, 100968, 100969, 100971, 100973, 100974, 100975, 100976, 100977, 100978, 100979, 100980, 100982, 100984, 100987, 100988, 100989, 100990, 100992, 100993, 100994, 100995, 100998, 100999, 101002, 101003, 101004, 101006, 101007, 101008, 101009, 101014, 101015, 101016, 101017, 101018, 101019, 101021, 101022, 101025, 101026, 101027, 101028, 101029, 101030, 101031, 101032, 101034, 101036, 101037, 101038, 101039, 101040, 101041, 101044, 101046, 101049, 101050, 101052, 101053, 101054, 101055, 101056, 101058, 101060, 101063, 101065, 101066, 101068, 101069, 101072, 101073, 101078, 101081, 101083, 101084, 101085, 101088, 101091, 101092, 101093, 101094, 101095, 101096, 101097, 101098, 101099, 101100, 101103, 101106, 101107, 101108, 101109, 101110, 101111, 101113, 101115, 101118, 101119, 101120, 101122, 101123, 101124, 101125, 101126, 101130, 101132, 101134, 101136, 101137, 101138, 101140, 101142, 101143, 101148, 101149, 101152, 101154, 101156, 101157, 101162, 101164, 101165, 101168, 101170, 101171, 101173, 101179, 101180, 101181, 101183, 101184, 101185, 101188, 101190, 101191, 101192, 101197, 101200, 101202, 101204, 101206, 101207, 101209, 101210, 101211, 101214, 101215, 101216, 101217, 101218, 101220, 101222, 101223, 101225, 101227, 101229, 101230, 101231, 101232, 101233, 101234, 101236, 101237, 101239, 101240, 101241, 101244, 101245, 101246, 101247, 101248, 101249, 101250, 101251, 101252, 101253, 101259, 101263, 101264, 101265, 101269, 101271, 101273, 101276, 101280, 101282, 101284, 101286, 101287, 101288, 101289, 101292, 101297, 101299, 101302, 101304, 101307, 101313, 101314, 101315, 101316, 101317, 101318, 101323, 101324, 101325, 101326, 101328, 101330, 101342, 101344, 101349, 101355, 101356, 101357, 101359, 101360, 101361, 101362, 101363, 101364, 101367, 101370, 101374, 101377, 101378, 101379, 101383, 101387, 101388, 101389, 101390, 101391, 101393, 101398, 101399, 101400, 101401, 101406, 101408, 101410, 101412, 101415, 101417, 101418, 101421, 101422, 101424, 101425, 101426, 101427, 101428, 101429, 101430, 101431, 101433, 101435, 101439, 101440, 101441, 101442, 101445, 101446, 101447, 101450, 101451, 101454, 101456, 101458, 101459, 101463, 101467, 101468, 101470, 101471, 101473, 101475, 101476, 101479, 101482, 101483, 101485, 101488, 101489, 101490, 101491, 101493, 101494, 101495, 101496, 101500, 101502, 101504, 101506, 101510, 101511, 101512, 101520, 101522, 101523, 101528, 101530, 101531, 101534, 101535, 101536, 101537, 101539, 101541, 101546, 101548, 101552, 101553, 101559, 101562, 101568, 101569, 101570, 101571, 101572, 101575, 101576, 101580, 101581, 101582, 101584, 101585, 101586, 101587, 101588, 101591, 101594, 101596, 101599, 101600, 101602, 101605, 101606, 101607, 101609, 101614, 101615, 101616, 101617, 101618, 101619, 101620, 101621, 101624, 101625, 101626, 101627, 101628, 101631, 101632, 101633, 101635, 101638, 101642, 101644, 101646, 101649, 101650, 101655, 101656, 101657, 101659, 101660, 101661, 101663, 101667, 101668, 101669, 101670, 101672, 101673, 101674, 101676, 101678, 101681, 101684, 101686, 101687, 101688, 101689, 101693, 101697, 101698, 101700, 101702, 101703, 101704, 101707, 101708, 101709, 101710, 101711, 101718, 101720, 101721, 101723, 101726, 101728, 101729, 101730, 101731, 101734, 101735, 101736, 101737, 101738, 101741, 101744, 101745, 101746, 101748, 101749, 101753, 101754, 101755, 101761, 101762, 101763, 101764, 101765, 101769, 101770, 101774, 101775, 101776, 101777, 101778, 101780, 101783, 101785, 101786, 101790, 101791, 101792, 101793, 101797, 101798, 101801, 101805, 101806, 101807, 101808, 101812, 101813, 101816, 101819, 101820, 101821, 101823, 101828, 101832, 101833, 101836, 101838, 101843, 101844, 101846, 101847, 101849, 101850, 101851, 101854, 101855, 101856, 101857, 101859, 101861, 101863, 101864, 101866, 101868, 101869, 101870, 101872, 101880, 101910, 101918, 101941, 101948, 101984, 101993, 101996, 102013, 102033, 102042, 102057, 102079, 102150, 102238, 102252, 102292, 102354, 102371, 102545, 102580, 102599, 102609, 102652, 102695, 102696, 102709, 102718, 102725, 102735, 102768, 102779, 102783, 102785, 102796, 102825, 102828, 102841, 102873, 102883, 102946, 102973, 102975, 102977, 102994, 103041, 103091, 103120, 103122, 103127, 103142, 103155, 103161, 103171, 103172, 103175, 103202, 103214, 103270, 103278, 103294, 103305, 103311, 103312, 103340, 103358, 103371, 103400, 103473, 103495, 103515, 103546, 103585, 103588, 103602, 103615, 103617, 103650, 103705, 103779, 103828, 103871, 103887, 103897, 103938, 103964, 103982, 103987, 104058, 104089, 104161, 104163, 104176, 104320, 104448, 104501, 104736, 104741, 104754, 104859, 104886, 105165, 105170, 105237, 105274, 105337, 105574, 105579, 105659, 105689, 105730, 105776, 105793, 105848, 105938, 105947, 106014, 106052, 106067, 106090, 106102, 106137, 106203, 106231, 106277, 106279, 106284, 106426, 106481, 106517, 106546, 106632, 107115, 107315, 107369, 107411, 107451, 107482, 107493, 107522, 107574, 107655, 107705, 107756, 107769, 107783, 107884, 107896, 107917, 107925, 108104, 108257, 108329, 108376, 108378, 108380, 108404, 108457, 108481, 108526, 108677, 108769, 108775, 108779, 108844, 108862, 108891, 108896, 109044, 109069, 109126, 109141, 109229, 109242, 109265, 109285, 109304, 109354, 109355, 109357, 109358, 109362, 109363, 109365, 109367, 109368, 109370, 109372, 109375, 109378, 109382, 109383, 109387, 109388, 109391, 109393, 109394, 109395, 109396, 109397, 109398, 109399, 109410, 109412, 109415, 109418, 109420, 109430, 109432, 109434, 109435, 109436, 109438, 109439, 109440, 109442, 109443, 109445, 109447, 109449, 109452, 109453, 109455, 109456, 109457, 109459, 109462, 109464, 109467, 109468, 109472, 109475, 109478, 109481, 109482, 109484, 109485, 109486, 109487, 109490, 109491, 109493, 109496, 109497, 109501, 109507, 109513, 109514, 109517, 109518, 109519, 109521, 109523, 109524, 109527, 109528, 109529, 109530, 109532, 109533, 109534, 109535, 109536, 109537, 109540, 109541, 109542, 109543, 109549, 109550, 109553, 109555, 109558, 109560, 109562, 109566, 109569, 109572, 109573, 109575, 109576, 109577, 109580, 109581, 109583, 109587, 109588, 109590, 109592, 109596, 109598, 109599, 109607, 109610, 109611, 109614, 109615, 109617, 109618, 109623, 109625, 109626, 109627, 109628, 109629, 109633, 109634, 109638, 109640, 109641, 109643, 109644, 109645, 109648, 109659, 109664, 109668, 109670, 109671, 109674, 109678, 109679, 109681, 109685, 109686, 109693, 109694, 109697, 109699, 109700, 109704, 109706, 109723, 109725, 109727, 109728, 109730, 109731, 109737, 109738, 109740, 109741, 109742, 109743, 109744, 109748, 109750, 109751, 109756, 109757, 109758, 109761, 109765, 109766, 109767, 109769, 109774, 109776, 109779, 109780, 109782, 109783, 109784, 109785, 109786, 109789, 109791, 109795, 109799, 109800, 109801, 109803, 109804, 109806, 109807, 109808, 109810, 109812, 109813, 109814, 109818, 109820, 109821, 109822, 109827, 109828, 109830, 109834, 109840, 109841, 109846, 109850, 109858, 109859, 109861, 109865, 109868, 109869, 109872, 109874, 109879, 109885, 109888, 109889, 109890, 109893, 109894, 109897, 109901, 109904, 109906, 109911, 109912, 109914, 109925, 109927, 109932, 109935, 109938, 109940, 109941, 109942, 109945, 109947, 109951, 109953, 109958, 109959, 109960, 109961, 109972, 109973, 109974, 109977, 109978, 109980, 109982, 109983, 109985, 109986, 109990, 109991, 109992, 109995, 109998, 110002, 110007, 110008, 110011, 110014, 110016, 110020, 110025, 110027, 110030, 110033, 110034, 110035, 110039, 110042, 110050, 110055, 110056, 110059, 110061, 110064, 110070, 110071, 110074, 110075, 110076, 110078, 110085, 110086, 110094, 110095, 110098, 110099, 110100, 110105, 110109, 110110, 110114, 110118, 110121, 110122, 110123, 110125, 110128, 110130, 110131, 110133, 110135, 110136, 110140, 110141, 110145, 110146, 110148, 110149, 110150, 110154, 110155, 110159, 110163, 110164, 110165, 110168, 110170, 110173, 110174, 110175, 110176, 110178, 110179, 110181, 110183, 110191, 110192, 110194, 110198, 110199, 110204, 110206, 110207, 110208, 110209, 110210, 110211, 110212, 110215, 110218, 110221, 110222, 110225, 110228, 110230, 110237, 110239, 110240, 110243, 110250, 110253, 110254, 110257, 110259, 110264, 110268, 110276, 110277, 110279, 110281, 110283, 110285, 110286, 110291, 110293, 110296, 110297, 110298, 110300, 110301, 110303, 110305, 110308, 110312, 110313, 110315, 110316, 110317, 110318, 110319, 110320, 110332, 110333, 110334, 110338, 110339, 110341, 110344, 110345, 110346, 110349, 110354, 110357, 110358, 110359, 110362, 110363, 110369, 110370, 110371, 110374, 110376, 110377, 110379, 110380, 110382, 110383, 110385, 110387, 110389, 110390, 110392, 110395, 110403, 110421, 110435, 110438, 110517, 110550, 110561, 110633, 110662, 110669, 110749, 110763, 110835, 110846, 110848, 110927, 110935, 110953, 110980, 111108, 111109, 111115, 111119, 111126, 111173, 111199, 111216, 111229, 111243, 111295, 111303, 111323, 111333, 111335, 111338, 111351, 111397, 111417, 111418, 111437, 111440, 111453, 111491, 111513, 111554, 111559, 111562, 111568, 111581, 111600, 111609, 111613, 111614, 111619, 111620, 111634, 111647, 111678, 111692, 111700, 111720, 111723, 111794, 111796, 111807, 111818, 111827, 111840, 111846, 111861, 111873, 111899, 111912, 111915, 111919, 111945, 111946, 111948, 111958, 111998, 112012, 112020, 112038, 112047, 112088, 112093, 112100, 112102, 112106, 112107, 112217, 112302, 112612, 112699, 112734, 112828, 112923, 113062, 113084, 113171, 113173, 113175, 113176, 113177, 113178, 113179, 113180, 113181, 113182, 113183, 113184, 113185, 113186, 113187, 113188, 113191, 113192, 113195, 113196, 113197, 113199, 113200, 113201, 113202, 113204, 113208, 113209, 113211, 113212, 113213, 113214, 113216, 113217, 113219, 113224, 113226, 113227, 113228, 113229, 113230, 113231, 113232, 113233, 113234, 113235, 113237, 113239, 113240, 113241, 113242, 113243, 113244, 113245, 113246, 113248, 113249, 113250, 113251, 113253, 113256, 113257, 113258, 113259, 113262, 113264, 113266, 113267, 113268, 113269, 113270, 113271, 113272, 113274, 113275, 113276, 113277, 113279, 113280, 113283, 113284, 113285, 113286, 113288, 113290, 113292, 113293, 113294, 113296, 113297, 113298, 113299, 113300, 113301, 113302, 113304, 113307, 113308, 113309, 113310, 113311, 113312, 113316, 113317, 113318, 113319, 113321, 113322, 113324, 113325, 113327, 113328, 113329, 113330, 113331, 113333, 113334, 113335, 113336, 113337, 113338, 113339, 113340, 113341, 113342, 113343, 113344, 113345, 113346, 113347, 113348, 113349, 113350, 113351, 113352, 113353, 113355, 113356, 113357, 113358, 113360, 113361, 113362, 113363, 113364, 113366, 113367, 113368, 113369, 113371, 113372, 113374, 113375, 113376, 113377, 113378, 113380, 113381, 113383, 113384, 113385, 113386, 113388, 113390, 113391, 113392, 113393, 113394, 113395, 113396, 113397, 113398, 113400, 113401, 113402, 113403, 113406, 113407, 113408, 113409, 113410, 113411, 113412, 113414, 113416, 113417, 113418, 113419, 113420, 113421, 113423, 113424, 113425, 113428, 113430, 113431, 113432, 113433, 113434, 113436, 113437, 113438, 113439, 113441, 113442, 113443, 113444, 113446, 113447, 113448, 113449, 113450, 113451, 113452, 113454, 113455, 113458, 113459, 113460, 113461, 113462, 113463, 113466, 113468, 113469, 113471, 113472, 113473, 113475, 113477, 113478, 113480, 113482, 113483, 113487, 113490, 113491, 113492, 113493, 113494, 113497, 113498, 113499, 113500, 113502, 113503, 113504, 113505, 113506, 113509, 113510, 113511, 113512, 113514, 113515, 113516, 113517, 113518, 113520, 113521, 113523, 113526, 113527, 113528, 113530, 113531, 113535, 113536, 113537, 113539, 113541, 113542, 113543, 113544, 113547, 113548, 113551, 113554, 113555, 113556, 113557, 113558, 113559, 113563, 113564, 113565, 113566, 113567, 113568, 113570, 113573, 113575, 113576, 113577, 113578, 113579, 113580, 113581, 113582, 113583, 113585, 113586, 113588, 113589, 113590, 113591, 113592, 113594, 113595, 113597, 113599, 113600, 113602, 113603, 113605, 113606, 113607, 113608, 113610, 113611, 113612, 113613, 113614, 113615, 113616, 113618, 113619, 113620, 113621, 113623, 113624, 113626, 113628, 113629, 113630, 113631, 113632, 113633, 113634, 113635, 113638, 113640, 113643, 113644, 113645, 113647, 113648, 113650, 113651, 113653, 113654, 113657, 113658, 113662, 113663, 113664, 113665, 113666, 113667, 113669, 113670, 113671, 113673, 113675, 113676, 113677, 113679, 113680, 113681, 113682, 113683, 113685, 113686, 113687, 113688, 113689, 113690, 113691, 113693, 113694, 113695, 113696, 113697, 113698, 113699, 113700, 113701, 113702, 113704, 113705, 113706, 113707, 113709, 113712, 113716, 113717, 113718, 113719, 113720, 113721, 113723, 113724, 113725, 113726, 113727, 113728, 113731, 113732, 113733, 113734, 113736, 113738, 113739, 113742, 113743, 113746, 113747, 113748, 113750, 113752, 113753, 113755, 113756, 113759, 113760, 113761, 113762, 113763, 113764, 113765, 113767, 113768, 113769, 113770, 113771, 113772, 113773, 113774, 113775, 113776, 113777, 113779, 113780, 113781, 113783, 113785, 113786, 113787, 113788, 113789, 113790, 113791, 113792, 113793, 113794, 113795, 113796, 113797, 113800, 113846, 113890, 114207, 114289, 114339, 114767, 114776, 114818, 114855, 114878, 114891, 114929, 114976, 114980, 115052, 115148, 115158, 115172, 115276, 115299, 115314, 115446, 115489, 115597, 115692, 115710, 115718, 115731, 115851, 116105, 116112, 116176, 116249, 116339, 116438, 116439, 116444, 116448, 116452, 116453, 116459, 116465, 116475, 116480, 116483, 116484, 116499, 116502, 116504, 116506, 116507, 116514, 116516, 116517, 116519, 116520, 116525, 116532, 116534, 116540, 116542, 116543, 116545, 116547, 116552, 116558, 116564, 116565, 116566, 116569, 116572, 116579, 116580, 116583, 116585, 116586, 116606, 116612, 116618, 116623, 116624, 116629, 116632, 116634, 116644, 116652, 116656, 116661, 116663, 116666, 116671, 116677, 116684, 116687, 116692, 116693, 116694, 116695, 116696, 116697, 116698, 116703, 116714, 116721, 116722, 116725, 116743, 116762, 116774, 116777, 116782, 116783, 116788, 116789, 116794, 116800, 116806, 116819, 116824, 116837, 116840, 116844, 116849, 116855, 116858, 116864, 116868, 116873, 116880, 116883, 116889, 116894, 116896, 116898, 116906, 116920, 116926, 116927, 116929, 116935, 116950, 116952, 116958, 116961, 116963, 116966, 116972, 116993, 116998, 117001, 117013, 117014, 117034, 117041, 117046, 117050, 117054, 117062, 117063, 117069, 117072, 117077, 117078, 117087, 117092, 117095, 117096, 117102, 117107, 117112, 117113, 117122, 117125, 117126, 117135, 117137, 117140, 117151, 117166, 117167, 117171, 117173, 117181, 117184, 117185, 117187, 117189, 117190, 117198, 117199, 117211, 117215, 117216, 117220, 117227, 117228, 117233, 117236, 117242, 117247, 117250, 117251, 117255, 117264, 117267, 117269, 117270, 117296, 117299, 117312, 117314, 117316, 117318, 117319, 117323, 117326, 117334, 117344, 117346, 117347, 117355, 117356, 117358, 117361, 117364, 117366, 117376, 117377, 117386, 117390, 117392, 117393, 117412, 117413, 117417, 117422, 117427, 117430, 117431, 117432, 117442, 117447, 117450, 117451, 117455, 117460, 117461, 117467, 117469, 117470, 117473, 117477, 117490, 117493, 117498, 117511, 117514, 117522, 117524, 117529, 117530, 117533, 117535, 117537, 117539, 117543, 117553, 117560, 117561, 117565, 117775, 117935, 117978, 118127, 118254, 118472, 118593, 118745, 118783, 118786, 118835, 118896, 119019, 119129, 119205, 119368, 119470, 119508, 119594, 119616, 119629, 119764, 119807, 119886, 119889, 120032, 120051, 120085, 120168, 120225, 120278, 120281, 120420, 120464, 120674, 121295, 121337, 121431, 121883, 122249, 122250, 122252, 122253, 122254, 122256, 122258, 122259, 122260, 122261, 122263, 122267, 122268, 122269, 122270, 122273, 122275, 122276, 122277, 122278, 122279, 122280, 122282, 122283, 122284, 122285, 122289, 122290, 122297, 122298, 122299, 122303, 122304, 122309, 122310, 122314, 122315, 122316, 122317, 122318, 122322, 122323, 122325, 122327, 122328, 122329, 122330, 122331, 122332, 122333, 122340, 122342, 122344, 122345, 122347, 122352, 122353, 122354, 122357, 122358, 122359, 122362, 122364, 122365, 122367, 122372, 122373, 122374, 122376, 122377, 122379, 122380, 122381, 122382, 122383, 122385, 122386, 122388, 122389, 122391, 122393, 122396, 122399, 122400, 122405, 122408, 122409, 122411, 122412, 122413, 122417, 122418, 122419, 122420, 122421, 122425, 122426, 122430, 122435, 122437, 122438, 122439, 122444, 122445, 122448, 122449, 122450, 122452, 122453, 122455, 122456, 122458, 122459, 122460, 122461, 122462, 122465, 122466, 122468, 122470, 122471, 122472, 122474, 122476, 122477, 122479, 122481, 122483, 122484, 122485, 122486, 122487, 122488, 122489, 122490, 122491, 122496, 122497, 122498, 122500, 122501, 122502, 122503, 122504, 122505, 122506, 122507, 122508, 122509, 122513, 122515, 122517, 122522, 122525, 122526, 122527, 122529, 122531, 122532, 122533, 122537, 122538, 122539, 122540, 122541, 122542, 122543, 122544, 122546, 122549, 122551, 122552, 122556, 122557, 122559, 122560, 122561, 122564, 122566, 122568, 122572, 122573, 122575, 122576, 122578, 122579, 122580, 122581, 122582, 122584, 122587, 122591, 122592, 122598, 122599, 122601, 122602, 122603, 122605, 122606, 122608, 122610, 122616, 122622, 122627, 122633, 122634, 122635, 122636, 122638, 122641, 122642, 122643, 122644, 122647, 122648, 122651, 122655, 122656, 122658, 122660, 122662, 122664, 122665, 122666, 122667, 122671, 122672, 122674, 122676, 122679, 122680, 122683, 122684, 122686, 122687, 122688, 122691, 122693, 122695, 122697, 122699, 122702, 122703, 122704, 122706, 122709, 122713, 122715, 122716, 122718, 122720, 122722, 122724, 122730, 122731, 122735, 122737, 122738, 122740, 122741, 122747, 122748, 122749, 122752, 122755, 122757, 122758, 122759, 122760, 122762, 122763, 122768, 122770, 122772, 122775, 122777, 122778, 122779, 122780, 122781, 122782, 122783, 122784, 122785, 122788, 122789, 122790, 122791, 122796, 122798, 122799, 122801, 122802, 122804, 122806, 122807, 122809, 122810, 122812, 122813, 122814, 122816, 122817, 122818, 122820, 122821, 122822, 122823, 122826, 122832, 122833, 122837, 122838, 122839, 122841, 122843, 122846, 122848, 122850, 122851, 122852, 122853, 122855, 122857, 122858, 122862, 122863, 122864, 122867, 122868, 122870, 122874, 122876, 122878, 122883, 122884, 122885, 122886, 122891, 122892, 122895, 122897, 122899, 122902, 122903, 122904, 122905, 122906, 122908, 122909, 122910, 122911, 122912, 122914, 122918, 122919, 122925, 122928, 122929, 122934, 122935, 122937, 122938, 122939, 122941, 122942, 122943, 122946, 122947, 122948, 122949, 122950, 122951, 122952, 122953, 122955, 122956, 122957, 122959, 122960, 122961, 122962, 122963, 122964, 122966, 122968, 122969, 122972, 122973, 122974, 122975, 122976, 122979, 122986, 122987, 122988, 122990, 122991, 122994, 122996, 122997, 122998, 122999, 123001, 123002, 123003, 123005, 123007, 123008, 123009, 123010, 123011, 123013, 123015, 123017, 123022, 123024, 123026, 123027, 123028, 123029, 123031, 123032, 123034, 123035, 123039, 123040, 123041, 123043, 123046, 123047, 123048, 123049, 123050, 123054, 123056, 123058, 123060, 123061, 123068, 123303, 123567, 123621, 123849, 124020, 124122, 124167, 124174, 124188, 124214, 124239, 124255, 124284, 124321, 124369, 124375, 124392, 124451, 124518, 124583, 124709, 124743, 124799, 124884, 124939, 125097, 125187, 125288, 125396, 125529, 125564, 125618, 125663, 125696, 125780, 125829, 125834, 125878, 125888, 125904, 126048, 126082, 126118, 126121, 126122, 126139, 126167, 126218, 126342, 126550, 126573, 126621, 126639, 126680, 126722, 126782, 126787, 126794, 126845, 126884, 126921, 127017, 127043, 127055, 127180, 127219, 127310, 127692, 128086, 128094, 128095, 128113, 128116, 128148, 128163, 128225, 128245, 128311, 128334, 128354, 128356, 128360, 128363, 128399, 128408, 128414, 128432, 128436, 128439, 128461, 128483, 128533, 128534, 128580, 128583, 128602, 128707, 128723, 128731, 128733, 128739, 128758, 128764, 128778, 128797, 128828, 128852, 128857, 128889, 128902, 128937, 128938, 128965, 128989, 128992, 129000, 129008, 129017, 129023, 129054, 129080, 129206, 129234, 129257, 129416, 129424, 129533, 129748, 129800, 129928, 130024, 130068, 130096, 130296, 130481, 130591, 130831, 130835, 130843, 130853, 130859, 130872, 130875, 130898, 130940, 130944, 130952, 130972, 130976, 130981, 130989, 131002, 131014, 131022, 131035, 131075, 131077, 131083, 131120, 131124, 131128, 131132, 131166, 131212, 131235, 131243, 131251, 131253, 131280, 131289, 131304, 131319, 131322, 131353, 131363, 131368, 131377, 131394, 131395, 131414, 131435, 131441, 131443, 131446, 131471, 131478, 131486, 131508, 131521, 131531, 131532, 131537, 131551, 131580, 131586, 131589, 131594, 131607, 131670, 131678, 131690, 131704, 131710, 131719, 131729, 131742, 131945, 132032, 132146, 132153, 132301, 132365, 132400, 132434, 132453, 132459, 132507, 132511, 132521, 132624, 132766, 132885, 132886, 132888, 132889, 132890, 132891, 132892, 132893, 132895, 132897, 132898, 132899, 132900, 132901, 132902, 132906, 132907, 132908, 132909, 132910, 132912, 132913, 132917, 132918, 132921, 132922, 132923, 132924, 132925, 132927, 132929, 132930, 132935, 132936, 132937, 132938, 132941, 132942, 132943, 132946, 132947, 132951, 132952, 132954, 132956, 132957, 132960, 132962, 132966, 132967, 132968, 132969, 132970, 132973, 132975, 132976, 132977, 132978, 132983, 132985, 132986, 132989, 132990, 132991, 132993, 132994, 132995, 132996, 132998, 133000, 133001, 133002, 133003, 133005, 133006, 133009, 133010, 133012, 133014, 133015, 133016, 133017, 133018, 133021, 133022, 133023, 133024, 133026, 133027, 133028, 133029, 133031, 133033, 133034, 133035, 133036, 133037, 133038, 133041, 133045, 133046, 133047, 133048, 133049, 133050, 133051, 133052, 133055, 133057, 133058, 133059, 133060, 133065, 133066, 133067, 133071, 133072, 133075, 133076, 133078, 133081, 133082, 133086, 133087, 133088, 133089, 133090, 133091, 133092, 133095, 133096, 133097, 133101, 133103, 133104, 133105, 133106, 133107, 133108, 133109, 133111, 133113, 133114, 133119, 133120, 133121, 133123, 133124, 133125, 133126, 133127, 133129, 133132, 133135, 133137, 133139, 133141, 133142, 133144, 133145, 133146, 133149, 133150, 133151, 133152, 133154, 133156, 133157, 133159, 133160, 133161, 133162, 133164, 133165, 133166, 133170, 133171, 133172, 133173, 133174, 133175, 133176, 133183, 133184, 133185, 133187, 133188, 133190, 133191, 133192, 133195, 133197, 133199, 133200, 133202, 133203, 133204, 133206, 133209, 133211, 133213, 133214, 133217, 133218, 133221, 133224, 133225, 133227, 133228, 133229, 133230, 133232, 133234, 133235, 133240, 133241, 133250, 133251, 133255, 133257, 133258, 133259, 133260, 133261, 133264, 133265, 133267, 133268, 133269, 133270, 133272, 133279, 133280, 133281, 133283, 133285, 133292, 133293, 133296, 133298, 133299, 133304, 133305, 133307, 133308, 133309, 133310, 133311, 133312, 133313, 133314, 133316, 133317, 133318, 133319, 133320, 133322, 133324, 133326, 133327, 133328, 133330, 133333, 133334, 133337, 133339, 133340, 133341, 133342, 133344, 133346, 133349, 133350, 133351, 133353, 133355, 133357, 133358, 133359, 133360, 133361, 133362, 133364, 133368, 133371, 133376, 133377, 133378, 133382, 133383, 133384, 133385, 133386, 133391, 133394, 133396, 133397, 133398, 133400, 133402, 133403, 133404, 133406, 133407, 133408, 133410, 133411, 133412, 133413, 133414, 133419, 133422, 133423, 133425, 133429, 133430, 133431, 133433, 133436, 133438, 133439, 133441, 133442, 133444, 133446, 133449, 133450, 133451, 133452, 133457, 133458, 133459, 133460, 133463, 133464, 133466, 133467, 133468, 133470, 133472, 133475, 133476, 133477, 133479, 133481, 133487, 133489, 133491, 133493, 133495, 133496, 133498, 133500, 133501, 133502, 133504, 133505, 133506, 133508, 133515, 133516, 133517, 133518, 133519, 133520, 133521, 133524, 133525, 133528, 133529, 133531, 133532, 133534, 133537, 133538, 133539, 133541, 133543, 133545, 133546, 133548, 133549, 133554, 133555, 133556, 133557, 133559, 133560, 133561, 133562, 133563, 133566, 133569, 133570, 133571, 133572, 133573, 133576, 133577, 133578, 133581, 133583, 133585, 133586, 133589, 133590, 133592, 133594, 133596, 133597, 133598, 133600, 133602, 133603, 133604, 133606, 133607, 133608, 133609, 133610, 133611, 133613, 133615, 133616, 133618, 133621, 133622, 133623, 133627, 133632, 133633, 133638, 133639, 133641, 133642, 133643, 133644, 133647, 133648, 133649, 133651, 133652, 133653, 133654, 133659, 133660, 133661, 133663, 133664, 133665, 133666, 133667, 133669, 133670, 133672, 133677, 133690, 133711, 133713, 133718, 133722, 133723, 133735, 133743, 133763, 133779, 133798, 133800, 133836, 133881, 133892, 133903, 133928, 133997, 134005, 134011, 134072, 134090, 134154, 134192, 134220, 134251, 134252, 134263, 134267, 134268, 134299, 134347, 134350, 134366, 134378, 134407, 134418, 134419, 134421, 134428, 134431, 134466, 134483, 134529, 134548, 134621, 134635, 134637, 134643, 134666, 134671, 134708, 134743, 134756, 134762, 134777, 134796, 134834, 134862, 135094, 135126, 135153, 135165, 135341, 135478, 135726, 135965, 136038, 136061, 136116, 136192, 136259, 136449, 136570, 136837, 136899, 136900, 136903, 136905, 136906, 136907, 136908, 136911, 136912, 136913, 136914, 136915, 136917, 136918, 136919, 136924, 136925, 136929, 136930, 136934, 136935, 136936, 136939, 136940, 136941, 136942, 136943, 136944, 136945, 136948, 136950, 136951, 136952, 136959, 136961, 136962, 136965, 136966, 136967, 136969, 136971, 136975, 136976, 136977, 136978, 136980, 136982, 136983, 136984, 136985, 136986, 136987, 136988, 136991, 136992, 136993, 136995, 136996, 136999, 137000, 137002, 137003, 137004, 137005, 137006, 137008, 137009, 137011, 137012, 137013, 137015, 137016, 137017, 137019, 137021, 137022, 137023, 137024, 137026, 137028, 137029, 137030, 137033, 137034, 137037, 137038, 137039, 137040, 137041, 137042, 137043, 137044, 137045, 137046, 137048, 137049, 137052, 137053, 137055, 137056, 137058, 137059, 137060, 137065, 137067, 137068, 137070, 137071, 137073, 137074, 137075, 137078, 137080, 137081, 137083, 137084, 137086, 137087, 137088, 137090, 137091, 137092, 137097, 137098, 137101, 137102, 137103, 137104, 137106, 137107, 137108, 137111, 137113, 137114, 137115, 137116, 137117, 137120, 137121, 137124, 137125, 137127, 137128, 137129, 137130, 137131, 137132, 137133, 137134, 137136, 137137, 137139, 137140, 137143, 137144, 137145, 137146, 137147, 137150, 137153, 137154, 137155, 137156, 137157, 137161, 137162, 137163, 137166, 137168, 137170, 137171, 137175, 137176, 137177, 137178, 137179, 137180, 137181, 137182, 137184, 137185, 137187, 137188, 137189, 137192, 137193, 137197, 137199, 137200, 137202, 137203, 137204, 137205, 137207, 137210, 137212, 137213, 137215, 137218, 137219, 137220, 137221, 137222, 137224, 137226, 137229, 137230, 137231, 137236, 137237, 137240, 137242, 137243, 137244, 137245, 137246, 137248, 137250, 137252, 137253, 137255, 137256, 137258, 137260, 137265, 137269, 137270, 137271, 137272, 137276, 137277, 137281, 137282, 137284, 137285, 137287, 137288, 137289, 137290, 137291, 137292, 137293, 137294, 137295, 137296, 137302, 137303, 137306, 137307, 137308, 137309, 137310, 137313, 137315, 137317, 137319, 137322, 137325, 137326, 137328, 137329, 137330, 137331, 137332, 137335, 137336, 137337, 137338, 137339, 137341, 137343, 137346, 137348, 137349, 137352, 137354, 137355, 137357, 137358, 137362, 137363, 137364, 137365, 137366, 137367, 137368, 137369, 137371, 137373, 137375, 137376, 137378, 137379, 137380, 137381, 137389, 137390, 137394, 137396, 137398, 137399, 137401, 137403, 137404, 137405, 137406, 137410, 137411, 137412, 137413, 137414, 137416, 137421, 137428, 137429, 137430, 137433, 137434, 137435, 137436, 137439, 137443, 137444, 137446, 137447, 137449, 137450, 137453, 137456, 137457, 137459, 137460, 137462, 137464, 137469, 137470, 137471, 137472, 137476, 137478, 137479, 137480, 137483, 137484, 137487, 137488, 137489, 137490, 137491, 137492, 137494, 137499, 137501, 137502, 137503, 137505, 137506, 137507, 137509, 137510, 137513, 137514, 137515, 137516, 137517, 137519, 137521, 137523, 137524, 137525, 137527, 137529, 137530, 137531, 137539, 137540, 137541, 137542, 137543, 137544, 137545, 137550, 137551, 137554, 137555, 137556, 137557, 137560, 137561, 137566, 137567, 137568, 137570, 137571, 137573, 137574, 137577, 137579, 137581, 137585, 137589, 137590, 137591, 137594, 137600, 137602, 137603, 137606, 137607, 137609, 137612, 137613, 137614, 137616, 137618, 137619, 137620, 137621, 137622, 137623, 137624, 137625, 137626, 137628, 137629, 137630, 137632, 137633, 137634, 137635, 137636, 137639, 137643, 137644, 137645, 137646, 137651, 137653, 137654, 137655, 137656, 137657, 137659, 137660, 137661, 137662, 137663, 137664, 137668, 137669, 137671, 137672, 137674, 137675, 137677, 137679, 137682, 137685, 137691, 137695, 137696, 137698, 137702, 137703, 137704, 137705, 137706, 137707, 137708, 137709, 137710, 137711, 137712, 137714, 137715, 137716, 137717, 137718, 137720, 137722, 137723, 137733, 137735, 137737, 137738, 137739, 137740, 137741, 137743, 137744, 137748, 137749, 137751, 137752, 137753, 137754, 137755, 137758, 137759, 137760, 137761, 137762, 137764, 137765, 137767, 137768, 137772, 137773, 137777, 137778, 137779, 137780, 137781, 137782, 137783, 137785, 137786, 137789, 137794, 137795, 137796, 137799, 137800, 137801, 137802, 137804, 137806, 137807, 137809, 137810, 137813, 137814, 137815, 137816, 137818, 137819, 137820, 137821, 137822, 137823, 137824, 137827, 137829, 137830, 137837, 137838, 137841, 137844, 137845, 137849, 137850, 137851, 137853, 137854, 137857, 137859, 137860, 137863, 137864, 137869, 137871, 137873, 137874, 137875, 137877, 137878, 137879, 137880, 137881, 137882, 137884, 137885, 137886, 137888, 137890, 137891, 137892, 137893, 137895, 137898, 137901, 137903, 137904, 137907, 137908, 137909, 137910, 137913, 137914, 137915, 137917, 137920, 137921, 137922, 137926, 137928, 137930, 137931, 137933, 137935, 137936, 137937, 137939, 137941, 137942, 137943, 137947, 137948, 137950, 137954, 137955, 137956, 137957, 137958, 137959, 137961, 137963, 137964, 137967, 137969, 137970, 137971, 137973, 137974, 137975, 137976, 137978, 137980, 137981, 138016, 138024, 138056, 138140, 139321, 139415, 139625, 140109, 140133, 140157, 140432, 140489, 140706, 141139, 141302, 141304, 141491, 141984, 142059, 142106, 142126, 142137, 142175, 142183, 142205, 142241, 142327, 142343, 142377, 142381, 142456, 142502, 142509, 142561, 142691, 142736, 142738, 142750, 142787, 142794, 142803, 142834, 142883, 142921, 142929, 143019, 143150, 143402, 143407, 143421, 143455, 143724, 143874, 143880, 143927, 144141, 144275, 144396, 144409, 144442, 144705, 144815, 144830, 144833, 144840, 144842, 144857, 144873, 144874, 144886, 144891, 144899, 144902, 144947, 144951, 144972, 144977, 144986, 145046, 145063, 145065, 145083, 145086, 145093, 145167, 145173, 145195, 145205, 145206, 145218, 145223, 145238, 145248, 145251, 145252, 145257, 145301, 145312, 145328, 145331, 145333, 145357, 145364, 145370, 145373, 145382, 145386, 145457, 145477, 145483, 145490, 145502, 145529, 145538, 145546, 145561, 145562, 145566, 145589, 145594, 145605, 145615, 145627, 145643, 145657, 145673, 145675, 145684, 145698, 145702, 145714, 145730, 145740, 145748, 145750]\n",
      "They correspond respectively to classes:\n",
      "[-1.0, -1.0, -1.0, -1.0, -1.0, -1.0, -1.0, -1.0, -1.0, -1.0, 1.0, -1.0, 1.0, -1.0, -1.0, -1.0, 1.0, -1.0, -1.0, -1.0, -1.0, 1.0, -1.0, -1.0, -1.0, 1.0, 1.0, -1.0, -1.0, 1.0, -1.0, -1.0, -1.0, -1.0, 1.0, -1.0, -1.0, -1.0, -1.0, -1.0, -1.0, -1.0, 1.0, -1.0, -1.0, 1.0, -1.0, -1.0, -1.0, -1.0, -1.0, -1.0, -1.0, -1.0, -1.0, -1.0, -1.0, -1.0, -1.0, -1.0, -1.0, -1.0, -1.0, -1.0, -1.0, -1.0, -1.0, -1.0, -1.0, -1.0, -1.0, -1.0, -1.0, -1.0, -1.0, -1.0, -1.0, -1.0, -1.0, -1.0, -1.0, -1.0, -1.0, -1.0, -1.0, -1.0, -1.0, -1.0, -1.0, -1.0, -1.0, -1.0, -1.0, -1.0, -1.0, -1.0, -1.0, -1.0, -1.0, -1.0, -1.0, -1.0, -1.0, -1.0, -1.0, -1.0, -1.0, -1.0, -1.0, -1.0, -1.0, -1.0, -1.0, -1.0, -1.0, -1.0, -1.0, -1.0, -1.0, -1.0, -1.0, -1.0, -1.0, -1.0, -1.0, -1.0, -1.0, -1.0, -1.0, -1.0, -1.0, -1.0, -1.0, -1.0, -1.0, -1.0, -1.0, -1.0, -1.0, -1.0, -1.0, -1.0, -1.0, -1.0, -1.0, -1.0, -1.0, -1.0, -1.0, -1.0, -1.0, -1.0, -1.0, -1.0, -1.0, -1.0, -1.0, -1.0, -1.0, -1.0, -1.0, -1.0, -1.0, -1.0, -1.0, -1.0, -1.0, -1.0, -1.0, 1.0, -1.0, -1.0, 1.0, -1.0, 1.0, -1.0, -1.0, -1.0, 1.0, 1.0, -1.0, -1.0, 1.0, -1.0, 1.0, -1.0, 1.0, 1.0, 1.0, 1.0, 1.0, -1.0, -1.0, -1.0, -1.0, 1.0, -1.0, 1.0, 1.0, 1.0, -1.0, 1.0, 1.0, 1.0, 1.0, 1.0, -1.0, -1.0, -1.0, -1.0, -1.0, -1.0, -1.0, -1.0, -1.0, -1.0, -1.0, -1.0, -1.0, -1.0, -1.0, -1.0, -1.0, -1.0, -1.0, -1.0, -1.0, -1.0, -1.0, -1.0, -1.0, -1.0, -1.0, -1.0, -1.0, -1.0, -1.0, -1.0, -1.0, -1.0, -1.0, -1.0, -1.0, -1.0, -1.0, -1.0, -1.0, -1.0, -1.0, -1.0, -1.0, -1.0, -1.0, -1.0, -1.0, -1.0, -1.0, -1.0, -1.0, -1.0, -1.0, -1.0, -1.0, -1.0, -1.0, -1.0, -1.0, -1.0, -1.0, -1.0, -1.0, -1.0, -1.0, -1.0, -1.0, -1.0, -1.0, -1.0, -1.0, -1.0, -1.0, -1.0, -1.0, -1.0, -1.0, -1.0, -1.0, -1.0, -1.0, -1.0, -1.0, -1.0, -1.0, -1.0, -1.0, -1.0, -1.0, -1.0, -1.0, -1.0, -1.0, -1.0, -1.0, -1.0, -1.0, -1.0, -1.0, -1.0, -1.0, -1.0, -1.0, -1.0, -1.0, -1.0, -1.0, -1.0, -1.0, -1.0, -1.0, -1.0, -1.0, -1.0, -1.0, -1.0, -1.0, -1.0, -1.0, -1.0, -1.0, -1.0, -1.0, -1.0, -1.0, -1.0, -1.0, -1.0, -1.0, -1.0, -1.0, -1.0, -1.0, -1.0, -1.0, -1.0, -1.0, -1.0, -1.0, -1.0, -1.0, -1.0, -1.0, -1.0, -1.0, -1.0, -1.0, -1.0, -1.0, -1.0, -1.0, -1.0, -1.0, -1.0, -1.0, -1.0, -1.0, -1.0, -1.0, -1.0, -1.0, -1.0, -1.0, -1.0, -1.0, -1.0, -1.0, -1.0, -1.0, -1.0, -1.0, -1.0, -1.0, -1.0, -1.0, -1.0, -1.0, -1.0, -1.0, -1.0, -1.0, -1.0, -1.0, -1.0, -1.0, -1.0, -1.0, -1.0, -1.0, -1.0, -1.0, -1.0, -1.0, -1.0, -1.0, -1.0, -1.0, -1.0, -1.0, -1.0, -1.0, -1.0, -1.0, -1.0, -1.0, -1.0, -1.0, -1.0, -1.0, -1.0, -1.0, -1.0, -1.0, -1.0, -1.0, -1.0, -1.0, -1.0, -1.0, -1.0, -1.0, -1.0, -1.0, -1.0, -1.0, -1.0, -1.0, -1.0, -1.0, -1.0, -1.0, -1.0, -1.0, -1.0, -1.0, -1.0, -1.0, -1.0, -1.0, -1.0, -1.0, -1.0, -1.0, -1.0, -1.0, -1.0, -1.0, -1.0, -1.0, -1.0, -1.0, -1.0, -1.0, -1.0, -1.0, -1.0, -1.0, -1.0, -1.0, -1.0, -1.0, -1.0, -1.0, -1.0, -1.0, -1.0, -1.0, -1.0, -1.0, -1.0, -1.0, -1.0, -1.0, -1.0, -1.0, -1.0, -1.0, -1.0, -1.0, -1.0, -1.0, -1.0, -1.0, -1.0, -1.0, -1.0, -1.0, -1.0, -1.0, -1.0, -1.0, -1.0, -1.0, -1.0, -1.0, -1.0, -1.0, -1.0, -1.0, -1.0, -1.0, -1.0, -1.0, -1.0, -1.0, -1.0, -1.0, -1.0, -1.0, -1.0, -1.0, -1.0, -1.0, -1.0, -1.0, -1.0, -1.0, -1.0, -1.0, -1.0, -1.0, -1.0, -1.0, -1.0, -1.0, -1.0, -1.0, -1.0, -1.0, -1.0, -1.0, -1.0, -1.0, -1.0, -1.0, -1.0, -1.0, -1.0, -1.0, -1.0, -1.0, -1.0, -1.0, -1.0, -1.0, -1.0, -1.0, -1.0, -1.0, -1.0, -1.0, -1.0, -1.0, -1.0, -1.0, -1.0, -1.0, -1.0, -1.0, -1.0, -1.0, -1.0, -1.0, -1.0, -1.0, -1.0, -1.0, -1.0, -1.0, -1.0, -1.0, -1.0, -1.0, -1.0, -1.0, -1.0, -1.0, -1.0, -1.0, -1.0, -1.0, -1.0, -1.0, -1.0, -1.0, -1.0, -1.0, -1.0, -1.0, -1.0, -1.0, -1.0, -1.0, -1.0, -1.0, -1.0, -1.0, -1.0, -1.0, -1.0, -1.0, -1.0, -1.0, 1.0, -1.0, -1.0, -1.0, -1.0, -1.0, -1.0, -1.0, -1.0, -1.0, -1.0, -1.0, -1.0, -1.0, -1.0, -1.0, -1.0, -1.0, -1.0, -1.0, -1.0, -1.0, -1.0, -1.0, -1.0, -1.0, -1.0, -1.0, -1.0, -1.0, -1.0, -1.0, -1.0, -1.0, -1.0, -1.0, -1.0, -1.0, -1.0, -1.0, -1.0, -1.0, -1.0, -1.0, -1.0, -1.0, -1.0, -1.0, -1.0, -1.0, -1.0, -1.0, -1.0, -1.0, -1.0, -1.0, -1.0, -1.0, -1.0, -1.0, -1.0, -1.0, -1.0, -1.0, -1.0, -1.0, -1.0, -1.0, -1.0, -1.0, -1.0, -1.0, -1.0, -1.0, -1.0, -1.0, -1.0, -1.0, -1.0, -1.0, -1.0, -1.0, -1.0, -1.0, -1.0, -1.0, -1.0, -1.0, -1.0, -1.0, -1.0, -1.0, -1.0, -1.0, -1.0, -1.0, -1.0, -1.0, -1.0, -1.0, -1.0, -1.0, -1.0, -1.0, -1.0, -1.0, -1.0, -1.0, -1.0, -1.0, -1.0, -1.0, -1.0, -1.0, -1.0, -1.0, -1.0, -1.0, -1.0, -1.0, -1.0, -1.0, -1.0, -1.0, -1.0, -1.0, -1.0, -1.0, -1.0, -1.0, -1.0, -1.0, -1.0, -1.0, -1.0, -1.0, -1.0, -1.0, -1.0, -1.0, -1.0, -1.0, -1.0, -1.0, -1.0, -1.0, -1.0, -1.0, -1.0, -1.0, -1.0, -1.0, -1.0, -1.0, -1.0, -1.0, -1.0, -1.0, -1.0, -1.0, -1.0, -1.0, -1.0, -1.0, -1.0, -1.0, -1.0, -1.0, -1.0, -1.0, -1.0, -1.0, -1.0, -1.0, -1.0, -1.0, -1.0, -1.0, -1.0, -1.0, -1.0, -1.0, -1.0, -1.0, -1.0, -1.0, -1.0, -1.0, -1.0, -1.0, -1.0, -1.0, -1.0, -1.0, -1.0, -1.0, -1.0, -1.0, -1.0, -1.0, -1.0, -1.0, -1.0, -1.0, -1.0, -1.0, -1.0, -1.0, -1.0, -1.0, -1.0, -1.0, -1.0, -1.0, -1.0, -1.0, -1.0, -1.0, -1.0, -1.0, -1.0, -1.0, -1.0, -1.0, -1.0, -1.0, -1.0, -1.0, -1.0, -1.0, -1.0, -1.0, -1.0, -1.0, -1.0, -1.0, -1.0, -1.0, -1.0, -1.0, -1.0, -1.0, -1.0, -1.0, -1.0, -1.0, -1.0, -1.0, -1.0, -1.0, -1.0, -1.0, -1.0, -1.0, -1.0, -1.0, -1.0, -1.0, -1.0, -1.0, -1.0, -1.0, -1.0, -1.0, -1.0, -1.0, -1.0, -1.0, -1.0, -1.0, -1.0, -1.0, -1.0, -1.0, -1.0, -1.0, -1.0, -1.0, -1.0, -1.0, -1.0, -1.0, -1.0, -1.0, -1.0, -1.0, -1.0, -1.0, -1.0, -1.0, -1.0, -1.0, -1.0, -1.0, -1.0, -1.0, -1.0, -1.0, -1.0, -1.0, -1.0, -1.0, -1.0, -1.0, -1.0, -1.0, -1.0, -1.0, -1.0, -1.0, 1.0, -1.0, -1.0, -1.0, -1.0, -1.0, -1.0, -1.0, -1.0, -1.0, -1.0, -1.0, -1.0, -1.0, -1.0, -1.0, -1.0, -1.0, -1.0, -1.0, -1.0, -1.0, -1.0, -1.0, -1.0, -1.0, -1.0, -1.0, -1.0, -1.0, -1.0, -1.0, -1.0, -1.0, -1.0, -1.0, -1.0, -1.0, -1.0, -1.0, -1.0, -1.0, -1.0, -1.0, -1.0, -1.0, -1.0, -1.0, -1.0, -1.0, -1.0, -1.0, -1.0, -1.0, -1.0, -1.0, -1.0, -1.0, -1.0, -1.0, -1.0, -1.0, -1.0, -1.0, -1.0, -1.0, -1.0, -1.0, -1.0, -1.0, -1.0, -1.0, -1.0, -1.0, -1.0, -1.0, -1.0, -1.0, -1.0, -1.0, -1.0, -1.0, -1.0, -1.0, -1.0, -1.0, -1.0, -1.0, -1.0, -1.0, -1.0, -1.0, -1.0, -1.0, -1.0, -1.0, -1.0, -1.0, -1.0, -1.0, -1.0, -1.0, -1.0, -1.0, -1.0, -1.0, -1.0, -1.0, -1.0, -1.0, -1.0, -1.0, -1.0, -1.0, -1.0, -1.0, -1.0, -1.0, -1.0, -1.0, -1.0, -1.0, -1.0, -1.0, -1.0, -1.0, -1.0, -1.0, -1.0, -1.0, -1.0, -1.0, -1.0, -1.0, -1.0, -1.0, -1.0, -1.0, -1.0, -1.0, -1.0, -1.0, -1.0, -1.0, -1.0, -1.0, -1.0, -1.0, -1.0, -1.0, -1.0, -1.0, -1.0, -1.0, -1.0, -1.0, -1.0, -1.0, -1.0, -1.0, -1.0, -1.0, -1.0, -1.0, -1.0, -1.0, -1.0, -1.0, -1.0, -1.0, -1.0, -1.0, -1.0, -1.0, -1.0, -1.0, -1.0, -1.0, -1.0, -1.0, -1.0, -1.0, -1.0, -1.0, -1.0, -1.0, -1.0, -1.0, -1.0, -1.0, -1.0, -1.0, -1.0, -1.0, -1.0, -1.0, -1.0, -1.0, -1.0, -1.0, -1.0, -1.0, -1.0, -1.0, -1.0, -1.0, -1.0, -1.0, -1.0, -1.0, -1.0, -1.0, -1.0, -1.0, -1.0, -1.0, -1.0, -1.0, -1.0, -1.0, -1.0, -1.0, -1.0, -1.0, -1.0, -1.0, -1.0, -1.0, -1.0, -1.0, -1.0, -1.0, -1.0, -1.0, -1.0, -1.0, -1.0, -1.0, -1.0, -1.0, -1.0, -1.0, -1.0, -1.0, -1.0, -1.0, -1.0, -1.0, -1.0, -1.0, -1.0, -1.0, -1.0, -1.0, -1.0, -1.0, -1.0, -1.0, -1.0, -1.0, -1.0, -1.0, -1.0, -1.0, -1.0, -1.0, -1.0, -1.0, -1.0, -1.0, -1.0, -1.0, -1.0, -1.0, -1.0, -1.0, -1.0, -1.0, -1.0, -1.0, -1.0, -1.0, -1.0, -1.0, -1.0, -1.0, -1.0, -1.0, -1.0, -1.0, -1.0, -1.0, -1.0, -1.0, -1.0, -1.0, -1.0, -1.0, -1.0, -1.0, -1.0, -1.0, -1.0, -1.0, -1.0, -1.0, -1.0, -1.0, -1.0, -1.0, -1.0, -1.0, -1.0, -1.0, -1.0, -1.0, -1.0, -1.0, -1.0, -1.0, -1.0, -1.0, -1.0, -1.0, -1.0, -1.0, -1.0, -1.0, -1.0, -1.0, -1.0, -1.0, -1.0, -1.0, -1.0, -1.0, -1.0, -1.0, -1.0, -1.0, -1.0, -1.0, -1.0, -1.0, -1.0, -1.0, -1.0, -1.0, -1.0, -1.0, -1.0, -1.0, -1.0, -1.0, -1.0, -1.0, -1.0, -1.0, -1.0, -1.0, -1.0, -1.0, -1.0, -1.0, -1.0, -1.0, -1.0, -1.0, -1.0, -1.0, -1.0, -1.0, -1.0, -1.0, -1.0, -1.0, -1.0, -1.0, -1.0, -1.0, -1.0, -1.0, -1.0, -1.0, -1.0, -1.0, -1.0, -1.0, -1.0, -1.0, -1.0, -1.0, -1.0, -1.0, -1.0, -1.0, -1.0, -1.0, -1.0, -1.0, -1.0, -1.0, -1.0, -1.0, -1.0, -1.0, -1.0, -1.0, -1.0, -1.0, -1.0, -1.0, -1.0, -1.0, -1.0, -1.0, -1.0, -1.0, -1.0, -1.0, -1.0, -1.0, -1.0, -1.0, -1.0, -1.0, -1.0, -1.0, -1.0, -1.0, -1.0, -1.0, -1.0, -1.0, -1.0, -1.0, -1.0, -1.0, -1.0, -1.0, -1.0, -1.0, -1.0, -1.0, -1.0, -1.0, -1.0, -1.0, -1.0, -1.0, -1.0, -1.0, -1.0, -1.0, -1.0, -1.0, -1.0, -1.0, -1.0, -1.0, -1.0, -1.0, -1.0, -1.0, -1.0, -1.0, -1.0, -1.0, -1.0, -1.0, -1.0, -1.0, -1.0, -1.0, -1.0, -1.0, -1.0, -1.0, -1.0, -1.0, -1.0, -1.0, -1.0, -1.0, -1.0, -1.0, -1.0, -1.0, -1.0, -1.0, -1.0, -1.0, -1.0, -1.0, -1.0, -1.0, -1.0, -1.0, -1.0, -1.0, -1.0, -1.0, -1.0, -1.0, -1.0, -1.0, -1.0, -1.0, -1.0, -1.0, -1.0, -1.0, -1.0, -1.0, -1.0, -1.0, -1.0, -1.0, -1.0, -1.0, -1.0, -1.0, -1.0, -1.0, -1.0, -1.0, -1.0, -1.0, -1.0, -1.0, -1.0, -1.0, -1.0, -1.0, -1.0, -1.0, -1.0, -1.0, -1.0, -1.0, -1.0, -1.0, -1.0, -1.0, -1.0, -1.0, -1.0, -1.0, -1.0, -1.0, -1.0, -1.0, -1.0, -1.0, -1.0, -1.0, -1.0, -1.0, -1.0, -1.0, -1.0, -1.0, -1.0, -1.0, -1.0, -1.0, -1.0, -1.0, -1.0, -1.0, -1.0, -1.0, -1.0, -1.0, -1.0, -1.0, -1.0, -1.0, -1.0, -1.0, -1.0, -1.0, -1.0, -1.0, -1.0, -1.0, -1.0, -1.0, -1.0, -1.0, -1.0, -1.0, -1.0, -1.0, -1.0, -1.0, -1.0, -1.0, -1.0, -1.0, -1.0, -1.0, -1.0, -1.0, -1.0, -1.0, -1.0, -1.0, -1.0, -1.0, -1.0, -1.0, -1.0, -1.0, -1.0, -1.0, -1.0, -1.0, -1.0, -1.0, -1.0, -1.0, -1.0, -1.0, -1.0, -1.0, -1.0, -1.0, -1.0, -1.0, -1.0, -1.0, -1.0, -1.0, -1.0, -1.0, -1.0, -1.0, -1.0, -1.0, -1.0, -1.0, -1.0, -1.0, -1.0, -1.0, -1.0, -1.0, -1.0, -1.0, -1.0, -1.0, -1.0, -1.0, -1.0, -1.0, -1.0, -1.0, -1.0, -1.0, -1.0, -1.0, -1.0, -1.0, -1.0, -1.0, -1.0, -1.0, -1.0, -1.0, -1.0, -1.0, -1.0, -1.0, -1.0, -1.0, -1.0, -1.0, -1.0, -1.0, -1.0, -1.0, -1.0, -1.0, -1.0, -1.0, -1.0, -1.0, -1.0, -1.0, -1.0, -1.0, -1.0, -1.0, -1.0, -1.0, -1.0, -1.0, -1.0, -1.0, -1.0, -1.0, -1.0, -1.0, -1.0, -1.0, -1.0, -1.0, -1.0, -1.0, -1.0, -1.0, -1.0, -1.0, -1.0, -1.0, -1.0, -1.0, -1.0, -1.0, -1.0, -1.0, -1.0, -1.0, -1.0, -1.0, -1.0, -1.0, -1.0, -1.0, -1.0, -1.0, -1.0, -1.0, -1.0, -1.0, -1.0, -1.0, -1.0, -1.0, -1.0, -1.0, -1.0, -1.0, -1.0, -1.0, -1.0, -1.0, -1.0, -1.0, -1.0, -1.0, -1.0, -1.0, -1.0, -1.0, -1.0, -1.0, -1.0, -1.0, -1.0, -1.0, 1.0, -1.0, -1.0, -1.0, -1.0, -1.0, -1.0, -1.0, -1.0, -1.0, -1.0, -1.0, -1.0, -1.0, -1.0, -1.0, -1.0, -1.0, -1.0, -1.0, -1.0, -1.0, -1.0, -1.0, -1.0, -1.0, -1.0, -1.0, -1.0, -1.0, -1.0, -1.0, -1.0, -1.0, -1.0, -1.0, -1.0, -1.0, -1.0, -1.0, -1.0, -1.0, -1.0, -1.0, -1.0, -1.0, -1.0, -1.0, -1.0, -1.0, -1.0, -1.0, -1.0, -1.0, -1.0, -1.0, -1.0, -1.0, -1.0, -1.0, -1.0, -1.0, -1.0, -1.0, -1.0, -1.0, -1.0, -1.0, -1.0, -1.0, -1.0, -1.0, -1.0, -1.0, -1.0, -1.0, -1.0, -1.0, -1.0, -1.0, -1.0, -1.0, -1.0, -1.0, -1.0, -1.0, -1.0, -1.0, -1.0, -1.0, -1.0, -1.0, -1.0, -1.0, -1.0, -1.0, -1.0, -1.0, -1.0, -1.0, -1.0, -1.0, -1.0, -1.0, -1.0, -1.0, -1.0, -1.0, -1.0, -1.0, -1.0, -1.0, -1.0, -1.0, -1.0, -1.0, -1.0, -1.0, -1.0, -1.0, -1.0, -1.0, -1.0, -1.0, -1.0, -1.0, -1.0, -1.0, -1.0, -1.0, -1.0, -1.0, -1.0, -1.0, -1.0, -1.0, -1.0, -1.0, -1.0, -1.0, -1.0, -1.0, -1.0, -1.0, -1.0, -1.0, -1.0, -1.0, -1.0, -1.0, -1.0, -1.0, -1.0, -1.0, -1.0, -1.0, -1.0, -1.0, -1.0, -1.0, -1.0, -1.0, -1.0, -1.0, -1.0, -1.0, -1.0, -1.0, -1.0, -1.0, -1.0, -1.0, 1.0, -1.0, -1.0, -1.0, -1.0, -1.0, -1.0, -1.0, -1.0, -1.0, -1.0, -1.0, -1.0, -1.0, -1.0, -1.0, -1.0, -1.0, -1.0, -1.0, -1.0, -1.0, -1.0, -1.0, -1.0, -1.0, -1.0, -1.0, -1.0, -1.0, -1.0, -1.0, -1.0, -1.0, -1.0, -1.0, -1.0, -1.0, -1.0, -1.0, -1.0, -1.0, -1.0, -1.0, -1.0, -1.0, -1.0, -1.0, -1.0, -1.0, -1.0, -1.0, -1.0, -1.0, -1.0, -1.0, -1.0, -1.0, -1.0, -1.0, -1.0, -1.0, -1.0, -1.0, -1.0, -1.0, -1.0, -1.0, -1.0, -1.0, -1.0, -1.0, -1.0, -1.0, -1.0, -1.0, -1.0, -1.0, -1.0, -1.0, -1.0, -1.0, -1.0, -1.0, -1.0, -1.0, -1.0, -1.0, -1.0, -1.0, -1.0, -1.0, -1.0, -1.0, -1.0, -1.0, -1.0, -1.0, -1.0, -1.0, -1.0, -1.0, -1.0, -1.0, -1.0, -1.0, -1.0, -1.0, -1.0, -1.0, -1.0, -1.0, -1.0, -1.0, -1.0, -1.0, -1.0, -1.0, -1.0, -1.0, -1.0, -1.0, -1.0, -1.0, -1.0, -1.0, -1.0, -1.0, -1.0, -1.0, -1.0, -1.0, -1.0, -1.0, -1.0, -1.0, -1.0, -1.0, -1.0, -1.0, -1.0, -1.0, -1.0, -1.0, -1.0, -1.0, -1.0, -1.0, -1.0, -1.0, -1.0, -1.0, -1.0, -1.0, -1.0, -1.0, -1.0, -1.0, -1.0, -1.0, -1.0, -1.0, -1.0, -1.0, -1.0, -1.0, -1.0, -1.0, -1.0, -1.0, -1.0, -1.0, -1.0, -1.0, -1.0, -1.0, -1.0, -1.0, -1.0, -1.0, -1.0, -1.0, -1.0, -1.0, -1.0, -1.0, -1.0, -1.0, -1.0, -1.0, -1.0, -1.0, -1.0, -1.0, -1.0, -1.0, -1.0, -1.0, -1.0, -1.0, -1.0, -1.0, -1.0, -1.0, -1.0, -1.0, -1.0, -1.0, -1.0, -1.0, -1.0, -1.0, -1.0, -1.0, -1.0, -1.0, -1.0, -1.0, -1.0, -1.0, -1.0, -1.0, -1.0, -1.0, -1.0, -1.0, -1.0, -1.0, -1.0, -1.0, -1.0, -1.0, -1.0, -1.0, -1.0, -1.0, -1.0, -1.0, -1.0, -1.0, -1.0, -1.0, -1.0, -1.0, -1.0, -1.0, -1.0, -1.0, -1.0, -1.0, -1.0, -1.0, -1.0, -1.0, -1.0, -1.0, -1.0, -1.0, -1.0, -1.0, -1.0, -1.0, -1.0, -1.0, -1.0, -1.0, -1.0, -1.0, -1.0, -1.0, -1.0, -1.0, -1.0, -1.0, -1.0, -1.0, -1.0, -1.0, -1.0, -1.0, -1.0, 1.0, -1.0, -1.0, -1.0, -1.0, -1.0, -1.0, -1.0, 1.0, -1.0, 1.0, -1.0, -1.0, 1.0, -1.0, -1.0, -1.0, 1.0, -1.0, -1.0, -1.0, -1.0, -1.0, -1.0, -1.0, -1.0, 1.0, -1.0, -1.0, -1.0, -1.0, 1.0, -1.0, -1.0, -1.0, -1.0, -1.0, -1.0, -1.0, -1.0, -1.0, -1.0, -1.0, -1.0, -1.0, -1.0, 1.0, 1.0, -1.0, 1.0, -1.0, -1.0, 1.0, -1.0, -1.0, 1.0, -1.0, -1.0, -1.0, 1.0, 1.0, -1.0, -1.0, -1.0, -1.0, 1.0, 1.0, -1.0, 1.0, -1.0, -1.0, -1.0, 1.0, -1.0, 1.0, -1.0, -1.0, 1.0, -1.0, 1.0, 1.0, -1.0, 1.0, 1.0, -1.0, 1.0, 1.0, 1.0, -1.0, 1.0, -1.0, 1.0, 1.0, 1.0, 1.0, 1.0, -1.0, -1.0, 1.0, 1.0, -1.0, 1.0, 1.0, 1.0, 1.0, 1.0, -1.0, 1.0, 1.0, 1.0, -1.0, -1.0, -1.0, -1.0, -1.0, -1.0, -1.0, -1.0, -1.0, -1.0, -1.0, -1.0, -1.0, -1.0, -1.0, -1.0, -1.0, -1.0, 1.0, -1.0, -1.0, -1.0, -1.0, -1.0, -1.0, -1.0, -1.0, -1.0, -1.0, 1.0, 1.0, -1.0, -1.0, -1.0, -1.0, -1.0, -1.0, -1.0, -1.0, -1.0, -1.0, -1.0, -1.0, -1.0, -1.0, -1.0, -1.0, -1.0, -1.0, -1.0, -1.0, -1.0, -1.0, -1.0, -1.0, -1.0, -1.0, -1.0, -1.0, -1.0, -1.0, -1.0, -1.0, -1.0, -1.0, -1.0, -1.0, -1.0, -1.0, -1.0, -1.0, -1.0, -1.0, -1.0, -1.0, -1.0, -1.0, 1.0, -1.0, -1.0, 1.0, -1.0, -1.0, -1.0, -1.0, -1.0, 1.0, -1.0, -1.0, -1.0, -1.0, -1.0, -1.0, -1.0, -1.0, -1.0, -1.0, 1.0, -1.0, -1.0, -1.0, -1.0, -1.0, -1.0, -1.0, 1.0, -1.0, -1.0, -1.0, -1.0, -1.0, -1.0, 1.0, -1.0, 1.0, -1.0, -1.0, 1.0, -1.0, -1.0, -1.0, -1.0, -1.0, -1.0, -1.0, -1.0, -1.0, -1.0, -1.0, -1.0, -1.0, -1.0, -1.0, -1.0, -1.0, -1.0, -1.0, 1.0, -1.0, -1.0, -1.0, 1.0, -1.0, -1.0, -1.0, 1.0, -1.0, -1.0, -1.0, -1.0, 1.0, -1.0, -1.0, -1.0, -1.0, -1.0, -1.0, -1.0, -1.0, -1.0, -1.0, -1.0, -1.0, -1.0, -1.0, -1.0, -1.0, -1.0, -1.0, -1.0, -1.0, -1.0, -1.0, -1.0, -1.0, -1.0, -1.0, -1.0, -1.0, -1.0, -1.0, -1.0, -1.0, -1.0, 1.0, -1.0, -1.0, -1.0, -1.0, -1.0, -1.0, -1.0, -1.0, -1.0, -1.0, -1.0, -1.0, -1.0, -1.0, -1.0, -1.0, -1.0, -1.0, -1.0, -1.0, -1.0, -1.0, -1.0, -1.0, -1.0, -1.0, -1.0, -1.0, -1.0, -1.0, -1.0, -1.0, -1.0, -1.0, 1.0, -1.0, -1.0, -1.0, -1.0, -1.0, -1.0, -1.0, -1.0, -1.0, -1.0, -1.0, -1.0, -1.0, -1.0, -1.0, -1.0, -1.0, -1.0, -1.0, -1.0, -1.0, -1.0, -1.0, -1.0, -1.0, -1.0, -1.0, -1.0, -1.0, -1.0, -1.0, -1.0, -1.0, -1.0, -1.0, -1.0, -1.0, -1.0, -1.0, -1.0, -1.0, -1.0, -1.0, -1.0, -1.0, -1.0, -1.0, -1.0, -1.0, -1.0, -1.0, -1.0, -1.0, -1.0, -1.0, -1.0, -1.0, -1.0, -1.0, -1.0, -1.0, -1.0, -1.0, -1.0, -1.0, -1.0, -1.0, -1.0, -1.0, -1.0, -1.0, -1.0, -1.0, -1.0, -1.0, -1.0, -1.0, -1.0, -1.0, -1.0, -1.0, -1.0, -1.0, -1.0, -1.0, -1.0, -1.0, -1.0, -1.0, -1.0, -1.0, -1.0, -1.0, -1.0, -1.0, -1.0, -1.0, -1.0, -1.0, 1.0, -1.0, -1.0, -1.0, -1.0, -1.0, -1.0, -1.0, -1.0, -1.0, -1.0, -1.0, -1.0, -1.0, -1.0, -1.0, -1.0, -1.0, -1.0, -1.0, -1.0, -1.0, -1.0, -1.0, -1.0, -1.0, -1.0, -1.0, -1.0, -1.0, -1.0, -1.0, -1.0, -1.0, -1.0, -1.0, -1.0, -1.0, -1.0, -1.0, -1.0, -1.0, -1.0, -1.0, -1.0, -1.0, -1.0, -1.0, -1.0, -1.0, -1.0, -1.0, -1.0, -1.0, -1.0, -1.0, -1.0, -1.0, -1.0, -1.0, -1.0, -1.0, -1.0, -1.0, -1.0, -1.0, -1.0, -1.0, -1.0, -1.0, -1.0, -1.0, -1.0, -1.0, -1.0, -1.0, -1.0, -1.0, -1.0, -1.0, -1.0, -1.0, -1.0, -1.0, -1.0, -1.0, -1.0, -1.0, -1.0, -1.0, -1.0, -1.0, -1.0, -1.0, -1.0, -1.0, -1.0, -1.0, -1.0, -1.0, -1.0, -1.0, -1.0, -1.0, -1.0, -1.0, -1.0, -1.0, -1.0, -1.0, -1.0, -1.0, -1.0, -1.0, -1.0, -1.0, -1.0, -1.0, 1.0, 1.0, -1.0, -1.0, -1.0, -1.0, -1.0, -1.0, -1.0, -1.0, -1.0, -1.0, -1.0, 1.0, -1.0, 1.0, -1.0, -1.0, -1.0, -1.0, 1.0, -1.0, -1.0, -1.0, -1.0, -1.0, -1.0, -1.0, -1.0, 1.0, -1.0, -1.0, -1.0, -1.0, -1.0, 1.0, -1.0, -1.0, 1.0, -1.0, -1.0, -1.0, -1.0, -1.0, -1.0, 1.0, -1.0, -1.0, -1.0, -1.0, -1.0, -1.0, -1.0, -1.0, -1.0, -1.0, -1.0, 1.0, -1.0, -1.0, -1.0, -1.0, -1.0, -1.0, -1.0, -1.0, -1.0, -1.0, -1.0, -1.0, -1.0, -1.0, -1.0, -1.0, -1.0, -1.0, -1.0, -1.0, -1.0, -1.0, -1.0, -1.0, -1.0, -1.0, -1.0, -1.0, -1.0, -1.0, -1.0, -1.0, -1.0, -1.0, -1.0, -1.0, -1.0, -1.0, -1.0, -1.0, -1.0, -1.0, -1.0, -1.0, -1.0, -1.0, -1.0, -1.0, -1.0, -1.0, -1.0, -1.0, -1.0, -1.0, -1.0, -1.0, -1.0, -1.0, -1.0, -1.0, -1.0, -1.0, -1.0, -1.0, -1.0, -1.0, -1.0, -1.0, -1.0, -1.0, -1.0, -1.0, -1.0, -1.0, -1.0, -1.0, -1.0, -1.0, -1.0, -1.0, -1.0, -1.0, -1.0, -1.0, -1.0, -1.0, -1.0, -1.0, -1.0, -1.0, -1.0, -1.0, -1.0, -1.0, -1.0, -1.0, -1.0, -1.0, -1.0, -1.0, -1.0, -1.0, -1.0, -1.0, -1.0, -1.0, -1.0, -1.0, -1.0, -1.0, -1.0, -1.0, -1.0, -1.0, -1.0, -1.0, -1.0, -1.0, -1.0, -1.0, -1.0, -1.0, -1.0, -1.0, -1.0, -1.0, -1.0, -1.0, -1.0, -1.0, -1.0, -1.0, -1.0, -1.0, -1.0, -1.0, -1.0, -1.0, -1.0, 1.0, -1.0, -1.0, -1.0, -1.0, -1.0, -1.0, -1.0, -1.0, -1.0, -1.0, -1.0, -1.0, -1.0, -1.0, -1.0, -1.0, -1.0, -1.0, -1.0, -1.0, -1.0, -1.0, -1.0, -1.0, -1.0, -1.0, -1.0, -1.0, -1.0, -1.0, -1.0, -1.0, -1.0, -1.0, -1.0, -1.0, -1.0, -1.0, -1.0, -1.0, -1.0, -1.0, -1.0, -1.0, -1.0, -1.0, -1.0, -1.0, -1.0, -1.0, -1.0, -1.0, -1.0, -1.0, -1.0, -1.0, -1.0, -1.0, -1.0, -1.0, -1.0, -1.0, -1.0, -1.0, -1.0, -1.0, -1.0, -1.0, -1.0, -1.0, -1.0, -1.0, -1.0, -1.0, -1.0, -1.0, -1.0, -1.0, -1.0, -1.0, -1.0, -1.0, -1.0, -1.0, -1.0, -1.0, -1.0, -1.0, -1.0, -1.0, -1.0, -1.0, -1.0, -1.0, -1.0, -1.0, -1.0, -1.0, -1.0, -1.0, -1.0, -1.0, -1.0, -1.0, -1.0, -1.0, -1.0, -1.0, -1.0, -1.0, -1.0, -1.0, -1.0, -1.0, -1.0, -1.0, -1.0, -1.0, -1.0, -1.0, -1.0, -1.0, -1.0, -1.0, -1.0, -1.0, -1.0, -1.0, -1.0, -1.0, -1.0, -1.0, -1.0, -1.0, -1.0, -1.0, -1.0, -1.0, -1.0, -1.0, -1.0, -1.0, -1.0, -1.0, -1.0, 1.0, -1.0, -1.0, -1.0, -1.0, -1.0, -1.0, -1.0, -1.0, -1.0, -1.0, -1.0, -1.0, -1.0, -1.0, -1.0, -1.0, -1.0, -1.0, -1.0, -1.0, -1.0, -1.0, -1.0, -1.0, -1.0, -1.0, -1.0, -1.0, -1.0, -1.0, -1.0, -1.0, -1.0, -1.0, -1.0, -1.0, -1.0, -1.0, -1.0, -1.0, -1.0, -1.0, -1.0, -1.0, -1.0, -1.0, -1.0, -1.0, -1.0, -1.0, -1.0, -1.0, -1.0, -1.0, -1.0, -1.0, -1.0, -1.0, -1.0, -1.0, -1.0, -1.0, -1.0, -1.0, -1.0, -1.0, -1.0, -1.0, -1.0, -1.0, -1.0, -1.0, -1.0, -1.0, -1.0, -1.0, -1.0, -1.0, -1.0, -1.0, -1.0, -1.0, -1.0, -1.0, -1.0, -1.0, -1.0, -1.0, -1.0, -1.0, -1.0, -1.0, -1.0, -1.0, -1.0, -1.0, -1.0, -1.0, -1.0, -1.0, -1.0, -1.0, -1.0, -1.0, -1.0, -1.0, -1.0, -1.0, -1.0, -1.0, -1.0, -1.0, -1.0, -1.0, -1.0, -1.0, -1.0, -1.0, -1.0, -1.0, -1.0, -1.0, -1.0, -1.0, -1.0, -1.0, -1.0, -1.0, -1.0, -1.0, -1.0, -1.0, -1.0, -1.0, -1.0, -1.0, -1.0, -1.0, -1.0, -1.0, -1.0, -1.0, -1.0, -1.0, -1.0, -1.0, -1.0, -1.0, -1.0, -1.0, -1.0, -1.0, -1.0, -1.0, -1.0, -1.0, -1.0, -1.0, -1.0, -1.0, -1.0, -1.0, -1.0, -1.0, -1.0, -1.0, -1.0, -1.0, -1.0, -1.0, -1.0, -1.0, -1.0, -1.0, -1.0, -1.0, -1.0, -1.0, -1.0, -1.0, -1.0, -1.0, -1.0, -1.0, -1.0, -1.0, -1.0, -1.0, -1.0, -1.0, -1.0, -1.0, -1.0, -1.0, -1.0, -1.0, -1.0, -1.0, -1.0, -1.0, -1.0, -1.0, -1.0, -1.0, -1.0, -1.0, -1.0, -1.0, -1.0, -1.0, -1.0, -1.0, -1.0, -1.0, -1.0, -1.0, -1.0, -1.0, -1.0, -1.0, -1.0, -1.0, -1.0, -1.0, -1.0, -1.0, -1.0, -1.0, -1.0, -1.0, -1.0, -1.0, -1.0, -1.0, -1.0, -1.0, -1.0, -1.0, -1.0, -1.0, -1.0, -1.0, -1.0, -1.0, -1.0, -1.0, -1.0, -1.0, -1.0, -1.0, -1.0, -1.0, -1.0, -1.0, -1.0, -1.0, -1.0, -1.0, -1.0, -1.0, -1.0, -1.0, -1.0, -1.0, -1.0, -1.0, -1.0, -1.0, -1.0, -1.0, -1.0, -1.0, 1.0, -1.0, -1.0, -1.0, -1.0, -1.0, -1.0, -1.0, -1.0, -1.0, -1.0, -1.0, -1.0, -1.0, -1.0, -1.0, -1.0, -1.0, -1.0, -1.0, -1.0, -1.0, -1.0, -1.0, -1.0, -1.0, -1.0, -1.0, -1.0, -1.0, -1.0, -1.0, -1.0, -1.0, 1.0, -1.0, 1.0, 1.0, 1.0, 1.0, -1.0, 1.0, -1.0, 1.0, -1.0, 1.0, 1.0, 1.0, 1.0, 1.0, 1.0, 1.0, 1.0, -1.0, 1.0, -1.0, 1.0, -1.0, -1.0, 1.0, 1.0, 1.0, -1.0, 1.0, -1.0, 1.0, 1.0, -1.0, 1.0, 1.0, 1.0, -1.0, 1.0, 1.0, -1.0, -1.0, -1.0, -1.0, -1.0, -1.0, -1.0, -1.0, -1.0, -1.0, -1.0, -1.0, -1.0, -1.0, -1.0, -1.0, -1.0, -1.0, -1.0, -1.0, -1.0, -1.0, -1.0, -1.0, -1.0, -1.0, -1.0, -1.0, -1.0, -1.0, -1.0, -1.0, -1.0, -1.0, -1.0, -1.0, -1.0, -1.0, -1.0, -1.0, -1.0, -1.0, -1.0, -1.0, -1.0, -1.0, -1.0, -1.0, -1.0, -1.0, -1.0, -1.0, -1.0, -1.0, -1.0, -1.0, -1.0, -1.0, -1.0, -1.0, -1.0, -1.0, -1.0, -1.0, -1.0, -1.0, -1.0, -1.0, -1.0, -1.0, -1.0, -1.0, -1.0, -1.0, -1.0, -1.0, -1.0, -1.0, -1.0, -1.0, -1.0, -1.0, -1.0, -1.0, -1.0, -1.0, -1.0, -1.0, -1.0, -1.0, -1.0, -1.0, -1.0, -1.0, -1.0, -1.0, -1.0, -1.0, -1.0, -1.0, -1.0, -1.0, -1.0, -1.0, -1.0, -1.0, -1.0, -1.0, -1.0, -1.0, -1.0, -1.0, -1.0, -1.0, -1.0, -1.0, -1.0, -1.0, -1.0, -1.0, -1.0, -1.0, -1.0, -1.0, -1.0, -1.0, -1.0, -1.0, -1.0, -1.0, -1.0, -1.0, -1.0, -1.0, -1.0, -1.0, -1.0, -1.0, -1.0, -1.0, -1.0, -1.0, -1.0, -1.0, -1.0, -1.0, -1.0, -1.0, -1.0, -1.0, -1.0, -1.0, -1.0, -1.0, -1.0, -1.0, -1.0, -1.0, -1.0, -1.0, -1.0, -1.0, -1.0, -1.0, -1.0, -1.0, -1.0, -1.0, -1.0, -1.0, -1.0, -1.0, -1.0, -1.0, 1.0, -1.0, -1.0, -1.0, -1.0, -1.0, -1.0, -1.0, -1.0, -1.0, -1.0, -1.0, -1.0, -1.0, -1.0, -1.0, -1.0, -1.0, -1.0, -1.0, -1.0, -1.0, -1.0, -1.0, -1.0, -1.0, -1.0, -1.0, -1.0, -1.0, -1.0, -1.0, -1.0, -1.0, -1.0, -1.0, -1.0, -1.0, -1.0, -1.0, -1.0, -1.0, -1.0, -1.0, -1.0, -1.0, -1.0, -1.0, 1.0, -1.0, -1.0, -1.0, -1.0, -1.0, -1.0, -1.0, -1.0, -1.0, -1.0, -1.0, -1.0, -1.0, -1.0, -1.0, -1.0, -1.0, -1.0, -1.0, -1.0, -1.0, -1.0, -1.0, -1.0, -1.0, -1.0, -1.0, -1.0, -1.0, -1.0, -1.0, -1.0, -1.0, -1.0, -1.0, -1.0, -1.0, -1.0, -1.0, -1.0, -1.0, -1.0, -1.0, -1.0, -1.0, -1.0, -1.0, -1.0, -1.0, -1.0, -1.0, -1.0, -1.0, -1.0, -1.0, -1.0, -1.0, -1.0, -1.0, -1.0, -1.0, -1.0, -1.0, -1.0, -1.0, -1.0, -1.0, -1.0, -1.0, -1.0, -1.0, -1.0, -1.0, -1.0, -1.0, -1.0, -1.0, -1.0, -1.0, -1.0, -1.0, -1.0, -1.0, -1.0, -1.0, -1.0, -1.0, -1.0, -1.0, -1.0, -1.0, -1.0, -1.0, -1.0, -1.0, -1.0, -1.0, -1.0, -1.0, -1.0, -1.0, -1.0, -1.0, -1.0, -1.0, -1.0, -1.0, -1.0, -1.0, -1.0, -1.0, -1.0, -1.0, -1.0, -1.0, -1.0, -1.0, -1.0, -1.0, -1.0, -1.0, -1.0, -1.0, -1.0, -1.0, -1.0, -1.0, -1.0, -1.0, -1.0, -1.0, -1.0, -1.0, -1.0, -1.0, -1.0, -1.0, -1.0, -1.0, -1.0, -1.0, -1.0, -1.0, -1.0, -1.0, -1.0, -1.0, -1.0, 1.0, -1.0, -1.0, -1.0, -1.0, -1.0, -1.0, -1.0, -1.0, -1.0, -1.0, -1.0, -1.0, -1.0, -1.0, -1.0, -1.0, -1.0, -1.0, -1.0, -1.0, -1.0, -1.0, -1.0, -1.0, -1.0, -1.0, -1.0, -1.0, -1.0, -1.0, -1.0, -1.0, -1.0, -1.0, -1.0, -1.0, -1.0, -1.0, -1.0, -1.0, -1.0, -1.0, -1.0, -1.0, -1.0, -1.0, -1.0, -1.0, -1.0, -1.0, -1.0, -1.0, -1.0, -1.0, -1.0, -1.0, -1.0, -1.0, -1.0, -1.0, -1.0, -1.0, -1.0, -1.0, -1.0, -1.0, -1.0, -1.0, -1.0, -1.0, -1.0, -1.0, -1.0, -1.0, -1.0, -1.0, -1.0, -1.0, -1.0, -1.0, -1.0, -1.0, -1.0, -1.0, -1.0, -1.0, -1.0, -1.0, -1.0, -1.0, -1.0, -1.0, -1.0, -1.0, -1.0, -1.0, -1.0, -1.0, -1.0, -1.0, -1.0, -1.0, -1.0, -1.0, -1.0, -1.0, -1.0, -1.0, -1.0, -1.0, -1.0, -1.0, -1.0, -1.0, -1.0, -1.0, -1.0, -1.0, -1.0, -1.0, -1.0, -1.0, -1.0, -1.0, -1.0, -1.0, -1.0, -1.0, -1.0, -1.0, -1.0, -1.0, -1.0, -1.0, -1.0, -1.0, -1.0, -1.0, -1.0, -1.0, -1.0, -1.0, -1.0, -1.0, -1.0, -1.0, -1.0, -1.0, -1.0, -1.0, -1.0, -1.0, 1.0, 1.0, -1.0, 1.0, -1.0, 1.0, -1.0, 1.0, 1.0, 1.0, 1.0, -1.0, -1.0, -1.0, -1.0, -1.0, -1.0, -1.0, -1.0, 1.0, -1.0, -1.0, -1.0, -1.0, -1.0, -1.0, -1.0, -1.0, -1.0, -1.0, -1.0, -1.0, -1.0, -1.0, -1.0, -1.0, -1.0, -1.0, -1.0, -1.0, -1.0, -1.0, -1.0, -1.0, -1.0, -1.0, -1.0, -1.0, -1.0, -1.0, -1.0, -1.0, -1.0, -1.0, -1.0, -1.0, -1.0, -1.0, 1.0, -1.0, -1.0, -1.0, -1.0, -1.0, -1.0, -1.0, -1.0, -1.0, -1.0, -1.0, -1.0, -1.0, -1.0, 1.0, -1.0, -1.0, -1.0, -1.0, -1.0, -1.0, -1.0, -1.0, -1.0, -1.0, -1.0, -1.0, -1.0, -1.0, -1.0, -1.0, -1.0, -1.0, -1.0, -1.0, -1.0, -1.0, -1.0, -1.0, -1.0, -1.0, -1.0, -1.0, -1.0, -1.0, -1.0, -1.0, -1.0, -1.0, -1.0, -1.0, -1.0, -1.0, -1.0, -1.0, -1.0, -1.0, -1.0, -1.0, -1.0, -1.0, -1.0, -1.0, -1.0, -1.0, -1.0, -1.0, -1.0, -1.0, -1.0, -1.0, -1.0, -1.0, -1.0, -1.0, -1.0, -1.0, -1.0, -1.0, -1.0, -1.0, -1.0, -1.0, -1.0, -1.0, -1.0, -1.0, -1.0, -1.0, -1.0, -1.0, -1.0, -1.0, -1.0, -1.0, -1.0, -1.0, -1.0, -1.0, -1.0, -1.0, -1.0, -1.0, -1.0, -1.0, -1.0, -1.0, -1.0, -1.0, -1.0, -1.0, -1.0, -1.0, -1.0, -1.0, -1.0, -1.0, -1.0, -1.0, -1.0, -1.0, -1.0, -1.0, -1.0, -1.0, -1.0, 1.0, -1.0, 1.0, 1.0, -1.0, -1.0, -1.0, -1.0, -1.0, -1.0, -1.0, -1.0, -1.0, -1.0, -1.0, -1.0, -1.0, -1.0, -1.0, -1.0, -1.0, -1.0, -1.0, -1.0, -1.0, -1.0, -1.0, -1.0, -1.0, -1.0, -1.0, -1.0, -1.0, -1.0, -1.0, -1.0, -1.0, -1.0, -1.0, -1.0, -1.0, -1.0, -1.0, -1.0, -1.0, -1.0, -1.0, -1.0, -1.0, -1.0, -1.0, -1.0, -1.0, -1.0, -1.0, -1.0, -1.0, -1.0, -1.0, -1.0, -1.0, -1.0, -1.0, -1.0, -1.0, -1.0, -1.0, -1.0, -1.0, -1.0, -1.0, -1.0, -1.0, -1.0, -1.0, -1.0, -1.0, -1.0, -1.0, -1.0, -1.0, -1.0, -1.0, -1.0, -1.0, -1.0, -1.0, -1.0, -1.0, -1.0, -1.0, -1.0, -1.0, -1.0, -1.0, -1.0, -1.0, -1.0, -1.0, -1.0, -1.0, -1.0, -1.0, -1.0, -1.0, -1.0, -1.0, -1.0, -1.0, -1.0, -1.0, -1.0, -1.0, -1.0, -1.0, -1.0, -1.0, -1.0, -1.0, -1.0, -1.0, -1.0, -1.0, -1.0, -1.0, -1.0, 1.0, -1.0, -1.0, -1.0, -1.0, -1.0, -1.0, -1.0, -1.0, -1.0, -1.0, -1.0, -1.0, -1.0, -1.0, -1.0, -1.0, -1.0, -1.0, -1.0, -1.0, -1.0, -1.0, -1.0, -1.0, -1.0, -1.0, -1.0, -1.0, -1.0, -1.0, -1.0, -1.0, -1.0, -1.0, -1.0, -1.0, -1.0, -1.0, -1.0, -1.0, -1.0, -1.0, -1.0, -1.0, -1.0, -1.0, -1.0, -1.0, -1.0, -1.0, -1.0, -1.0, -1.0, -1.0, -1.0, -1.0, -1.0, -1.0, -1.0, -1.0, -1.0, -1.0, -1.0, -1.0, -1.0, -1.0, -1.0, -1.0, -1.0, -1.0, -1.0, -1.0, -1.0, -1.0, -1.0, -1.0, -1.0, -1.0, -1.0, -1.0, -1.0, -1.0, -1.0, -1.0, -1.0, -1.0, -1.0, -1.0, -1.0, -1.0, -1.0, -1.0, -1.0, -1.0, -1.0, -1.0, -1.0, -1.0, -1.0, -1.0, -1.0, -1.0, -1.0, -1.0, -1.0, -1.0, -1.0, -1.0, -1.0, -1.0, -1.0, -1.0, -1.0, -1.0, -1.0, -1.0, -1.0, -1.0, -1.0, -1.0, -1.0, -1.0, -1.0, -1.0, -1.0, -1.0, -1.0, -1.0, -1.0, -1.0, -1.0, 1.0, -1.0, -1.0, -1.0, -1.0, -1.0, -1.0, -1.0, -1.0, -1.0, -1.0, -1.0, -1.0, -1.0, -1.0, -1.0, -1.0, -1.0, -1.0, -1.0, -1.0, -1.0, -1.0, -1.0, 1.0, -1.0, -1.0, -1.0, -1.0, -1.0, -1.0, -1.0, -1.0, -1.0, -1.0, -1.0, -1.0, -1.0, -1.0, -1.0, -1.0, -1.0, -1.0, -1.0, -1.0, -1.0, -1.0, -1.0, -1.0, -1.0, -1.0, -1.0, -1.0, -1.0, -1.0, -1.0, -1.0, -1.0, -1.0, -1.0, -1.0, -1.0, -1.0, -1.0, -1.0, -1.0, -1.0, -1.0, -1.0, -1.0, -1.0, -1.0, -1.0, -1.0, -1.0, -1.0, -1.0, -1.0, -1.0, -1.0, -1.0, -1.0, -1.0, -1.0, -1.0, -1.0, -1.0, -1.0, -1.0, -1.0, -1.0, -1.0, -1.0, -1.0, -1.0, -1.0, -1.0, -1.0, -1.0, -1.0, -1.0, -1.0, -1.0, -1.0, -1.0, -1.0, -1.0, -1.0, -1.0, -1.0, -1.0, -1.0, -1.0, -1.0, -1.0, -1.0, -1.0, -1.0, -1.0, -1.0, -1.0, -1.0, -1.0, -1.0, -1.0, -1.0, -1.0, -1.0, -1.0, -1.0, -1.0, -1.0, -1.0, -1.0, -1.0, -1.0, -1.0, -1.0, -1.0, -1.0, -1.0, -1.0, -1.0, -1.0, -1.0, -1.0, -1.0, -1.0, -1.0, -1.0, -1.0, -1.0, -1.0, -1.0, -1.0, -1.0, -1.0, -1.0, -1.0, -1.0, -1.0, -1.0, -1.0, -1.0, -1.0, 1.0, -1.0, -1.0, -1.0, -1.0, -1.0, -1.0, -1.0, -1.0, -1.0, -1.0, -1.0, -1.0, -1.0, -1.0, -1.0, -1.0, -1.0, -1.0, -1.0, -1.0, -1.0, -1.0, -1.0, -1.0, -1.0, -1.0, -1.0, -1.0, -1.0, -1.0, -1.0, -1.0, -1.0, -1.0, -1.0, -1.0, -1.0, -1.0, -1.0, -1.0, -1.0, -1.0, -1.0, -1.0, -1.0, 1.0, -1.0, -1.0, -1.0, -1.0, -1.0, -1.0, -1.0, -1.0, -1.0, -1.0, -1.0, -1.0, -1.0, -1.0, -1.0, -1.0, -1.0, -1.0, -1.0, -1.0, -1.0, -1.0, -1.0, -1.0, -1.0, -1.0, -1.0, -1.0, -1.0, -1.0, -1.0, -1.0, -1.0, -1.0, -1.0, 1.0, -1.0, -1.0, -1.0, -1.0, -1.0, -1.0, -1.0, -1.0, -1.0, -1.0, -1.0, -1.0, -1.0, -1.0, -1.0, -1.0, -1.0, -1.0, -1.0, -1.0, -1.0, -1.0, -1.0, -1.0, -1.0, -1.0, -1.0, -1.0, -1.0, -1.0, -1.0, -1.0, -1.0, -1.0, -1.0, -1.0, -1.0, -1.0, -1.0, -1.0, -1.0, -1.0, -1.0, -1.0, -1.0, -1.0, -1.0, -1.0, -1.0, -1.0, -1.0, -1.0, -1.0, -1.0, -1.0, -1.0, -1.0, -1.0, -1.0, -1.0, -1.0, -1.0, -1.0, -1.0, -1.0, -1.0, -1.0, -1.0, -1.0, -1.0, -1.0, -1.0, -1.0, -1.0, -1.0, -1.0, -1.0, -1.0, -1.0, -1.0, -1.0, -1.0, -1.0, -1.0, -1.0, -1.0, -1.0, -1.0, -1.0, -1.0, -1.0, -1.0, -1.0, -1.0, -1.0, -1.0, -1.0, -1.0, -1.0, -1.0, -1.0, -1.0, -1.0, -1.0, -1.0, -1.0, -1.0, -1.0, -1.0, -1.0, -1.0, -1.0, -1.0, -1.0, -1.0, -1.0, -1.0, -1.0, -1.0, -1.0, -1.0, -1.0, -1.0, -1.0, -1.0, -1.0, -1.0, -1.0, -1.0, -1.0, -1.0, -1.0, -1.0, -1.0, -1.0, -1.0, -1.0, -1.0, -1.0, -1.0, -1.0, -1.0, -1.0, -1.0, -1.0, -1.0, -1.0, -1.0, -1.0, -1.0, -1.0, -1.0, -1.0, -1.0, -1.0, -1.0, -1.0, -1.0, -1.0, -1.0, -1.0, -1.0, -1.0, -1.0, -1.0, -1.0, -1.0, -1.0, -1.0, -1.0, -1.0, -1.0, -1.0, -1.0, -1.0, -1.0, -1.0, -1.0, -1.0, -1.0, -1.0, -1.0, -1.0, -1.0, -1.0, -1.0, -1.0, -1.0, -1.0, -1.0, -1.0, -1.0, -1.0, -1.0, -1.0, -1.0, -1.0, -1.0, -1.0, -1.0, -1.0, -1.0, -1.0, -1.0, -1.0, -1.0, -1.0, -1.0, -1.0, -1.0, -1.0, -1.0, -1.0, -1.0, -1.0, -1.0, -1.0, -1.0, -1.0, -1.0, -1.0, -1.0, -1.0, -1.0, -1.0, -1.0, -1.0, -1.0, -1.0, -1.0, -1.0, -1.0, -1.0, -1.0, -1.0, -1.0, -1.0, -1.0, -1.0, -1.0, -1.0, -1.0, -1.0, -1.0, -1.0, -1.0, -1.0, -1.0, -1.0, -1.0, -1.0, -1.0, -1.0, -1.0, -1.0, -1.0, -1.0, -1.0, -1.0, -1.0, -1.0, -1.0, -1.0, -1.0, -1.0, -1.0, -1.0, -1.0, -1.0, -1.0, -1.0, -1.0, -1.0, -1.0, -1.0, -1.0, -1.0, -1.0, -1.0, -1.0, -1.0, -1.0, -1.0, -1.0, -1.0, -1.0, -1.0, -1.0, -1.0, -1.0, -1.0, -1.0, -1.0, -1.0, -1.0, -1.0, -1.0, -1.0, -1.0, -1.0, -1.0, -1.0, -1.0, -1.0, -1.0, -1.0, -1.0, -1.0, -1.0, -1.0, -1.0, -1.0, -1.0, -1.0, -1.0, -1.0, -1.0, -1.0, -1.0, -1.0, -1.0, -1.0, -1.0, -1.0, -1.0, -1.0, -1.0, -1.0, -1.0, -1.0, -1.0, -1.0, -1.0, -1.0, -1.0, -1.0, -1.0, -1.0, -1.0, -1.0, -1.0, -1.0, -1.0, -1.0, -1.0, -1.0, -1.0, -1.0, -1.0, -1.0, -1.0, -1.0, -1.0, -1.0, -1.0, -1.0, -1.0, -1.0, -1.0, -1.0, -1.0, -1.0, -1.0, -1.0, -1.0, -1.0, -1.0, -1.0, -1.0, -1.0, -1.0, -1.0, -1.0, -1.0, -1.0, -1.0, -1.0, -1.0, -1.0, -1.0, -1.0, -1.0, -1.0, -1.0, -1.0, -1.0, -1.0, -1.0, -1.0, -1.0, -1.0, -1.0, -1.0, -1.0, -1.0, -1.0, -1.0, -1.0, -1.0, -1.0, -1.0, -1.0, -1.0, -1.0, 1.0, -1.0, -1.0, 1.0, -1.0, -1.0, -1.0, -1.0, -1.0, -1.0, -1.0, -1.0, -1.0, -1.0, -1.0, -1.0, -1.0, 1.0, 1.0, 1.0, -1.0, -1.0, -1.0, -1.0, 1.0, 1.0, 1.0, 1.0, -1.0, 1.0, 1.0, 1.0, -1.0, 1.0, 1.0, 1.0, 1.0, -1.0, -1.0, -1.0, -1.0, -1.0, 1.0, 1.0, 1.0, -1.0, -1.0, -1.0, -1.0, -1.0, 1.0, -1.0, -1.0, -1.0, -1.0, -1.0, -1.0, -1.0, -1.0, -1.0, -1.0, -1.0, 1.0, -1.0, -1.0, -1.0, 1.0, -1.0, -1.0, -1.0, -1.0, -1.0, -1.0, -1.0, -1.0, -1.0, 1.0, -1.0, -1.0, -1.0, -1.0, -1.0, -1.0, 1.0, -1.0, 1.0, -1.0, -1.0, -1.0, 1.0, -1.0, -1.0, -1.0, -1.0, -1.0, -1.0, -1.0, -1.0, -1.0, -1.0, -1.0, -1.0, -1.0, -1.0, -1.0, -1.0, -1.0, -1.0, 1.0, -1.0, -1.0, -1.0, -1.0, -1.0, -1.0, -1.0, 1.0, -1.0, -1.0, -1.0, -1.0, 1.0, -1.0, -1.0, -1.0, -1.0, -1.0, -1.0, -1.0, -1.0, -1.0, -1.0, -1.0, -1.0, -1.0, -1.0, -1.0, -1.0, -1.0, -1.0, -1.0, -1.0, -1.0, -1.0, -1.0, -1.0, -1.0, -1.0, -1.0, -1.0, -1.0, -1.0, 1.0, -1.0, -1.0, -1.0, -1.0, -1.0, -1.0, -1.0, -1.0, -1.0, -1.0, -1.0, -1.0, -1.0, -1.0, -1.0, 1.0, -1.0, -1.0, 1.0, -1.0, -1.0, -1.0, -1.0, 1.0, 1.0, -1.0, -1.0, -1.0, 1.0, -1.0, -1.0, 1.0, -1.0, -1.0, 1.0, 1.0, 1.0, -1.0, -1.0, -1.0, 1.0, 1.0, 1.0, 1.0, 1.0, 1.0, 1.0, -1.0, 1.0, -1.0, -1.0, -1.0, 1.0, 1.0, -1.0, -1.0, 1.0, 1.0, -1.0, 1.0, -1.0, 1.0, -1.0, -1.0, 1.0, -1.0, 1.0, 1.0, -1.0, -1.0, 1.0, 1.0, 1.0, -1.0, 1.0, 1.0, -1.0, -1.0, 1.0, 1.0, -1.0, 1.0, -1.0, 1.0, -1.0, -1.0, 1.0, 1.0, 1.0, 1.0, -1.0, 1.0, 1.0, 1.0, -1.0, -1.0, 1.0, -1.0, -1.0, 1.0, 1.0, 1.0, 1.0, 1.0, 1.0, -1.0, -1.0, -1.0, -1.0, -1.0, -1.0, -1.0, -1.0, -1.0, -1.0, -1.0, -1.0, -1.0, -1.0, -1.0, -1.0, -1.0, -1.0, -1.0, -1.0, -1.0, -1.0, -1.0, -1.0, -1.0, -1.0, -1.0, -1.0, -1.0, -1.0, -1.0, -1.0, -1.0, 1.0, -1.0, -1.0, -1.0, -1.0, -1.0, -1.0, -1.0, -1.0, -1.0, -1.0, -1.0, -1.0, -1.0, -1.0, -1.0, -1.0, -1.0, -1.0, -1.0, -1.0, -1.0, -1.0, -1.0, -1.0, -1.0, -1.0, -1.0, -1.0, -1.0, -1.0, -1.0, -1.0, -1.0, -1.0, -1.0, -1.0, -1.0, -1.0, -1.0, -1.0, -1.0, -1.0, -1.0, -1.0, -1.0, -1.0, -1.0, -1.0, -1.0, -1.0, -1.0, -1.0, -1.0, -1.0, -1.0, -1.0, -1.0, -1.0, -1.0, 1.0, -1.0, -1.0, -1.0, -1.0, -1.0, -1.0, -1.0, 1.0, -1.0, -1.0, -1.0, -1.0, -1.0, -1.0, -1.0, 1.0, -1.0, -1.0, -1.0, -1.0, -1.0, -1.0, -1.0, -1.0, -1.0, -1.0, -1.0, -1.0, 1.0, -1.0, 1.0, -1.0, -1.0, 1.0, 1.0, 1.0, -1.0, 1.0, -1.0, -1.0, -1.0, -1.0, -1.0, -1.0, -1.0, 1.0, -1.0, -1.0, 1.0, -1.0, -1.0, 1.0, -1.0, 1.0, -1.0, 1.0, -1.0, 1.0, -1.0, -1.0, 1.0, -1.0, -1.0, -1.0, 1.0, 1.0, -1.0, -1.0, -1.0, 1.0, -1.0, 1.0, 1.0, -1.0, 1.0, 1.0, -1.0, -1.0, 1.0, -1.0, 1.0, -1.0, -1.0, 1.0, -1.0, -1.0, -1.0, 1.0, -1.0, -1.0, 1.0, -1.0, -1.0, -1.0, -1.0, -1.0, -1.0, -1.0, -1.0, -1.0, -1.0, -1.0, -1.0, -1.0, -1.0, -1.0, -1.0, -1.0, -1.0, -1.0, -1.0, -1.0, -1.0, -1.0, -1.0, -1.0, -1.0, -1.0, -1.0, -1.0, -1.0, -1.0, -1.0, -1.0, -1.0, -1.0, -1.0, -1.0, -1.0, -1.0, -1.0, -1.0, -1.0, -1.0, -1.0, -1.0, -1.0, -1.0, -1.0, -1.0, -1.0, -1.0, -1.0, -1.0, -1.0, -1.0, -1.0, -1.0, -1.0, -1.0, -1.0, -1.0, -1.0, -1.0, -1.0, -1.0, -1.0, -1.0, -1.0, -1.0, -1.0, -1.0, -1.0, -1.0, -1.0, -1.0, -1.0, -1.0, -1.0, -1.0, -1.0, -1.0, -1.0, -1.0, -1.0, -1.0, -1.0, -1.0, -1.0, -1.0, -1.0, -1.0, -1.0, -1.0, -1.0, -1.0, -1.0, -1.0, -1.0, 1.0, -1.0, -1.0, -1.0, 1.0, -1.0, -1.0, -1.0, -1.0, -1.0, -1.0, 1.0, -1.0, -1.0, -1.0, -1.0, -1.0, -1.0, 1.0, 1.0, -1.0, -1.0, -1.0, 1.0, 1.0, -1.0, -1.0, -1.0, -1.0, -1.0, 1.0, -1.0, -1.0, -1.0, -1.0, -1.0, -1.0, 1.0, 1.0, -1.0, 1.0, -1.0, 1.0, -1.0, 1.0, 1.0, 1.0, -1.0, -1.0, 1.0, 1.0, -1.0, -1.0, 1.0, -1.0, 1.0, -1.0, -1.0, 1.0, -1.0, 1.0, -1.0, -1.0, -1.0, 1.0, -1.0, -1.0, 1.0, -1.0, -1.0, 1.0, 1.0, -1.0, -1.0, -1.0, -1.0, -1.0, -1.0, -1.0, -1.0, -1.0, -1.0, -1.0, 1.0, -1.0, -1.0, -1.0, -1.0, -1.0, -1.0, -1.0, -1.0, -1.0, -1.0, -1.0, 1.0, -1.0, -1.0, -1.0, 1.0, 1.0, -1.0, -1.0, -1.0, -1.0, -1.0, -1.0, -1.0, -1.0, -1.0, -1.0, 1.0, -1.0, -1.0, -1.0, -1.0, -1.0, -1.0, -1.0, -1.0, -1.0, -1.0, -1.0, -1.0, -1.0, -1.0, -1.0, -1.0, -1.0, -1.0, -1.0, -1.0, -1.0, -1.0, -1.0, -1.0, -1.0, -1.0, -1.0, -1.0, -1.0, -1.0, -1.0, -1.0, -1.0, -1.0, -1.0, -1.0, -1.0, -1.0, -1.0, -1.0, -1.0, -1.0, -1.0, -1.0, -1.0, -1.0, 1.0, -1.0, -1.0, 1.0, -1.0, -1.0, 1.0, -1.0, -1.0, -1.0, -1.0, -1.0, -1.0, -1.0, -1.0, -1.0, -1.0, -1.0, -1.0, -1.0, -1.0, -1.0, -1.0, -1.0, -1.0, -1.0, -1.0, -1.0, -1.0, -1.0, -1.0, -1.0, -1.0, -1.0, -1.0, -1.0, -1.0, -1.0, -1.0, -1.0, -1.0, -1.0, -1.0, -1.0, -1.0, -1.0, -1.0, -1.0, -1.0, -1.0, -1.0, -1.0, -1.0, -1.0, 1.0, -1.0, -1.0, -1.0, -1.0, -1.0, -1.0, -1.0, -1.0, -1.0, -1.0, -1.0, -1.0, -1.0, -1.0, -1.0, -1.0, 1.0, -1.0, -1.0, -1.0, -1.0, -1.0, -1.0, -1.0, 1.0, -1.0, -1.0, -1.0, -1.0, -1.0, -1.0, -1.0, -1.0, -1.0, -1.0, -1.0, -1.0, -1.0, -1.0, -1.0, -1.0, -1.0, -1.0, 1.0, -1.0, -1.0, 1.0, -1.0, 1.0, -1.0, 1.0, -1.0, 1.0, 1.0, 1.0, 1.0, -1.0, -1.0, -1.0, -1.0, -1.0, -1.0, -1.0, -1.0, -1.0, -1.0, -1.0, -1.0, -1.0, -1.0, -1.0, -1.0, -1.0, -1.0, -1.0, -1.0, -1.0, -1.0, -1.0, -1.0, -1.0, -1.0, -1.0, -1.0, -1.0, -1.0, -1.0, -1.0, -1.0, -1.0, -1.0, -1.0, -1.0, -1.0, -1.0, -1.0, -1.0, -1.0, -1.0, -1.0, -1.0, -1.0, -1.0, -1.0, -1.0, -1.0, -1.0, -1.0, -1.0, -1.0, -1.0, -1.0, -1.0, -1.0, -1.0, -1.0, -1.0, -1.0, -1.0, -1.0, -1.0, -1.0, -1.0, -1.0, 1.0, -1.0, -1.0, -1.0, -1.0, -1.0, -1.0, -1.0, -1.0, -1.0, -1.0, -1.0, -1.0, -1.0, -1.0, -1.0, -1.0, -1.0, -1.0, -1.0, -1.0, -1.0, -1.0, -1.0, -1.0, -1.0, -1.0, -1.0, -1.0, -1.0, -1.0, -1.0, -1.0, -1.0, -1.0, -1.0, -1.0, -1.0, -1.0, -1.0, -1.0, -1.0, -1.0, -1.0, -1.0, -1.0, -1.0, -1.0, -1.0, -1.0, -1.0, -1.0, -1.0, -1.0, -1.0, -1.0, -1.0, -1.0, -1.0, -1.0, -1.0, -1.0, -1.0, -1.0, -1.0, -1.0, -1.0, -1.0, -1.0, -1.0, -1.0, -1.0, -1.0, -1.0, -1.0, -1.0, -1.0, -1.0, -1.0, -1.0, -1.0, -1.0, -1.0, -1.0, -1.0, -1.0, -1.0, -1.0, -1.0, -1.0, -1.0, -1.0, -1.0, -1.0, -1.0, -1.0, -1.0, -1.0, -1.0, -1.0, -1.0, -1.0, -1.0, -1.0, -1.0, -1.0, -1.0, -1.0, -1.0, -1.0, -1.0, -1.0, -1.0, -1.0, -1.0, -1.0, -1.0, -1.0, -1.0, -1.0, -1.0, -1.0, -1.0, -1.0, -1.0, -1.0, -1.0, -1.0, -1.0, -1.0, -1.0, -1.0, -1.0, -1.0, -1.0, -1.0, -1.0, -1.0, -1.0, -1.0, -1.0, -1.0, -1.0, -1.0, -1.0, -1.0, -1.0, -1.0, -1.0, -1.0, -1.0, -1.0, -1.0, -1.0, -1.0, -1.0, -1.0, -1.0, -1.0, -1.0, -1.0, -1.0, -1.0, -1.0, -1.0, -1.0, -1.0, -1.0, -1.0, -1.0, -1.0, -1.0, -1.0, -1.0, -1.0, -1.0, -1.0, -1.0, -1.0, -1.0, -1.0, -1.0, -1.0, -1.0, -1.0, -1.0, -1.0, -1.0, -1.0, -1.0, -1.0, -1.0, -1.0, -1.0, -1.0, -1.0, -1.0, -1.0, -1.0, -1.0, -1.0, -1.0, -1.0, -1.0, -1.0, -1.0, 1.0, -1.0, -1.0, -1.0, -1.0, -1.0, -1.0, -1.0, -1.0, -1.0, -1.0, -1.0, -1.0, -1.0, -1.0, -1.0, -1.0, -1.0, -1.0, -1.0, -1.0, -1.0, -1.0, -1.0, -1.0, -1.0, -1.0, -1.0, -1.0, -1.0, -1.0, -1.0, -1.0, -1.0, -1.0, -1.0, -1.0, -1.0, -1.0, -1.0, -1.0, -1.0, -1.0, -1.0, -1.0, -1.0, -1.0, -1.0, -1.0, -1.0, -1.0, -1.0, -1.0, -1.0, -1.0, -1.0, -1.0, -1.0, -1.0, -1.0, -1.0, -1.0, -1.0, -1.0, -1.0, -1.0, -1.0, -1.0, -1.0, -1.0, -1.0, -1.0, -1.0, -1.0, -1.0, -1.0, -1.0, -1.0, -1.0, -1.0, -1.0, -1.0, -1.0, -1.0, -1.0, -1.0, -1.0, -1.0, -1.0, -1.0, -1.0, -1.0, -1.0, -1.0, -1.0, -1.0, -1.0, -1.0, -1.0, -1.0, -1.0, -1.0, -1.0, -1.0, -1.0, -1.0, -1.0, -1.0, -1.0, -1.0, -1.0, -1.0, -1.0, -1.0, -1.0, -1.0, -1.0, -1.0, -1.0, -1.0, -1.0, -1.0, -1.0, -1.0, -1.0, -1.0, -1.0, -1.0, -1.0, -1.0, -1.0, -1.0, -1.0, -1.0, -1.0, -1.0, -1.0, -1.0, -1.0, -1.0, -1.0, -1.0, -1.0, -1.0, -1.0, -1.0, -1.0, -1.0, -1.0, -1.0, -1.0, -1.0, -1.0, -1.0, -1.0, -1.0, -1.0, -1.0, -1.0, -1.0, -1.0, -1.0, -1.0, -1.0, -1.0, -1.0, -1.0, -1.0, -1.0, -1.0, -1.0, -1.0, -1.0, -1.0, -1.0, -1.0, -1.0, -1.0, -1.0, -1.0, -1.0, -1.0, -1.0, -1.0, -1.0, -1.0, -1.0, -1.0, -1.0, -1.0, -1.0, -1.0, -1.0, -1.0, -1.0, -1.0, -1.0, -1.0, -1.0, -1.0, -1.0, -1.0, -1.0, -1.0, -1.0, -1.0, -1.0, -1.0, -1.0, -1.0, -1.0, -1.0, -1.0, -1.0, -1.0, -1.0, -1.0, -1.0, -1.0, -1.0, -1.0, -1.0, -1.0, -1.0, -1.0, -1.0, -1.0, -1.0, -1.0, 1.0, -1.0, -1.0, -1.0, -1.0, -1.0, -1.0, -1.0, -1.0, -1.0, -1.0, -1.0, -1.0, -1.0, -1.0, -1.0, -1.0, -1.0, -1.0, -1.0, -1.0, -1.0, -1.0, -1.0, 1.0, -1.0, -1.0, -1.0, -1.0, -1.0, -1.0, -1.0, -1.0, -1.0, -1.0, -1.0, -1.0, -1.0, -1.0, -1.0, -1.0, -1.0, -1.0, -1.0, -1.0, -1.0, -1.0, -1.0, -1.0, -1.0, -1.0, -1.0, -1.0, -1.0, -1.0, -1.0, -1.0, -1.0, -1.0, -1.0, -1.0, -1.0, -1.0, -1.0, -1.0, -1.0, -1.0, -1.0, -1.0, -1.0, -1.0, -1.0, -1.0, -1.0, -1.0, -1.0, -1.0, -1.0, -1.0, -1.0, -1.0, -1.0, -1.0, -1.0, -1.0, -1.0, -1.0, -1.0, -1.0, -1.0, -1.0, -1.0, -1.0, -1.0, -1.0, -1.0, -1.0, -1.0, -1.0, -1.0, 1.0, -1.0, -1.0, -1.0, -1.0, -1.0, -1.0, -1.0, -1.0, -1.0, -1.0, -1.0, 1.0, -1.0, 1.0, -1.0, -1.0, 1.0, -1.0, -1.0, 1.0, 1.0, 1.0, -1.0, 1.0, 1.0, -1.0, -1.0, -1.0, -1.0, -1.0, -1.0, -1.0, -1.0, -1.0, -1.0, -1.0, -1.0, -1.0, -1.0, -1.0, -1.0, -1.0, -1.0, -1.0, -1.0, -1.0, -1.0, -1.0, -1.0, -1.0, -1.0, -1.0, -1.0, -1.0, -1.0, -1.0, -1.0, -1.0, -1.0, -1.0, -1.0, -1.0, 1.0, -1.0, -1.0, -1.0, -1.0, -1.0, -1.0, -1.0, -1.0, -1.0, -1.0, -1.0, -1.0, -1.0, -1.0, -1.0, -1.0, -1.0, -1.0, -1.0, -1.0, -1.0, -1.0, -1.0, -1.0, -1.0, -1.0, -1.0, -1.0, -1.0, -1.0, -1.0, -1.0, -1.0, -1.0, -1.0, -1.0, -1.0, -1.0, -1.0, -1.0, -1.0, -1.0, -1.0, -1.0, -1.0, -1.0, -1.0, -1.0, -1.0, -1.0, -1.0, -1.0, -1.0, -1.0, -1.0, -1.0, -1.0, -1.0, -1.0, -1.0, -1.0, -1.0, -1.0, -1.0, -1.0, -1.0, -1.0, -1.0, -1.0, -1.0, -1.0, -1.0, -1.0, -1.0, -1.0, -1.0, -1.0, -1.0, -1.0, -1.0, -1.0, -1.0, -1.0, -1.0, -1.0, -1.0, -1.0, -1.0, -1.0, -1.0, -1.0, -1.0, -1.0, -1.0, -1.0, -1.0, -1.0, -1.0, -1.0, -1.0, -1.0, -1.0, -1.0, -1.0, -1.0, -1.0, -1.0, -1.0, -1.0, -1.0, -1.0, -1.0, -1.0, -1.0, -1.0, -1.0, -1.0, -1.0, -1.0, -1.0, -1.0, -1.0, -1.0, -1.0, -1.0, -1.0, -1.0, -1.0, -1.0, -1.0, -1.0, -1.0, -1.0, -1.0, -1.0, -1.0, -1.0, -1.0, -1.0, -1.0, -1.0, -1.0, -1.0, -1.0, -1.0, -1.0, -1.0, -1.0, -1.0, -1.0, -1.0, -1.0, -1.0, -1.0, -1.0, -1.0, -1.0, -1.0, -1.0, -1.0, -1.0, -1.0, -1.0, -1.0, -1.0, -1.0, -1.0, -1.0, 1.0, -1.0, -1.0, -1.0, -1.0, -1.0, -1.0, -1.0, -1.0, -1.0, -1.0, -1.0, -1.0, -1.0, -1.0, -1.0, -1.0, -1.0, -1.0, -1.0, -1.0, -1.0, -1.0, -1.0, -1.0, -1.0, -1.0, -1.0, -1.0, -1.0, -1.0, -1.0, -1.0, -1.0, -1.0, -1.0, -1.0, -1.0, -1.0, -1.0, -1.0, -1.0, -1.0, -1.0, -1.0, -1.0, -1.0, -1.0, -1.0, -1.0, -1.0, -1.0, -1.0, -1.0, -1.0, -1.0, -1.0, -1.0, -1.0, -1.0, -1.0, 1.0, -1.0, -1.0, -1.0, -1.0, -1.0, -1.0, -1.0, -1.0, -1.0, -1.0, -1.0, -1.0, -1.0, -1.0, -1.0, -1.0, -1.0, -1.0, -1.0, -1.0, -1.0, -1.0, -1.0, -1.0, -1.0, -1.0, -1.0, -1.0, -1.0, -1.0, -1.0, -1.0, -1.0, -1.0, -1.0, -1.0, -1.0, -1.0, -1.0, -1.0, -1.0, -1.0, -1.0, -1.0, -1.0, -1.0, -1.0, -1.0, -1.0, -1.0, -1.0, -1.0, -1.0, -1.0, -1.0, -1.0, -1.0, -1.0, -1.0, -1.0, -1.0, -1.0, -1.0, -1.0, -1.0, -1.0, 1.0, -1.0, -1.0, -1.0, -1.0, -1.0, -1.0, -1.0, -1.0, -1.0, -1.0, -1.0, -1.0, -1.0, -1.0, -1.0, -1.0, -1.0, -1.0, -1.0, -1.0, -1.0, -1.0, -1.0, -1.0, -1.0, -1.0, -1.0, -1.0, -1.0, -1.0, 1.0, -1.0, -1.0, 1.0, -1.0, -1.0, -1.0, -1.0, -1.0, -1.0, -1.0, -1.0, -1.0, -1.0, -1.0, -1.0, -1.0, -1.0, -1.0, -1.0, -1.0, -1.0, -1.0, -1.0, -1.0, -1.0, -1.0, -1.0, -1.0, 1.0, -1.0, -1.0, -1.0, -1.0, -1.0, -1.0, -1.0, -1.0, -1.0, -1.0, -1.0, -1.0, -1.0, -1.0, -1.0, -1.0, 1.0, -1.0, -1.0, -1.0, -1.0, -1.0, -1.0, -1.0, -1.0, -1.0, -1.0, -1.0, -1.0, -1.0, -1.0, -1.0, -1.0, -1.0, -1.0, -1.0, -1.0, -1.0, 1.0, 1.0, -1.0, -1.0, -1.0, -1.0, -1.0, -1.0, -1.0, -1.0, -1.0, -1.0, -1.0, -1.0, -1.0, -1.0, -1.0, -1.0, 1.0, -1.0, -1.0, -1.0, -1.0, -1.0, -1.0, 1.0, -1.0, -1.0, 1.0, -1.0, -1.0, -1.0, -1.0, 1.0, -1.0, -1.0, -1.0, -1.0, -1.0, -1.0, -1.0, -1.0, -1.0, -1.0, -1.0, 1.0, -1.0, -1.0, -1.0, 1.0, -1.0, -1.0, -1.0, -1.0, -1.0, -1.0, -1.0, -1.0, -1.0, -1.0, 1.0, -1.0, 1.0, 1.0, -1.0, -1.0, -1.0, 1.0, -1.0, -1.0, 1.0, -1.0, -1.0, 1.0, 1.0, -1.0, -1.0, -1.0, -1.0, -1.0, -1.0, -1.0, -1.0, 1.0, 1.0, -1.0, -1.0, -1.0, -1.0, -1.0, 1.0, -1.0, -1.0, -1.0, -1.0, -1.0, -1.0, -1.0, -1.0, 1.0, -1.0, -1.0, -1.0, 1.0, 1.0, -1.0, -1.0, -1.0, -1.0, -1.0, -1.0, -1.0, -1.0, -1.0, -1.0, -1.0, -1.0, 1.0, -1.0, -1.0, -1.0, -1.0, -1.0, -1.0, -1.0, -1.0, -1.0, -1.0, -1.0, 1.0, -1.0, -1.0, -1.0, -1.0, -1.0, 1.0, -1.0, 1.0, -1.0, -1.0, -1.0, -1.0, -1.0, -1.0, 1.0, -1.0, -1.0, -1.0, -1.0, 1.0, 1.0, 1.0, -1.0, 1.0, -1.0, 1.0, -1.0, -1.0, -1.0, -1.0, -1.0, -1.0, -1.0, -1.0, -1.0, 1.0, -1.0, 1.0, 1.0, -1.0, -1.0, -1.0, -1.0, -1.0, -1.0, -1.0, -1.0, -1.0, -1.0, -1.0, -1.0, -1.0, -1.0, -1.0, -1.0, -1.0, -1.0, -1.0, -1.0, -1.0, -1.0, -1.0, -1.0, -1.0, -1.0, -1.0, -1.0, -1.0, -1.0, -1.0, -1.0, -1.0, -1.0, -1.0, -1.0, -1.0, -1.0, -1.0, -1.0, -1.0, -1.0, -1.0, -1.0, -1.0, -1.0, -1.0, -1.0, -1.0, -1.0, -1.0, -1.0, -1.0, -1.0, -1.0, -1.0, -1.0, -1.0, -1.0, -1.0, -1.0, -1.0, -1.0, -1.0, -1.0, -1.0, -1.0, -1.0, -1.0, -1.0, -1.0, -1.0, -1.0, -1.0, -1.0, -1.0, -1.0, -1.0, -1.0, -1.0, -1.0, -1.0, -1.0, -1.0, -1.0, -1.0, -1.0, -1.0, -1.0, -1.0, -1.0, -1.0, -1.0, -1.0, -1.0, -1.0, -1.0, -1.0, -1.0, -1.0, -1.0, -1.0, -1.0, -1.0, -1.0, -1.0, -1.0, 1.0, -1.0, 1.0, -1.0, 1.0, -1.0, -1.0, -1.0, -1.0, 1.0, -1.0, 1.0, 1.0, -1.0, 1.0, 1.0, 1.0, 1.0, 1.0, -1.0, 1.0, -1.0, -1.0, -1.0, 1.0, 1.0, -1.0, -1.0, -1.0, -1.0, -1.0, -1.0, -1.0, -1.0, -1.0, -1.0, -1.0, -1.0, -1.0, -1.0, -1.0, -1.0, -1.0, -1.0, -1.0, -1.0, -1.0, -1.0, -1.0, -1.0, -1.0, -1.0, -1.0, -1.0, -1.0, -1.0, -1.0, -1.0, -1.0, -1.0, -1.0, -1.0, -1.0, -1.0, -1.0, -1.0, -1.0, -1.0, -1.0, -1.0, -1.0, -1.0, -1.0, -1.0, -1.0, -1.0, -1.0, -1.0, -1.0, -1.0, -1.0, -1.0, -1.0, -1.0, -1.0, -1.0, -1.0, -1.0, -1.0, -1.0, -1.0, -1.0, -1.0, -1.0, -1.0, -1.0, -1.0, -1.0, -1.0, -1.0, -1.0, -1.0, -1.0, -1.0, -1.0, 1.0, -1.0, -1.0, -1.0, -1.0, -1.0, -1.0, -1.0, -1.0, -1.0, -1.0, -1.0, -1.0, -1.0, -1.0, -1.0, -1.0, -1.0, -1.0, -1.0, -1.0, -1.0, 1.0, -1.0, -1.0, -1.0, -1.0, -1.0, -1.0, -1.0, -1.0, 1.0, -1.0, -1.0, -1.0, -1.0, -1.0, -1.0, -1.0, -1.0, -1.0, -1.0, -1.0, -1.0, 1.0, -1.0, -1.0, -1.0, -1.0, -1.0, -1.0, -1.0, -1.0, -1.0, -1.0, -1.0, -1.0, -1.0, -1.0, -1.0, -1.0, -1.0, -1.0, -1.0, -1.0, -1.0, -1.0, -1.0, -1.0, -1.0, -1.0, -1.0, -1.0, -1.0, -1.0, -1.0, -1.0, -1.0, -1.0, -1.0, -1.0, -1.0, -1.0, -1.0, -1.0, -1.0, -1.0, -1.0, -1.0, -1.0, -1.0, -1.0, -1.0, -1.0, -1.0, -1.0, -1.0, -1.0, -1.0, -1.0, 1.0, -1.0, -1.0, -1.0, -1.0, -1.0, -1.0, -1.0, -1.0, -1.0, -1.0, -1.0, -1.0, -1.0, -1.0, -1.0, -1.0, -1.0, -1.0, -1.0, -1.0, -1.0, -1.0, -1.0, -1.0, -1.0, -1.0, -1.0, -1.0, -1.0, -1.0, -1.0, -1.0, -1.0, -1.0, -1.0, -1.0, -1.0, -1.0, -1.0, -1.0, -1.0, -1.0, -1.0, -1.0, -1.0, -1.0, -1.0, -1.0, -1.0, -1.0, 1.0, -1.0, -1.0, -1.0, -1.0, -1.0, -1.0, -1.0, -1.0, -1.0, 1.0, -1.0, -1.0, -1.0, -1.0, -1.0, -1.0, -1.0, -1.0, -1.0, -1.0, -1.0, -1.0, -1.0, -1.0, -1.0, -1.0, -1.0, -1.0, -1.0, -1.0, -1.0, -1.0, -1.0, -1.0, -1.0, -1.0, -1.0, -1.0, -1.0, -1.0, -1.0, -1.0, -1.0, -1.0, 1.0, -1.0, -1.0, -1.0, -1.0, -1.0, -1.0, -1.0, -1.0, -1.0, -1.0, -1.0, -1.0, -1.0, -1.0, -1.0, -1.0, -1.0, -1.0, -1.0, -1.0, -1.0, -1.0, -1.0, -1.0, -1.0, -1.0, -1.0, -1.0, -1.0, -1.0, -1.0, -1.0, -1.0, -1.0, -1.0, -1.0, -1.0, -1.0, -1.0, -1.0, 1.0, -1.0, -1.0, -1.0, -1.0, -1.0, -1.0, -1.0, -1.0, -1.0, -1.0, -1.0, -1.0, -1.0, -1.0, -1.0, -1.0, -1.0, -1.0, -1.0, -1.0, -1.0, -1.0, -1.0, -1.0, -1.0, -1.0, 1.0, -1.0, -1.0, -1.0, -1.0, -1.0, -1.0, -1.0, -1.0, -1.0, -1.0, -1.0, -1.0, -1.0, -1.0, -1.0, -1.0, -1.0, -1.0, -1.0, -1.0, -1.0, -1.0, -1.0, -1.0, -1.0, -1.0, -1.0, -1.0, -1.0, -1.0, -1.0, -1.0, -1.0, -1.0, -1.0, -1.0, -1.0, -1.0, -1.0, -1.0, -1.0, -1.0, -1.0, -1.0, -1.0, -1.0, -1.0, -1.0, -1.0, -1.0, -1.0, -1.0, -1.0, -1.0, -1.0, -1.0, -1.0, -1.0, -1.0, -1.0, -1.0, -1.0, -1.0, -1.0, -1.0, -1.0, -1.0, -1.0, -1.0, -1.0, -1.0, -1.0, -1.0, -1.0, -1.0, -1.0, -1.0, -1.0, -1.0, -1.0, -1.0, -1.0, -1.0, -1.0, -1.0, -1.0, -1.0, -1.0, -1.0, -1.0, -1.0, -1.0, -1.0, -1.0, -1.0, -1.0, -1.0, -1.0, -1.0, -1.0, -1.0, -1.0, -1.0, -1.0, -1.0, -1.0, -1.0, -1.0, -1.0, -1.0, -1.0, -1.0, -1.0, -1.0, -1.0, -1.0, -1.0, -1.0, -1.0, -1.0, -1.0, -1.0, -1.0, -1.0, -1.0, -1.0, -1.0, -1.0, -1.0, -1.0, -1.0, -1.0, -1.0, -1.0, -1.0, -1.0, -1.0, -1.0, -1.0, -1.0, -1.0, -1.0, -1.0, 1.0, -1.0, -1.0, -1.0, -1.0, -1.0, -1.0, -1.0, -1.0, -1.0, -1.0, -1.0, -1.0, -1.0, -1.0, -1.0, -1.0, 1.0, -1.0, 1.0, -1.0, -1.0, -1.0, -1.0, -1.0, 1.0, 1.0, 1.0, 1.0, -1.0, 1.0, 1.0, -1.0, 1.0, 1.0, -1.0, 1.0, -1.0, 1.0, 1.0, -1.0, 1.0, -1.0, -1.0, -1.0, -1.0, -1.0, -1.0, -1.0, -1.0, -1.0, -1.0, -1.0, -1.0, -1.0, -1.0, -1.0, -1.0, -1.0, -1.0, -1.0, -1.0, -1.0, -1.0, -1.0, -1.0, -1.0, -1.0, -1.0, -1.0, -1.0, -1.0, -1.0, -1.0, -1.0, -1.0, -1.0, -1.0, -1.0, -1.0, -1.0, -1.0, -1.0, -1.0, -1.0, -1.0, -1.0, -1.0, -1.0, -1.0, -1.0, -1.0, -1.0, -1.0, -1.0, -1.0, -1.0, -1.0, -1.0, -1.0, -1.0, -1.0, -1.0, -1.0, -1.0, -1.0, -1.0, -1.0, -1.0, -1.0, -1.0, -1.0, -1.0, -1.0, -1.0, -1.0, -1.0, -1.0, -1.0, -1.0, -1.0, -1.0, -1.0, -1.0, -1.0, -1.0, -1.0, -1.0, -1.0, -1.0, -1.0, -1.0, -1.0, -1.0, -1.0, -1.0, -1.0, -1.0, -1.0, -1.0, -1.0, -1.0, -1.0, -1.0, -1.0, -1.0, -1.0, -1.0, -1.0, -1.0, -1.0, -1.0, -1.0, -1.0, -1.0, -1.0, -1.0, -1.0, -1.0, -1.0, -1.0, -1.0, -1.0, -1.0, -1.0, -1.0, -1.0, -1.0, -1.0, -1.0, -1.0, -1.0, -1.0, -1.0, -1.0, -1.0, -1.0, -1.0, -1.0, -1.0, -1.0, -1.0, -1.0, -1.0, -1.0, -1.0, -1.0, -1.0, -1.0, -1.0, -1.0, -1.0, -1.0, -1.0, -1.0, -1.0, -1.0, -1.0, -1.0, -1.0, -1.0, -1.0, -1.0, -1.0, -1.0, -1.0, -1.0, -1.0, -1.0, -1.0, -1.0, -1.0, -1.0, -1.0, -1.0, -1.0, -1.0, -1.0, -1.0, -1.0, -1.0, -1.0, -1.0, -1.0, -1.0, -1.0, -1.0, -1.0, -1.0, -1.0, -1.0, -1.0, -1.0, -1.0, -1.0, -1.0, -1.0, -1.0, -1.0, -1.0, -1.0, -1.0, -1.0, -1.0, -1.0, -1.0, -1.0, -1.0, -1.0, -1.0, -1.0, -1.0, -1.0, -1.0, -1.0, -1.0, -1.0, -1.0, -1.0, -1.0, -1.0, -1.0, -1.0, -1.0, -1.0, -1.0, -1.0, -1.0, -1.0, -1.0, -1.0, -1.0, -1.0, -1.0, -1.0, -1.0, -1.0, -1.0, -1.0, -1.0, -1.0, -1.0, -1.0, -1.0, -1.0, -1.0, -1.0, -1.0, -1.0, -1.0, -1.0, -1.0, -1.0, -1.0, -1.0, -1.0, -1.0, -1.0, -1.0, -1.0, -1.0, -1.0, -1.0, -1.0, -1.0, -1.0, -1.0, -1.0, -1.0, -1.0, -1.0, -1.0, -1.0, -1.0, -1.0, -1.0, -1.0, -1.0, -1.0, -1.0, -1.0, -1.0, -1.0, -1.0, -1.0, -1.0, -1.0, -1.0, -1.0, -1.0, -1.0, -1.0, -1.0, -1.0, -1.0, -1.0, -1.0, -1.0, -1.0, -1.0, -1.0, -1.0, -1.0, -1.0, -1.0, -1.0, -1.0, -1.0, -1.0, -1.0, -1.0, -1.0, -1.0, -1.0, -1.0, -1.0, -1.0, -1.0, -1.0, -1.0, -1.0, -1.0, -1.0, -1.0, -1.0, -1.0, -1.0, -1.0, -1.0, 1.0, -1.0, -1.0, -1.0, 1.0, 1.0, 1.0, 1.0, 1.0, -1.0, 1.0, 1.0, 1.0, 1.0, 1.0, 1.0, 1.0, 1.0, -1.0, -1.0, -1.0, 1.0, 1.0, -1.0, 1.0, -1.0, -1.0, -1.0, -1.0, -1.0, -1.0, -1.0, -1.0, -1.0, -1.0, -1.0, -1.0, -1.0, -1.0, -1.0, -1.0, -1.0, -1.0, -1.0, -1.0, -1.0, -1.0, -1.0, -1.0, 1.0, -1.0, -1.0, -1.0, -1.0, -1.0, -1.0, -1.0, -1.0, -1.0, -1.0, -1.0, -1.0, -1.0, -1.0, -1.0, -1.0, -1.0, -1.0, -1.0, -1.0, -1.0, -1.0, -1.0, -1.0, -1.0, -1.0, -1.0, -1.0, -1.0, -1.0, -1.0, -1.0, -1.0, -1.0, -1.0, -1.0, -1.0, -1.0, -1.0, -1.0, -1.0, -1.0, -1.0, -1.0, -1.0, -1.0, -1.0, -1.0, -1.0, -1.0, -1.0, -1.0, -1.0, -1.0, -1.0, -1.0, -1.0, -1.0, -1.0, -1.0, -1.0, -1.0, -1.0, -1.0, -1.0, -1.0, -1.0, -1.0, -1.0, -1.0, -1.0, -1.0, -1.0, -1.0, -1.0, -1.0, -1.0, -1.0, -1.0, -1.0, -1.0, -1.0, -1.0, -1.0, -1.0, -1.0, -1.0, -1.0, -1.0, -1.0, -1.0, -1.0, -1.0, -1.0, -1.0, -1.0, -1.0, -1.0, -1.0, -1.0, -1.0, -1.0, -1.0, -1.0, -1.0, -1.0, -1.0, -1.0, -1.0, -1.0, -1.0, -1.0, -1.0, -1.0, -1.0, -1.0, -1.0, -1.0, -1.0, -1.0, -1.0, -1.0, -1.0, -1.0, -1.0, -1.0, -1.0, -1.0, -1.0, -1.0, -1.0, -1.0, -1.0, -1.0, -1.0, -1.0, -1.0, -1.0, -1.0, -1.0, -1.0, -1.0, -1.0, -1.0, -1.0, -1.0, -1.0, -1.0, -1.0, -1.0, -1.0, -1.0, -1.0, -1.0, -1.0, -1.0, -1.0, -1.0, -1.0, -1.0, -1.0, -1.0, -1.0, -1.0, -1.0, -1.0, -1.0, -1.0, -1.0, -1.0, -1.0, -1.0, -1.0, -1.0, -1.0, -1.0, -1.0, -1.0, -1.0, -1.0, -1.0, -1.0, -1.0, -1.0, -1.0, -1.0, -1.0, 1.0, -1.0, -1.0, -1.0, -1.0, -1.0, -1.0, -1.0, -1.0, 1.0, -1.0, -1.0, -1.0, -1.0, -1.0, -1.0, -1.0, -1.0, -1.0, -1.0, -1.0, -1.0, -1.0, -1.0, -1.0, -1.0, -1.0, -1.0, -1.0, -1.0, -1.0, -1.0, -1.0, -1.0, -1.0, -1.0, -1.0, -1.0, -1.0, -1.0, -1.0, -1.0, -1.0, -1.0, -1.0, -1.0, -1.0, -1.0, 1.0, -1.0, -1.0, -1.0, -1.0, -1.0, -1.0, -1.0, -1.0, -1.0, -1.0, -1.0, -1.0, -1.0, -1.0, -1.0, -1.0, -1.0, -1.0, -1.0, -1.0, -1.0, -1.0, -1.0, -1.0, -1.0, -1.0, -1.0, -1.0, -1.0, -1.0, -1.0, -1.0, -1.0, -1.0, -1.0, -1.0, -1.0, -1.0, -1.0, -1.0, -1.0, -1.0, -1.0, -1.0, -1.0, -1.0, -1.0, -1.0, -1.0, -1.0, -1.0, -1.0, -1.0, -1.0, -1.0, -1.0, -1.0, -1.0, -1.0, -1.0, -1.0, -1.0, -1.0, -1.0, -1.0, -1.0, -1.0, -1.0, -1.0, -1.0, -1.0, -1.0, -1.0, -1.0, -1.0, -1.0, -1.0, -1.0, -1.0, -1.0, 1.0, -1.0, -1.0, -1.0, -1.0, -1.0, -1.0, -1.0, -1.0, -1.0, -1.0, -1.0, -1.0, -1.0, -1.0, -1.0, -1.0, 1.0, -1.0, -1.0, -1.0, -1.0, -1.0, -1.0, -1.0, -1.0, -1.0, -1.0, -1.0, -1.0, -1.0, -1.0, -1.0, -1.0, -1.0, -1.0, -1.0, -1.0, -1.0, -1.0, -1.0, -1.0, -1.0, -1.0, -1.0, -1.0, -1.0, -1.0, -1.0, -1.0, -1.0, -1.0, -1.0, -1.0, -1.0, -1.0, -1.0, -1.0, -1.0, -1.0, -1.0, -1.0, -1.0, -1.0, -1.0, -1.0, -1.0, -1.0, -1.0, -1.0, -1.0, -1.0, -1.0, -1.0, -1.0, -1.0, -1.0, -1.0, -1.0, -1.0, 1.0, -1.0, -1.0, -1.0, -1.0, -1.0, -1.0, -1.0, -1.0, -1.0, -1.0, -1.0, -1.0, -1.0, -1.0, -1.0, -1.0, -1.0, -1.0, -1.0, -1.0, -1.0, -1.0, -1.0, -1.0, -1.0, -1.0, -1.0, -1.0, -1.0, -1.0, -1.0, -1.0, -1.0, -1.0, -1.0, -1.0, -1.0, -1.0, -1.0, -1.0, -1.0, -1.0, -1.0, -1.0, -1.0, -1.0, -1.0, -1.0, -1.0, -1.0, -1.0, -1.0, -1.0, -1.0, -1.0, -1.0, -1.0, -1.0, -1.0, -1.0, -1.0, -1.0, -1.0, -1.0, -1.0, -1.0, -1.0, -1.0, -1.0, -1.0, -1.0, -1.0, -1.0, -1.0, -1.0, -1.0, -1.0, -1.0, 1.0, -1.0, -1.0, -1.0, -1.0, -1.0, -1.0, -1.0, -1.0, -1.0, -1.0, -1.0, -1.0, -1.0, -1.0, -1.0, -1.0, -1.0, -1.0, -1.0, -1.0, -1.0, -1.0, -1.0, -1.0, -1.0, -1.0, -1.0, -1.0, -1.0, -1.0, -1.0, -1.0, -1.0, -1.0, -1.0, -1.0, -1.0, -1.0, -1.0, -1.0, -1.0, -1.0, -1.0, -1.0, -1.0, -1.0, -1.0, -1.0, -1.0, -1.0, -1.0, -1.0, -1.0, -1.0, -1.0, -1.0, -1.0, -1.0, -1.0, -1.0, -1.0, -1.0, -1.0, -1.0, -1.0, -1.0, -1.0, -1.0, -1.0, -1.0, -1.0, -1.0, -1.0, -1.0, -1.0, -1.0, -1.0, -1.0, -1.0, -1.0, -1.0, -1.0, -1.0, -1.0, -1.0, -1.0, -1.0, -1.0, -1.0, -1.0, -1.0, -1.0, -1.0, -1.0, -1.0, -1.0, -1.0, -1.0, -1.0, -1.0, -1.0, -1.0, -1.0, -1.0, -1.0, -1.0, -1.0, -1.0, -1.0, -1.0, -1.0, -1.0, -1.0, -1.0, -1.0, -1.0, -1.0, -1.0, -1.0, -1.0, -1.0, -1.0, -1.0, -1.0, -1.0, -1.0, -1.0, -1.0, -1.0, -1.0, -1.0, -1.0, -1.0, -1.0, -1.0, -1.0, -1.0, -1.0, -1.0, -1.0, -1.0, -1.0, -1.0, -1.0, -1.0, -1.0, -1.0, -1.0, -1.0, -1.0, -1.0, -1.0, -1.0, -1.0, -1.0, -1.0, -1.0, -1.0, -1.0, -1.0, -1.0, -1.0, -1.0, 1.0, 1.0, -1.0, -1.0, 1.0, 1.0, -1.0, 1.0, 1.0, -1.0, -1.0, -1.0, -1.0, 1.0, 1.0, 1.0, -1.0, -1.0, -1.0, -1.0, 1.0, 1.0, 1.0, -1.0, -1.0, -1.0, -1.0, -1.0, -1.0, -1.0, 1.0, -1.0, -1.0, -1.0, 1.0, -1.0, -1.0, -1.0, 1.0, -1.0, -1.0, -1.0, -1.0, -1.0, -1.0, -1.0, -1.0, -1.0, -1.0, 1.0, -1.0, -1.0, -1.0, 1.0, 1.0, -1.0, -1.0, -1.0, -1.0, -1.0, -1.0, -1.0, 1.0, -1.0, -1.0, -1.0, 1.0, -1.0, -1.0, -1.0, -1.0, -1.0, -1.0, -1.0, -1.0, -1.0, -1.0, -1.0, -1.0, -1.0, -1.0, -1.0, -1.0, -1.0, -1.0, -1.0, -1.0, -1.0, -1.0, -1.0, -1.0, -1.0, -1.0, -1.0, -1.0, -1.0, -1.0, -1.0, -1.0, -1.0, -1.0, -1.0, -1.0, -1.0, -1.0, -1.0, -1.0, -1.0, -1.0, -1.0, -1.0, -1.0, -1.0, -1.0, -1.0, -1.0, -1.0, -1.0, -1.0, -1.0, -1.0, -1.0, -1.0, -1.0, -1.0, -1.0, -1.0, -1.0, -1.0, -1.0, -1.0, -1.0, -1.0, -1.0, -1.0, -1.0, -1.0, -1.0, -1.0, -1.0, -1.0, -1.0, -1.0, -1.0, -1.0, -1.0, -1.0, -1.0, -1.0, -1.0, -1.0, -1.0, -1.0, -1.0, -1.0, -1.0, -1.0, -1.0, -1.0, -1.0, -1.0, -1.0, -1.0, -1.0, -1.0, -1.0, -1.0, -1.0, -1.0, -1.0, -1.0, -1.0, -1.0, -1.0, -1.0, -1.0, -1.0, -1.0, -1.0, -1.0, -1.0, -1.0, -1.0, -1.0, -1.0, -1.0, -1.0, -1.0, -1.0, -1.0, -1.0, -1.0, -1.0, -1.0, -1.0, -1.0, -1.0, -1.0, -1.0, -1.0, -1.0, -1.0, -1.0, -1.0, -1.0, -1.0, -1.0, -1.0, -1.0, -1.0, -1.0, -1.0, -1.0, -1.0, -1.0, -1.0, -1.0, -1.0, -1.0, -1.0, -1.0, -1.0, -1.0, -1.0, -1.0, -1.0, -1.0, -1.0, -1.0, -1.0, -1.0, -1.0, -1.0, -1.0, -1.0, -1.0, -1.0, -1.0, -1.0, -1.0, -1.0, -1.0, -1.0, -1.0, -1.0, -1.0, -1.0, -1.0, -1.0, 1.0, -1.0, -1.0, -1.0, -1.0, -1.0, -1.0, -1.0, -1.0, -1.0, -1.0, -1.0, -1.0, -1.0, -1.0, -1.0, -1.0, -1.0, -1.0, -1.0, -1.0, -1.0, -1.0, -1.0, -1.0, -1.0, -1.0, -1.0, -1.0, -1.0, -1.0, -1.0, -1.0, -1.0, -1.0, -1.0, -1.0, -1.0, -1.0, -1.0, -1.0, -1.0, -1.0, -1.0, -1.0, -1.0, -1.0, -1.0, -1.0, -1.0, -1.0, -1.0, -1.0, -1.0, -1.0, -1.0, -1.0, -1.0, -1.0, -1.0, -1.0, -1.0, -1.0, -1.0, -1.0, -1.0, -1.0, -1.0, -1.0, -1.0, -1.0, -1.0, -1.0, -1.0, -1.0, -1.0, -1.0, -1.0, -1.0, -1.0, -1.0, -1.0, -1.0, -1.0, -1.0, -1.0, -1.0, -1.0, -1.0, -1.0, -1.0, -1.0, -1.0, -1.0, -1.0, -1.0, -1.0, -1.0, -1.0, -1.0, -1.0, -1.0, -1.0, -1.0, -1.0, -1.0, -1.0, -1.0, -1.0, -1.0, -1.0, -1.0, -1.0, -1.0, -1.0, -1.0, -1.0, -1.0, -1.0, -1.0, -1.0, -1.0, -1.0, -1.0, -1.0, -1.0, -1.0, -1.0, -1.0, -1.0, -1.0, -1.0, -1.0, -1.0, -1.0, -1.0, -1.0, -1.0, -1.0, -1.0, -1.0, -1.0, -1.0, -1.0, -1.0, -1.0, -1.0, -1.0, -1.0, -1.0, -1.0, -1.0, -1.0, -1.0, -1.0, -1.0, -1.0, -1.0, -1.0, -1.0, -1.0, -1.0, -1.0, -1.0, -1.0, -1.0, -1.0, -1.0, -1.0, -1.0, -1.0, -1.0, -1.0, -1.0, -1.0, -1.0, -1.0, -1.0, -1.0, -1.0, -1.0, -1.0, -1.0, -1.0, -1.0, -1.0, -1.0, -1.0, -1.0, -1.0, -1.0, -1.0, -1.0, -1.0, -1.0, -1.0, -1.0, -1.0, -1.0, -1.0, -1.0, -1.0, -1.0, -1.0, -1.0, -1.0, -1.0, -1.0, -1.0, -1.0, -1.0, -1.0, -1.0, -1.0, -1.0, -1.0, -1.0, -1.0, -1.0, -1.0, -1.0, -1.0, -1.0, -1.0, -1.0, -1.0, -1.0, -1.0, -1.0, -1.0, -1.0, -1.0, -1.0, -1.0, -1.0, -1.0, -1.0, -1.0, -1.0, -1.0, -1.0, -1.0, -1.0, -1.0, -1.0, -1.0, -1.0, -1.0, -1.0, -1.0, -1.0, -1.0, -1.0, -1.0, -1.0, -1.0, -1.0, -1.0, -1.0, -1.0, -1.0, -1.0, -1.0, -1.0, -1.0, -1.0, -1.0, -1.0, -1.0, -1.0, -1.0, -1.0, -1.0, -1.0, -1.0, -1.0, -1.0, -1.0, -1.0, -1.0, -1.0, -1.0, -1.0, -1.0, -1.0, -1.0, -1.0, -1.0, -1.0, -1.0, -1.0, -1.0, -1.0, -1.0, -1.0, -1.0, -1.0, -1.0, -1.0, -1.0, -1.0, -1.0, -1.0, -1.0, -1.0, -1.0, -1.0, -1.0, -1.0, -1.0, -1.0, -1.0, -1.0, -1.0, -1.0, -1.0, -1.0, -1.0, -1.0, -1.0, -1.0, -1.0, -1.0, -1.0, -1.0, -1.0, -1.0, -1.0, -1.0, -1.0, -1.0, -1.0, -1.0, -1.0, -1.0, -1.0, -1.0, -1.0, -1.0, -1.0, -1.0, -1.0, -1.0, -1.0, -1.0, -1.0, -1.0, -1.0, -1.0, -1.0, -1.0, -1.0, -1.0, 1.0, -1.0, -1.0, -1.0, -1.0, -1.0, -1.0, -1.0, -1.0, -1.0, -1.0, -1.0, -1.0, -1.0, -1.0, -1.0, -1.0, -1.0, -1.0, -1.0, -1.0, -1.0, -1.0, -1.0, -1.0, -1.0, -1.0, -1.0, -1.0, -1.0, -1.0, -1.0, -1.0, -1.0, -1.0, -1.0, -1.0, -1.0, -1.0, -1.0, -1.0, -1.0, -1.0, -1.0, -1.0, -1.0, -1.0, -1.0, -1.0, -1.0, -1.0, -1.0, -1.0, -1.0, -1.0, -1.0, -1.0, -1.0, -1.0, -1.0, -1.0, -1.0, -1.0, -1.0, -1.0, -1.0, -1.0, -1.0, -1.0, -1.0, -1.0, -1.0, -1.0, -1.0, -1.0, -1.0, -1.0, 1.0, -1.0, -1.0, -1.0, -1.0, -1.0, -1.0, -1.0, 1.0, -1.0, 1.0, -1.0, 1.0, -1.0, 1.0, -1.0, -1.0, 1.0, -1.0, -1.0, -1.0, -1.0, -1.0, -1.0, -1.0, -1.0, -1.0, -1.0, -1.0, 1.0, -1.0, -1.0, -1.0, 1.0, -1.0, -1.0, 1.0, 1.0, 1.0, 1.0, -1.0, -1.0, 1.0, -1.0, -1.0, 1.0, 1.0, -1.0, -1.0, -1.0, -1.0, -1.0, 1.0, 1.0, 1.0, 1.0, 1.0, -1.0, -1.0, 1.0, -1.0, -1.0, 1.0, -1.0, 1.0, -1.0, 1.0, 1.0, -1.0, 1.0, 1.0, -1.0, -1.0, 1.0, 1.0, -1.0, -1.0, -1.0, 1.0, 1.0, 1.0, -1.0, 1.0, 1.0, -1.0, -1.0, 1.0, -1.0, 1.0, 1.0, 1.0, -1.0, -1.0, -1.0, -1.0, 1.0, 1.0, -1.0, -1.0, -1.0, -1.0, -1.0, -1.0, -1.0, 1.0, 1.0, -1.0, -1.0, -1.0, -1.0, -1.0, 1.0, -1.0, -1.0, -1.0, -1.0, -1.0, -1.0, -1.0, -1.0, -1.0, 1.0, -1.0, -1.0, -1.0, 1.0, -1.0, -1.0, -1.0, -1.0, -1.0, -1.0, -1.0, -1.0, -1.0, -1.0, -1.0, -1.0, -1.0, -1.0, 1.0, -1.0, 1.0, 1.0, -1.0, 1.0, -1.0, -1.0, -1.0, -1.0, -1.0, -1.0, -1.0, -1.0, 1.0, -1.0, -1.0, 1.0, -1.0, 1.0, -1.0, -1.0, -1.0, -1.0, -1.0, -1.0, -1.0, -1.0, -1.0, -1.0, -1.0, -1.0, -1.0, -1.0, -1.0, -1.0, -1.0, -1.0, -1.0, -1.0, -1.0, -1.0, -1.0, -1.0, -1.0, -1.0, -1.0, -1.0, -1.0, -1.0, -1.0, -1.0, -1.0, -1.0, -1.0, -1.0, -1.0, -1.0, -1.0, -1.0, -1.0, -1.0, -1.0, -1.0, -1.0, -1.0, -1.0, -1.0, -1.0, -1.0, -1.0, -1.0, -1.0, -1.0, -1.0, -1.0, -1.0, -1.0, -1.0, -1.0, -1.0, -1.0, -1.0, -1.0, -1.0, -1.0, -1.0, -1.0, -1.0, -1.0, -1.0, -1.0, -1.0, -1.0, -1.0, -1.0, -1.0, -1.0, -1.0, -1.0, -1.0, -1.0, -1.0, -1.0, -1.0, -1.0, -1.0, -1.0, -1.0, -1.0, -1.0, -1.0, -1.0, -1.0, -1.0, -1.0, 1.0, -1.0, -1.0, -1.0, -1.0, -1.0, -1.0, -1.0, -1.0, -1.0, -1.0, -1.0, -1.0, -1.0, -1.0, -1.0, -1.0, -1.0, -1.0, -1.0, -1.0, -1.0, -1.0, -1.0, -1.0, -1.0, -1.0, -1.0, -1.0, -1.0, -1.0, -1.0, -1.0, -1.0, -1.0, -1.0, -1.0, -1.0, -1.0, -1.0, -1.0, -1.0, -1.0, -1.0, -1.0, -1.0, -1.0, -1.0, -1.0, -1.0, -1.0, -1.0, -1.0, -1.0, -1.0, -1.0, -1.0, -1.0, -1.0, -1.0, -1.0, -1.0, -1.0, -1.0, -1.0, -1.0, -1.0, -1.0, -1.0, -1.0, -1.0, -1.0, -1.0, -1.0, -1.0, -1.0, -1.0, -1.0, -1.0, -1.0, -1.0, -1.0, -1.0, -1.0, -1.0, -1.0, -1.0, -1.0, -1.0, -1.0, -1.0, -1.0, -1.0, -1.0, -1.0, -1.0, -1.0, -1.0, -1.0, -1.0, -1.0, -1.0, -1.0, -1.0, -1.0, -1.0, -1.0, -1.0, -1.0, -1.0, -1.0, -1.0, -1.0, -1.0, -1.0, -1.0, -1.0, -1.0, -1.0, -1.0, -1.0, -1.0, -1.0, -1.0, -1.0, -1.0, -1.0, -1.0, -1.0, -1.0, -1.0, -1.0, -1.0, -1.0, -1.0, -1.0, -1.0, -1.0, -1.0, -1.0, -1.0, -1.0, -1.0, -1.0, -1.0, -1.0, -1.0, -1.0, -1.0, -1.0, -1.0, -1.0, -1.0, -1.0, -1.0, -1.0, -1.0, -1.0, -1.0, -1.0, -1.0, -1.0, -1.0, -1.0, -1.0, -1.0, -1.0, -1.0, -1.0, -1.0, -1.0, -1.0, -1.0, -1.0, -1.0, -1.0, -1.0, -1.0, -1.0, -1.0, -1.0, -1.0, -1.0, -1.0, -1.0, -1.0, -1.0, -1.0, -1.0, -1.0, -1.0, -1.0, -1.0, -1.0, -1.0, -1.0, -1.0, -1.0, -1.0, -1.0, -1.0, -1.0, -1.0, -1.0, -1.0, -1.0, -1.0, -1.0, -1.0, -1.0, -1.0, -1.0, -1.0, -1.0, -1.0, -1.0, -1.0, -1.0, -1.0, -1.0, -1.0, -1.0, -1.0, -1.0, -1.0, -1.0, -1.0, -1.0, -1.0, -1.0, -1.0, -1.0, -1.0, -1.0, -1.0, -1.0, -1.0, -1.0, -1.0, -1.0, -1.0, -1.0, -1.0, -1.0, -1.0, -1.0, -1.0, -1.0, -1.0, -1.0, -1.0, -1.0, -1.0, -1.0, -1.0, -1.0, -1.0, -1.0, -1.0, -1.0, -1.0, -1.0, -1.0, -1.0, -1.0, -1.0, -1.0, -1.0, -1.0, -1.0, -1.0, -1.0, -1.0, -1.0, -1.0, -1.0, -1.0, -1.0, -1.0, -1.0, -1.0, -1.0, -1.0, -1.0, -1.0, -1.0, -1.0, -1.0, -1.0, -1.0, -1.0, -1.0, -1.0, -1.0, -1.0, -1.0, -1.0, -1.0, -1.0, -1.0, -1.0, -1.0, -1.0, -1.0, -1.0, -1.0, -1.0, -1.0, -1.0, -1.0, -1.0, -1.0, -1.0, -1.0, -1.0, -1.0, -1.0, -1.0, -1.0, -1.0, -1.0, -1.0, -1.0, -1.0, -1.0, -1.0, -1.0, -1.0, -1.0, -1.0, -1.0, -1.0, -1.0, -1.0, -1.0, -1.0, -1.0, -1.0, -1.0, -1.0, -1.0, -1.0, -1.0, -1.0, -1.0, -1.0, -1.0, -1.0, -1.0, -1.0, -1.0, -1.0, -1.0, -1.0, -1.0, -1.0, -1.0, -1.0, -1.0, -1.0, -1.0, -1.0, -1.0, -1.0, -1.0, -1.0, -1.0, -1.0, -1.0, -1.0, -1.0, -1.0, -1.0, -1.0, -1.0, -1.0, -1.0, -1.0, -1.0, -1.0, -1.0, -1.0, -1.0, -1.0, -1.0, -1.0, -1.0, -1.0, -1.0, -1.0, -1.0, -1.0, -1.0, -1.0, -1.0, -1.0, -1.0, -1.0, -1.0, -1.0, -1.0, -1.0, -1.0, -1.0, -1.0, -1.0, -1.0, -1.0, -1.0, -1.0, -1.0, -1.0, -1.0, -1.0, -1.0, -1.0, -1.0, -1.0, -1.0, -1.0, -1.0, -1.0, -1.0, -1.0, -1.0, -1.0, -1.0, -1.0, -1.0, -1.0, -1.0, -1.0, -1.0, -1.0, -1.0, -1.0, -1.0, -1.0, -1.0, -1.0, -1.0, -1.0, -1.0, -1.0, -1.0, -1.0, -1.0, -1.0, -1.0, -1.0, -1.0, -1.0, -1.0, -1.0, -1.0, -1.0, -1.0, -1.0, -1.0, -1.0, -1.0, -1.0, -1.0, -1.0, -1.0, -1.0, -1.0, -1.0, -1.0, -1.0, -1.0, -1.0, -1.0, -1.0, -1.0, -1.0, -1.0, -1.0, -1.0, -1.0, -1.0, -1.0, -1.0, -1.0, -1.0, -1.0, -1.0, -1.0, -1.0, -1.0, -1.0, -1.0, -1.0, -1.0, -1.0, -1.0, -1.0, -1.0, -1.0, -1.0, -1.0, -1.0, -1.0, -1.0, -1.0, -1.0, -1.0, -1.0, -1.0, -1.0, -1.0, -1.0, -1.0, -1.0, -1.0, -1.0, -1.0, -1.0, -1.0, -1.0, -1.0, -1.0, -1.0, -1.0, -1.0, -1.0, -1.0, -1.0, -1.0, -1.0, -1.0, -1.0, -1.0, -1.0, -1.0, -1.0, -1.0, -1.0, -1.0, -1.0, -1.0, -1.0, -1.0, -1.0, -1.0, -1.0, -1.0, -1.0, -1.0, -1.0, -1.0, -1.0, -1.0, -1.0, -1.0, -1.0, -1.0, -1.0, -1.0, -1.0, -1.0, -1.0, -1.0, -1.0, -1.0, -1.0, -1.0, -1.0, -1.0, -1.0, -1.0, -1.0, -1.0, -1.0, -1.0, -1.0, -1.0, -1.0, -1.0, -1.0, -1.0, -1.0, -1.0, -1.0, -1.0, -1.0, -1.0, -1.0, -1.0, -1.0, -1.0, -1.0, -1.0, -1.0, -1.0, -1.0, 1.0, -1.0, -1.0, -1.0, -1.0, -1.0, -1.0, -1.0, -1.0, -1.0, -1.0, -1.0, 1.0, -1.0, -1.0, -1.0, -1.0, -1.0, -1.0, -1.0, -1.0, -1.0, -1.0, -1.0, -1.0, -1.0, -1.0, -1.0, -1.0, -1.0, -1.0, -1.0, -1.0, -1.0, -1.0, -1.0, -1.0, -1.0, -1.0, -1.0, -1.0, -1.0, -1.0, -1.0, -1.0, -1.0, -1.0, -1.0, -1.0, -1.0, -1.0, -1.0, -1.0, -1.0, -1.0, -1.0, -1.0, -1.0, -1.0, -1.0, -1.0, -1.0, -1.0, -1.0, -1.0, -1.0, -1.0, -1.0, -1.0, -1.0, -1.0, -1.0, -1.0, -1.0, -1.0, -1.0, -1.0, -1.0, -1.0, -1.0, -1.0, -1.0, -1.0, -1.0, -1.0, -1.0, -1.0, -1.0, -1.0, -1.0, -1.0, -1.0, -1.0, -1.0, -1.0, -1.0, -1.0, -1.0, -1.0, -1.0, -1.0, -1.0, -1.0, -1.0, -1.0, -1.0, -1.0, -1.0, -1.0, -1.0, -1.0, -1.0, -1.0, -1.0, -1.0, -1.0, -1.0, -1.0, -1.0, -1.0, -1.0, -1.0, -1.0, -1.0, -1.0, -1.0, -1.0, -1.0, -1.0, -1.0, -1.0, -1.0, -1.0, -1.0, -1.0, -1.0, -1.0, -1.0, -1.0, -1.0, -1.0, -1.0, -1.0, -1.0, -1.0, -1.0, -1.0, -1.0, -1.0, -1.0, -1.0, -1.0, -1.0, -1.0, -1.0, -1.0, -1.0, -1.0, -1.0, -1.0, -1.0, -1.0, -1.0, -1.0, -1.0, -1.0, -1.0, -1.0, -1.0, -1.0, -1.0, -1.0, -1.0, -1.0, -1.0, -1.0, -1.0, -1.0, -1.0, -1.0, -1.0, -1.0, -1.0, -1.0, -1.0, -1.0, -1.0, -1.0, -1.0, -1.0, -1.0, -1.0, -1.0, -1.0, -1.0, -1.0, -1.0, -1.0, -1.0, -1.0, -1.0, -1.0, -1.0, -1.0, -1.0, -1.0, -1.0, -1.0, -1.0, -1.0, -1.0, -1.0, -1.0, -1.0, -1.0, -1.0, -1.0, -1.0, -1.0, -1.0, -1.0, -1.0, -1.0, -1.0, -1.0, -1.0, -1.0, -1.0, -1.0, -1.0, -1.0, -1.0, -1.0, -1.0, -1.0, -1.0, -1.0, -1.0, -1.0, -1.0, -1.0, -1.0, -1.0, -1.0, -1.0, -1.0, -1.0, -1.0, -1.0, -1.0, -1.0, -1.0, -1.0, -1.0, -1.0, -1.0, -1.0, -1.0, -1.0, -1.0, -1.0, -1.0, -1.0, -1.0, -1.0, -1.0, -1.0, -1.0, -1.0, -1.0, -1.0, -1.0, -1.0, -1.0, -1.0, -1.0, -1.0, -1.0, -1.0, -1.0, -1.0, -1.0, -1.0, -1.0, -1.0, -1.0, -1.0, -1.0, -1.0, -1.0, -1.0, -1.0, -1.0, -1.0, -1.0, -1.0, -1.0, -1.0, -1.0, -1.0, -1.0, -1.0, -1.0, -1.0, -1.0, -1.0, -1.0, -1.0, -1.0, -1.0, -1.0, -1.0, -1.0, -1.0, -1.0, -1.0, -1.0, -1.0, -1.0, -1.0, -1.0, -1.0, -1.0, -1.0, -1.0, -1.0, -1.0, -1.0, -1.0, -1.0, -1.0, -1.0, -1.0, -1.0, -1.0, -1.0, -1.0, -1.0, -1.0, -1.0, -1.0, -1.0, -1.0, -1.0, -1.0, -1.0, -1.0, -1.0, -1.0, -1.0, -1.0, -1.0, -1.0, -1.0, 1.0, -1.0, -1.0, -1.0, -1.0, -1.0, -1.0, -1.0, -1.0, -1.0, -1.0, -1.0, -1.0, -1.0, -1.0, -1.0, -1.0, -1.0, -1.0, -1.0, -1.0, -1.0, -1.0, -1.0, -1.0, -1.0, -1.0, -1.0, -1.0, -1.0, -1.0, -1.0, -1.0, -1.0, -1.0, -1.0, -1.0, -1.0, -1.0, -1.0, -1.0, -1.0, -1.0, -1.0, -1.0, -1.0, -1.0, -1.0, -1.0, -1.0, -1.0, -1.0, -1.0, -1.0, -1.0, -1.0, -1.0, -1.0, -1.0, -1.0, -1.0, -1.0, -1.0, -1.0, -1.0, -1.0, -1.0, -1.0, -1.0, -1.0, -1.0, -1.0, -1.0, -1.0, -1.0, -1.0, -1.0, -1.0, -1.0, -1.0, -1.0, -1.0, -1.0, -1.0, -1.0, -1.0, -1.0, -1.0, -1.0, -1.0, -1.0, -1.0, -1.0, -1.0, -1.0, -1.0, -1.0, -1.0, -1.0, -1.0, -1.0, -1.0, -1.0, -1.0, -1.0, -1.0, -1.0, -1.0, -1.0, -1.0, -1.0, -1.0, -1.0, -1.0, -1.0, -1.0, -1.0, -1.0, -1.0, -1.0, -1.0, -1.0, -1.0, -1.0, -1.0, -1.0, -1.0, -1.0, -1.0, -1.0, -1.0, -1.0, -1.0, -1.0, -1.0, -1.0, -1.0, -1.0, -1.0, -1.0, -1.0, -1.0, -1.0, -1.0, -1.0, -1.0, -1.0, -1.0, -1.0, -1.0, -1.0, -1.0, -1.0, -1.0, -1.0, -1.0, -1.0, -1.0, -1.0, -1.0, -1.0, -1.0, -1.0, -1.0, -1.0, -1.0, -1.0, -1.0, -1.0, -1.0, -1.0, -1.0, -1.0, -1.0, -1.0, -1.0, -1.0, -1.0, -1.0, -1.0, -1.0, -1.0, -1.0, -1.0, -1.0, -1.0, -1.0, -1.0, -1.0, -1.0, -1.0, -1.0, -1.0, -1.0, -1.0, -1.0, -1.0, -1.0, -1.0, -1.0, -1.0, -1.0, -1.0, -1.0, -1.0, -1.0, -1.0, -1.0, -1.0, -1.0, -1.0, -1.0, -1.0, -1.0, -1.0, -1.0, -1.0, -1.0, -1.0, -1.0, -1.0, -1.0, -1.0, -1.0, 1.0, -1.0, -1.0, -1.0, -1.0, -1.0, -1.0, -1.0, -1.0, -1.0, -1.0, -1.0, -1.0, -1.0, -1.0, -1.0, -1.0, -1.0, -1.0, -1.0, -1.0, -1.0, -1.0, -1.0, -1.0, -1.0, -1.0, -1.0, -1.0, -1.0, -1.0, -1.0, -1.0, -1.0, -1.0, -1.0, -1.0, -1.0, -1.0, -1.0, -1.0, -1.0, -1.0, -1.0, -1.0, -1.0, -1.0, -1.0, -1.0, -1.0, -1.0, -1.0, -1.0, -1.0, -1.0, -1.0, -1.0, -1.0, -1.0, -1.0, -1.0, -1.0, -1.0, -1.0, -1.0, -1.0, -1.0, -1.0, -1.0, -1.0, 1.0, -1.0, -1.0, -1.0, -1.0, -1.0, -1.0, -1.0, -1.0, -1.0, -1.0, -1.0, -1.0, -1.0, -1.0, -1.0, -1.0, -1.0, -1.0, -1.0, -1.0, -1.0, -1.0, -1.0, -1.0, -1.0, -1.0, -1.0, -1.0, -1.0, -1.0, -1.0, -1.0, -1.0, -1.0, -1.0, -1.0, -1.0, -1.0, -1.0, -1.0, -1.0, -1.0, -1.0, -1.0, -1.0, -1.0, -1.0, -1.0, -1.0, -1.0, -1.0, -1.0, -1.0, -1.0, -1.0, -1.0, -1.0, -1.0, -1.0, -1.0, -1.0, -1.0, -1.0, -1.0, -1.0, -1.0, -1.0, -1.0, -1.0, -1.0, -1.0, -1.0, -1.0, -1.0, -1.0, -1.0, -1.0, -1.0, -1.0, -1.0, -1.0, -1.0, -1.0, -1.0, -1.0, -1.0, -1.0, -1.0, -1.0, -1.0, -1.0, -1.0, -1.0, -1.0, -1.0, -1.0, -1.0, -1.0, -1.0, -1.0, -1.0, -1.0, -1.0, -1.0, -1.0, -1.0, -1.0, -1.0, -1.0, -1.0, -1.0, -1.0, -1.0, -1.0, -1.0, -1.0, -1.0, -1.0, -1.0, -1.0, -1.0, -1.0, -1.0, -1.0, -1.0, -1.0, -1.0, -1.0, -1.0, -1.0, -1.0, -1.0, -1.0, -1.0, -1.0, -1.0, -1.0, -1.0, -1.0, -1.0, -1.0, -1.0, -1.0, -1.0, -1.0, -1.0, -1.0, -1.0, -1.0, -1.0, -1.0, -1.0, -1.0, -1.0, -1.0, -1.0, -1.0, -1.0, -1.0, -1.0, -1.0, -1.0, -1.0, -1.0, -1.0, -1.0, -1.0, -1.0, -1.0, -1.0, -1.0, -1.0, -1.0, -1.0, -1.0, -1.0, -1.0, -1.0, -1.0, -1.0, -1.0, -1.0, -1.0, -1.0, -1.0, -1.0, -1.0, -1.0, -1.0, -1.0, -1.0, -1.0, -1.0, -1.0, -1.0, -1.0, -1.0, -1.0, -1.0, -1.0, -1.0, -1.0, -1.0, -1.0, -1.0, -1.0, -1.0, -1.0, -1.0, -1.0, -1.0, -1.0, -1.0, -1.0, -1.0, -1.0, -1.0, -1.0, -1.0, -1.0, -1.0, -1.0, -1.0, -1.0, -1.0, -1.0, -1.0, -1.0, -1.0, -1.0, -1.0, -1.0, -1.0, -1.0, -1.0, -1.0, -1.0, -1.0, -1.0, -1.0, -1.0, -1.0, -1.0, -1.0, -1.0, -1.0, -1.0, -1.0, -1.0, -1.0, -1.0, -1.0, -1.0, -1.0, -1.0, -1.0, -1.0, 1.0, 1.0, -1.0, 1.0, -1.0, -1.0, 1.0, -1.0, -1.0, -1.0, 1.0, 1.0, 1.0, -1.0, 1.0, -1.0, -1.0, -1.0, 1.0, 1.0, 1.0, -1.0, -1.0, 1.0, 1.0, -1.0, -1.0, -1.0, -1.0, -1.0, -1.0, -1.0, -1.0, -1.0, -1.0, -1.0, -1.0, -1.0, -1.0, -1.0, -1.0, -1.0, -1.0, -1.0, -1.0, -1.0, -1.0, -1.0, -1.0, -1.0, -1.0, -1.0, -1.0, -1.0, -1.0, -1.0, -1.0, -1.0, -1.0, -1.0, -1.0, -1.0, -1.0, -1.0, -1.0, -1.0, -1.0, -1.0, -1.0, -1.0, -1.0, -1.0, -1.0, -1.0, -1.0, -1.0, -1.0, -1.0, 1.0, 1.0, 1.0, -1.0, 1.0, 1.0, -1.0, 1.0, 1.0, 1.0, -1.0, -1.0, 1.0, -1.0, 1.0, -1.0, 1.0, -1.0, -1.0, -1.0, -1.0, -1.0, -1.0, -1.0, -1.0, -1.0, -1.0, 1.0, 1.0, 1.0, 1.0, 1.0, 1.0, -1.0, 1.0, 1.0, 1.0, -1.0, -1.0, 1.0, -1.0, 1.0, -1.0, -1.0, 1.0, 1.0, -1.0, -1.0, 1.0, -1.0, -1.0, -1.0, -1.0, -1.0, -1.0, 1.0, 1.0, 1.0, 1.0, -1.0, 1.0, 1.0, 1.0, 1.0, 1.0, 1.0, -1.0, -1.0, -1.0, -1.0, 1.0, 1.0, 1.0, -1.0, -1.0, -1.0, -1.0, -1.0, -1.0, -1.0, -1.0, -1.0, 1.0, -1.0, -1.0, -1.0, -1.0, -1.0, -1.0, -1.0, -1.0, -1.0, -1.0, -1.0, -1.0, -1.0, -1.0, -1.0, -1.0, -1.0, -1.0, -1.0, -1.0, -1.0, -1.0, -1.0, -1.0, -1.0, -1.0, -1.0, -1.0, -1.0, -1.0, -1.0, -1.0, -1.0, -1.0, -1.0, -1.0, -1.0, -1.0, -1.0, -1.0, -1.0, -1.0, -1.0, -1.0, -1.0, -1.0, -1.0, -1.0, -1.0, -1.0, -1.0, -1.0, -1.0, -1.0, -1.0, -1.0, -1.0, -1.0, -1.0, -1.0, -1.0, -1.0, -1.0, -1.0, -1.0, -1.0, -1.0, -1.0, -1.0, -1.0, -1.0, -1.0, -1.0, -1.0, -1.0, -1.0, -1.0, -1.0, -1.0, -1.0, -1.0, -1.0, -1.0, -1.0, -1.0, -1.0, -1.0, -1.0, -1.0, -1.0, -1.0, -1.0, -1.0, -1.0, -1.0, -1.0, -1.0, -1.0, -1.0, -1.0, -1.0, -1.0, -1.0, -1.0, -1.0, -1.0, -1.0, -1.0, -1.0, -1.0, -1.0, -1.0, -1.0, -1.0, -1.0, -1.0, -1.0, -1.0, -1.0, -1.0, -1.0, -1.0, -1.0, -1.0, -1.0, -1.0, -1.0, -1.0, -1.0, -1.0, -1.0, -1.0, -1.0, -1.0, -1.0, -1.0, -1.0, -1.0, -1.0, -1.0, -1.0, -1.0, -1.0, -1.0, -1.0, -1.0, -1.0, -1.0, -1.0, -1.0, -1.0, -1.0, -1.0, -1.0, -1.0, -1.0, -1.0, -1.0, -1.0, -1.0, -1.0, -1.0, -1.0, -1.0, -1.0, -1.0, -1.0, -1.0, -1.0, -1.0, -1.0, -1.0, -1.0, -1.0, -1.0, -1.0, -1.0, -1.0, -1.0, -1.0, -1.0, -1.0, -1.0, -1.0, -1.0, -1.0, -1.0, -1.0, -1.0, -1.0, -1.0, -1.0, -1.0, -1.0, -1.0, -1.0, -1.0, -1.0, -1.0, -1.0, -1.0, -1.0, -1.0, -1.0, -1.0, -1.0, -1.0, -1.0, -1.0, -1.0, -1.0, -1.0, -1.0, -1.0, -1.0, -1.0, -1.0, -1.0, -1.0, -1.0, -1.0, -1.0, -1.0, -1.0, -1.0, -1.0, -1.0, -1.0, -1.0, -1.0, -1.0, -1.0, -1.0, -1.0, -1.0, -1.0, -1.0, -1.0, -1.0, -1.0, -1.0, -1.0, -1.0, -1.0, -1.0, -1.0, -1.0, -1.0, -1.0, -1.0, -1.0, -1.0, -1.0, -1.0, -1.0, -1.0, -1.0, -1.0, -1.0, -1.0, -1.0, -1.0, -1.0, -1.0, -1.0, -1.0, -1.0, -1.0, -1.0, -1.0, -1.0, -1.0, -1.0, -1.0, -1.0, -1.0, -1.0, -1.0, -1.0, -1.0, -1.0, -1.0, -1.0, -1.0, -1.0, -1.0, -1.0, -1.0, -1.0, -1.0, -1.0, -1.0, -1.0, -1.0, -1.0, -1.0, -1.0, -1.0, -1.0, -1.0, -1.0, -1.0, -1.0, -1.0, -1.0, -1.0, -1.0, -1.0, -1.0, -1.0, -1.0, -1.0, -1.0, -1.0, -1.0, -1.0, -1.0, -1.0, -1.0, -1.0, -1.0, -1.0, -1.0, -1.0, -1.0, -1.0, -1.0, -1.0, -1.0, -1.0, -1.0, -1.0, -1.0, -1.0, -1.0, -1.0, -1.0, -1.0, -1.0, -1.0, -1.0, -1.0, -1.0, 1.0, -1.0, -1.0, -1.0, -1.0, -1.0, -1.0, -1.0, -1.0, -1.0, -1.0, -1.0, -1.0, -1.0, -1.0, -1.0, -1.0, -1.0, -1.0, -1.0, -1.0, -1.0, -1.0, -1.0, -1.0, -1.0, -1.0, -1.0, -1.0, -1.0, -1.0, -1.0, -1.0, -1.0, -1.0, -1.0, -1.0, -1.0, -1.0, -1.0, -1.0, -1.0, -1.0, -1.0, -1.0, -1.0, -1.0, -1.0, -1.0, -1.0, -1.0, 1.0, -1.0, -1.0, -1.0, -1.0, -1.0, -1.0, -1.0, -1.0, -1.0, -1.0, -1.0, -1.0, -1.0, -1.0, -1.0, -1.0, -1.0, -1.0, -1.0, -1.0, -1.0, -1.0, -1.0, -1.0, -1.0, -1.0, -1.0, -1.0, -1.0, -1.0, -1.0, -1.0, -1.0, -1.0, -1.0, -1.0, -1.0, -1.0, -1.0, -1.0, -1.0, -1.0, -1.0, -1.0, -1.0, -1.0, -1.0, -1.0, -1.0, -1.0, -1.0, -1.0, 1.0, -1.0, -1.0, -1.0, -1.0, -1.0, 1.0, -1.0, -1.0, -1.0, 1.0, -1.0, -1.0, -1.0, -1.0, -1.0, -1.0, -1.0, -1.0, -1.0, -1.0, -1.0, -1.0, -1.0, -1.0, -1.0, 1.0, -1.0, -1.0, -1.0, 1.0, -1.0, -1.0, -1.0, -1.0, 1.0, 1.0, -1.0, 1.0, 1.0, 1.0, -1.0, 1.0, -1.0, -1.0, 1.0, -1.0, -1.0, -1.0, 1.0, -1.0, 1.0, -1.0, -1.0, -1.0, -1.0, -1.0, 1.0, -1.0, 1.0, 1.0, -1.0, -1.0, 1.0, 1.0, -1.0, 1.0, -1.0, -1.0, -1.0, -1.0, 1.0, 1.0, -1.0, -1.0, -1.0, -1.0, -1.0, -1.0, 1.0, 1.0, -1.0, 1.0, -1.0, 1.0, 1.0, -1.0, -1.0, -1.0, -1.0, -1.0, -1.0, -1.0, -1.0, -1.0, -1.0, -1.0, -1.0, -1.0, -1.0, -1.0, -1.0, -1.0, -1.0, -1.0, -1.0, -1.0, -1.0, -1.0, -1.0, -1.0, -1.0, -1.0, -1.0, -1.0, -1.0, -1.0, -1.0, -1.0, -1.0, -1.0, -1.0, -1.0, -1.0, -1.0, -1.0, -1.0, -1.0, -1.0, -1.0, -1.0, -1.0, -1.0, -1.0, -1.0, -1.0, -1.0, -1.0, -1.0, -1.0, -1.0, -1.0, -1.0, -1.0, -1.0, -1.0, -1.0, -1.0, -1.0, -1.0, -1.0, -1.0, -1.0, -1.0, -1.0, -1.0, -1.0, -1.0, -1.0, -1.0, -1.0, -1.0, -1.0, -1.0, -1.0, -1.0, -1.0, -1.0, -1.0, -1.0, -1.0, -1.0, -1.0, -1.0, -1.0, -1.0, -1.0, -1.0, -1.0, -1.0, -1.0, -1.0, -1.0, -1.0, -1.0, -1.0, -1.0, -1.0, -1.0, -1.0, -1.0, -1.0, -1.0, -1.0, -1.0, -1.0, -1.0, -1.0, -1.0, -1.0, -1.0, -1.0, -1.0, -1.0, -1.0, -1.0, -1.0, -1.0, -1.0, -1.0, -1.0, -1.0, -1.0, -1.0, -1.0, -1.0, -1.0, -1.0, -1.0, -1.0, -1.0, -1.0, -1.0, -1.0, 1.0, -1.0, -1.0, -1.0, -1.0, -1.0, -1.0, -1.0, -1.0, -1.0, -1.0, -1.0, -1.0, -1.0, -1.0, -1.0, -1.0, 1.0, -1.0, -1.0, -1.0, -1.0, -1.0, -1.0, -1.0, -1.0, -1.0, -1.0, -1.0, -1.0, -1.0, -1.0, -1.0, -1.0, -1.0, -1.0, -1.0, -1.0, -1.0, -1.0, -1.0, -1.0, -1.0, -1.0, -1.0, -1.0, -1.0, -1.0, -1.0, -1.0, -1.0, -1.0, -1.0, -1.0, -1.0, -1.0, -1.0, -1.0, -1.0, -1.0, -1.0, -1.0, -1.0, -1.0, -1.0, -1.0, -1.0, -1.0, -1.0, -1.0, -1.0, -1.0, -1.0, -1.0, -1.0, -1.0, -1.0, -1.0, -1.0, -1.0, -1.0, -1.0, -1.0, -1.0, -1.0, -1.0, -1.0, -1.0, -1.0, -1.0, -1.0, -1.0, -1.0, -1.0, -1.0, -1.0, -1.0, -1.0, -1.0, -1.0, -1.0, -1.0, 1.0, -1.0, -1.0, -1.0, -1.0, -1.0, -1.0, -1.0, -1.0, -1.0, -1.0, -1.0, -1.0, -1.0, -1.0, -1.0, -1.0, -1.0, -1.0, -1.0, -1.0, -1.0, -1.0, -1.0, -1.0, -1.0, -1.0, -1.0, -1.0, -1.0, -1.0, -1.0, -1.0, -1.0, -1.0, -1.0, -1.0, -1.0, -1.0, -1.0, -1.0, -1.0, -1.0, -1.0, -1.0, -1.0, -1.0, -1.0, -1.0, -1.0, -1.0, -1.0, -1.0, -1.0, -1.0, -1.0, -1.0, -1.0, -1.0, -1.0, -1.0, -1.0, -1.0, -1.0, -1.0, -1.0, -1.0, -1.0, -1.0, -1.0, -1.0, -1.0, -1.0, -1.0, -1.0, -1.0, -1.0, -1.0, -1.0, -1.0, -1.0, -1.0, -1.0, -1.0, 1.0, -1.0, -1.0, -1.0, -1.0, -1.0, -1.0, -1.0, -1.0, -1.0, -1.0, -1.0, -1.0, -1.0, -1.0, -1.0, -1.0, -1.0, -1.0, -1.0, -1.0, -1.0, -1.0, -1.0, -1.0, -1.0, -1.0, -1.0, -1.0, -1.0, -1.0, -1.0, -1.0, -1.0, -1.0, -1.0, -1.0, -1.0, -1.0, -1.0, -1.0, -1.0, -1.0, -1.0, -1.0, -1.0, -1.0, -1.0, -1.0, -1.0, -1.0, -1.0, -1.0, -1.0, -1.0, -1.0, -1.0, -1.0, -1.0, -1.0, -1.0, -1.0, -1.0, -1.0, -1.0, -1.0, -1.0, -1.0, -1.0, -1.0, -1.0, -1.0, -1.0, -1.0, -1.0, -1.0, -1.0, -1.0, -1.0, -1.0, -1.0, -1.0, -1.0, -1.0, -1.0, -1.0, -1.0, -1.0, -1.0, -1.0, -1.0, -1.0, -1.0, -1.0, -1.0, -1.0, -1.0, -1.0, -1.0, -1.0, -1.0, -1.0, -1.0, -1.0, -1.0, -1.0, -1.0, -1.0, -1.0, -1.0, -1.0, -1.0, -1.0, -1.0, -1.0, -1.0, -1.0, -1.0, -1.0, -1.0, -1.0, -1.0, -1.0, -1.0, -1.0, -1.0, -1.0, -1.0, -1.0, -1.0, -1.0, -1.0, -1.0, -1.0, -1.0, -1.0, -1.0, -1.0, -1.0, -1.0, -1.0, -1.0, -1.0, -1.0, -1.0, -1.0, 1.0, 1.0, -1.0, 1.0, -1.0, 1.0, -1.0, -1.0, 1.0, 1.0, 1.0, 1.0, 1.0, 1.0, 1.0, -1.0, 1.0, -1.0, 1.0, 1.0, 1.0, -1.0, -1.0, -1.0, -1.0, -1.0, -1.0, -1.0, -1.0, -1.0, -1.0, 1.0, -1.0, -1.0, -1.0, -1.0, -1.0, -1.0, -1.0, -1.0, -1.0, -1.0, -1.0, -1.0, -1.0, -1.0, -1.0, -1.0, -1.0, -1.0, -1.0, -1.0, -1.0, -1.0, -1.0, -1.0, -1.0, -1.0, -1.0, -1.0, -1.0, -1.0, -1.0, -1.0, -1.0, -1.0, -1.0, -1.0, -1.0, -1.0, -1.0, -1.0, -1.0, -1.0, -1.0, -1.0, -1.0, -1.0, -1.0, -1.0, -1.0, -1.0, -1.0, -1.0, -1.0, -1.0, -1.0, -1.0, -1.0, -1.0, -1.0, -1.0, -1.0, -1.0, -1.0, -1.0, -1.0, -1.0, -1.0, -1.0, -1.0, -1.0, -1.0, 1.0, -1.0, -1.0, -1.0, -1.0, -1.0, -1.0, -1.0, -1.0, -1.0, -1.0, -1.0, -1.0, -1.0, -1.0, -1.0, -1.0, -1.0, -1.0, -1.0, -1.0, -1.0, -1.0, -1.0, -1.0, -1.0, -1.0, -1.0, -1.0, -1.0, -1.0, -1.0, -1.0, -1.0, -1.0, -1.0, -1.0, -1.0, -1.0, -1.0, -1.0, -1.0, -1.0, -1.0, -1.0, -1.0, -1.0, -1.0, -1.0, -1.0, -1.0, -1.0, -1.0, -1.0, -1.0, -1.0, -1.0, -1.0, -1.0, -1.0, -1.0, -1.0, -1.0, -1.0, -1.0, -1.0, -1.0, -1.0, -1.0, -1.0, -1.0, -1.0, -1.0, -1.0, -1.0, -1.0, -1.0, -1.0, -1.0, -1.0, -1.0, -1.0, -1.0, -1.0, -1.0, -1.0, -1.0, -1.0, -1.0, -1.0, -1.0, -1.0, -1.0, -1.0, -1.0, -1.0, -1.0, -1.0, -1.0, -1.0, -1.0, -1.0, -1.0, -1.0, -1.0, -1.0, -1.0, -1.0, -1.0, -1.0, -1.0, -1.0, -1.0, -1.0, -1.0, -1.0, -1.0, -1.0, -1.0, -1.0, -1.0, -1.0, -1.0, -1.0, -1.0, -1.0, -1.0, -1.0, -1.0, -1.0, -1.0, -1.0, -1.0, -1.0, -1.0, -1.0, -1.0, -1.0, -1.0, -1.0, -1.0, -1.0, -1.0, -1.0, -1.0, -1.0, -1.0, -1.0, -1.0, -1.0, -1.0, -1.0, -1.0, -1.0, -1.0, -1.0, -1.0, -1.0, -1.0, -1.0, -1.0, -1.0, -1.0, -1.0, -1.0, -1.0, -1.0, -1.0, -1.0, -1.0, -1.0, -1.0, -1.0, -1.0, -1.0, -1.0, -1.0, -1.0, -1.0, -1.0, -1.0, -1.0, -1.0, -1.0, 1.0, -1.0, 1.0, 1.0, 1.0, 1.0, -1.0, -1.0, 1.0, 1.0, 1.0, 1.0, -1.0, -1.0, -1.0, 1.0, -1.0, -1.0, -1.0, -1.0, -1.0, -1.0, -1.0, -1.0, -1.0, -1.0, -1.0, -1.0, -1.0, -1.0, -1.0, -1.0, -1.0, -1.0, -1.0, -1.0, -1.0, -1.0, -1.0, -1.0, -1.0, -1.0, -1.0, -1.0, -1.0, -1.0, -1.0, -1.0, -1.0, -1.0, -1.0, -1.0, -1.0, -1.0, -1.0, -1.0, -1.0, -1.0, -1.0, -1.0, -1.0, -1.0, -1.0, -1.0, -1.0, -1.0, -1.0, -1.0, -1.0, -1.0, -1.0, -1.0, -1.0, -1.0, -1.0, -1.0, -1.0, -1.0, -1.0, -1.0, -1.0, -1.0, -1.0, -1.0, -1.0, -1.0, -1.0, -1.0, -1.0, -1.0, -1.0, -1.0, -1.0, -1.0, -1.0, -1.0, -1.0, -1.0, -1.0, -1.0, -1.0, -1.0, -1.0, -1.0, -1.0, -1.0, -1.0, -1.0, -1.0, -1.0, -1.0, -1.0, -1.0, -1.0, -1.0, -1.0, -1.0, -1.0, -1.0, -1.0, -1.0, -1.0, -1.0, -1.0, -1.0, -1.0, -1.0, -1.0, -1.0, -1.0, -1.0, -1.0, -1.0, -1.0, -1.0, -1.0, -1.0, -1.0, -1.0, -1.0, -1.0, 1.0, -1.0, -1.0, -1.0, -1.0, -1.0, -1.0, -1.0, -1.0, 1.0, -1.0, -1.0, -1.0, -1.0, -1.0, -1.0, -1.0, -1.0, -1.0, -1.0, -1.0, -1.0, -1.0, -1.0, -1.0, -1.0, -1.0, -1.0, -1.0, -1.0, -1.0, -1.0, -1.0, -1.0, 1.0, -1.0, -1.0, -1.0, -1.0, -1.0, -1.0, -1.0, -1.0, -1.0, -1.0, -1.0, -1.0, -1.0, -1.0, -1.0, -1.0, -1.0, -1.0, -1.0, -1.0, -1.0, 1.0, -1.0, -1.0, -1.0, -1.0, -1.0, -1.0, -1.0, -1.0, -1.0, -1.0, -1.0, -1.0, -1.0, -1.0, -1.0, -1.0, -1.0, -1.0, -1.0, -1.0, -1.0, -1.0, -1.0, -1.0, -1.0, -1.0, -1.0, -1.0, -1.0, -1.0, -1.0, -1.0, -1.0, -1.0, -1.0, -1.0, -1.0, -1.0, -1.0, -1.0, -1.0, -1.0, -1.0, -1.0, -1.0, -1.0, -1.0, -1.0, -1.0, -1.0, -1.0, -1.0, -1.0, -1.0, -1.0, -1.0, -1.0, -1.0, -1.0, -1.0, -1.0, -1.0, -1.0, -1.0, -1.0, -1.0, -1.0, -1.0, -1.0, -1.0, -1.0, -1.0, -1.0, -1.0, -1.0, -1.0, -1.0, -1.0, -1.0, -1.0, -1.0, -1.0, 1.0, -1.0, -1.0, -1.0, -1.0, -1.0, -1.0, -1.0, -1.0, -1.0, -1.0, -1.0, -1.0, -1.0, -1.0, -1.0, -1.0, -1.0, -1.0, -1.0, -1.0, -1.0, -1.0, -1.0, -1.0, -1.0, -1.0, -1.0, -1.0, -1.0, -1.0, -1.0, -1.0, -1.0, -1.0, -1.0, -1.0, -1.0, -1.0, -1.0, -1.0, -1.0, -1.0, -1.0, -1.0, -1.0, -1.0, -1.0, -1.0, -1.0, -1.0, -1.0, -1.0, -1.0, -1.0, -1.0, -1.0, -1.0, -1.0, -1.0, -1.0, -1.0, -1.0, -1.0, -1.0, -1.0, -1.0, -1.0, -1.0, -1.0, -1.0, -1.0, -1.0, -1.0, -1.0, -1.0, -1.0, -1.0, -1.0, -1.0, -1.0, -1.0, -1.0, -1.0, -1.0, -1.0, -1.0, -1.0, -1.0, -1.0, -1.0, -1.0, -1.0, -1.0, -1.0, -1.0, -1.0, -1.0, -1.0, -1.0, 1.0, -1.0, -1.0, -1.0, -1.0, -1.0, -1.0, -1.0, -1.0, -1.0, -1.0, -1.0, -1.0, -1.0, -1.0, -1.0, -1.0, -1.0, -1.0, 1.0, -1.0, -1.0, -1.0, -1.0, -1.0, -1.0, -1.0, -1.0, -1.0, -1.0, -1.0, -1.0, -1.0, -1.0, -1.0, -1.0, -1.0, -1.0, -1.0, -1.0, -1.0, -1.0, -1.0, -1.0, -1.0, -1.0, -1.0, -1.0, -1.0, -1.0, -1.0, -1.0, -1.0, -1.0, -1.0, -1.0, -1.0, -1.0, -1.0, -1.0, -1.0, -1.0, -1.0, -1.0, -1.0, -1.0, -1.0, -1.0, -1.0, -1.0, -1.0, -1.0, -1.0, -1.0, -1.0, -1.0, -1.0, -1.0, -1.0, -1.0, -1.0, 1.0, -1.0, -1.0, -1.0, -1.0, 1.0, 1.0, 1.0, -1.0, 1.0, 1.0, 1.0, 1.0, 1.0, 1.0, 1.0, -1.0, -1.0, 1.0, 1.0, 1.0, 1.0, -1.0, 1.0, 1.0, 1.0, -1.0, -1.0, -1.0, -1.0, -1.0, -1.0, -1.0, -1.0, -1.0, -1.0, -1.0, -1.0, -1.0, -1.0, -1.0, -1.0, -1.0, -1.0, -1.0, -1.0, -1.0, -1.0, -1.0, -1.0, -1.0, -1.0, -1.0, -1.0, -1.0, -1.0, -1.0, -1.0, -1.0, -1.0, -1.0, -1.0, -1.0, -1.0, -1.0, -1.0, -1.0, -1.0, -1.0, -1.0, -1.0, -1.0, -1.0, -1.0, -1.0, -1.0, -1.0, -1.0, -1.0, -1.0, -1.0, -1.0, 1.0, -1.0, -1.0, -1.0, -1.0, -1.0, -1.0, -1.0, -1.0, -1.0, -1.0, 1.0, -1.0, -1.0, -1.0, -1.0, -1.0, -1.0, -1.0, -1.0, -1.0, -1.0, 1.0, -1.0, -1.0, -1.0, -1.0, -1.0, -1.0, 1.0, -1.0, -1.0, -1.0, -1.0, -1.0, -1.0, -1.0, -1.0, -1.0, -1.0, -1.0, -1.0, -1.0, -1.0, -1.0, -1.0, -1.0, -1.0, -1.0, -1.0, -1.0, 1.0, -1.0, 1.0, 1.0, -1.0, -1.0, -1.0, -1.0, 1.0, 1.0, 1.0, -1.0, -1.0, -1.0, 1.0, -1.0, -1.0, 1.0, -1.0, -1.0, -1.0, -1.0, -1.0, -1.0, 1.0, -1.0, -1.0, -1.0, 1.0, -1.0, -1.0, 1.0, 1.0, -1.0, -1.0, 1.0, 1.0, -1.0, 1.0, -1.0, 1.0, 1.0, 1.0, -1.0, 1.0, 1.0, 1.0, 1.0, -1.0, -1.0, 1.0, -1.0, 1.0, -1.0, 1.0, 1.0, -1.0, -1.0, -1.0, -1.0, 1.0, 1.0, -1.0, 1.0, 1.0, 1.0, -1.0, 1.0, -1.0, -1.0, -1.0, 1.0, -1.0, -1.0, -1.0, -1.0, -1.0, -1.0, 1.0, 1.0, -1.0, 1.0, 1.0, -1.0, -1.0, -1.0, -1.0, 1.0, -1.0, -1.0, -1.0, -1.0, -1.0, -1.0, -1.0, -1.0, -1.0, -1.0, -1.0, -1.0, -1.0, -1.0, -1.0, -1.0, -1.0, -1.0, -1.0, -1.0, -1.0, -1.0, -1.0, -1.0, -1.0, -1.0, -1.0, -1.0, -1.0, -1.0, -1.0, -1.0, -1.0, -1.0, -1.0, -1.0, -1.0, -1.0, -1.0, -1.0, -1.0, -1.0, -1.0, -1.0, -1.0, -1.0, -1.0, -1.0, -1.0, -1.0, -1.0, -1.0, -1.0, -1.0, -1.0, -1.0, -1.0, -1.0, -1.0, -1.0, -1.0, -1.0, -1.0, -1.0, -1.0, -1.0, -1.0, -1.0, -1.0, -1.0, -1.0, -1.0, -1.0, -1.0, -1.0, -1.0, -1.0, -1.0, -1.0, -1.0, -1.0, -1.0, -1.0, -1.0, -1.0, -1.0, -1.0, -1.0, -1.0, -1.0, -1.0, -1.0, -1.0, -1.0, -1.0, -1.0, -1.0, -1.0, -1.0, -1.0, -1.0, -1.0, -1.0, -1.0, -1.0, -1.0, -1.0, -1.0, -1.0, -1.0, -1.0, -1.0, -1.0, -1.0, -1.0, -1.0, -1.0, -1.0, -1.0, -1.0, -1.0, -1.0, -1.0, -1.0, -1.0, -1.0, -1.0, -1.0, -1.0, -1.0, -1.0, -1.0, -1.0, -1.0, -1.0, -1.0, -1.0, -1.0, 1.0, -1.0, -1.0, -1.0, -1.0, -1.0, -1.0, -1.0, -1.0, -1.0, -1.0, -1.0, -1.0, -1.0, -1.0, -1.0, -1.0, -1.0, -1.0, -1.0, -1.0, -1.0, -1.0, -1.0, -1.0, -1.0, -1.0, -1.0, -1.0, -1.0, -1.0, -1.0, 1.0, -1.0, -1.0, -1.0, -1.0, -1.0, -1.0, -1.0, -1.0, -1.0, -1.0, -1.0, -1.0, -1.0, -1.0, -1.0, -1.0, -1.0, -1.0, -1.0, 1.0, -1.0, -1.0, -1.0, -1.0, -1.0, -1.0, -1.0, -1.0, -1.0, -1.0, -1.0, -1.0, -1.0, -1.0, -1.0, -1.0, -1.0, -1.0, -1.0, -1.0, -1.0, -1.0, -1.0, -1.0, -1.0, -1.0, -1.0, -1.0, -1.0, -1.0, -1.0, -1.0, -1.0, -1.0, -1.0, -1.0, -1.0, -1.0, -1.0, -1.0, -1.0, -1.0, -1.0, -1.0, -1.0, -1.0, -1.0, -1.0, -1.0, -1.0, -1.0, -1.0, -1.0, -1.0, -1.0, -1.0, -1.0, -1.0, -1.0, -1.0, -1.0, -1.0, -1.0, -1.0, -1.0, -1.0, -1.0, -1.0, -1.0, -1.0, -1.0, -1.0, -1.0, -1.0, -1.0, -1.0, -1.0, -1.0, -1.0, -1.0, -1.0, -1.0, -1.0, -1.0, -1.0, -1.0, -1.0, -1.0, -1.0, -1.0, -1.0, -1.0, -1.0, -1.0, -1.0, -1.0, -1.0, -1.0, -1.0, -1.0, -1.0, -1.0, -1.0, -1.0, -1.0, -1.0, -1.0, -1.0, -1.0, -1.0, -1.0, -1.0, -1.0, -1.0, -1.0, -1.0, -1.0, -1.0, -1.0, -1.0, -1.0, -1.0, -1.0, -1.0, -1.0, -1.0, -1.0, -1.0, -1.0, -1.0, -1.0, -1.0, -1.0, -1.0, -1.0, -1.0, -1.0, -1.0, -1.0, -1.0, -1.0, -1.0, -1.0, -1.0, -1.0, -1.0, -1.0, -1.0, -1.0, -1.0, -1.0, -1.0, -1.0, -1.0, -1.0, -1.0, -1.0, -1.0, -1.0, -1.0, -1.0, -1.0, -1.0, -1.0, -1.0, -1.0, -1.0, -1.0, -1.0, -1.0, -1.0, -1.0, -1.0, -1.0, -1.0, -1.0, -1.0, -1.0, -1.0, -1.0, -1.0, -1.0, -1.0, -1.0, -1.0, -1.0, -1.0, 1.0, -1.0, -1.0, -1.0, -1.0, -1.0, -1.0, -1.0, -1.0, -1.0, -1.0, -1.0, -1.0, -1.0, 1.0, -1.0, -1.0, -1.0, -1.0, -1.0, -1.0, -1.0, -1.0, -1.0, -1.0, -1.0, -1.0, -1.0, -1.0, -1.0, -1.0, -1.0, -1.0, -1.0, -1.0, -1.0, -1.0, -1.0, -1.0, -1.0, -1.0, -1.0, -1.0, -1.0, -1.0, -1.0, -1.0, -1.0, -1.0, -1.0, -1.0, -1.0, -1.0, -1.0, -1.0, -1.0, -1.0, -1.0, -1.0, -1.0, -1.0, -1.0, -1.0, -1.0, -1.0, -1.0, -1.0, -1.0, -1.0, -1.0, -1.0, -1.0, -1.0, -1.0, -1.0, -1.0, -1.0, -1.0, -1.0, -1.0, -1.0, -1.0, -1.0, -1.0, -1.0, -1.0, -1.0, -1.0, -1.0, -1.0, -1.0, -1.0, -1.0, -1.0, -1.0, -1.0, -1.0, -1.0, -1.0, -1.0, -1.0, -1.0, -1.0, -1.0, -1.0, -1.0, -1.0, -1.0, -1.0, -1.0, -1.0, -1.0, -1.0, -1.0, 1.0, -1.0, -1.0, -1.0, -1.0, -1.0, -1.0, -1.0, -1.0, -1.0, -1.0, -1.0, -1.0, -1.0, -1.0, -1.0, -1.0, -1.0, -1.0, -1.0, -1.0, -1.0, -1.0, -1.0, -1.0, -1.0, -1.0, -1.0, -1.0, -1.0, -1.0, -1.0, -1.0, -1.0, -1.0, -1.0, -1.0, -1.0, -1.0, -1.0, -1.0, -1.0, -1.0, -1.0, -1.0, -1.0, -1.0, -1.0, -1.0, -1.0, -1.0, -1.0, -1.0, -1.0, -1.0, -1.0, -1.0, -1.0, -1.0, -1.0, -1.0, -1.0, -1.0, -1.0, -1.0, -1.0, -1.0, -1.0, -1.0, -1.0, -1.0, -1.0, -1.0, -1.0, -1.0, -1.0, -1.0, -1.0, -1.0, -1.0, -1.0, -1.0, -1.0, -1.0, -1.0, -1.0, -1.0, -1.0, -1.0, -1.0, -1.0, -1.0, -1.0, -1.0, -1.0, -1.0, -1.0, -1.0, -1.0, -1.0, -1.0, -1.0, -1.0, -1.0, -1.0, -1.0, -1.0, -1.0, -1.0, -1.0, -1.0, -1.0, -1.0, -1.0, -1.0, -1.0, -1.0, -1.0, -1.0, -1.0, -1.0, -1.0, -1.0, -1.0, -1.0, -1.0, -1.0, -1.0, -1.0, -1.0, -1.0, -1.0, -1.0, -1.0, -1.0, -1.0, -1.0, -1.0, -1.0, -1.0, -1.0, -1.0, -1.0, -1.0, -1.0, -1.0, -1.0, -1.0, -1.0, -1.0, -1.0, -1.0, -1.0, -1.0, -1.0, -1.0, -1.0, -1.0, -1.0, -1.0, -1.0, -1.0, -1.0, -1.0, -1.0, -1.0, -1.0, -1.0, -1.0, -1.0, -1.0, -1.0, -1.0, -1.0, -1.0, -1.0, -1.0, -1.0, -1.0, -1.0, -1.0, -1.0, -1.0, -1.0, -1.0, -1.0, -1.0, -1.0, -1.0, -1.0, -1.0, -1.0, -1.0, -1.0, -1.0, -1.0, -1.0, -1.0, -1.0, -1.0, -1.0, -1.0, -1.0, -1.0, -1.0, -1.0, -1.0, -1.0, -1.0, -1.0, -1.0, -1.0, -1.0, -1.0, -1.0, -1.0, -1.0, -1.0, -1.0, -1.0, -1.0, -1.0, -1.0, -1.0, -1.0, -1.0, -1.0, -1.0, -1.0, -1.0, -1.0, -1.0, -1.0, -1.0, -1.0, -1.0, -1.0, -1.0, -1.0, -1.0, -1.0, -1.0, -1.0, -1.0, -1.0, -1.0, -1.0, -1.0, -1.0, -1.0, -1.0, -1.0, -1.0, -1.0, -1.0, -1.0, -1.0, -1.0, -1.0, -1.0, -1.0, -1.0, -1.0, -1.0, -1.0, -1.0, -1.0, -1.0, -1.0, -1.0, -1.0, -1.0, -1.0, -1.0, -1.0, -1.0, -1.0, -1.0, -1.0, -1.0, -1.0, -1.0, -1.0, -1.0, -1.0, -1.0, -1.0, -1.0, -1.0, -1.0, -1.0, -1.0, -1.0, -1.0, -1.0, -1.0, -1.0, -1.0, -1.0, -1.0, -1.0, -1.0, -1.0, -1.0, -1.0, -1.0, -1.0, -1.0, -1.0, -1.0, -1.0, -1.0, -1.0, -1.0, -1.0, -1.0, -1.0, -1.0, -1.0, -1.0, -1.0, -1.0, -1.0, -1.0, -1.0, -1.0, -1.0, -1.0, -1.0, -1.0, -1.0, -1.0, -1.0, -1.0, -1.0, -1.0, -1.0, -1.0, -1.0, -1.0, -1.0, -1.0, -1.0, -1.0, -1.0, -1.0, -1.0, -1.0, -1.0, -1.0, -1.0, -1.0, -1.0, -1.0, -1.0, -1.0, -1.0, -1.0, -1.0, -1.0, -1.0, -1.0, -1.0, -1.0, -1.0, -1.0, -1.0, -1.0, -1.0, -1.0, -1.0, -1.0, -1.0, -1.0, -1.0, -1.0, -1.0, -1.0, -1.0, -1.0, -1.0, -1.0, -1.0, -1.0, -1.0, -1.0, -1.0, -1.0, -1.0, -1.0, -1.0, -1.0, -1.0, -1.0, -1.0, -1.0, -1.0, -1.0, -1.0, -1.0, 1.0, -1.0, -1.0, -1.0, 1.0, -1.0, -1.0, -1.0, -1.0, -1.0, -1.0, -1.0, -1.0, -1.0, -1.0, -1.0, -1.0, -1.0, -1.0, -1.0, -1.0, -1.0, -1.0, -1.0, -1.0, -1.0, -1.0, -1.0, -1.0, -1.0, -1.0, -1.0, -1.0, -1.0, -1.0, -1.0, -1.0, -1.0, -1.0, -1.0, -1.0, -1.0, -1.0, -1.0, -1.0, -1.0, -1.0, -1.0, -1.0, -1.0, -1.0, -1.0, -1.0, -1.0, -1.0, -1.0, -1.0, -1.0, -1.0, -1.0, -1.0, -1.0, -1.0, -1.0, -1.0, -1.0, -1.0, -1.0, -1.0, -1.0, -1.0, -1.0, -1.0, -1.0, -1.0, -1.0, -1.0, -1.0, -1.0, -1.0, -1.0, -1.0, -1.0, -1.0, -1.0, -1.0, -1.0, -1.0, -1.0, -1.0, -1.0, -1.0, -1.0, -1.0, -1.0, -1.0, -1.0, -1.0, -1.0, -1.0, -1.0, -1.0, -1.0, -1.0, -1.0, -1.0, -1.0, -1.0, -1.0, -1.0, -1.0, -1.0, -1.0, -1.0, -1.0, -1.0, -1.0, -1.0, 1.0, -1.0, -1.0, -1.0, 1.0, -1.0, -1.0, -1.0, -1.0, -1.0, -1.0, -1.0, -1.0, -1.0, -1.0, -1.0, -1.0, -1.0, -1.0, -1.0, -1.0, -1.0, -1.0, -1.0, -1.0, -1.0, -1.0, -1.0, -1.0, -1.0, -1.0, -1.0, -1.0, -1.0, -1.0, -1.0, -1.0, -1.0, -1.0, -1.0, -1.0, -1.0, -1.0, -1.0, -1.0, -1.0, -1.0, -1.0, -1.0, -1.0, -1.0, -1.0, -1.0, -1.0, -1.0, -1.0, -1.0, -1.0, -1.0, -1.0, -1.0, -1.0, -1.0, -1.0, -1.0, -1.0, -1.0, -1.0, -1.0, -1.0, -1.0, -1.0, -1.0, -1.0, 1.0, -1.0, -1.0, -1.0, -1.0, -1.0, -1.0, 1.0, -1.0, -1.0, -1.0, -1.0, -1.0, -1.0, -1.0, -1.0, -1.0, 1.0, -1.0, -1.0, -1.0, -1.0, -1.0, -1.0, -1.0, -1.0, -1.0, -1.0, -1.0, -1.0, -1.0, -1.0, -1.0, -1.0, -1.0, -1.0, -1.0, -1.0, -1.0, -1.0, -1.0, -1.0, -1.0, -1.0, -1.0, -1.0, -1.0, -1.0, -1.0, -1.0, -1.0, -1.0, -1.0, -1.0, -1.0, -1.0, -1.0, -1.0, -1.0, -1.0, -1.0, -1.0, -1.0, -1.0, -1.0, -1.0, -1.0, -1.0, -1.0, -1.0, -1.0, -1.0, -1.0, -1.0, -1.0, -1.0, -1.0, -1.0, -1.0, -1.0, 1.0, -1.0, 1.0, -1.0, -1.0, -1.0, -1.0, -1.0, -1.0, -1.0, -1.0, -1.0, -1.0, -1.0, -1.0, -1.0, 1.0, -1.0, -1.0, -1.0, -1.0, 1.0, -1.0, -1.0, 1.0, 1.0, 1.0, 1.0, -1.0, 1.0, 1.0, 1.0, 1.0, -1.0, 1.0, -1.0, 1.0, 1.0, -1.0, 1.0, -1.0, -1.0, -1.0, 1.0, 1.0, -1.0, 1.0, 1.0, -1.0, -1.0, -1.0, -1.0, 1.0, 1.0, -1.0, 1.0, 1.0, 1.0, 1.0, -1.0, -1.0, 1.0, -1.0, 1.0, -1.0, -1.0, -1.0, -1.0, -1.0, -1.0, -1.0, -1.0, -1.0, -1.0, -1.0, -1.0, -1.0, 1.0, 1.0, -1.0, 1.0, -1.0, 1.0, -1.0, -1.0, -1.0, -1.0, -1.0, -1.0, -1.0, -1.0, -1.0, -1.0, -1.0, -1.0, -1.0, 1.0, 1.0, -1.0, 1.0, -1.0, 1.0, -1.0, 1.0, -1.0, -1.0, -1.0, 1.0, 1.0, -1.0, -1.0, -1.0, 1.0, -1.0, 1.0, -1.0, -1.0, 1.0, -1.0, -1.0, -1.0, -1.0, 1.0, -1.0, -1.0, 1.0, -1.0, 1.0, -1.0, 1.0, 1.0]\n"
     ]
    }
   ],
   "source": [
    "if detection is []:\n",
    "    print(\"There are not outliers in the data.\")\n",
    "else:\n",
    "    print(\"The \" + str(len(outlier_positions_mah)) + \" outliers found are in positions:\\n\" + str(outlier_positions_mah))\n",
    "    classes_names = ['-1', '1']\n",
    "    classes_location = []\n",
    "    for x in nan_imputed_data[\"class\"].values[outlier_positions_mah]:\n",
    "        classes_location.append(x)\n",
    "    print(\"They correspond respectively to classes:\\n\"+str(classes_location))"
   ]
  },
  {
   "cell_type": "markdown",
   "metadata": {},
   "source": [
    "The quantity of the outliers is not several comparing with the quantity of rows that we have. We need to improve the speed up of our model so we are going to remove the outliers.\n",
    "At the end, if we need more information to improve the score, we can try without removing them"
   ]
  },
  {
   "cell_type": "code",
   "execution_count": 12,
   "metadata": {
    "pycharm": {
     "is_executing": false
    }
   },
   "outputs": [],
   "source": [
    "outlier_free_data = X.copy()\n",
    "outlier_free_data[\"class\"] = y.copy()\n",
    "\n",
    "outlier_free_data.drop(outlier_free_data.index[outlier_positions_mah], inplace=True)"
   ]
  },
  {
   "cell_type": "markdown",
   "metadata": {},
   "source": [
    "    - (c) From now on, this is your basic data. Therefore, it is save to overwrite the names of the data parts. <br>"
   ]
  },
  {
   "cell_type": "code",
   "execution_count": 13,
   "metadata": {
    "pycharm": {
     "is_executing": false
    }
   },
   "outputs": [],
   "source": [
    "X = outlier_free_data.iloc[:,:-1]\n",
    "y = outlier_free_data.iloc[:,-1]\n",
    "\n",
    "xtr, xte, ytr, yte = train_test_split(X, y, random_state=seed, train_size = 0.70)"
   ]
  },
  {
   "cell_type": "markdown",
   "metadata": {},
   "source": [
    "(iii) **The feature selection method SelectPercentile (sklearn.feature_selection.SelectPercentile) uses different scores (f_classif, mutual_info_classif, chi2, f_regression, etc) in order to select the most relevant features. In the Scikit-Learn documentation\n",
    "(https://scikit-learn.org/stable/modules/generated/sklearn.feature_selection.SelectPercentile.html#sklearn.feature_selection.SelectPercentile)\n",
    "you have the function info and an example of use of chi2 score. Use the feature selection method SelectPercentile with the mutual_info_classif score, and percentile parameter 20. [30%]** <br>\n",
    "<br>\n",
    "    - (a) Which is the compression ratio you obtained? (Note: Compression ratio is the proportion of variables kept after the selection). <br>\n",
    "    <br>\n",
    "    - (b) Compare the performance with and without feature selection with the right scheme and function. Is selecting those variables a good idea? Argue your response. <br>\n",
    "    <br>\n",
    "    - (c) Regarding the answer to (b), get your current data in order to continue preprocessing.  <br>\n",
    "    <br>"
   ]
  },
  {
   "cell_type": "code",
   "execution_count": 14,
   "metadata": {
    "pycharm": {
     "is_executing": false
    }
   },
   "outputs": [
    {
     "name": "stdout",
     "output_type": "stream",
     "text": [
      "Shape before SelectPercentile: 131175-74\n",
      "Shape after SelectPercentile: 131175-15\n",
      "Wall time: 1min 43s\n"
     ]
    }
   ],
   "source": [
    "%%time\n",
    "from sklearn.feature_selection import SelectPercentile, mutual_info_classif\n",
    "\n",
    "print(\"Shape before SelectPercentile: \"+str(X.shape[0])+\"-\"+str(X.shape[1]))\n",
    "X_new = SelectPercentile(mutual_info_classif, percentile=20).fit_transform(X, y)\n",
    "print(\"Shape after SelectPercentile: \"+str(X_new.shape[0])+\"-\"+str(X_new.shape[1]))"
   ]
  },
  {
   "cell_type": "code",
   "execution_count": 15,
   "metadata": {
    "pycharm": {
     "is_executing": false
    }
   },
   "outputs": [
    {
     "name": "stdout",
     "output_type": "stream",
     "text": [
      "Compress ratio is 74/15: 4.933333333333334\n"
     ]
    }
   ],
   "source": [
    "print(\"Compress ratio is \"+str(X.shape[1])+\"/\"+str(X_new.shape[1])+\": \"+str(X.shape[1]/X_new.shape[1]))"
   ]
  },
  {
   "cell_type": "code",
   "execution_count": 16,
   "metadata": {
    "pycharm": {
     "is_executing": false
    }
   },
   "outputs": [
    {
     "name": "stdout",
     "output_type": "stream",
     "text": [
      "Score before feature selections\n",
      "0.9436689758679714\n",
      "Wall time: 4min 30s\n"
     ]
    }
   ],
   "source": [
    "%%time\n",
    "\n",
    "compare_score = automatic_scoring(X, y)\n",
    "print(\"Score before feature selections\")\n",
    "print(compare_score)"
   ]
  },
  {
   "cell_type": "code",
   "execution_count": 17,
   "metadata": {
    "pycharm": {
     "is_executing": false
    }
   },
   "outputs": [
    {
     "name": "stdout",
     "output_type": "stream",
     "text": [
      "Score after feature selections\n",
      "0.9258791154224619\n",
      "Wall time: 1min 29s\n"
     ]
    }
   ],
   "source": [
    "%%time\n",
    "\n",
    "compare_score = automatic_scoring(X_new, y)\n",
    "print(\"Score after feature selections\")\n",
    "print(compare_score)"
   ]
  },
  {
   "cell_type": "markdown",
   "metadata": {},
   "source": [
    "Number of features reduction is high and the score is similar so it's a good idea to get this features selection as an option to improve the speed of our model creation "
   ]
  },
  {
   "cell_type": "markdown",
   "metadata": {},
   "source": [
    "* (iv) **Check the balance of your current dataset. Which is its imbalance ratio? We can understand it both as the number of times the majority class is bigger than the minority class, or the proportion of the samples that are from minority class. If imbalance ratio is higher than 49 to 1 (equivalent to having less than 2% of minority class samples), discuss if it makes sense to apply imbalanced data treatments or not. Consider the size of the data and the performance you have obtained in (iii) (b) for the data you currently have. Act in consequence with total freedom on the sampling method to use if you need any. [20%]**"
   ]
  },
  {
   "cell_type": "code",
   "execution_count": 18,
   "metadata": {
    "pycharm": {
     "is_executing": false
    }
   },
   "outputs": [
    {
     "name": "stdout",
     "output_type": "stream",
     "text": [
      "Training statistics: Counter({-1.0: 91430, 1.0: 392})\n",
      "Testing statistics: Counter({-1.0: 39199, 1.0: 154})\n"
     ]
    },
    {
     "data": {
      "text/plain": [
       "251.4954128440367"
      ]
     },
     "execution_count": 18,
     "metadata": {},
     "output_type": "execute_result"
    }
   ],
   "source": [
    "from collections import Counter\n",
    "\n",
    "xtr, xte, ytr, yte = train_test_split(X, y, random_state=seed, train_size = 0.70)\n",
    "\n",
    "print('Training statistics: {}'.format(Counter(ytr)))\n",
    "print('Testing statistics: {}'.format(Counter(yte)))\n",
    "\n",
    "82239/327\n"
   ]
  },
  {
   "cell_type": "code",
   "execution_count": 19,
   "metadata": {
    "pycharm": {
     "is_executing": false
    }
   },
   "outputs": [
    {
     "ename": "NameError",
     "evalue": "name 'LinearSVC' is not defined",
     "output_type": "error",
     "traceback": [
      "\u001b[1;31m---------------------------------------------------------------------------\u001b[0m",
      "\u001b[1;31mNameError\u001b[0m                                 Traceback (most recent call last)",
      "\u001b[1;32m<ipython-input-19-459a945fa923>\u001b[0m in \u001b[0;36m<module>\u001b[1;34m\u001b[0m\n\u001b[0;32m      4\u001b[0m \u001b[1;33m\u001b[0m\u001b[0m\n\u001b[0;32m      5\u001b[0m pipeline = make_pipeline(NearMiss(version=2),\n\u001b[1;32m----> 6\u001b[1;33m                          LinearSVC(random_state=RANDOM_STATE, max_iter=10000))\n\u001b[0m\u001b[0;32m      7\u001b[0m \u001b[0mpipeline\u001b[0m\u001b[1;33m.\u001b[0m\u001b[0mfit\u001b[0m\u001b[1;33m(\u001b[0m\u001b[0mX_train\u001b[0m\u001b[1;33m,\u001b[0m \u001b[0my_train\u001b[0m\u001b[1;33m)\u001b[0m\u001b[1;33m\u001b[0m\u001b[1;33m\u001b[0m\u001b[0m\n",
      "\u001b[1;31mNameError\u001b[0m: name 'LinearSVC' is not defined"
     ]
    }
   ],
   "source": [
    "from imblearn.pipeline import make_pipeline\n",
    "from imblearn.over_sampling import SMOTE\n",
    "from imblearn.under_sampling import NearMiss\n",
    "\n",
    "pipeline = make_pipeline(NearMiss(version=2),\n",
    "                         LinearSVC(random_state=RANDOM_STATE, max_iter=10000))\n",
    "pipeline.fit(X_train, y_train)"
   ]
  },
  {
   "cell_type": "markdown",
   "metadata": {},
   "source": [
    "* (v) **Apply principal component analysis to your data for compression, capturing at least 95% of the cumulative variance. How many extracted variables do you have? Which reduction percentage would you get if you apply it? Compare the performance with the one of your current non-compressed data. Would you use the pca compression here? Act consequently with your answer, and keep the data overwriting the names. [15%]**"
   ]
  },
  {
   "cell_type": "code",
   "execution_count": null,
   "metadata": {
    "pycharm": {
     "is_executing": false
    }
   },
   "outputs": [],
   "source": [
    "from sklearn.decomposition import PCA\n",
    "\n",
    "pca = PCA(n_components)\n",
    "pca.fit(X)\n",
    "X = pca.transform(X)\n",
    "proj_df = pd.DataFrame(data=X, columns=['PC' + str(x) for x in list(range(1, X.shape[1] + 1))])\n",
    "proj_df = pd.concat([proj_df, df[df.columns[-1]]], axis=1)\n",
    "\n"
   ]
  },
  {
   "cell_type": "markdown",
   "metadata": {},
   "source": [
    "* (vi) **Once you are here, you have final preprocessed data using the definitive preprocessing scheme you have reasonably chosen. Check now the performance using the test data. Comment on the result you have obtained compared to the one in (v). [10%]**"
   ]
  },
  {
   "cell_type": "code",
   "execution_count": null,
   "metadata": {
    "pycharm": {
     "is_executing": false
    }
   },
   "outputs": [],
   "source": []
  }
 ],
 "metadata": {
  "kernelspec": {
   "display_name": "Python 3",
   "language": "python",
   "name": "python3"
  },
  "language_info": {
   "codemirror_mode": {
    "name": "ipython",
    "version": 3
   },
   "file_extension": ".py",
   "mimetype": "text/x-python",
   "name": "python",
   "nbconvert_exporter": "python",
   "pygments_lexer": "ipython3",
   "version": "3.7.4"
  }
 },
 "nbformat": 4,
 "nbformat_minor": 2
}

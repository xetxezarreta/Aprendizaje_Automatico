{
 "cells": [
  {
   "cell_type": "markdown",
   "metadata": {},
   "source": [
    "# Control point: Data preprocessing\n",
    "#### Máster en Análisis de Datos, Ciberseguridad y Computación en la Nube\n",
    "#### Aprendizaje Automático - Punto de Control 1 (31/10/2019)"
   ]
  },
  {
   "cell_type": "markdown",
   "metadata": {},
   "source": [
    "#### Name & Surnames: "
   ]
  },
  {
   "cell_type": "markdown",
   "metadata": {},
   "source": [
    "### Introduction"
   ]
  },
  {
   "cell_type": "markdown",
   "metadata": {},
   "source": [
    "The dataset named Hoerchen (Hoerchen.csv) has more than 145K samples and more than 70 features."
   ]
  },
  {
   "cell_type": "markdown",
   "metadata": {},
   "source": [
    "The main objective of the control point is to preprocess the train data, designing a complete preprocessing scheme, and test it on test data. \n",
    "\n",
    "You must take into account that this is not a toy dataset, and its size could be relevant."
   ]
  },
  {
   "cell_type": "markdown",
   "metadata": {},
   "source": [
    "The function \"automatic_scoring\" provides a way for comparing different schemes using a classifier, by means of 10-Fold CV and using AUC as metric. You will need to put the right seed as requested. Notice that the function just needs inputs (X) and target (y) arrays as input."
   ]
  },
  {
   "cell_type": "markdown",
   "metadata": {},
   "source": [
    "If you try anytime several options it is important to show the results of those discarded trials, because what is not visible cannot be evaluated."
   ]
  },
  {
   "cell_type": "markdown",
   "metadata": {},
   "source": [
    "The function \"automatic_testing\" trains the model on the train data and applies it to the test data. Do not change the classification algorithm, its parameters and the scoring choice. Those are fixed and their optimization is out of the scope of this control point."
   ]
  },
  {
   "cell_type": "markdown",
   "metadata": {},
   "source": [
    "The deliverable of this control point is this Jupyter Notebook containing the code, plus some short answers in markdown cells if required."
   ]
  },
  {
   "cell_type": "markdown",
   "metadata": {},
   "source": [
    "NOTE: Keep in mind that some functions accept both Pandas dataframes and Numpy arrays, but some others only one of them. Nevertheless, we should know how to pass form one to the other and viceversa."
   ]
  },
  {
   "cell_type": "markdown",
   "metadata": {},
   "source": [
    "NOTE: Keep in mind that some functions will take some time to run. You can continue working on other cells during the run to avoid wasting time waiting."
   ]
  },
  {
   "cell_type": "markdown",
   "metadata": {},
   "source": [
    "### Exercises:"
   ]
  },
  {
   "cell_type": "markdown",
   "metadata": {},
   "source": [
    "* (i) Split the data into 4 parts, i.e. train inputs and target (xtr, ytr) and test inputs and target (xte and yte), in such a way that the proportion of the classes is kept constant in train and test parts. The size of the training set must be 70% of the total size of the data, and the random seed to be used must be your ID card number (i.e. DNI without the letter). This random seed must be kept during all the control point in any possible place. [5%] <br>\n",
    "<br>\n",
    "* (ii) Checking for missing values and outliers. If any, treat the data however you consider better, arguing your decisions. [20%] <br>\n",
    "  <br>\n",
    "    - (a) Is there any missing value? If so, regarding the characteristics of the data, decide what to do arguing your answer. Modify your data according to your answer if necessary.  <br>\n",
    "      <br>\n",
    "    - (b) Is there any collective outlier? If so, regarding the characteristics of the data, decide what to do arguing your answer.  Modify your data according to your answer if necessary. <br>\n",
    "    <br>\n",
    "    - (c) From now on, this is your basic data. Therefore, it is save to overwrite the names of the data parts. <br>\n",
    "<br>\n",
    "\n",
    "* (iii) The feature selection method SelectPercentile (sklearn.feature_selection.SelectPercentile) uses different scores (f_classif, mutual_info_classif, chi2, f_regression, etc) in order to select the most relevant features. In the Scikit-Learn documentation\n",
    "(https://scikit-learn.org/stable/modules/generated/sklearn.feature_selection.SelectPercentile.html#sklearn.feature_selection.SelectPercentile)\n",
    "you have the function info and an example of use of chi2 score. Use the feature selection method SelectPercentile with the mutual_info_classif score, and percentile parameter 20. [30%] <br>\n",
    "<br>\n",
    "    - (a) Which is the compression ratio you obtained? (Note: Compression ratio is the proportion of variables kept after the selection). <br>\n",
    "    <br>\n",
    "    - (b) Compare the performance with and without feature selection with the right scheme and function. Is selecting those variables a good idea? Argue your response. <br>\n",
    "    <br>\n",
    "    - (c) Regarding the answer to (b), get your current data in order to continue preprocessing.  <br>\n",
    "    <br>\n",
    "    \n",
    "* (iv) Check the balance of your current dataset. Which is its imbalance ratio? We can understand it both as the number of times the majority class is bigger than the minority class, or the proportion of the samples that are from minority class. If imbalance ratio is higher than 49 to 1 (equivalent to having less than 2% of minority class samples), discuss if it makes sense to apply imbalanced data treatments or not. Consider the size of the data and the performance you have obtained in (iii) (b) for the data you currently have. Act in consequence with total freedom on the sampling method to use if you need any. [20%] <br>\n",
    "<br>\n",
    "* (v) Apply principal component analysis to your data for compression, capturing at least 95% of the cumulative variance. How many extracted variables do you have? Which reduction percentage would you get if you apply it? Compare the performance with the one of your current non-compressed data. Would you use the pca compression here? Act consequently with your answer, and keep the data overwriting the names. [15%] <br> \n",
    "<br>\n",
    "* (vi) Once you are here, you have final preprocessed data using the definitive preprocessing scheme you have reasonably chosen. Check now the performance using the test data. Comment on the result you have obtained compared to the one in (v). [10%]"
   ]
  },
  {
   "cell_type": "markdown",
   "metadata": {},
   "source": [
    "#### Auxiliar functions"
   ]
  },
  {
   "cell_type": "code",
   "execution_count": 1,
   "metadata": {},
   "outputs": [],
   "source": [
    "from sklearn.ensemble import RandomForestClassifier\n",
    "from sklearn.model_selection import cross_val_score\n",
    "\n",
    "\n",
    "seed = 72841579 # Your DNI number without letter and left zeros here, e.g. 09425400T => 9425400\n",
    "\n",
    "\n",
    "def automatic_scoring(X, y):\n",
    "    average_score = cross_val_score(estimator=RandomForestClassifier(n_estimators=100, random_state=seed), X=X, y=y, cv=5, scoring='roc_auc').mean()\n",
    "    return average_score"
   ]
  },
  {
   "cell_type": "code",
   "execution_count": 2,
   "metadata": {},
   "outputs": [],
   "source": [
    "from sklearn.ensemble import RandomForestClassifier\n",
    "from sklearn.model_selection import cross_val_score\n",
    "from sklearn.metrics import roc_auc_score\n",
    "\n",
    "\n",
    "def automatic_testing(X_train, y_train, X_test, y_test):\n",
    "    auc_score = roc_auc_score(y_test, RandomForestClassifier(n_estimators=100, random_state=seed).fit(X_train, y_train).predict_proba(X_test)[:,1])\n",
    "    return auc_score"
   ]
  },
  {
   "cell_type": "markdown",
   "metadata": {},
   "source": [
    "### Solution:"
   ]
  },
  {
   "cell_type": "code",
   "execution_count": 3,
   "metadata": {},
   "outputs": [
    {
     "data": {
      "text/html": [
       "<div>\n",
       "<style scoped>\n",
       "    .dataframe tbody tr th:only-of-type {\n",
       "        vertical-align: middle;\n",
       "    }\n",
       "\n",
       "    .dataframe tbody tr th {\n",
       "        vertical-align: top;\n",
       "    }\n",
       "\n",
       "    .dataframe thead th {\n",
       "        text-align: right;\n",
       "    }\n",
       "</style>\n",
       "<table border=\"1\" class=\"dataframe\">\n",
       "  <thead>\n",
       "    <tr style=\"text-align: right;\">\n",
       "      <th></th>\n",
       "      <th>v1</th>\n",
       "      <th>v2</th>\n",
       "      <th>v3</th>\n",
       "      <th>v4</th>\n",
       "      <th>v5</th>\n",
       "      <th>v6</th>\n",
       "      <th>v7</th>\n",
       "      <th>v8</th>\n",
       "      <th>v9</th>\n",
       "      <th>v10</th>\n",
       "      <th>...</th>\n",
       "      <th>v66</th>\n",
       "      <th>v67</th>\n",
       "      <th>v68</th>\n",
       "      <th>v69</th>\n",
       "      <th>v70</th>\n",
       "      <th>v71</th>\n",
       "      <th>v72</th>\n",
       "      <th>v73</th>\n",
       "      <th>v74</th>\n",
       "      <th>class</th>\n",
       "    </tr>\n",
       "  </thead>\n",
       "  <tbody>\n",
       "    <tr>\n",
       "      <td>0</td>\n",
       "      <td>52.0</td>\n",
       "      <td>32.69</td>\n",
       "      <td>0.30</td>\n",
       "      <td>2.5</td>\n",
       "      <td>20.0</td>\n",
       "      <td>1256.8</td>\n",
       "      <td>-0.89</td>\n",
       "      <td>0.33</td>\n",
       "      <td>11.0</td>\n",
       "      <td>-55.0</td>\n",
       "      <td>...</td>\n",
       "      <td>1595.1</td>\n",
       "      <td>-1.64</td>\n",
       "      <td>2.83</td>\n",
       "      <td>-2.0</td>\n",
       "      <td>-50.0</td>\n",
       "      <td>445.2</td>\n",
       "      <td>-0.35</td>\n",
       "      <td>0.26</td>\n",
       "      <td>0.76</td>\n",
       "      <td>-1.0</td>\n",
       "    </tr>\n",
       "    <tr>\n",
       "      <td>1</td>\n",
       "      <td>58.0</td>\n",
       "      <td>33.33</td>\n",
       "      <td>0.00</td>\n",
       "      <td>16.5</td>\n",
       "      <td>9.5</td>\n",
       "      <td>608.1</td>\n",
       "      <td>0.50</td>\n",
       "      <td>0.07</td>\n",
       "      <td>20.5</td>\n",
       "      <td>-52.5</td>\n",
       "      <td>...</td>\n",
       "      <td>762.9</td>\n",
       "      <td>0.29</td>\n",
       "      <td>0.82</td>\n",
       "      <td>-3.0</td>\n",
       "      <td>-35.0</td>\n",
       "      <td>140.3</td>\n",
       "      <td>1.16</td>\n",
       "      <td>0.39</td>\n",
       "      <td>0.73</td>\n",
       "      <td>-1.0</td>\n",
       "    </tr>\n",
       "    <tr>\n",
       "      <td>2</td>\n",
       "      <td>77.0</td>\n",
       "      <td>27.27</td>\n",
       "      <td>-0.91</td>\n",
       "      <td>6.0</td>\n",
       "      <td>58.5</td>\n",
       "      <td>1623.6</td>\n",
       "      <td>-1.40</td>\n",
       "      <td>0.02</td>\n",
       "      <td>-6.5</td>\n",
       "      <td>-48.0</td>\n",
       "      <td>...</td>\n",
       "      <td>1491.8</td>\n",
       "      <td>0.32</td>\n",
       "      <td>-1.29</td>\n",
       "      <td>0.0</td>\n",
       "      <td>-34.0</td>\n",
       "      <td>658.2</td>\n",
       "      <td>-0.76</td>\n",
       "      <td>0.26</td>\n",
       "      <td>0.24</td>\n",
       "      <td>-1.0</td>\n",
       "    </tr>\n",
       "    <tr>\n",
       "      <td>3</td>\n",
       "      <td>41.0</td>\n",
       "      <td>27.91</td>\n",
       "      <td>-0.35</td>\n",
       "      <td>3.0</td>\n",
       "      <td>46.0</td>\n",
       "      <td>1921.6</td>\n",
       "      <td>-1.36</td>\n",
       "      <td>-0.47</td>\n",
       "      <td>-32.0</td>\n",
       "      <td>-51.5</td>\n",
       "      <td>...</td>\n",
       "      <td>2047.7</td>\n",
       "      <td>-0.98</td>\n",
       "      <td>1.53</td>\n",
       "      <td>0.0</td>\n",
       "      <td>-49.0</td>\n",
       "      <td>554.2</td>\n",
       "      <td>-0.83</td>\n",
       "      <td>0.39</td>\n",
       "      <td>0.73</td>\n",
       "      <td>-1.0</td>\n",
       "    </tr>\n",
       "    <tr>\n",
       "      <td>4</td>\n",
       "      <td>50.0</td>\n",
       "      <td>28.00</td>\n",
       "      <td>-1.32</td>\n",
       "      <td>-9.0</td>\n",
       "      <td>12.0</td>\n",
       "      <td>464.8</td>\n",
       "      <td>0.88</td>\n",
       "      <td>0.19</td>\n",
       "      <td>8.0</td>\n",
       "      <td>-51.5</td>\n",
       "      <td>...</td>\n",
       "      <td>479.5</td>\n",
       "      <td>0.68</td>\n",
       "      <td>-0.59</td>\n",
       "      <td>2.0</td>\n",
       "      <td>-36.0</td>\n",
       "      <td>-6.9</td>\n",
       "      <td>2.02</td>\n",
       "      <td>0.14</td>\n",
       "      <td>-0.23</td>\n",
       "      <td>-1.0</td>\n",
       "    </tr>\n",
       "  </tbody>\n",
       "</table>\n",
       "<p>5 rows × 75 columns</p>\n",
       "</div>"
      ],
      "text/plain": [
       "     v1     v2    v3    v4    v5      v6    v7    v8    v9   v10  ...     v66  \\\n",
       "0  52.0  32.69  0.30   2.5  20.0  1256.8 -0.89  0.33  11.0 -55.0  ...  1595.1   \n",
       "1  58.0  33.33  0.00  16.5   9.5   608.1  0.50  0.07  20.5 -52.5  ...   762.9   \n",
       "2  77.0  27.27 -0.91   6.0  58.5  1623.6 -1.40  0.02  -6.5 -48.0  ...  1491.8   \n",
       "3  41.0  27.91 -0.35   3.0  46.0  1921.6 -1.36 -0.47 -32.0 -51.5  ...  2047.7   \n",
       "4  50.0  28.00 -1.32  -9.0  12.0   464.8  0.88  0.19   8.0 -51.5  ...   479.5   \n",
       "\n",
       "    v67   v68  v69   v70    v71   v72   v73   v74  class  \n",
       "0 -1.64  2.83 -2.0 -50.0  445.2 -0.35  0.26  0.76   -1.0  \n",
       "1  0.29  0.82 -3.0 -35.0  140.3  1.16  0.39  0.73   -1.0  \n",
       "2  0.32 -1.29  0.0 -34.0  658.2 -0.76  0.26  0.24   -1.0  \n",
       "3 -0.98  1.53  0.0 -49.0  554.2 -0.83  0.39  0.73   -1.0  \n",
       "4  0.68 -0.59  2.0 -36.0   -6.9  2.02  0.14 -0.23   -1.0  \n",
       "\n",
       "[5 rows x 75 columns]"
      ]
     },
     "execution_count": 3,
     "metadata": {},
     "output_type": "execute_result"
    }
   ],
   "source": [
    "import pandas as pd\n",
    "\n",
    "df = pd.read_csv('Hoerchen.csv')\n",
    "df.head()"
   ]
  },
  {
   "cell_type": "code",
   "execution_count": 4,
   "metadata": {},
   "outputs": [
    {
     "data": {
      "text/html": [
       "<div>\n",
       "<style scoped>\n",
       "    .dataframe tbody tr th:only-of-type {\n",
       "        vertical-align: middle;\n",
       "    }\n",
       "\n",
       "    .dataframe tbody tr th {\n",
       "        vertical-align: top;\n",
       "    }\n",
       "\n",
       "    .dataframe thead th {\n",
       "        text-align: right;\n",
       "    }\n",
       "</style>\n",
       "<table border=\"1\" class=\"dataframe\">\n",
       "  <thead>\n",
       "    <tr style=\"text-align: right;\">\n",
       "      <th></th>\n",
       "      <th>v1</th>\n",
       "      <th>v2</th>\n",
       "      <th>v3</th>\n",
       "      <th>v4</th>\n",
       "      <th>v5</th>\n",
       "      <th>v6</th>\n",
       "      <th>v7</th>\n",
       "      <th>v8</th>\n",
       "      <th>v9</th>\n",
       "      <th>v10</th>\n",
       "      <th>...</th>\n",
       "      <th>v65</th>\n",
       "      <th>v66</th>\n",
       "      <th>v67</th>\n",
       "      <th>v68</th>\n",
       "      <th>v69</th>\n",
       "      <th>v70</th>\n",
       "      <th>v71</th>\n",
       "      <th>v72</th>\n",
       "      <th>v73</th>\n",
       "      <th>v74</th>\n",
       "    </tr>\n",
       "  </thead>\n",
       "  <tbody>\n",
       "    <tr>\n",
       "      <td>0</td>\n",
       "      <td>52.0</td>\n",
       "      <td>32.69</td>\n",
       "      <td>0.30</td>\n",
       "      <td>2.5</td>\n",
       "      <td>20.0</td>\n",
       "      <td>1256.8</td>\n",
       "      <td>-0.89</td>\n",
       "      <td>0.33</td>\n",
       "      <td>11.0</td>\n",
       "      <td>-55.0</td>\n",
       "      <td>...</td>\n",
       "      <td>-8.0</td>\n",
       "      <td>1595.1</td>\n",
       "      <td>-1.64</td>\n",
       "      <td>2.83</td>\n",
       "      <td>-2.0</td>\n",
       "      <td>-50.0</td>\n",
       "      <td>445.2</td>\n",
       "      <td>-0.35</td>\n",
       "      <td>0.26</td>\n",
       "      <td>0.76</td>\n",
       "    </tr>\n",
       "    <tr>\n",
       "      <td>1</td>\n",
       "      <td>58.0</td>\n",
       "      <td>33.33</td>\n",
       "      <td>0.00</td>\n",
       "      <td>16.5</td>\n",
       "      <td>9.5</td>\n",
       "      <td>608.1</td>\n",
       "      <td>0.50</td>\n",
       "      <td>0.07</td>\n",
       "      <td>20.5</td>\n",
       "      <td>-52.5</td>\n",
       "      <td>...</td>\n",
       "      <td>-6.0</td>\n",
       "      <td>762.9</td>\n",
       "      <td>0.29</td>\n",
       "      <td>0.82</td>\n",
       "      <td>-3.0</td>\n",
       "      <td>-35.0</td>\n",
       "      <td>140.3</td>\n",
       "      <td>1.16</td>\n",
       "      <td>0.39</td>\n",
       "      <td>0.73</td>\n",
       "    </tr>\n",
       "    <tr>\n",
       "      <td>2</td>\n",
       "      <td>77.0</td>\n",
       "      <td>27.27</td>\n",
       "      <td>-0.91</td>\n",
       "      <td>6.0</td>\n",
       "      <td>58.5</td>\n",
       "      <td>1623.6</td>\n",
       "      <td>-1.40</td>\n",
       "      <td>0.02</td>\n",
       "      <td>-6.5</td>\n",
       "      <td>-48.0</td>\n",
       "      <td>...</td>\n",
       "      <td>7.0</td>\n",
       "      <td>1491.8</td>\n",
       "      <td>0.32</td>\n",
       "      <td>-1.29</td>\n",
       "      <td>0.0</td>\n",
       "      <td>-34.0</td>\n",
       "      <td>658.2</td>\n",
       "      <td>-0.76</td>\n",
       "      <td>0.26</td>\n",
       "      <td>0.24</td>\n",
       "    </tr>\n",
       "    <tr>\n",
       "      <td>3</td>\n",
       "      <td>41.0</td>\n",
       "      <td>27.91</td>\n",
       "      <td>-0.35</td>\n",
       "      <td>3.0</td>\n",
       "      <td>46.0</td>\n",
       "      <td>1921.6</td>\n",
       "      <td>-1.36</td>\n",
       "      <td>-0.47</td>\n",
       "      <td>-32.0</td>\n",
       "      <td>-51.5</td>\n",
       "      <td>...</td>\n",
       "      <td>6.0</td>\n",
       "      <td>2047.7</td>\n",
       "      <td>-0.98</td>\n",
       "      <td>1.53</td>\n",
       "      <td>0.0</td>\n",
       "      <td>-49.0</td>\n",
       "      <td>554.2</td>\n",
       "      <td>-0.83</td>\n",
       "      <td>0.39</td>\n",
       "      <td>0.73</td>\n",
       "    </tr>\n",
       "    <tr>\n",
       "      <td>4</td>\n",
       "      <td>50.0</td>\n",
       "      <td>28.00</td>\n",
       "      <td>-1.32</td>\n",
       "      <td>-9.0</td>\n",
       "      <td>12.0</td>\n",
       "      <td>464.8</td>\n",
       "      <td>0.88</td>\n",
       "      <td>0.19</td>\n",
       "      <td>8.0</td>\n",
       "      <td>-51.5</td>\n",
       "      <td>...</td>\n",
       "      <td>-14.0</td>\n",
       "      <td>479.5</td>\n",
       "      <td>0.68</td>\n",
       "      <td>-0.59</td>\n",
       "      <td>2.0</td>\n",
       "      <td>-36.0</td>\n",
       "      <td>-6.9</td>\n",
       "      <td>2.02</td>\n",
       "      <td>0.14</td>\n",
       "      <td>-0.23</td>\n",
       "    </tr>\n",
       "  </tbody>\n",
       "</table>\n",
       "<p>5 rows × 74 columns</p>\n",
       "</div>"
      ],
      "text/plain": [
       "     v1     v2    v3    v4    v5      v6    v7    v8    v9   v10  ...   v65  \\\n",
       "0  52.0  32.69  0.30   2.5  20.0  1256.8 -0.89  0.33  11.0 -55.0  ...  -8.0   \n",
       "1  58.0  33.33  0.00  16.5   9.5   608.1  0.50  0.07  20.5 -52.5  ...  -6.0   \n",
       "2  77.0  27.27 -0.91   6.0  58.5  1623.6 -1.40  0.02  -6.5 -48.0  ...   7.0   \n",
       "3  41.0  27.91 -0.35   3.0  46.0  1921.6 -1.36 -0.47 -32.0 -51.5  ...   6.0   \n",
       "4  50.0  28.00 -1.32  -9.0  12.0   464.8  0.88  0.19   8.0 -51.5  ... -14.0   \n",
       "\n",
       "      v66   v67   v68  v69   v70    v71   v72   v73   v74  \n",
       "0  1595.1 -1.64  2.83 -2.0 -50.0  445.2 -0.35  0.26  0.76  \n",
       "1   762.9  0.29  0.82 -3.0 -35.0  140.3  1.16  0.39  0.73  \n",
       "2  1491.8  0.32 -1.29  0.0 -34.0  658.2 -0.76  0.26  0.24  \n",
       "3  2047.7 -0.98  1.53  0.0 -49.0  554.2 -0.83  0.39  0.73  \n",
       "4   479.5  0.68 -0.59  2.0 -36.0   -6.9  2.02  0.14 -0.23  \n",
       "\n",
       "[5 rows x 74 columns]"
      ]
     },
     "execution_count": 4,
     "metadata": {},
     "output_type": "execute_result"
    }
   ],
   "source": [
    "X = df.iloc[:,:-1]\n",
    "X.head()"
   ]
  },
  {
   "cell_type": "code",
   "execution_count": 5,
   "metadata": {},
   "outputs": [
    {
     "data": {
      "text/plain": [
       "array([-1.,  1.])"
      ]
     },
     "execution_count": 5,
     "metadata": {},
     "output_type": "execute_result"
    }
   ],
   "source": [
    "y = df.iloc[:,-1]\n",
    "y.unique()"
   ]
  },
  {
   "cell_type": "code",
   "execution_count": 14,
   "metadata": {},
   "outputs": [
    {
     "data": {
      "text/plain": [
       "-1.0    144455\n",
       " 1.0      1296\n",
       "Name: class, dtype: int64"
      ]
     },
     "execution_count": 14,
     "metadata": {},
     "output_type": "execute_result"
    }
   ],
   "source": [
    "y.value_counts()"
   ]
  },
  {
   "cell_type": "markdown",
   "metadata": {},
   "source": [
    "There is a clear data imbalance"
   ]
  },
  {
   "cell_type": "markdown",
   "metadata": {},
   "source": [
    "### (i) Split the data into 4 parts, i.e. train inputs and target (xtr, ytr) and test inputs and target (xte and yte), in such a way that the proportion of the classes is kept constant in train and test parts. The size of the training set must be 70% of the total size of the data, and the random seed to be used must be your ID card number (i.e. DNI without the letter). This random seed must be kept during all the control point in any possible place. [5%] "
   ]
  },
  {
   "cell_type": "code",
   "execution_count": 7,
   "metadata": {},
   "outputs": [],
   "source": [
    "from sklearn.model_selection import train_test_split\n",
    "\n",
    "xtr, xte, ytr, yte = train_test_split(X, y, test_size=0.3, random_state=seed)"
   ]
  },
  {
   "cell_type": "markdown",
   "metadata": {},
   "source": [
    "### (ii) Checking for missing values and outliers. If any, treat the data however you consider better, arguing your decisions. [20%] "
   ]
  },
  {
   "cell_type": "code",
   "execution_count": 8,
   "metadata": {},
   "outputs": [
    {
     "data": {
      "text/html": [
       "<div>\n",
       "<style scoped>\n",
       "    .dataframe tbody tr th:only-of-type {\n",
       "        vertical-align: middle;\n",
       "    }\n",
       "\n",
       "    .dataframe tbody tr th {\n",
       "        vertical-align: top;\n",
       "    }\n",
       "\n",
       "    .dataframe thead th {\n",
       "        text-align: right;\n",
       "    }\n",
       "</style>\n",
       "<table border=\"1\" class=\"dataframe\">\n",
       "  <thead>\n",
       "    <tr style=\"text-align: right;\">\n",
       "      <th></th>\n",
       "      <th>v1</th>\n",
       "      <th>v2</th>\n",
       "      <th>v3</th>\n",
       "      <th>v4</th>\n",
       "      <th>v5</th>\n",
       "      <th>v6</th>\n",
       "      <th>v7</th>\n",
       "      <th>v8</th>\n",
       "      <th>v9</th>\n",
       "      <th>v10</th>\n",
       "      <th>...</th>\n",
       "      <th>v66</th>\n",
       "      <th>v67</th>\n",
       "      <th>v68</th>\n",
       "      <th>v69</th>\n",
       "      <th>v70</th>\n",
       "      <th>v71</th>\n",
       "      <th>v72</th>\n",
       "      <th>v73</th>\n",
       "      <th>v74</th>\n",
       "      <th>class</th>\n",
       "    </tr>\n",
       "  </thead>\n",
       "  <tbody>\n",
       "    <tr>\n",
       "      <td>count</td>\n",
       "      <td>145750.000000</td>\n",
       "      <td>145750.000000</td>\n",
       "      <td>145750.000000</td>\n",
       "      <td>145750.000000</td>\n",
       "      <td>145750.000000</td>\n",
       "      <td>145750.000000</td>\n",
       "      <td>145750.000000</td>\n",
       "      <td>145750.000000</td>\n",
       "      <td>145750.000000</td>\n",
       "      <td>145750.000000</td>\n",
       "      <td>...</td>\n",
       "      <td>145750.000000</td>\n",
       "      <td>145750.000000</td>\n",
       "      <td>145750.000000</td>\n",
       "      <td>145750.000000</td>\n",
       "      <td>145750.000000</td>\n",
       "      <td>145750.000000</td>\n",
       "      <td>145750.000000</td>\n",
       "      <td>145750.000000</td>\n",
       "      <td>145750.000000</td>\n",
       "      <td>145751.000000</td>\n",
       "    </tr>\n",
       "    <tr>\n",
       "      <td>mean</td>\n",
       "      <td>61.163887</td>\n",
       "      <td>26.494016</td>\n",
       "      <td>0.181130</td>\n",
       "      <td>1.688134</td>\n",
       "      <td>18.291705</td>\n",
       "      <td>1820.221539</td>\n",
       "      <td>-0.004247</td>\n",
       "      <td>0.197883</td>\n",
       "      <td>1.012614</td>\n",
       "      <td>-73.721691</td>\n",
       "      <td>...</td>\n",
       "      <td>1820.512690</td>\n",
       "      <td>0.026845</td>\n",
       "      <td>0.529557</td>\n",
       "      <td>0.263808</td>\n",
       "      <td>-64.705242</td>\n",
       "      <td>472.778180</td>\n",
       "      <td>0.472763</td>\n",
       "      <td>0.260546</td>\n",
       "      <td>0.191865</td>\n",
       "      <td>-0.982216</td>\n",
       "    </tr>\n",
       "    <tr>\n",
       "      <td>std</td>\n",
       "      <td>18.992155</td>\n",
       "      <td>4.531692</td>\n",
       "      <td>1.243167</td>\n",
       "      <td>31.923489</td>\n",
       "      <td>80.619876</td>\n",
       "      <td>1404.343739</td>\n",
       "      <td>1.028843</td>\n",
       "      <td>1.422744</td>\n",
       "      <td>20.642540</td>\n",
       "      <td>26.536070</td>\n",
       "      <td>...</td>\n",
       "      <td>1689.147092</td>\n",
       "      <td>1.181415</td>\n",
       "      <td>1.649862</td>\n",
       "      <td>9.655640</td>\n",
       "      <td>36.776184</td>\n",
       "      <td>406.651331</td>\n",
       "      <td>1.073043</td>\n",
       "      <td>0.187474</td>\n",
       "      <td>0.499650</td>\n",
       "      <td>0.187754</td>\n",
       "    </tr>\n",
       "    <tr>\n",
       "      <td>min</td>\n",
       "      <td>2.680000</td>\n",
       "      <td>12.000000</td>\n",
       "      <td>-3.860000</td>\n",
       "      <td>-144.000000</td>\n",
       "      <td>-1082.000000</td>\n",
       "      <td>-718.800000</td>\n",
       "      <td>-6.120000</td>\n",
       "      <td>-2.860000</td>\n",
       "      <td>-85.500000</td>\n",
       "      <td>-1082.000000</td>\n",
       "      <td>...</td>\n",
       "      <td>-668.000000</td>\n",
       "      <td>-7.780000</td>\n",
       "      <td>-10.000000</td>\n",
       "      <td>-63.000000</td>\n",
       "      <td>-322.000000</td>\n",
       "      <td>-509.200000</td>\n",
       "      <td>-20.000000</td>\n",
       "      <td>-0.550000</td>\n",
       "      <td>-1.910000</td>\n",
       "      <td>-1.000000</td>\n",
       "    </tr>\n",
       "    <tr>\n",
       "      <td>25%</td>\n",
       "      <td>47.950000</td>\n",
       "      <td>23.560000</td>\n",
       "      <td>-0.580000</td>\n",
       "      <td>-17.500000</td>\n",
       "      <td>-13.000000</td>\n",
       "      <td>1017.600000</td>\n",
       "      <td>-0.660000</td>\n",
       "      <td>-0.600000</td>\n",
       "      <td>-9.500000</td>\n",
       "      <td>-86.000000</td>\n",
       "      <td>...</td>\n",
       "      <td>862.400000</td>\n",
       "      <td>-0.720000</td>\n",
       "      <td>-0.550000</td>\n",
       "      <td>-5.000000</td>\n",
       "      <td>-82.000000</td>\n",
       "      <td>175.300000</td>\n",
       "      <td>-0.170000</td>\n",
       "      <td>0.140000</td>\n",
       "      <td>-0.100000</td>\n",
       "      <td>-1.000000</td>\n",
       "    </tr>\n",
       "    <tr>\n",
       "      <td>50%</td>\n",
       "      <td>62.400000</td>\n",
       "      <td>25.770000</td>\n",
       "      <td>0.100000</td>\n",
       "      <td>1.000000</td>\n",
       "      <td>11.000000</td>\n",
       "      <td>1530.850000</td>\n",
       "      <td>0.040000</td>\n",
       "      <td>0.030000</td>\n",
       "      <td>0.500000</td>\n",
       "      <td>-69.500000</td>\n",
       "      <td>...</td>\n",
       "      <td>1435.300000</td>\n",
       "      <td>0.085000</td>\n",
       "      <td>0.390000</td>\n",
       "      <td>0.000000</td>\n",
       "      <td>-55.000000</td>\n",
       "      <td>377.900000</td>\n",
       "      <td>0.560000</td>\n",
       "      <td>0.260000</td>\n",
       "      <td>0.280000</td>\n",
       "      <td>-1.000000</td>\n",
       "    </tr>\n",
       "    <tr>\n",
       "      <td>75%</td>\n",
       "      <td>75.340000</td>\n",
       "      <td>28.570000</td>\n",
       "      <td>0.820000</td>\n",
       "      <td>19.500000</td>\n",
       "      <td>40.000000</td>\n",
       "      <td>2295.600000</td>\n",
       "      <td>0.700000</td>\n",
       "      <td>0.770000</td>\n",
       "      <td>10.500000</td>\n",
       "      <td>-56.500000</td>\n",
       "      <td>...</td>\n",
       "      <td>2334.100000</td>\n",
       "      <td>0.830000</td>\n",
       "      <td>1.460000</td>\n",
       "      <td>5.000000</td>\n",
       "      <td>-38.000000</td>\n",
       "      <td>669.100000</td>\n",
       "      <td>1.210000</td>\n",
       "      <td>0.390000</td>\n",
       "      <td>0.580000</td>\n",
       "      <td>-1.000000</td>\n",
       "    </tr>\n",
       "    <tr>\n",
       "      <td>max</td>\n",
       "      <td>100.000000</td>\n",
       "      <td>100.000000</td>\n",
       "      <td>50.380000</td>\n",
       "      <td>1059.500000</td>\n",
       "      <td>3380.000000</td>\n",
       "      <td>52817.900000</td>\n",
       "      <td>5.990000</td>\n",
       "      <td>72.280000</td>\n",
       "      <td>973.500000</td>\n",
       "      <td>-23.000000</td>\n",
       "      <td>...</td>\n",
       "      <td>64129.400000</td>\n",
       "      <td>5.940000</td>\n",
       "      <td>18.850000</td>\n",
       "      <td>146.000000</td>\n",
       "      <td>0.000000</td>\n",
       "      <td>4197.900000</td>\n",
       "      <td>6.600000</td>\n",
       "      <td>1.000000</td>\n",
       "      <td>1.000000</td>\n",
       "      <td>1.000000</td>\n",
       "    </tr>\n",
       "  </tbody>\n",
       "</table>\n",
       "<p>8 rows × 75 columns</p>\n",
       "</div>"
      ],
      "text/plain": [
       "                  v1             v2             v3             v4  \\\n",
       "count  145750.000000  145750.000000  145750.000000  145750.000000   \n",
       "mean       61.163887      26.494016       0.181130       1.688134   \n",
       "std        18.992155       4.531692       1.243167      31.923489   \n",
       "min         2.680000      12.000000      -3.860000    -144.000000   \n",
       "25%        47.950000      23.560000      -0.580000     -17.500000   \n",
       "50%        62.400000      25.770000       0.100000       1.000000   \n",
       "75%        75.340000      28.570000       0.820000      19.500000   \n",
       "max       100.000000     100.000000      50.380000    1059.500000   \n",
       "\n",
       "                  v5             v6             v7             v8  \\\n",
       "count  145750.000000  145750.000000  145750.000000  145750.000000   \n",
       "mean       18.291705    1820.221539      -0.004247       0.197883   \n",
       "std        80.619876    1404.343739       1.028843       1.422744   \n",
       "min     -1082.000000    -718.800000      -6.120000      -2.860000   \n",
       "25%       -13.000000    1017.600000      -0.660000      -0.600000   \n",
       "50%        11.000000    1530.850000       0.040000       0.030000   \n",
       "75%        40.000000    2295.600000       0.700000       0.770000   \n",
       "max      3380.000000   52817.900000       5.990000      72.280000   \n",
       "\n",
       "                  v9            v10  ...            v66            v67  \\\n",
       "count  145750.000000  145750.000000  ...  145750.000000  145750.000000   \n",
       "mean        1.012614     -73.721691  ...    1820.512690       0.026845   \n",
       "std        20.642540      26.536070  ...    1689.147092       1.181415   \n",
       "min       -85.500000   -1082.000000  ...    -668.000000      -7.780000   \n",
       "25%        -9.500000     -86.000000  ...     862.400000      -0.720000   \n",
       "50%         0.500000     -69.500000  ...    1435.300000       0.085000   \n",
       "75%        10.500000     -56.500000  ...    2334.100000       0.830000   \n",
       "max       973.500000     -23.000000  ...   64129.400000       5.940000   \n",
       "\n",
       "                 v68            v69            v70            v71  \\\n",
       "count  145750.000000  145750.000000  145750.000000  145750.000000   \n",
       "mean        0.529557       0.263808     -64.705242     472.778180   \n",
       "std         1.649862       9.655640      36.776184     406.651331   \n",
       "min       -10.000000     -63.000000    -322.000000    -509.200000   \n",
       "25%        -0.550000      -5.000000     -82.000000     175.300000   \n",
       "50%         0.390000       0.000000     -55.000000     377.900000   \n",
       "75%         1.460000       5.000000     -38.000000     669.100000   \n",
       "max        18.850000     146.000000       0.000000    4197.900000   \n",
       "\n",
       "                 v72            v73            v74          class  \n",
       "count  145750.000000  145750.000000  145750.000000  145751.000000  \n",
       "mean        0.472763       0.260546       0.191865      -0.982216  \n",
       "std         1.073043       0.187474       0.499650       0.187754  \n",
       "min       -20.000000      -0.550000      -1.910000      -1.000000  \n",
       "25%        -0.170000       0.140000      -0.100000      -1.000000  \n",
       "50%         0.560000       0.260000       0.280000      -1.000000  \n",
       "75%         1.210000       0.390000       0.580000      -1.000000  \n",
       "max         6.600000       1.000000       1.000000       1.000000  \n",
       "\n",
       "[8 rows x 75 columns]"
      ]
     },
     "execution_count": 8,
     "metadata": {},
     "output_type": "execute_result"
    }
   ],
   "source": [
    "df.describe()"
   ]
  },
  {
   "cell_type": "markdown",
   "metadata": {},
   "source": [
    "### A"
   ]
  },
  {
   "cell_type": "code",
   "execution_count": 15,
   "metadata": {},
   "outputs": [
    {
     "data": {
      "text/plain": [
       "True"
      ]
     },
     "execution_count": 15,
     "metadata": {},
     "output_type": "execute_result"
    }
   ],
   "source": [
    "df.isnull().values.any()"
   ]
  },
  {
   "cell_type": "markdown",
   "metadata": {},
   "source": [
    "Yes there are missing values. First we are going to try dropping the missing values. If we drop to many minor class instances, we are going to try to impute them."
   ]
  },
  {
   "cell_type": "code",
   "execution_count": 20,
   "metadata": {},
   "outputs": [
    {
     "data": {
      "text/plain": [
       "-1.0    144381\n",
       " 1.0      1296\n",
       "Name: class, dtype: int64"
      ]
     },
     "execution_count": 20,
     "metadata": {},
     "output_type": "execute_result"
    }
   ],
   "source": [
    "nan_removed_data = df.dropna()\n",
    "nan_removed_data['class'].value_counts()"
   ]
  },
  {
   "cell_type": "markdown",
   "metadata": {},
   "source": [
    "We don lose any minoritary class so we delete rows with nan values."
   ]
  },
  {
   "cell_type": "markdown",
   "metadata": {},
   "source": [
    "### B"
   ]
  },
  {
   "cell_type": "code",
   "execution_count": 21,
   "metadata": {},
   "outputs": [
    {
     "name": "stdout",
     "output_type": "stream",
     "text": [
      "Outliers positions: [40, 76, 281, 477, 890, 1351, 1585, 1734, 1750, 1755, 1773, 1776, 1785, 1821, 1824, 1861, 1863, 1870, 1897, 1950, 1954, 1984, 1987, 2001, 2009, 2025, 2044, 2050, 2076, 2080, 2085, 2086, 2110, 2133, 2139, 2196, 2200, 2324, 2365, 2368, 2376, 2386, 2415, 2491, 2499, 2509, 2514, 2516, 2521, 2553, 2577, 2588, 2593, 2598, 2613, 2649, 2653, 2660, 2675, 2678, 2679, 2698, 2729, 2730, 2756, 2760, 2809, 2813, 2818, 2828, 2860, 2864, 2876, 2909, 2910, 2925, 2945, 2958, 2961, 2962, 2975, 2976, 2996, 3001, 3008, 3027, 3030, 3034, 3050, 3054, 3055, 3059, 3064, 3073, 3076, 3110, 3119, 3194, 3198, 3211, 3218, 3221, 3233, 3234, 3251, 3271, 3282, 3309, 3326, 3342, 3347, 3354, 3383, 3384, 3407, 3413, 3430, 3433, 3440, 3463, 3465, 3489, 3493, 3498, 3514, 3528, 3538, 3559, 3569, 3572, 3575, 3613, 3630, 3640, 3646, 3647, 3649, 3650, 3653, 3684, 3720, 3725, 3742, 3750, 3790, 3815, 3825, 3848, 3857, 3888, 3905, 3941, 3985, 4032, 4041, 4158, 4335, 4350, 4354, 4441, 4461, 4485, 4555, 4578, 4623, 4633, 4671, 4708, 4730, 4744, 4794, 4817, 4863, 4883, 4925, 4971, 5009, 5035, 5133, 5142, 5198, 5283, 5338, 5390, 5492, 5535, 5576, 6015, 6171, 6455, 6565, 6637, 6676, 6857, 6887, 6992, 6996, 7200, 7239, 7344, 7372, 7456, 7457, 7460, 7463, 7464, 7465, 7468, 7470, 7471, 7472, 7473, 7475, 7476, 7477, 7478, 7480, 7483, 7484, 7485, 7486, 7487, 7494, 7495, 7496, 7499, 7500, 7504, 7506, 7508, 7510, 7514, 7515, 7516, 7518, 7520, 7521, 7522, 7523, 7524, 7526, 7527, 7531, 7533, 7534, 7536, 7539, 7540, 7542, 7543, 7544, 7546, 7547, 7548, 7549, 7550, 7551, 7553, 7554, 7555, 7560, 7561, 7563, 7564, 7565, 7566, 7567, 7571, 7573, 7574, 7575, 7576, 7578, 7580, 7582, 7583, 7585, 7587, 7588, 7590, 7592, 7593, 7594, 7596, 7597, 7599, 7601, 7602, 7603, 7604, 7605, 7606, 7609, 7610, 7612, 7614, 7615, 7616, 7618, 7619, 7620, 7622, 7623, 7625, 7626, 7627, 7630, 7631, 7632, 7634, 7636, 7637, 7639, 7641, 7643, 7644, 7645, 7647, 7648, 7649, 7650, 7653, 7654, 7655, 7656, 7657, 7658, 7659, 7660, 7664, 7665, 7666, 7668, 7669, 7672, 7673, 7674, 7678, 7680, 7681, 7682, 7683, 7684, 7686, 7687, 7689, 7690, 7693, 7695, 7696, 7697, 7698, 7699, 7700, 7702, 7703, 7704, 7706, 7708, 7709, 7710, 7711, 7712, 7713, 7714, 7715, 7716, 7718, 7719, 7720, 7722, 7723, 7725, 7726, 7727, 7728, 7729, 7730, 7731, 7734, 7735, 7736, 7738, 7739, 7740, 7741, 7742, 7745, 7747, 7749, 7750, 7751, 7752, 7753, 7754, 7756, 7758, 7760, 7761, 7762, 7763, 7764, 7766, 7768, 7769, 7771, 7772, 7774, 7775, 7776, 7781, 7785, 7786, 7788, 7791, 7792, 7794, 7795, 7796, 7804, 7805, 7807, 7808, 7810, 7811, 7812, 7813, 7814, 7816, 7818, 7820, 7821, 7824, 7826, 7827, 7829, 7830, 7832, 7834, 7836, 7837, 7838, 7839, 7840, 7842, 7843, 7844, 7845, 7846, 7847, 7849, 7850, 7851, 7852, 7853, 7859, 7861, 7862, 7863, 7864, 7865, 7866, 7867, 7868, 7869, 7870, 7871, 7872, 7873, 7874, 7875, 7876, 7879, 7880, 7881, 7882, 7884, 7889, 7890, 7891, 7892, 7893, 7896, 7898, 7899, 7900, 7903, 7905, 7906, 7907, 7910, 7912, 7914, 7915, 7916, 7919, 7922, 7923, 7924, 7925, 7926, 7927, 7928, 7929, 7930, 7931, 7932, 7934, 7935, 7936, 7937, 7938, 7941, 7943, 7944, 7945, 7949, 7951, 7952, 7953, 7955, 7958, 7959, 7960, 7961, 7962, 7963, 7964, 7966, 7968, 7970, 7971, 7973, 7974, 7975, 7977, 7978, 7979, 7980, 7981, 7982, 7984, 7986, 7987, 7990, 7992, 7993, 7994, 7995, 7998, 7999, 8002, 8003, 8004, 8005, 8006, 8007, 8008, 8009, 8011, 8012, 8014, 8016, 8017, 8019, 8020, 8021, 8022, 8023, 8024, 8028, 8029, 8030, 8031, 8033, 8034, 8037, 8038, 8040, 8041, 8043, 8045, 8046, 8047, 8052, 8053, 8054, 8055, 8057, 8058, 8061, 8063, 8064, 8065, 8066, 8067, 8068, 8069, 8070, 8071, 8072, 8074, 8075, 8076, 8077, 8078, 8081, 8082, 8084, 8086, 8088, 8089, 8090, 8091, 8092, 8093, 8094, 8095, 8096, 8097, 8100, 8101, 8104, 8107, 8110, 8111, 8114, 8115, 8117, 8118, 8119, 8120, 8121, 8125, 8127, 8128, 8129, 8130, 8131, 8132, 8133, 8135, 8136, 8139, 8140, 8141, 8142, 8143, 8144, 8145, 8146, 8148, 8152, 8153, 8155, 8156, 8158, 8161, 8162, 8164, 8165, 8166, 8170, 8171, 8172, 8174, 8179, 8180, 8181, 8182, 8184, 8185, 8189, 8190, 8191, 8192, 8193, 8194, 8195, 8196, 8197, 8198, 8199, 8201, 8202, 8204, 8205, 8206, 8207, 8208, 8209, 8211, 8213, 8214, 8217, 8220, 8222, 8224, 8225, 8226, 8228, 8229, 8230, 8231, 8232, 8233, 8234, 8235, 8236, 8238, 8239, 8240, 8242, 8246, 8247, 8248, 8249, 8250, 8252, 8253, 8254, 8255, 8256, 8259, 8260, 8263, 8264, 8265, 8266, 8267, 8268, 8269, 8271, 8273, 8274, 8275, 8276, 8277, 8278, 8279, 8280, 8282, 8285, 8286, 8288, 8289, 8290, 8292, 8294, 8295, 8296, 8297, 8299, 8304, 8305, 8307, 8308, 8309, 8310, 8313, 8314, 8316, 8319, 8320, 8322, 8323, 8325, 8327, 8329, 8331, 8332, 8333, 8334, 8335, 8336, 8339, 8344, 8345, 8346, 8347, 8349, 8352, 8354, 8355, 8358, 8359, 8362, 8367, 8368, 8369, 8370, 8372, 8374, 8375, 8378, 8379, 8380, 8382, 8383, 8385, 8387, 8389, 8391, 8394, 8395, 8396, 8398, 8400, 8401, 8402, 8404, 8405, 8406, 8407, 8410, 8412, 8414, 8415, 8416, 8418, 8419, 8420, 8421, 8425, 8426, 8428, 8430, 8431, 8434, 8525, 8815, 9079, 9160, 9281, 9313, 9524, 9525, 9526, 9527, 9528, 9529, 9530, 9531, 9532, 9533, 9534, 9535, 9536, 9537, 9538, 9539, 9540, 9541, 9543, 9544, 9546, 9547, 9548, 9549, 9550, 9551, 9552, 9553, 9555, 9556, 9557, 9558, 9559, 9561, 9562, 9563, 9564, 9565, 9566, 9567, 9568, 9570, 9571, 9572, 9573, 9574, 9576, 9581, 9582, 9584, 9585, 9586, 9587, 9588, 9590, 9591, 9592, 9593, 9594, 9595, 9596, 9597, 9598, 9599, 9600, 9601, 9602, 9603, 9604, 9606, 9608, 9609, 9610, 9611, 9612, 9613, 9614, 9615, 9616, 9618, 9619, 9621, 9622, 9623, 9624, 9626, 9627, 9628, 9629, 9630, 9631, 9632, 9633, 9634, 9635, 9636, 9637, 9639, 9640, 9641, 9642, 9643, 9644, 9645, 9646, 9647, 9649, 9651, 9654, 9655, 9656, 9657, 9658, 9659, 9660, 9661, 9662, 9663, 9665, 9666, 9667, 9668, 9669, 9670, 9671, 9672, 9673, 9676, 9678, 9679, 9680, 9681, 9682, 9683, 9684, 9686, 9687, 9688, 9689, 9691, 9692, 9693, 9694, 9695, 9696, 9699, 9701, 9702, 9703, 9704, 9705, 9707, 9708, 9709, 9711, 9712, 9713, 9714, 9715, 9716, 9717, 9718, 9719, 9720, 9721, 9722, 9725, 9726, 9727, 9728, 9729, 9730, 9731, 9734, 9735, 9737, 9738, 9739, 9740, 9742, 9743, 9744, 9745, 9746, 9747, 9749, 9750, 9751, 9752, 9753, 9754, 9755, 9756, 9758, 9759, 9760, 9762, 9763, 9764, 9765, 9766, 9767, 9768, 9769, 9770, 9771, 9772, 9773, 9774, 9775, 9776, 9777, 9778, 9779, 9782, 9783, 9784, 9785, 9786, 9787, 9788, 9789, 9790, 9791, 9792, 9793, 9794, 9795, 9796, 9797, 9798, 9800, 9801, 9803, 9805, 9806, 9807, 9808, 9809, 9810, 9812, 9813, 9814, 9815, 9817, 9819, 9820, 9821, 9822, 9823, 9825, 9826, 9827, 9828, 9829, 9830, 9832, 9833, 9834, 9835, 9838, 9839, 9841, 9843, 9846, 9847, 9848, 9849, 9850, 9851, 9852, 9853, 9854, 9855, 9856, 9857, 9858, 9860, 9861, 9862, 9864, 9865, 9866, 9867, 9868, 9869, 9870, 9871, 9872, 9873, 9874, 9876, 9877, 9878, 9879, 9881, 9883, 9884, 9885, 9886, 9887, 9888, 9889, 9890, 9891, 9893, 9894, 9896, 9897, 9898, 9901, 9902, 9903, 9905, 9906, 9907, 9908, 9909, 9910, 9911, 9912, 9913, 9914, 9915, 9917, 9918, 9919, 9920, 9921, 9922, 9923, 9924, 9925, 9926, 9927, 9928, 9929, 9930, 9931, 9933, 9934, 9935, 9936, 9937, 9938, 9939, 9942, 9943, 9944, 9947, 9948, 9950, 9951, 9952, 9953, 9954, 9957, 9958, 9959, 9960, 9961, 9962, 9964, 9966, 9968, 9969, 9970, 9971, 9972, 9974, 9978, 9979, 9980, 9981, 9982, 9983, 9984, 9985, 9986, 9988, 9989, 9990, 9991, 9992, 9994, 9997, 9998, 9999, 10000, 10001, 10002, 10003, 10004, 10005, 10006, 10008, 10009, 10010, 10011, 10012, 10013, 10014, 10016, 10017, 10018, 10020, 10021, 10022, 10023, 10024, 10025, 10027, 10028, 10030, 10031, 10032, 10033, 10034, 10035, 10036, 10038, 10039, 10040, 10042, 10043, 10044, 10045, 10046, 10047, 10048, 10049, 10052, 10053, 10054, 10055, 10058, 10059, 10060, 10061, 10062, 10064, 10066, 10068, 10069, 10070, 10071, 10073, 10074, 10075, 10076, 10077, 10078, 10079, 10080, 10082, 10083, 10084, 10086, 10087, 10090, 10091, 10092, 10093, 10094, 10095, 10096, 10097, 10098, 10100, 10102, 10106, 10107, 10108, 10109, 10110, 10112, 10113, 10114, 10115, 10116, 10117, 10118, 10119, 10120, 10121, 10122, 10123, 10124, 10127, 10128, 10130, 10131, 10132, 10133, 10134, 10136, 10137, 10138, 10139, 10140, 10141, 10142, 10143, 10144, 10145, 10148, 10149, 10150, 10151, 10153, 10155, 10157, 10158, 10160, 10161, 10162, 10163, 10164, 10165, 10166, 10168, 10169, 10171, 10172, 10173, 10175, 10176, 10177, 10178, 10179, 10181, 10183, 10184, 10185, 10186, 10187, 10189, 10190, 10193, 10195, 10196, 10197, 10198, 10199, 10200, 10201, 10202, 10203, 10205, 10206, 10207, 10208, 10209, 10210, 10211, 10212, 10213, 10214, 10215, 10216, 10217, 10218, 10219, 10220, 10221, 10222, 10223, 10225, 10226, 10227, 10228, 10229, 10230, 10232, 10233, 10234, 10235, 10236, 10237, 10238, 10239, 10240, 10241, 10242, 10243, 10244, 10245, 10246, 10247, 10248, 10249, 10250, 10251, 10252, 10253, 10254, 10255, 10256, 10258, 10259, 10261, 10262, 10264, 10265, 10266, 10272, 10274, 10275, 10278, 10279, 10280, 10282, 10283, 10284, 10285, 10286, 10288, 10289, 10291, 10292, 10293, 10294, 10295, 10298, 10300, 10301, 10302, 10305, 10306, 10307, 10309, 10310, 10311, 10313, 10314, 10315, 10316, 10317, 10318, 10319, 10321, 10322, 10323, 10324, 10325, 10326, 10327, 10328, 10329, 10330, 10331, 10332, 10333, 10335, 10336, 10337, 10339, 10340, 10341, 10342, 10343, 10344, 10345, 10346, 10347, 10348, 10349, 10350, 10351, 10352, 10354, 10355, 10356, 10357, 10358, 10359, 10360, 10363, 10364, 10366, 10367, 10369, 10370, 10371, 10372, 10375, 10376, 10377, 10379, 10380, 10381, 10383, 10384, 10386, 10387, 10388, 10391, 10393, 10394, 10395, 10396, 10397, 10398, 10399, 10400, 10401, 10402, 10403, 10404, 10405, 10406, 10407, 10408, 10410, 10411, 10412, 10414, 10415, 10416, 10417, 10418, 10419, 10420, 10421, 10423, 10424, 10425, 10426, 10429, 10430, 10431, 10433, 10434, 10435, 10436, 10437, 10438, 10439, 10440, 10441, 10442, 10444, 10445, 10446, 10447, 10448, 10451, 10452, 10453, 10455, 10457, 10458, 10459, 10460, 10461, 10462, 10464, 10465, 10466, 10467, 10468, 10469, 10470, 10471, 10472, 10473, 10474, 10475, 10476, 10478, 10479, 10480, 10481, 10484, 10486, 10487, 10488, 10490, 10491, 10492, 10493, 10494, 10495, 10496, 10497, 10498, 10499, 10500, 10501, 10504, 10505, 10506, 10509, 10513, 10514, 10515, 10516, 10517, 10518, 10520, 10521, 10522, 10524, 10525, 10526, 10529, 10530, 10531, 10532, 10533, 10534, 10536, 10537, 10539, 10541, 10542, 10544, 10546, 10548, 10550, 10552, 10553, 10554, 10555, 10556, 10558, 10559, 10560, 10561, 10563, 10564, 10565, 10566, 10567, 10568, 10569, 10570, 10571, 10572, 10577, 10579, 10581, 10582, 10583, 10584, 10586, 10587, 10588, 10589, 10590, 10591, 10592, 10593, 10595, 10597, 10598, 10599, 10600, 10602, 10604, 10605, 10606, 10608, 10609, 10610, 10611, 10612, 10613, 10614, 10615, 10617, 10618, 10620, 10621, 10622, 10623, 10624, 10625, 10628, 10629, 10630, 10631, 10632, 10633, 10634, 10637, 10638, 10640, 10641, 10642, 10643, 10644, 10645, 10646, 10647, 10648, 10650, 10653, 10654, 10655, 10657, 10658, 10659, 10661, 10662, 10663, 10664, 10665, 10666, 10667, 10668, 10671, 10672, 10673, 10676, 10677, 10681, 10682, 10684, 10685, 10689, 10690, 10691, 10692, 10696, 10697, 10698, 10699, 10700, 10701, 10703, 10705, 10708, 10709, 10710, 10711, 10712, 10713, 10714, 10715, 10716, 10717, 10719, 10721, 10722, 10723, 10725, 10726, 10727, 10728, 10729, 10730, 10731, 10733, 10735, 10736, 10738, 10742, 10743, 10744, 10745, 10746, 10747, 10748, 10752, 10754, 10755, 10756, 10757, 10762, 10763, 10764, 10766, 10767, 10768, 10770, 10772, 10773, 10774, 10775, 10776, 10777, 10778, 10780, 10781, 10782, 10785, 10786, 10787, 10788, 10790, 10792, 10793, 10794, 10795, 10796, 10797, 10798, 10800, 10801, 10802, 10803, 10804, 10806, 10807, 10809, 10810, 10811, 10812, 10814, 10815, 10817, 10820, 10821, 10824, 10825, 10826, 10827, 10828, 10830, 10831, 10832, 10833, 10834, 10836, 10837, 10840, 10842, 10843, 10846, 10847, 10848, 10849, 10850, 10851, 10852, 10853, 10854, 10856, 10857, 10858, 10859, 10861, 10866, 10870, 10871, 10872, 10873, 10875, 10876, 10877, 10878, 10879, 10880, 10882, 10883, 10885, 10886, 10887, 10888, 10889, 10890, 10891, 10892, 10893, 10897, 10898, 10899, 10902, 10904, 10905, 10906, 10907, 10909, 10910, 10911, 10912, 10913, 10914, 10915, 10918, 10919, 10921, 10922, 10923, 10924, 10925, 10926, 10927, 10928, 10929, 10930, 10931, 10932, 10933, 10934, 10935, 10936, 10937, 10940, 10941, 10942, 10944, 10945, 10947, 10948, 10949, 10950, 10951, 10952, 10953, 10954, 10955, 10956, 10963, 10965, 10967, 10969, 10971, 10972, 10973, 10975, 10977, 10978, 10979, 10980, 10983, 10984, 10985, 10986, 10987, 10989, 10990, 10991, 10992, 10994, 10995, 10996, 10997, 10998, 11000, 11001, 11003, 11004, 11005, 11006, 11007, 11008, 11010, 11011, 11013, 11015, 11016, 11017, 11018, 11019, 11020, 11022, 11023, 11025, 11026, 11027, 11028, 11029, 11033, 11036, 11038, 11039, 11040, 11042, 11045, 11047, 11048, 11049, 11050, 11051, 11052, 11053, 11054, 11056, 11057, 11058, 11060, 11061, 11062, 11064, 11065, 11066, 11067, 11068, 11070, 11071, 11072, 11073, 11076, 11077, 11079, 11080, 11081, 11082, 11084, 11085, 11086, 11087, 11088, 11089, 11091, 11092, 11093, 11094, 11095, 11096, 11097, 11098, 11101, 11102, 11103, 11254, 11266, 11296, 11324, 11334, 11336, 11497, 11630, 11879, 11892, 12081, 12121, 12212, 12227, 12236, 12237, 12248, 12272, 12273, 12285, 12286, 12302, 12349, 12353, 12377, 12384, 12393, 12412, 12461, 12472, 12478, 12480, 12484, 12505, 12538, 12542, 12545, 12593, 12619, 12629, 12641, 12662, 12663, 12672, 12676, 12703, 12725, 12743, 12753, 12787, 12802, 12804, 12854, 12860, 12884, 12901, 12928, 12959, 12969, 12970, 12975, 12993, 13022, 13027, 13061, 13086, 13100, 13112, 13133, 13155, 13160, 13161, 13182, 13193, 13196, 13212, 13218, 13231, 13241, 13242, 13252, 13259, 13276, 13277, 13285, 13307, 13308, 13352, 13356, 13377, 13379, 13384, 13392, 13411, 13425, 13451, 13452, 13470, 13490, 13493, 13501, 13521, 13534, 13542, 13581, 13587, 13620, 13636, 13641, 13654, 13664, 13665, 13668, 13696, 13720, 13728, 13746, 13749, 13772, 13779, 13785, 13788, 13796, 13798, 13836, 13840, 13870, 13873, 13886, 13897, 13912, 13943, 13952, 13959, 13968, 13980, 13986, 14004, 14010, 14032, 14066, 14080, 14099, 14109, 14129, 14138, 14143, 14159, 14170, 14172, 14180, 14211, 14215, 14222, 14245, 14251, 14290, 14304, 14323, 14332, 14345, 14369, 14391, 14394, 14460, 14486, 14507, 14563, 14659, 14676, 14730, 14742, 14763, 14775, 14834, 14853, 14892, 14909, 14988, 15004, 15012, 15013, 15051, 15068, 15089, 15325, 15519, 15795, 16070, 16093, 16216, 16400, 16494, 16526, 16610, 16681, 16732, 16769, 16914, 16933, 16993, 17094, 17102, 17169, 17171, 17176, 17191, 17239, 17284, 17285, 17331, 17346, 17384, 17410, 17481, 17483, 17514, 17532, 17537, 17544, 17580, 17593, 17596, 17660, 17664, 17674, 17676, 17683, 17744, 17764, 17819, 17844, 17874, 17964, 17986, 18005, 18014, 18017, 18053, 18056, 18059, 18074, 18078, 18083, 18088, 18090, 18126, 18146, 18154, 18247, 18252, 18256, 18259, 18264, 18279, 18316, 18349, 18351, 18358, 18367, 18385, 18394, 18420, 18476, 18477, 18499, 18508, 18518, 18545, 18555, 18557, 18562, 18582, 18588, 18600, 18628, 18644, 18649, 18715, 18720, 18735, 18750, 18755, 18804, 18807, 18820, 18838, 18879, 18891, 18895, 18904, 18922, 18931, 18944, 18950, 18951, 18963, 18966, 18971, 18979, 18983, 18985, 18993, 18995, 19005, 19018, 19022, 19024, 19025, 19035, 19040, 19045, 19047, 19083, 19097, 19105, 19206, 19210, 19214, 19218, 19220, 19226, 19228, 19233, 19240, 19245, 19246, 19261, 19268, 19269, 19296, 19325, 19328, 19329, 19331, 19345, 19354, 19363, 19372, 19386, 19410, 19411, 19420, 19424, 19453, 19476, 19483, 19486, 19499, 19509, 19533, 19538, 19550, 19555, 19557, 19588, 19589, 19605, 19615, 19628, 19645, 19692, 19702, 19728, 19732, 19738, 19746, 19751, 19753, 19762, 19783, 19790, 19791, 19796, 19797, 19820, 19826, 19838, 19841, 19855, 19866, 19915, 19925, 19965, 19966, 19978, 19990, 19996, 20048, 20053, 20057, 20107, 20137, 20139, 20149, 20151, 20170, 20184, 20188, 20201, 20202, 20219, 20223, 20230, 20246, 20249, 20266, 20269, 20287, 20290, 20323, 20330, 20374, 20377, 20396, 20403, 20409, 20429, 20459, 20465, 20470, 20513, 20531, 20558, 20572, 20591, 20616, 20645, 20675, 20701, 20738, 20740, 20777, 20778, 20792, 20807, 20808, 20810, 20813, 20839, 20880, 20888, 20912, 20920, 20941, 20945, 20951, 20984, 21015, 21018, 21028, 21035, 21040, 21041, 21048, 21055, 21064, 21072, 21083, 21094, 21097, 21107, 21117, 21118, 21122, 21129, 21130, 21136, 21137, 21142, 21149, 21151, 21158, 21159, 21163, 21170, 21184, 21187, 21190, 21200, 21226, 21241, 21243, 21250, 21251, 21273, 21293, 21297, 21319, 21322, 21338, 21339, 21340, 21349, 21352, 21368, 21370, 21391, 21393, 21395, 21415, 21416, 21422, 21434, 21436, 21450, 21469, 21470, 21482, 21491, 21492, 21499, 21505, 21508, 21520, 21528, 21532, 21534, 21540, 21546, 21554, 21557, 21568, 21569, 21573, 21576, 21577, 21587, 21595, 21599, 21614, 21627, 21635, 21652, 21671, 21675, 21681, 21691, 21694, 21697, 21698, 21742, 21752, 21753, 21754, 21760, 21765, 21769, 21773, 21779, 21783, 21784, 21794, 21796, 21798, 21799, 21805, 21808, 21809, 21817, 21831, 21834, 21839, 21840, 21851, 21852, 21866, 21868, 21871, 21885, 21899, 21918, 21923, 21924, 21927, 21929, 21939, 21941, 21945, 21953, 21960, 21963, 21967, 21969, 21971, 21974, 21989, 21995, 21999, 22013, 22037, 22042, 22044, 22055, 22062, 22082, 22096, 22102, 22104, 22107, 22121, 22122, 22130, 22139, 22147, 22152, 22158, 22167, 22187, 22236, 22253, 22274, 22504, 22691, 22966, 23057, 23107, 23108, 23136, 23181, 23185, 23209, 23215, 23282, 23299, 23300, 23304, 23318, 23360, 23371, 23435, 23444, 23457, 23471, 23480, 23485, 23486, 23517, 23550, 23565, 23573, 23597, 23666, 23690, 23698, 23765, 23780, 23785, 23806, 23812, 23820, 23829, 23848, 23861, 23890, 23903, 23939, 23948, 23959, 23961, 23968, 23970, 23971, 23972, 23973, 23974, 23975, 23976, 23977, 23978, 23979, 23981, 23982, 23983, 23984, 23986, 23988, 23990, 23991, 23993, 23994, 23995, 23996, 23998, 23999, 24000, 24001, 24003, 24005, 24006, 24007, 24008, 24009, 24010, 24011, 24013, 24014, 24016, 24017, 24018, 24019, 24020, 24021, 24022, 24024, 24026, 24027, 24028, 24029, 24030, 24031, 24032, 24033, 24034, 24035, 24036, 24037, 24039, 24040, 24042, 24043, 24044, 24045, 24049, 24050, 24051, 24052, 24053, 24054, 24055, 24056, 24057, 24058, 24059, 24060, 24061, 24063, 24064, 24065, 24067, 24068, 24069, 24070, 24071, 24072, 24073, 24074, 24079, 24080, 24081, 24082, 24084, 24085, 24087, 24088, 24089, 24090, 24091, 24092, 24093, 24094, 24095, 24096, 24097, 24098, 24100, 24101, 24103, 24104, 24105, 24106, 24107, 24108, 24109, 24110, 24111, 24112, 24113, 24116, 24117, 24118, 24119, 24120, 24121, 24122, 24123, 24125, 24127, 24128, 24129, 24130, 24131, 24132, 24133, 24134, 24135, 24136, 24137, 24138, 24139, 24140, 24141, 24142, 24143, 24145, 24146, 24147, 24148, 24149, 24150, 24153, 24154, 24156, 24157, 24158, 24159, 24160, 24162, 24163, 24164, 24166, 24167, 24168, 24169, 24170, 24171, 24172, 24173, 24174, 24175, 24176, 24177, 24178, 24179, 24180, 24181, 24183, 24184, 24185, 24186, 24187, 24188, 24189, 24190, 24191, 24192, 24193, 24194, 24195, 24196, 24197, 24198, 24199, 24202, 24203, 24205, 24206, 24208, 24209, 24211, 24212, 24213, 24214, 24215, 24217, 24218, 24219, 24220, 24221, 24222, 24223, 24224, 24225, 24226, 24228, 24230, 24231, 24232, 24233, 24234, 24235, 24236, 24237, 24238, 24239, 24240, 24241, 24242, 24243, 24244, 24245, 24246, 24248, 24249, 24250, 24252, 24253, 24254, 24255, 24257, 24258, 24259, 24260, 24262, 24263, 24265, 24267, 24268, 24269, 24270, 24271, 24273, 24274, 24275, 24276, 24277, 24278, 24279, 24280, 24281, 24282, 24283, 24284, 24285, 24286, 24288, 24290, 24292, 24293, 24294, 24295, 24296, 24297, 24298, 24299, 24300, 24302, 24303, 24305, 24306, 24307, 24308, 24309, 24314, 24315, 24316, 24317, 24318, 24319, 24321, 24322, 24324, 24325, 24326, 24327, 24328, 24329, 24330, 24331, 24332, 24333, 24334, 24335, 24336, 24337, 24338, 24339, 24340, 24341, 24342, 24343, 24344, 24345, 24346, 24348, 24349, 24351, 24353, 24354, 24355, 24356, 24358, 24359, 24360, 24363, 24364, 24366, 24367, 24368, 24370, 24372, 24373, 24374, 24375, 24376, 24377, 24378, 24379, 24380, 24382, 24385, 24387, 24388, 24389, 24390, 24392, 24393, 24395, 24396, 24397, 24398, 24399, 24401, 24402, 24403, 24404, 24405, 24406, 24407, 24408, 24409, 24410, 24411, 24413, 24416, 24418, 24420, 24421, 24422, 24423, 24424, 24425, 24426, 24427, 24428, 24429, 24430, 24431, 24432, 24433, 24434, 24435, 24436, 24437, 24438, 24439, 24440, 24441, 24442, 24444, 24445, 24446, 24447, 24448, 24450, 24451, 24452, 24453, 24454, 24455, 24456, 24458, 24459, 24461, 24463, 24464, 24465, 24466, 24468, 24469, 24470, 24472, 24473, 24474, 24476, 24477, 24478, 24479, 24480, 24481, 24482, 24483, 24485, 24488, 24490, 24491, 24492, 24494, 24495, 24497, 24498, 24499, 24500, 24501, 24502, 24505, 24506, 24507, 24508, 24509, 24510, 24513, 24514, 24515, 24516, 24517, 24518, 24519, 24521, 24523, 24524, 24525, 24527, 24528, 24530, 24532, 24533, 24535, 24536, 24537, 24538, 24540, 24542, 24543, 24544, 24545, 24546, 24547, 24549, 24550, 24551, 24553, 24554, 24556, 24557, 24558, 24559, 24560, 24561, 24564, 24565, 24566, 24567, 24568, 24569, 24570, 24571, 24572, 24573, 24574, 24575, 24576, 24577, 24578, 24579, 24580, 24581, 24582, 24584, 24585, 24587, 24588, 24589, 24591, 24592, 24593, 24594, 24595, 24596, 24597, 24598, 24599, 24600, 24601, 24602, 24604, 24605, 24606, 24607, 24608, 24609, 24610, 24611, 24612, 24613, 24614, 24615, 24616, 24617, 24618, 24620, 24621, 24622, 24623, 24625, 24626, 24627, 24629, 24631, 24632, 24633, 24634, 24635, 24638, 24641, 24642, 24643, 24644, 24645, 24646, 24647, 24649, 24650, 24651, 24652, 24653, 24654, 24655, 24656, 24658, 24659, 24660, 24661, 24662, 24663, 24664, 24665, 24666, 24667, 24668, 24669, 24671, 24672, 24673, 24675, 24676, 24677, 24678, 24679, 24680, 24681, 24683, 24684, 24685, 24686, 24687, 24688, 24689, 24691, 24692, 24693, 24694, 24695, 24696, 24697, 24698, 24699, 24701, 24703, 24704, 24705, 24706, 24707, 24708, 24709, 24745, 24769, 24783, 24787, 24808, 24815, 24824, 24827, 24833, 24835, 24860, 24885, 24902, 24961, 24988, 25006, 25029, 25044, 25047, 25145, 25171, 25180, 25250, 25279, 25290, 25309, 25330, 25341, 25345, 25368, 25422, 25432, 25466, 25475, 25482, 25487, 25490, 25512, 25515, 25524, 25612, 25981, 26013, 26063, 26486, 26494, 26528, 26612, 27382, 27384, 27385, 27386, 27387, 27388, 27390, 27391, 27392, 27393, 27394, 27395, 27396, 27397, 27398, 27399, 27400, 27401, 27402, 27403, 27404, 27405, 27406, 27407, 27409, 27410, 27412, 27413, 27414, 27415, 27416, 27417, 27418, 27419, 27420, 27421, 27422, 27423, 27424, 27426, 27427, 27428, 27429, 27430, 27431, 27432, 27434, 27435, 27436, 27437, 27438, 27439, 27441, 27442, 27443, 27444, 27445, 27446, 27448, 27449, 27451, 27452, 27453, 27454, 27456, 27458, 27459, 27461, 27462, 27463, 27465, 27466, 27467, 27468, 27469, 27470, 27471, 27472, 27473, 27474, 27476, 27477, 27478, 27479, 27480, 27481, 27483, 27484, 27485, 27488, 27489, 27490, 27491, 27492, 27493, 27494, 27495, 27496, 27497, 27498, 27499, 27500, 27501, 27502, 27504, 27505, 27506, 27507, 27508, 27509, 27510, 27511, 27512, 27513, 27515, 27516, 27517, 27518, 27519, 27520, 27521, 27522, 27523, 27525, 27526, 27527, 27528, 27529, 27530, 27531, 27533, 27536, 27537, 27538, 27539, 27540, 27541, 27543, 27544, 27547, 27548, 27549, 27550, 27552, 27553, 27554, 27555, 27557, 27558, 27559, 27560, 27561, 27562, 27563, 27564, 27565, 27566, 27567, 27568, 27569, 27570, 27571, 27572, 27573, 27574, 27575, 27576, 27577, 27578, 27579, 27580, 27581, 27583, 27584, 27585, 27586, 27587, 27588, 27589, 27590, 27591, 27592, 27593, 27594, 27595, 27597, 27598, 27599, 27600, 27601, 27602, 27603, 27604, 27605, 27606, 27607, 27608, 27610, 27611, 27612, 27613, 27614, 27615, 27617, 27618, 27619, 27620, 27621, 27622, 27624, 27625, 27626, 27627, 27628, 27629, 27631, 27632, 27633, 27634, 27635, 27636, 27637, 27638, 27640, 27641, 27642, 27643, 27644, 27646, 27647, 27648, 27649, 27651, 27652, 27653, 27654, 27655, 27656, 27657, 27658, 27660, 27661, 27662, 27664, 27665, 27666, 27667, 27668, 27670, 27671, 27673, 27674, 27675, 27676, 27678, 27679, 27680, 27681, 27683, 27685, 27686, 27687, 27688, 27689, 27690, 27691, 27692, 27694, 27697, 27700, 27702, 27703, 27705, 27706, 27707, 27708, 27709, 27711, 27712, 27713, 27715, 27716, 27717, 27719, 27720, 27721, 27723, 27725, 27726, 27728, 27729, 27731, 27732, 27733, 27734, 27737, 27738, 27740, 27741, 27742, 27744, 27745, 27746, 27747, 27748, 27749, 27750, 27751, 27752, 27753, 27754, 27756, 27758, 27759, 27760, 27761, 27763, 27764, 27765, 27766, 27767, 27768, 27769, 27770, 27771, 27775, 27777, 27778, 27779, 27780, 27782, 27783, 27784, 27785, 27786, 27787, 27789, 27790, 27792, 27793, 27794, 27796, 27797, 27798, 27800, 27801, 27802, 27804, 27805, 27808, 27809, 27810, 27811, 27812, 27813, 27814, 27815, 27816, 27817, 27818, 27819, 27820, 27821, 27822, 27823, 27825, 27826, 27827, 27829, 27830, 27831, 27832, 27833, 27834, 27836, 27837, 27840, 27841, 27843, 27844, 27845, 27847, 27848, 27849, 27850, 27851, 27852, 27853, 27854, 27855, 27856, 27857, 27858, 27859, 27860, 27861, 27863, 27864, 27865, 27868, 27869, 27870, 27871, 27873, 27874, 27875, 27877, 27878, 27879, 27881, 27883, 27885, 27886, 27888, 27889, 27890, 27891, 27892, 27893, 27895, 27896, 27897, 27899, 27900, 27901, 27902, 27903, 27904, 27905, 27906, 27907, 27908, 27909, 27910, 27911, 27912, 27913, 27914, 27916, 27917, 27918, 27919, 27921, 27924, 27925, 27926, 27927, 27928, 27930, 27932, 27933, 27934, 27935, 27937, 27939, 27940, 27941, 27942, 27943, 27944, 27946, 27947, 27948, 27949, 27951, 27952, 27953, 27954, 27956, 27957, 27958, 27959, 27961, 27962, 27964, 27965, 27966, 27967, 27969, 27971, 27973, 27974, 27975, 27976, 27977, 27978, 27979, 27980, 27981, 27982, 27984, 27985, 27986, 27987, 27988, 27989, 27990, 27992, 27993, 27994, 27995, 27996, 27997, 27999, 28000, 28001, 28002, 28003, 28004, 28005, 28007, 28008, 28009, 28010, 28011, 28012, 28014, 28049, 28091, 28177, 28210, 28783, 29010, 29033, 29047, 29182, 29437, 29511, 29624, 29672, 29773, 29791, 29805, 29815, 29823, 29825, 29828, 29829, 29835, 29840, 29844, 29845, 29847, 29848, 29849, 29857, 29860, 29861, 29862, 29872, 29881, 29884, 29888, 29894, 29900, 29906, 29907, 29912, 29925, 29935, 29936, 29948, 29953, 29954, 29959, 29964, 29968, 29973, 29977, 29982, 29998, 29999, 30005, 30019, 30022, 30025, 30028, 30031, 30034, 30043, 30046, 30047, 30050, 30062, 30078, 30080, 30081, 30083, 30085, 30087, 30088, 30091, 30114, 30123, 30134, 30146, 30150, 30154, 30158, 30160, 30171, 30177, 30184, 30187, 30194, 30197, 30202, 30207, 30215, 30216, 30221, 30227, 30229, 30234, 30253, 30258, 30259, 30264, 30277, 30297, 30301, 30306, 30307, 30316, 30319, 30320, 30321, 30322, 30333, 30338, 30342, 30349, 30355, 30359, 30362, 30368, 30370, 30375, 30379, 30385, 30388, 30391, 30395, 30397, 30401, 30408, 30418, 30432, 30436, 30440, 30448, 30453, 30466, 30476, 30478, 30503, 30513, 30517, 30521, 30523, 30529, 30531, 30538, 30540, 30546, 30549, 30552, 30553, 30568, 30570, 30571, 30573, 30574, 30575, 30580, 30588, 30590, 30592, 30600, 30609, 30619, 30620, 30630, 30634, 30636, 30639, 30640, 30645, 30653, 30654, 30655, 30662, 30668, 30678, 30683, 30686, 30691, 30700, 30702, 30707, 30712, 30768, 30798, 30813, 31094, 31146, 31257, 31628, 31629, 31630, 31631, 31632, 31633, 31635, 31637, 31638, 31639, 31640, 31642, 31643, 31644, 31645, 31646, 31647, 31648, 31649, 31650, 31651, 31653, 31654, 31655, 31656, 31657, 31659, 31662, 31665, 31667, 31668, 31669, 31670, 31671, 31673, 31674, 31675, 31676, 31677, 31678, 31679, 31680, 31681, 31682, 31683, 31684, 31685, 31687, 31688, 31689, 31690, 31691, 31693, 31694, 31695, 31697, 31698, 31700, 31701, 31702, 31703, 31706, 31707, 31708, 31709, 31710, 31711, 31714, 31716, 31717, 31718, 31719, 31721, 31722, 31723, 31724, 31726, 31727, 31728, 31729, 31730, 31731, 31732, 31733, 31734, 31735, 31736, 31737, 31738, 31739, 31741, 31742, 31743, 31744, 31745, 31746, 31747, 31749, 31751, 31753, 31755, 31756, 31757, 31758, 31759, 31760, 31761, 31762, 31763, 31764, 31765, 31766, 31767, 31768, 31769, 31770, 31771, 31773, 31774, 31776, 31777, 31779, 31780, 31781, 31782, 31783, 31784, 31785, 31786, 31787, 31788, 31789, 31790, 31792, 31793, 31794, 31795, 31796, 31798, 31799, 31800, 31801, 31802, 31803, 31804, 31805, 31806, 31807, 31808, 31809, 31810, 31812, 31813, 31814, 31815, 31817, 31818, 31820, 31821, 31822, 31823, 31825, 31826, 31827, 31830, 31831, 31832, 31833, 31835, 31836, 31837, 31838, 31840, 31843, 31844, 31845, 31846, 31847, 31848, 31849, 31850, 31851, 31853, 31854, 31855, 31856, 31857, 31858, 31859, 31860, 31861, 31862, 31863, 31864, 31865, 31866, 31868, 31869, 31870, 31871, 31873, 31874, 31875, 31876, 31878, 31879, 31880, 31882, 31884, 31885, 31886, 31887, 31888, 31889, 31890, 31891, 31893, 31894, 31895, 31898, 31899, 31900, 31901, 31902, 31903, 31904, 31905, 31906, 31908, 31909, 31910, 31912, 31913, 31915, 31916, 31917, 31918, 31919, 31920, 31922, 31923, 31924, 31925, 31926, 31927, 31928, 31929, 31930, 31933, 31935, 31936, 31937, 31940, 31941, 31942, 31943, 31944, 31945, 31946, 31947, 31948, 31949, 31950, 31951, 31952, 31953, 31954, 31955, 31956, 31957, 31958, 31959, 31963, 31964, 31966, 31967, 31968, 31969, 31970, 31971, 31972, 31973, 31974, 31975, 31976, 31977, 31978, 31979, 31980, 31981, 31982, 31983, 31984, 31985, 31986, 31987, 31988, 31989, 31990, 31991, 31992, 31994, 31995, 31996, 31997, 31998, 31999, 32000, 32001, 32002, 32004, 32005, 32006, 32008, 32009, 32011, 32012, 32014, 32015, 32016, 32018, 32019, 32020, 32021, 32022, 32024, 32025, 32026, 32028, 32030, 32032, 32033, 32034, 32035, 32038, 32039, 32040, 32041, 32042, 32043, 32044, 32045, 32046, 32047, 32048, 32049, 32050, 32051, 32052, 32054, 32055, 32056, 32057, 32058, 32060, 32061, 32062, 32064, 32065, 32068, 32069, 32070, 32071, 32072, 32074, 32075, 32076, 32077, 32078, 32079, 32080, 32081, 32082, 32083, 32084, 32085, 32086, 32087, 32088, 32089, 32090, 32091, 32092, 32095, 32096, 32098, 32099, 32100, 32102, 32103, 32105, 32107, 32108, 32110, 32112, 32113, 32114, 32115, 32116, 32117, 32118, 32119, 32120, 32121, 32122, 32123, 32124, 32125, 32126, 32127, 32128, 32129, 32131, 32132, 32133, 32134, 32135, 32137, 32139, 32140, 32141, 32142, 32143, 32144, 32150, 32152, 32153, 32154, 32155, 32156, 32157, 32158, 32159, 32160, 32161, 32162, 32163, 32165, 32166, 32167, 32168, 32169, 32171, 32173, 32174, 32175, 32176, 32177, 32178, 32180, 32181, 32182, 32183, 32184, 32186, 32187, 32188, 32189, 32190, 32191, 32192, 32193, 32194, 32197, 32198, 32199, 32200, 32201, 32202, 32207, 32208, 32209, 32210, 32211, 32212, 32213, 32214, 32215, 32216, 32217, 32218, 32219, 32220, 32221, 32222, 32223, 32224, 32225, 32226, 32229, 32230, 32231, 32233, 32235, 32236, 32237, 32238, 32241, 32242, 32243, 32244, 32245, 32246, 32247, 32248, 32249, 32250, 32251, 32252, 32253, 32254, 32255, 32257, 32258, 32259, 32260, 32262, 32263, 32265, 32266, 32267, 32268, 32269, 32270, 32272, 32274, 32275, 32276, 32277, 32278, 32280, 32281, 32283, 32284, 32285, 32286, 32287, 32288, 32289, 32291, 32293, 32294, 32295, 32296, 32297, 32300, 32301, 32303, 32304, 32305, 32307, 32308, 32309, 32310, 32311, 32313, 32314, 32319, 32323, 32324, 32327, 32332, 32333, 32335, 32339, 32343, 32344, 32345, 32346, 32349, 32351, 32354, 32356, 32369, 32370, 32372, 32375, 32382, 32383, 32384, 32388, 32389, 32391, 32392, 32393, 32394, 32398, 32400, 32401, 32403, 32407, 32408, 32412, 32413, 32415, 32418, 32420, 32422, 32424, 32425, 32427, 32429, 32432, 32433, 32439, 32443, 32445, 32448, 32450, 32461, 32462, 32466, 32469, 32470, 32471, 32477, 32480, 32482, 32486, 32487, 32489, 32491, 32493, 32496, 32497, 32507, 32520, 32524, 32527, 32529, 32530, 32534, 32537, 32539, 32540, 32542, 32544, 32548, 32549, 32551, 32552, 32555, 32557, 32561, 32563, 32565, 32571, 32572, 32576, 32579, 32585, 32587, 32588, 32589, 32590, 32591, 32595, 32596, 32597, 32598, 32602, 32606, 32608, 32615, 32624, 32625, 32628, 32633, 32637, 32644, 32645, 32655, 32656, 32657, 32659, 32660, 32662, 32663, 32667, 32668, 32669, 32671, 32674, 32677, 32683, 32690, 32696, 32698, 32699, 32703, 32712, 32714, 32715, 32716, 32723, 32728, 32739, 32743, 32744, 32751, 32752, 32753, 32755, 32757, 32760, 32763, 32764, 32776, 32779, 32780, 32786, 32787, 32790, 32798, 32799, 32807, 32811, 32817, 32820, 32822, 32823, 32828, 32836, 32839, 32842, 32848, 32849, 32851, 32857, 32861, 32862, 32868, 32869, 32872, 32873, 32875, 32876, 32879, 32880, 32883, 32884, 32886, 32888, 32892, 32893, 32894, 32895, 32896, 32900, 32909, 32910, 32911, 32913, 32915, 32918, 32921, 32924, 32925, 32928, 32932, 32933, 32941, 32951, 32958, 32960, 32962, 32963, 32965, 32970, 32974, 32975, 32976, 32979, 32982, 32984, 32989, 32993, 32994, 32996, 33003, 33004, 33010, 33011, 33012, 33015, 33021, 33024, 33029, 33038, 33041, 33046, 33050, 33051, 33052, 33059, 33060, 33068, 33075, 33078, 33080, 33087, 33088, 33091, 33105, 33107, 33109, 33118, 33121, 33123, 33135, 33136, 33137, 33138, 33152, 33154, 33156, 33157, 33159, 33168, 33178, 33180, 33181, 33182, 33185, 33186, 33189, 33194, 33195, 33200, 33205, 33206, 33207, 33211, 33214, 33218, 33219, 33225, 33226, 33231, 33235, 33238, 33243, 33244, 33251, 33253, 33254, 33256, 33260, 33261, 33263, 33264, 33272, 33280, 33281, 33286, 33289, 33291, 33293, 33297, 33298, 33305, 33307, 33308, 33311, 33312, 33313, 33316, 33318, 33319, 33320, 33321, 33322, 33324, 33329, 33331, 33336, 33340, 33343, 33345, 33353, 33356, 33360, 33361, 33362, 33375, 33377, 33378, 33381, 33389, 33390, 33397, 33401, 33402, 33406, 33407, 33408, 33410, 33411, 33412, 33418, 33456, 33497, 33527, 33910, 34106, 34220, 34326, 34421, 34695, 34735, 34813, 35075, 35189, 35282, 35302, 35311, 35410, 35437, 35716, 35833, 35854, 36019, 36051, 36169, 36186, 36252, 36266, 36306, 36330, 36348, 36401, 36462, 36723, 36758, 36780, 36781, 36795, 36805, 36820, 36824, 36826, 36856, 36879, 36889, 36908, 36916, 36918, 36980, 37022, 37058, 37062, 37064, 37089, 37176, 37195, 37300, 37310, 37345, 37433, 37962, 38231, 38258, 38274, 38320, 38341, 38358, 38396, 38413, 38432, 38476, 38502, 38504, 38506, 38510, 38610, 38628, 38667, 38703, 38765, 38796, 38868, 38879, 38884, 38897, 39012, 39034, 39057, 39110, 39181, 39212, 39259, 39266, 39278, 39281, 39286, 39295, 39299, 39301, 39307, 39309, 39322, 39327, 39336, 39342, 39346, 39351, 39360, 39379, 39400, 39407, 39412, 39421, 39438, 39458, 39499, 39512, 39520, 39524, 39540, 39544, 39570, 39573, 39575, 39597, 39612, 39615, 39628, 39636, 39643, 39647, 39659, 39669, 39677, 39688, 39689, 39702, 39705, 39729, 39739, 39744, 39745, 39774, 39781, 39810, 39827, 39863, 39876, 39880, 39882, 39908, 39916, 39930, 39943, 39946, 39973, 40032, 40041, 40061, 40068, 40076, 40081, 40103, 40113, 40127, 40153, 40157, 40162, 40174, 40222, 40250, 40252, 40259, 40288, 40310, 40315, 40325, 40334, 40362, 40366, 40377, 40392, 40437, 40442, 40444, 40459, 40466, 40475, 40481, 40525, 40542, 40556, 40559, 40567, 40578, 40579, 40580, 40596, 40622, 40625, 40632, 40634, 40636, 40642, 40655, 40681, 40698, 40704, 40708, 40715, 40727, 40733, 40743, 40748, 40760, 40764, 40768, 40786, 40792, 40795, 40805, 40828, 40841, 40851, 40871, 40884, 40887, 40892, 40901, 40903, 40918, 40920, 40940, 40949, 40964, 40978, 41003, 41017, 41023, 41031, 41032, 41038, 41052, 41082, 41088, 41100, 41108, 41128, 41129, 41131, 41137, 41166, 41230, 41240, 41245, 41273, 41281, 41282, 41295, 41298, 41303, 41304, 41309, 41315, 41327, 41341, 41346, 41352, 41369, 41370, 41385, 41392, 41393, 41420, 41421, 41422, 41426, 41438, 41444, 41453, 41477, 41480, 41494, 41495, 41513, 41514, 41517, 41534, 41535, 41563, 41569, 41575, 41579, 41582, 41595, 41601, 41619, 41623, 41625, 41628, 41634, 41644, 41652, 41656, 41662, 41670, 41690, 41705, 41712, 41715, 41725, 41730, 41731, 41732, 41746, 41750, 41752, 41759, 41789, 41790, 41791, 41793, 41826, 41836, 41871, 41872, 41877, 41905, 41918, 41933, 41935, 41940, 41960, 41961, 41963, 41971, 41973, 41988, 41989, 41995, 42003, 42007, 42013, 42028, 42041, 42053, 42055, 42071, 42074, 42084, 42089, 42092, 42104, 42109, 42123, 42124, 42127, 42129, 42150, 42152, 42160, 42175, 42188, 42189, 42192, 42195, 42199, 42201, 42202, 42205, 42221, 42230, 42250, 42254, 42266, 42267, 42298, 42307, 42315, 42334, 42404, 42455, 42703, 42936, 42977, 43187, 43222, 43303, 43379, 43518, 43670, 43800, 43847, 43971, 44211, 44215, 44254, 44283, 44335, 44363, 44371, 44377, 44435, 44452, 44472, 44484, 44518, 44538, 44562, 44565, 44577, 44599, 44601, 44604, 44621, 44639, 44647, 44652, 44653, 44658, 44674, 44719, 44734, 44742, 44752, 44766, 44768, 44850, 44863, 44890, 44918, 44947, 44964, 44965, 44970, 44996, 44998, 45009, 45030, 45052, 45084, 45097, 45107, 45135, 45154, 45155, 45331, 45356, 45383, 45685, 45738, 45835, 46137, 46174, 46269, 46271, 46289, 46307, 46312, 46316, 46353, 46420, 46430, 46448, 46455, 46464, 46465, 46499, 46500, 46509, 46510, 46514, 46518, 46558, 46565, 46581, 46583, 46591, 46607, 46611, 46612, 46628, 46631, 46648, 46655, 46665, 46667, 46671, 46755, 46759, 46769, 46774, 46782, 46783, 46799, 46800, 46805, 46831, 46835, 46863, 46921, 46926, 46931, 46942, 46951, 46974, 46991, 46999, 47003, 47006, 47015, 47039, 47077, 47108, 47117, 47153, 47154, 47156, 47195, 47197, 47216, 47235, 47236, 47241, 47270, 47275, 47288, 47292, 47317, 47326, 47342, 47343, 47358, 47371, 47380, 47432, 47437, 47440, 47468, 47492, 47497, 47506, 47515, 47516, 47518, 47533, 47548, 47562, 47578, 47624, 47629, 47636, 47652, 47658, 47666, 47697, 47741, 47748, 47769, 47773, 47785, 47800, 47813, 47825, 47827, 47862, 47898, 47921, 47928, 47936, 47948, 47952, 47953, 47956, 47981, 47984, 48018, 48054, 48068, 48070, 48086, 48101, 48103, 48123, 48132, 48144, 48150, 48163, 48186, 48202, 48215, 48235, 48268, 48288, 48321, 48322, 48328, 48334, 48401, 48421, 48430, 48436, 48469, 48481, 48483, 48485, 48492, 48494, 48498, 48531, 48538, 48576, 48578, 48583, 48603, 48618, 48649, 48672, 48757, 48760, 48863, 48867, 48878, 48925, 48938, 48939, 48941, 48951, 48976, 49013, 49039, 49064, 49092, 49112, 49116, 49124, 49215, 49216, 49223, 49240, 49302, 49351, 49384, 49410, 49441, 49464, 49485, 49487, 49502, 49508, 49520, 49528, 49601, 49607, 49627, 49644, 49662, 49673, 49680, 49698, 49700, 49725, 49742, 49749, 49768, 49771, 49799, 49805, 49830, 49852, 49854, 49865, 49891, 49899, 49902, 49906, 49911, 49939, 49942, 49949, 49961, 49976, 49987, 50015, 50016, 50020, 50028, 50041, 50044, 50240, 50582, 50587, 50673, 50736, 50839, 50959, 50962, 51034, 51069, 51163, 51170, 51176, 51182, 51194, 51212, 51228, 51236, 51245, 51262, 51271, 51317, 51341, 51351, 51381, 51435, 51457, 51462, 51492, 51529, 51535, 51546, 51618, 51626, 51637, 51651, 51690, 51692, 51695, 51726, 51766, 51803, 51828, 51849, 51852, 51864, 51886, 51901, 51916, 51944, 52043, 52048, 52049, 52075, 52153, 52154, 52171, 52172, 52190, 52216, 52229, 52252, 52257, 52260, 52343, 52386, 52475, 52612, 52995, 53301, 53316, 53476, 53608, 53616, 53668, 53710, 53770, 53813, 54017, 54027, 54401, 54445, 54900, 54992, 55232, 55322, 55356, 55462, 55699, 55758, 55997, 56093, 56111, 56281, 56483, 56628, 56835, 56904, 56963, 56997, 57249, 57254, 57274, 57294, 57342, 57379, 57411, 57597, 57684, 57964, 58161, 58162, 58163, 58164, 58165, 58166, 58167, 58168, 58170, 58171, 58172, 58174, 58175, 58176, 58177, 58178, 58180, 58181, 58183, 58185, 58187, 58189, 58193, 58198, 58199, 58200, 58201, 58202, 58203, 58204, 58205, 58206, 58207, 58208, 58210, 58212, 58213, 58214, 58216, 58218, 58219, 58222, 58223, 58224, 58226, 58227, 58228, 58229, 58230, 58231, 58232, 58233, 58234, 58235, 58236, 58237, 58238, 58240, 58241, 58242, 58243, 58244, 58245, 58246, 58248, 58249, 58250, 58252, 58253, 58254, 58255, 58257, 58258, 58259, 58260, 58261, 58262, 58263, 58264, 58265, 58266, 58267, 58268, 58269, 58270, 58272, 58273, 58275, 58276, 58277, 58278, 58279, 58280, 58281, 58282, 58283, 58284, 58285, 58286, 58288, 58289, 58290, 58291, 58292, 58293, 58296, 58298, 58299, 58300, 58301, 58302, 58303, 58306, 58307, 58308, 58309, 58310, 58311, 58312, 58313, 58314, 58315, 58317, 58318, 58320, 58321, 58322, 58323, 58324, 58325, 58326, 58327, 58329, 58330, 58331, 58332, 58333, 58334, 58335, 58336, 58337, 58339, 58340, 58341, 58343, 58344, 58345, 58347, 58348, 58349, 58352, 58353, 58354, 58355, 58356, 58357, 58362, 58363, 58364, 58365, 58366, 58369, 58370, 58371, 58372, 58374, 58376, 58377, 58378, 58379, 58381, 58382, 58383, 58384, 58385, 58386, 58387, 58388, 58389, 58390, 58391, 58393, 58394, 58395, 58396, 58397, 58398, 58400, 58401, 58402, 58403, 58404, 58405, 58406, 58407, 58408, 58409, 58410, 58411, 58412, 58414, 58415, 58418, 58419, 58420, 58421, 58422, 58423, 58424, 58425, 58426, 58427, 58428, 58429, 58430, 58432, 58434, 58435, 58437, 58438, 58439, 58440, 58441, 58443, 58444, 58445, 58446, 58447, 58448, 58450, 58451, 58452, 58453, 58454, 58455, 58456, 58458, 58459, 58460, 58463, 58465, 58466, 58468, 58469, 58470, 58471, 58473, 58474, 58476, 58477, 58478, 58479, 58480, 58481, 58482, 58483, 58484, 58485, 58486, 58487, 58488, 58489, 58490, 58491, 58492, 58494, 58495, 58497, 58499, 58503, 58504, 58505, 58506, 58508, 58509, 58510, 58511, 58512, 58513, 58514, 58515, 58517, 58518, 58520, 58521, 58523, 58525, 58527, 58528, 58530, 58531, 58532, 58534, 58535, 58536, 58538, 58539, 58540, 58541, 58544, 58546, 58547, 58548, 58550, 58552, 58553, 58554, 58555, 58556, 58558, 58559, 58560, 58561, 58562, 58563, 58564, 58565, 58566, 58567, 58568, 58569, 58570, 58571, 58572, 58573, 58574, 58575, 58576, 58577, 58580, 58581, 58582, 58583, 58584, 58586, 58587, 58588, 58590, 58592, 58593, 58594, 58596, 58597, 58598, 58599, 58600, 58601, 58602, 58603, 58604, 58605, 58606, 58607, 58608, 58609, 58610, 58611, 58612, 58613, 58614, 58615, 58616, 58617, 58618, 58619, 58620, 58621, 58622, 58623, 58624, 58627, 58629, 58630, 58631, 58632, 58633, 58634, 58635, 58637, 58640, 58641, 58642, 58644, 58646, 58648, 58649, 58651, 58652, 58653, 58655, 58657, 58658, 58659, 58663, 58664, 58665, 58666, 58667, 58668, 58669, 58670, 58672, 58674, 58675, 58676, 58677, 58678, 58679, 58680, 58682, 58683, 58684, 58686, 58687, 58688, 58689, 58690, 58691, 58694, 58695, 58697, 58698, 58700, 58701, 58702, 58703, 58704, 58705, 58706, 58707, 58708, 58709, 58711, 58712, 58714, 58716, 58717, 58719, 58721, 58722, 58723, 58724, 58725, 58726, 58727, 58728, 58729, 58730, 58731, 58732, 58733, 58734, 58735, 58736, 58737, 58738, 58740, 58741, 58742, 58743, 58744, 58745, 58746, 58747, 58749, 58751, 58752, 58753, 58754, 58756, 58757, 58758, 58759, 58760, 58761, 58762, 58763, 58765, 58766, 58767, 58768, 58769, 58770, 58771, 58773, 58774, 58775, 58777, 58778, 58779, 58780, 58782, 58784, 58937, 58966, 59045, 59053, 59088, 59173, 59280, 59314, 59411, 59655, 59782, 59797, 59803, 59841, 59883, 59888, 59913, 59965, 59984, 60014, 60018, 60176, 60225, 60296, 60434, 60462, 60480, 60542, 60592, 60604, 60615, 60672, 60680, 60685, 60691, 60704, 60723, 60727, 60740, 60746, 60758, 60762, 60777, 60787, 60831, 60855, 60866, 60867, 60877, 60898, 60952, 60959, 60975, 60977, 60980, 60985, 61016, 61059, 61068, 61119, 61166, 61181, 61219, 61225, 61257, 61270, 61321, 61360, 61380, 61382, 61417, 61434, 61443, 61449, 61451, 61480, 61517, 61567, 61588, 61591, 61594, 61605, 61634, 61644, 61653, 61679, 61709, 61710, 61792, 61798, 61805, 61816, 61833, 61894, 61937, 61945, 62028, 63214, 63313, 63350, 63359, 63437, 63739, 63836, 63842, 63888, 64323, 64449, 64744, 64764, 65139, 65191, 65305, 65575, 65594, 65630, 65655, 65720, 66025, 66027, 66224, 66235, 66393, 66400, 66418, 66421, 66426, 66443, 66453, 66454, 66461, 66462, 66465, 66469, 66470, 66475, 66482, 66494, 66498, 66504, 66514, 66516, 66534, 66548, 66557, 66571, 66577, 66585, 66586, 66612, 66628, 66630, 66652, 66655, 66666, 66675, 66676, 66682, 66684, 66688, 66697, 66702, 66723, 66725, 66732, 66735, 66739, 66752, 66757, 66762, 66777, 66788, 66795, 66797, 66800, 66813, 66818, 66821, 66832, 66841, 66847, 66860, 66866, 66868, 66880, 66882, 66898, 66902, 66904, 66929, 67003, 67008, 67011, 67026, 67027, 67030, 67034, 67045, 67078, 67096, 67103, 67117, 67123, 67128, 67132, 67135, 67139, 67141, 67143, 67153, 67155, 67170, 67172, 67173, 67181, 67198, 67203, 67212, 67214, 67229, 67232, 67249, 67263, 67265, 67266, 67268, 67269, 67281, 67284, 67289, 67304, 67305, 67307, 67311, 67315, 67318, 67334, 67338, 67345, 67362, 67385, 67387, 67389, 67396, 67418, 67426, 67428, 67441, 67447, 67450, 67467, 67475, 67487, 67493, 67495, 67501, 67504, 67514, 67524, 67538, 67562, 67585, 67605, 67618, 67633, 67645, 67651, 67691, 67710, 67729, 67744, 67748, 67784, 67792, 67803, 67810, 67815, 67834, 67880, 67892, 67900, 67908, 67929, 67955, 67965, 67976, 68013, 68015, 68049, 68055, 68071, 68132, 68139, 68168, 68181, 68193, 68197, 68212, 68217, 68226, 68229, 68254, 68257, 68290, 68309, 68325, 68330, 68351, 68376, 68398, 68419, 68433, 68467, 68495, 68516, 68532, 68536, 68537, 68542, 68544, 68545, 68547, 68554, 68557, 68559, 68562, 68566, 68570, 68573, 68579, 68585, 68589, 68597, 68599, 68601, 68602, 68609, 68620, 68621, 68624, 68625, 68632, 68633, 68638, 68640, 68643, 68644, 68648, 68652, 68664, 68668, 68674, 68677, 68678, 68680, 68683, 68685, 68686, 68692, 68696, 68706, 68719, 68739, 68747, 68754, 68756, 68759, 68765, 68786, 68787, 68788, 68790, 68807, 68810, 68812, 68814, 68821, 68824, 68825, 68826, 68837, 68843, 68846, 68859, 68860, 68865, 68868, 68873, 68880, 68881, 68883, 68888, 68891, 68896, 68902, 68906, 68911, 68926, 68928, 68931, 68935, 68938, 68940, 68945, 68949, 68953, 68969, 68971, 68972, 68984, 68991, 68998, 68999, 69001, 69004, 69008, 69010, 69012, 69021, 69023, 69029, 69034, 69037, 69040, 69042, 69050, 69063, 69079, 69090, 69091, 69095, 69096, 69097, 69099, 69102, 69108, 69117, 69124, 69137, 69146, 69175, 69182, 69193, 69194, 69198, 69202, 69205, 69208, 69210, 69211, 69224, 69225, 69239, 69253, 69255, 69272, 69273, 69274, 69276, 69280, 69282, 69284, 69288, 69294, 69298, 69307, 69310, 69312, 69314, 69317, 69324, 69329, 69335, 69337, 69347, 69357, 69369, 69380, 69382, 69392, 69396, 69398, 69402, 69410, 69415, 69425, 69442, 69454, 69459, 69461, 69462, 69472, 69475, 69479, 69480, 69484, 69488, 69500, 69501, 69502, 69508, 69512, 69526, 69527, 69538, 69554, 69562, 69565, 69566, 69571, 69581, 69584, 69592, 69597, 69599, 69609, 69624, 69628, 69631, 69636, 69641, 69644, 69658, 69662, 69665, 69668, 69671, 69678, 69682, 69687, 69692, 69698, 69700, 69703, 69707, 69710, 69715, 69737, 69777, 69810, 70161, 70420, 70479, 70515, 70603, 70984, 71326, 71380, 71386, 71391, 71398, 71399, 71403, 71407, 71408, 71416, 71418, 71425, 71441, 71442, 71452, 71470, 71514, 71517, 71540, 71544, 71550, 71551, 71608, 71609, 71620, 71625, 71627, 71640, 71656, 71661, 71693, 71696, 71738, 71744, 71772, 71793, 71812, 71821, 71822, 71825, 71826, 71851, 71875, 71881, 71883, 71931, 71949, 71951, 71955, 71988, 72002, 72024, 72038, 72039, 72078, 72104, 72110, 72119, 72128, 72160, 72161, 72167, 72183, 72201, 72204, 72217, 72229, 72233, 72243, 72260, 72276, 72288, 72314, 72316, 72328, 72335, 72344, 72347, 72352, 72356, 72357, 72374, 72391, 72392, 72397, 72411, 72422, 72464, 72466, 72467, 72489, 72495, 72505, 72567, 72568, 72585, 72586, 72590, 72607, 72613, 72618, 72636, 72652, 72662, 72694, 72700, 72743, 72772, 72774, 72801, 72812, 72849, 72852, 72876, 72881, 72889, 72896, 72897, 72901, 72930, 72938, 72982, 73031, 73033, 73044, 73051, 73067, 73096, 73117, 73133, 73137, 73139, 73149, 73166, 73185, 73195, 73213, 73225, 73231, 73236, 73246, 73249, 73293, 73315, 73330, 73371, 73378, 73418, 73445, 73467, 73514, 73742, 73771, 73819, 73886, 73974, 73989, 74022, 74029, 74061, 74124, 74168, 74629, 74858, 75048, 75081, 75287, 75484, 75505, 75796, 75828, 75833, 75846, 75871, 75877, 75887, 75905, 75910, 75911, 75918, 75919, 75924, 75928, 75930, 75931, 75947, 75950, 75961, 75972, 75975, 75990, 76002, 76003, 76021, 76042, 76050, 76054, 76061, 76065, 76081, 76089, 76099, 76109, 76132, 76141, 76157, 76159, 76161, 76204, 76223, 76229, 76266, 76270, 76276, 76283, 76286, 76292, 76306, 76325, 76354, 76367, 76378, 76465, 76467, 76513, 76522, 76524, 76526, 76529, 76534, 76537, 76548, 76549, 76551, 76562, 76564, 76567, 76570, 76602, 76608, 76620, 76634, 76637, 76639, 76640, 76648, 76661, 76668, 76694, 76705, 76710, 76717, 76727, 76730, 76735, 76738, 76749, 76753, 76764, 76780, 76803, 76817, 76818, 76826, 76866, 76871, 76905, 76919, 76920, 76924, 76934, 76942, 76947, 76951, 76996, 76999, 77022, 77036, 77070, 77080, 77086, 77125, 77134, 77151, 77240, 77297, 77375, 77435, 77567, 77669, 77671, 77736, 77743, 77745, 77776, 77777, 77825, 77868, 77990, 78082, 78122, 78153, 78313, 78396, 78448, 78691, 78693, 78695, 78697, 78699, 78700, 78701, 78704, 78706, 78707, 78711, 78715, 78717, 78721, 78722, 78725, 78726, 78727, 78728, 78729, 78732, 78733, 78738, 78740, 78742, 78743, 78746, 78748, 78753, 78756, 78760, 78761, 78762, 78763, 78767, 78771, 78772, 78774, 78775, 78776, 78777, 78779, 78781, 78782, 78787, 78790, 78792, 78794, 78795, 78803, 78807, 78808, 78811, 78812, 78813, 78814, 78817, 78821, 78823, 78824, 78825, 78826, 78830, 78831, 78832, 78833, 78839, 78840, 78842, 78843, 78852, 78853, 78858, 78860, 78863, 78866, 78868, 78869, 78873, 78874, 78877, 78878, 78883, 78886, 78887, 78888, 78892, 78897, 78898, 78899, 78900, 78903, 78905, 78907, 78910, 78911, 78912, 78913, 78914, 78916, 78918, 78920, 78921, 78926, 78928, 78931, 78935, 78936, 78938, 78941, 78942, 78943, 78949, 78950, 78954, 78958, 78959, 78960, 78962, 78963, 78966, 78967, 78969, 78972, 78973, 78975, 78976, 78978, 78981, 78983, 78988, 78990, 78995, 78999, 79000, 79001, 79003, 79009, 79010, 79014, 79020, 79023, 79032, 79034, 79035, 79037, 79038, 79039, 79042, 79043, 79045, 79048, 79053, 79054, 79056, 79059, 79060, 79061, 79063, 79065, 79067, 79069, 79070, 79071, 79072, 79080, 79082, 79083, 79086, 79088, 79099, 79101, 79104, 79105, 79108, 79111, 79112, 79113, 79117, 79120, 79122, 79123, 79126, 79128, 79129, 79130, 79131, 79132, 79139, 79142, 79146, 79147, 79150, 79153, 79154, 79158, 79161, 79162, 79163, 79164, 79166, 79167, 79170, 79175, 79176, 79177, 79180, 79182, 79184, 79189, 79191, 79195, 79197, 79198, 79199, 79201, 79203, 79205, 79207, 79211, 79221, 79222, 79223, 79225, 79229, 79230, 79237, 79238, 79241, 79242, 79246, 79249, 79250, 79251, 79252, 79257, 79259, 79261, 79267, 79268, 79271, 79272, 79274, 79275, 79276, 79277, 79278, 79285, 79286, 79288, 79291, 79295, 79297, 79302, 79303, 79304, 79305, 79307, 79308, 79309, 79311, 79315, 79318, 79319, 79320, 79321, 79322, 79327, 79329, 79331, 79332, 79338, 79340, 79345, 79346, 79347, 79350, 79356, 79357, 79358, 79360, 79361, 79367, 79369, 79370, 79372, 79376, 79381, 79383, 79386, 79392, 79394, 79396, 79400, 79401, 79403, 79404, 79405, 79406, 79408, 79410, 79412, 79414, 79416, 79420, 79421, 79424, 79425, 79427, 79431, 79439, 79440, 79446, 79447, 79451, 79454, 79460, 79461, 79462, 79465, 79472, 79479, 79480, 79481, 79482, 79484, 79486, 79487, 79489, 79490, 79491, 79495, 79498, 79503, 79506, 79511, 79512, 79514, 79515, 79516, 79517, 79524, 79528, 79529, 79534, 79538, 79539, 79544, 79545, 79547, 79550, 79551, 79553, 79554, 79555, 79556, 79560, 79561, 79562, 79566, 79569, 79572, 79578, 79579, 79595, 79599, 79600, 79602, 79609, 79615, 79619, 79623, 79631, 79648, 79654, 79657, 79658, 79663, 79664, 79667, 79670, 79673, 79693, 79701, 79702, 79706, 79712, 79731, 79735, 79741, 79749, 79785, 79796, 79801, 79807, 79825, 79848, 79850, 79858, 79866, 79867, 79875, 79879, 79894, 79906, 79916, 79918, 79926, 79928, 79942, 79950, 79952, 79960, 79970, 79979, 79984, 79993, 79994, 79996, 80001, 80003, 80005, 80012, 80016, 80019, 80022, 80033, 80037, 80050, 80068, 80077, 80080, 80083, 80088, 80096, 80118, 80123, 80127, 80152, 80181, 80194, 80202, 80205, 80207, 80234, 80251, 80264, 80267, 80273, 80282, 80288, 80289, 80295, 80298, 80304, 80315, 80316, 80337, 80346, 80347, 80364, 80374, 80390, 80410, 80425, 80429, 80444, 80447, 80448, 80454, 80457, 80459, 80472, 80481, 80488, 80497, 80504, 80517, 80548, 80559, 80572, 80577, 80601, 80605, 80608, 80610, 80625, 80628, 80631, 80637, 80651, 80660, 80662, 80676, 80682, 80765, 80818, 80927, 81134, 81279, 81441, 81476, 81499, 81512, 81552, 81557, 81594, 81604, 81623, 81643, 81687, 81768, 81914, 81989, 82041, 82055, 82146, 82148, 82160, 82196, 82206, 82212, 82216, 82220, 82243, 82253, 82260, 82262, 82263, 82264, 82269, 82270, 82271, 82272, 82273, 82276, 82279, 82282, 82287, 82292, 82295, 82298, 82302, 82304, 82306, 82308, 82310, 82313, 82317, 82320, 82321, 82327, 82328, 82334, 82335, 82336, 82338, 82339, 82340, 82345, 82346, 82347, 82349, 82350, 82352, 82356, 82359, 82361, 82369, 82371, 82374, 82375, 82378, 82380, 82383, 82384, 82385, 82388, 82397, 82406, 82410, 82412, 82415, 82416, 82425, 82427, 82431, 82434, 82442, 82444, 82449, 82450, 82453, 82464, 82473, 82476, 82477, 82483, 82484, 82488, 82491, 82493, 82494, 82496, 82498, 82500, 82501, 82503, 82507, 82512, 82513, 82514, 82516, 82528, 82530, 82532, 82533, 82534, 82540, 82541, 82548, 82549, 82550, 82551, 82552, 82554, 82555, 82557, 82558, 82561, 82563, 82567, 82571, 82572, 82576, 82578, 82580, 82587, 82589, 82590, 82593, 82599, 82611, 82613, 82614, 82615, 82616, 82617, 82619, 82623, 82626, 82629, 82631, 82643, 82649, 82655, 82659, 82662, 82664, 82666, 82668, 82675, 82678, 82679, 82680, 82685, 82688, 82691, 82696, 82697, 82699, 82700, 82701, 82703, 82707, 82709, 82713, 82716, 82717, 82720, 82721, 82724, 82734, 82736, 82737, 82738, 82739, 82741, 82743, 82746, 82749, 82751, 82754, 82758, 82762, 82768, 82771, 82774, 82777, 82779, 82790, 82791, 82805, 82807, 82816, 82818, 82822, 82823, 82824, 82827, 82829, 82830, 82832, 82833, 82834, 82837, 82838, 82841, 82844, 82851, 82852, 82857, 82858, 82863, 82868, 82875, 82876, 82880, 82881, 82887, 82895, 82897, 82899, 82902, 82904, 82905, 82907, 82912, 82913, 82916, 82918, 82920, 82921, 82924, 82926, 82929, 82930, 82932, 82935, 82938, 82944, 82946, 82949, 82950, 82951, 82952, 82956, 82957, 82966, 82969, 82975, 82985, 82986, 82988, 82989, 82991, 82994, 82995, 82996, 82997, 83004, 83010, 83011, 83013, 83014, 83015, 83020, 83022, 83025, 83029, 83030, 83036, 83037, 83040, 83045, 83054, 83057, 83060, 83061, 83062, 83063, 83067, 83068, 83081, 83082, 83084, 83086, 83088, 83089, 83092, 83094, 83099, 83100, 83102, 83107, 83108, 83111, 83119, 83122, 83123, 83124, 83127, 83128, 83131, 83133, 83135, 83138, 83140, 83144, 83146, 83147, 83151, 83154, 83157, 83163, 83164, 83165, 83167, 83173, 83175, 83176, 83177, 83180, 83181, 83182, 83183, 83184, 83185, 83187, 83189, 83190, 83191, 83193, 83195, 83197, 83199, 83202, 83206, 83209, 83211, 83213, 83214, 83226, 83227, 83228, 83232, 83233, 83234, 83238, 83241, 83242, 83249, 83250, 83260, 83268, 83270, 83271, 83272, 83282, 83283, 83284, 83288, 83290, 83291, 83294, 83301, 83305, 83307, 83310, 83335, 83374, 83379, 83396, 83422, 83465, 83482, 83494, 83534, 83579, 83584, 83652, 83701, 83745, 83752, 83851, 83859, 83940, 84032, 84074, 84173, 84211, 84233, 84234, 84235, 84237, 84238, 84239, 84241, 84242, 84244, 84245, 84246, 84247, 84248, 84251, 84252, 84253, 84254, 84255, 84257, 84258, 84259, 84261, 84262, 84263, 84265, 84266, 84268, 84269, 84270, 84271, 84274, 84275, 84276, 84279, 84283, 84285, 84286, 84287, 84289, 84290, 84291, 84293, 84294, 84295, 84298, 84299, 84300, 84303, 84305, 84306, 84307, 84308, 84309, 84310, 84311, 84312, 84313, 84314, 84316, 84318, 84319, 84320, 84322, 84323, 84324, 84325, 84326, 84327, 84328, 84330, 84331, 84332, 84333, 84334, 84338, 84340, 84341, 84343, 84344, 84346, 84349, 84350, 84351, 84352, 84355, 84358, 84359, 84362, 84363, 84364, 84365, 84366, 84367, 84371, 84372, 84374, 84375, 84376, 84377, 84379, 84380, 84381, 84382, 84383, 84384, 84387, 84389, 84390, 84392, 84394, 84395, 84397, 84398, 84399, 84401, 84404, 84405, 84406, 84407, 84410, 84412, 84413, 84414, 84415, 84416, 84417, 84419, 84421, 84422, 84423, 84425, 84426, 84427, 84429, 84430, 84434, 84435, 84436, 84438, 84439, 84442, 84444, 84445, 84447, 84448, 84450, 84451, 84452, 84454, 84456, 84457, 84462, 84463, 84464, 84465, 84466, 84469, 84470, 84471, 84472, 84473, 84474, 84477, 84478, 84479, 84480, 84481, 84482, 84483, 84484, 84485, 84487, 84488, 84489, 84490, 84491, 84492, 84494, 84495, 84498, 84500, 84501, 84504, 84506, 84507, 84510, 84511, 84513, 84515, 84517, 84522, 84523, 84525, 84528, 84530, 84531, 84532, 84534, 84535, 84536, 84539, 84540, 84542, 84550, 84552, 84553, 84555, 84558, 84559, 84560, 84561, 84562, 84563, 84564, 84565, 84566, 84567, 84568, 84569, 84572, 84573, 84574, 84576, 84577, 84578, 84582, 84584, 84586, 84587, 84588, 84589, 84590, 84592, 84594, 84595, 84596, 84598, 84601, 84602, 84603, 84605, 84607, 84608, 84609, 84610, 84611, 84612, 84613, 84614, 84615, 84617, 84620, 84621, 84624, 84625, 84626, 84629, 84630, 84632, 84633, 84639, 84641, 84642, 84643, 84645, 84646, 84650, 84651, 84652, 84654, 84659, 84660, 84661, 84663, 84665, 84666, 84667, 84668, 84669, 84672, 84674, 84675, 84677, 84678, 84679, 84680, 84681, 84682, 84683, 84685, 84687, 84688, 84689, 84690, 84692, 84693, 84694, 84695, 84698, 84699, 84702, 84707, 84708, 84709, 84710, 84713, 84714, 84716, 84717, 84719, 84721, 84723, 84724, 84725, 84726, 84729, 84730, 84731, 84732, 84733, 84736, 84738, 84740, 84741, 84743, 84745, 84746, 84747, 84748, 84749, 84757, 84761, 84762, 84763, 84770, 84771, 84772, 84775, 84777, 84779, 84780, 84781, 84782, 84783, 84784, 84785, 84786, 84787, 84788, 84790, 84791, 84792, 84793, 84794, 84795, 84798, 84800, 84801, 84803, 84806, 84807, 84808, 84809, 84811, 84812, 84814, 84817, 84821, 84824, 84826, 84827, 84828, 84829, 84831, 84832, 84833, 84834, 84835, 84841, 84843, 84845, 84847, 84848, 84850, 84851, 84855, 84856, 84857, 84859, 84860, 84862, 84865, 84866, 84869, 84870, 84872, 84873, 84874, 84877, 84878, 84883, 84884, 84886, 84891, 84892, 84893, 84894, 84895, 84896, 84898, 84900, 84901, 84902, 84903, 84905, 84906, 84908, 84911, 84913, 84914, 84916, 84917, 84918, 84922, 84923, 84924, 84925, 84927, 84928, 84929, 84930, 84931, 84932, 84933, 84934, 84935, 84936, 84937, 84938, 84939, 84940, 84941, 84942, 84943, 84944, 84945, 84946, 84947, 84949, 84952, 84953, 84956, 84957, 84959, 84960, 84961, 84962, 84963, 84964, 84966, 84969, 84970, 84974, 84975, 84976, 84977, 84979, 84980, 84982, 84985, 84986, 84987, 84988, 84989, 84991, 84994, 84995, 84996, 84997, 84998, 84999, 85000, 85001, 85004, 85005, 85007, 85008, 85009, 85010, 85011, 85013, 85014, 85015, 85016, 85018, 85019, 85021, 85023, 85024, 85025, 85027, 85029, 85030, 85031, 85032, 85033, 85035, 85036, 85037, 85040, 85041, 85042, 85043, 85044, 85045, 85046, 85048, 85049, 85050, 85053, 85057, 85058, 85062, 85063, 85064, 85067, 85070, 85071, 85072, 85074, 85075, 85077, 85078, 85080, 85081, 85082, 85083, 85084, 85088, 85089, 85090, 85091, 85092, 85093, 85095, 85097, 85098, 85100, 85101, 85102, 85104, 85105, 85106, 85109, 85110, 85111, 85112, 85113, 85115, 85116, 85118, 85120, 85122, 85124, 85126, 85127, 85128, 85129, 85130, 85132, 85133, 85134, 85135, 85136, 85137, 85138, 85140, 85142, 85143, 85144, 85145, 85146, 85147, 85148, 85149, 85150, 85151, 85152, 85153, 85154, 85155, 85157, 85158, 85159, 85160, 85162, 85165, 85204, 85252, 86172, 86177, 86189, 86193, 86203, 86219, 86235, 86237, 86240, 86251, 86268, 86289, 86311, 86335, 86342, 86419, 86434, 86441, 86467, 86481, 86498, 86513, 86516, 86522, 86566, 86584, 86594, 86596, 86598, 86607, 86620, 86642, 86651, 86653, 86657, 86663, 86684, 86697, 86719, 86722, 86727, 86740, 86748, 86751, 86769, 86773, 86791, 86793, 86824, 86842, 86857, 86864, 86879, 86901, 86925, 86971, 86977, 87011, 87013, 87028, 87078, 87090, 87091, 87110, 87145, 87212, 87254, 87289, 87329, 87360, 87377, 87388, 87407, 87430, 87501, 87516, 87560, 87637, 87696, 87883, 87933, 87999, 88106, 88196, 88219, 88286, 88319, 88365, 88378, 88385, 88510, 88710, 88854, 88890, 88969, 89045, 89056, 89064, 89067, 89099, 89112, 89121, 89123, 89157, 89161, 89162, 89175, 89192, 89197, 89205, 89214, 89284, 89305, 89307, 89347, 89375, 89416, 89449, 89481, 89482, 89528, 89534, 89543, 89597, 89609, 89654, 89656, 89681, 89700, 89769, 89770, 89777, 89781, 89801, 89803, 89827, 89863, 89912, 89932, 89936, 89937, 89961, 89966, 89995, 90005, 90006, 90007, 90009, 90011, 90013, 90014, 90015, 90018, 90020, 90022, 90023, 90026, 90028, 90029, 90030, 90031, 90034, 90035, 90037, 90040, 90045, 90049, 90050, 90051, 90054, 90056, 90059, 90065, 90067, 90068, 90069, 90070, 90072, 90077, 90080, 90082, 90085, 90086, 90087, 90088, 90091, 90092, 90093, 90094, 90096, 90097, 90099, 90102, 90104, 90105, 90106, 90107, 90109, 90111, 90112, 90113, 90114, 90115, 90117, 90118, 90119, 90123, 90124, 90126, 90127, 90128, 90131, 90133, 90136, 90138, 90139, 90140, 90141, 90144, 90145, 90146, 90147, 90148, 90150, 90152, 90153, 90154, 90155, 90156, 90159, 90161, 90163, 90164, 90166, 90168, 90170, 90172, 90176, 90178, 90179, 90180, 90183, 90184, 90186, 90189, 90190, 90192, 90193, 90195, 90197, 90198, 90200, 90206, 90211, 90212, 90214, 90215, 90216, 90218, 90221, 90226, 90227, 90230, 90233, 90236, 90237, 90240, 90241, 90242, 90243, 90244, 90245, 90250, 90253, 90255, 90261, 90263, 90264, 90265, 90266, 90271, 90273, 90274, 90277, 90278, 90280, 90283, 90284, 90287, 90288, 90290, 90294, 90300, 90301, 90302, 90304, 90305, 90306, 90308, 90309, 90310, 90315, 90318, 90321, 90322, 90323, 90328, 90332, 90333, 90334, 90337, 90338, 90339, 90340, 90341, 90342, 90345, 90350, 90351, 90356, 90358, 90361, 90362, 90365, 90366, 90369, 90370, 90372, 90373, 90375, 90376, 90377, 90378, 90379, 90384, 90387, 90388, 90389, 90391, 90393, 90395, 90397, 90399, 90402, 90403, 90404, 90410, 90411, 90412, 90414, 90415, 90416, 90418, 90419, 90420, 90425, 90428, 90436, 90437, 90440, 90441, 90442, 90447, 90449, 90450, 90451, 90452, 90453, 90456, 90458, 90459, 90460, 90462, 90466, 90471, 90476, 90479, 90481, 90482, 90484, 90486, 90488, 90492, 90493, 90494, 90495, 90496, 90498, 90499, 90500, 90503, 90505, 90506, 90509, 90510, 90511, 90512, 90515, 90517, 90518, 90521, 90525, 90526, 90527, 90528, 90529, 90530, 90532, 90533, 90537, 90540, 90543, 90544, 90545, 90553, 90560, 90561, 90562, 90563, 90565, 90566, 90567, 90570, 90571, 90573, 90579, 90581, 90583, 90585, 90586, 90587, 90590, 90594, 90596, 90599, 90600, 90601, 90605, 90607, 90608, 90609, 90613, 90617, 90619, 90620, 90622, 90626, 90628, 90629, 90634, 90636, 90637, 90638, 90641, 90643, 90645, 90648, 90650, 90651, 90653, 90656, 90660, 90661, 90663, 90665, 90666, 90667, 90669, 90671, 90678, 90679, 90683, 90685, 90686, 90688, 90689, 90691, 90693, 90694, 90695, 90696, 90701, 90702, 90703, 90707, 90708, 90709, 90711, 90715, 90717, 90718, 90720, 90721, 90726, 90727, 90728, 90729, 90730, 90731, 90732, 90734, 90735, 90737, 90738, 90739, 90740, 90747, 90748, 90750, 90751, 90754, 90756, 90757, 90760, 90761, 90762, 90763, 90764, 90767, 90770, 90772, 90776, 90777, 90778, 90779, 90781, 90782, 90783, 90784, 90786, 90787, 90788, 90792, 90793, 90794, 90795, 90797, 90800, 90804, 90807, 90809, 90811, 90812, 90813, 90814, 90815, 90816, 90820, 90823, 90824, 90825, 90827, 90830, 90831, 90833, 90834, 90835, 90838, 90839, 90840, 90841, 90842, 90843, 90844, 90845, 90846, 90850, 90851, 90852, 90853, 90854, 90857, 90859, 90861, 90862, 90865, 90866, 90869, 90871, 90873, 90875, 90882, 90883, 90885, 90890, 90892, 90896, 90897, 90899, 90901, 90904, 90905, 90907, 90908, 90909, 90912, 90913, 90914, 90920, 90921, 90923, 90927, 90930, 90931, 90936, 90944, 90945, 90947, 90950, 90951, 90953, 90954, 90955, 90957, 90958, 90959, 90960, 90961, 90962, 90964, 90967, 90972, 90973, 90974, 90975, 90976, 90977, 90979, 90981, 90982, 90983, 90985, 90988, 90989, 90990, 90991, 90993, 90996, 90997, 90999, 91000, 91001, 91002, 91005, 91006, 91007, 91008, 91009, 91011, 91013, 91016, 91019, 91020, 91021, 91023, 91027, 91028, 91029, 91032, 91034, 91036, 91037, 91039, 91041, 91042, 91043, 91044, 91045, 91046, 91048, 91052, 91057, 91059, 91076, 91082, 91086, 91126, 91142, 91150, 91174, 91190, 91191, 91202, 91234, 91235, 91267, 91277, 91282, 91286, 91299, 91322, 91339, 91364, 91367, 91368, 91386, 91389, 91433, 91490, 91520, 91536, 91559, 91568, 91569, 91573, 91577, 91592, 91617, 91634, 91661, 91674, 91696, 91719, 91722, 91751, 91781, 91794, 91796, 91805, 91809, 91847, 91848, 91885, 91886, 91900, 91915, 91916, 91918, 91934, 91947, 91993, 91994, 92010, 92020, 92023, 92042, 92048, 92059, 92114, 92122, 92146, 92178, 92183, 92213, 92309, 92428, 92625, 92645, 92686, 92703, 92740, 92779, 92843, 92889, 92897, 92939, 93074, 93095, 93138, 93149, 93191, 93197, 93200, 93202, 93220, 93240, 93244, 93268, 93269, 93310, 93343, 93347, 93352, 93375, 93410, 93424, 93450, 93452, 93455, 93467, 93497, 93505, 93512, 93544, 93623, 93651, 93689, 93692, 93711, 93727, 93769, 93770, 93791, 93795, 93807, 93836, 93849, 93893, 93903, 93910, 93928, 93932, 93957, 93962, 93970, 93982, 94052, 94063, 94067, 94076, 94097, 94109, 94113, 94125, 94134, 94169, 94172, 94181, 94207, 94213, 94247, 94250, 94254, 94260, 94285, 94295, 94303, 94305, 94322, 94343, 94410, 94428, 94434, 94507, 94600, 94615, 94700, 94735, 94773, 94813, 94825, 94836, 94839, 94880, 94893, 94925, 94927, 94936, 94943, 94995, 95072, 95702, 95804, 95850, 96294, 96430, 96674, 96691, 96709, 96716, 96731, 96737, 96749, 96755, 96761, 96806, 96810, 96837, 96847, 96908, 96924, 96929, 96947, 96959, 96984, 97029, 97031, 97063, 97069, 97070, 97081, 97107, 97110, 97111, 97170, 97174, 97188, 97189, 97222, 97230, 97236, 97239, 97254, 97280, 97310, 97323, 97332, 97395, 97401, 97419, 97424, 97449, 97498, 97510, 97544, 97558, 97561, 97599, 97601, 97797, 97816, 97879, 98023, 98114, 98205, 98489, 98667, 98668, 98670, 98671, 98672, 98674, 98675, 98676, 98677, 98680, 98681, 98682, 98684, 98685, 98686, 98688, 98692, 98693, 98694, 98695, 98696, 98697, 98698, 98699, 98700, 98701, 98702, 98703, 98704, 98705, 98706, 98707, 98708, 98709, 98710, 98711, 98712, 98713, 98714, 98715, 98716, 98717, 98720, 98721, 98724, 98725, 98728, 98729, 98730, 98731, 98732, 98735, 98736, 98738, 98740, 98741, 98742, 98743, 98744, 98745, 98746, 98748, 98753, 98754, 98755, 98757, 98760, 98761, 98762, 98764, 98765, 98766, 98767, 98769, 98770, 98771, 98772, 98774, 98775, 98777, 98779, 98780, 98781, 98782, 98785, 98786, 98790, 98793, 98794, 98795, 98796, 98797, 98799, 98800, 98801, 98802, 98803, 98804, 98807, 98808, 98809, 98810, 98811, 98812, 98813, 98814, 98815, 98816, 98817, 98818, 98819, 98820, 98822, 98823, 98824, 98826, 98827, 98828, 98829, 98830, 98831, 98833, 98834, 98835, 98837, 98839, 98843, 98844, 98845, 98846, 98847, 98848, 98849, 98851, 98855, 98856, 98857, 98858, 98859, 98860, 98862, 98863, 98865, 98868, 98869, 98870, 98871, 98872, 98874, 98877, 98878, 98879, 98881, 98884, 98885, 98886, 98888, 98889, 98890, 98892, 98893, 98894, 98895, 98897, 98898, 98902, 98903, 98904, 98906, 98907, 98908, 98911, 98912, 98913, 98914, 98915, 98916, 98917, 98919, 98920, 98921, 98922, 98923, 98924, 98925, 98926, 98928, 98930, 98931, 98932, 98933, 98934, 98935, 98937, 98938, 98939, 98940, 98941, 98942, 98943, 98944, 98946, 98947, 98950, 98954, 98955, 98956, 98957, 98958, 98960, 98961, 98962, 98964, 98965, 98966, 98968, 98969, 98970, 98971, 98972, 98973, 98976, 98979, 98980, 98981, 98985, 98986, 98990, 98992, 98995, 98996, 98997, 98999, 99000, 99001, 99002, 99003, 99004, 99006, 99007, 99008, 99009, 99010, 99014, 99015, 99016, 99017, 99018, 99020, 99023, 99024, 99025, 99026, 99027, 99028, 99029, 99031, 99034, 99035, 99039, 99042, 99043, 99045, 99046, 99047, 99048, 99049, 99051, 99053, 99054, 99055, 99056, 99058, 99060, 99062, 99064, 99069, 99070, 99072, 99073, 99074, 99075, 99076, 99077, 99078, 99079, 99080, 99081, 99082, 99083, 99084, 99086, 99087, 99089, 99091, 99093, 99094, 99095, 99096, 99098, 99099, 99100, 99101, 99102, 99105, 99106, 99107, 99109, 99110, 99113, 99115, 99116, 99117, 99122, 99124, 99125, 99126, 99128, 99130, 99132, 99133, 99134, 99137, 99138, 99139, 99140, 99141, 99143, 99144, 99146, 99147, 99148, 99149, 99150, 99154, 99156, 99157, 99158, 99159, 99160, 99161, 99162, 99166, 99168, 99169, 99170, 99171, 99172, 99173, 99174, 99176, 99180, 99181, 99182, 99183, 99184, 99187, 99188, 99189, 99190, 99192, 99193, 99196, 99199, 99200, 99202, 99206, 99207, 99208, 99211, 99213, 99214, 99215, 99216, 99217, 99218, 99220, 99222, 99223, 99225, 99227, 99229, 99230, 99231, 99234, 99235, 99236, 99240, 99242, 99243, 99244, 99246, 99247, 99249, 99250, 99251, 99254, 99255, 99256, 99258, 99259, 99268, 99270, 99271, 99275, 99277, 99278, 99279, 99280, 99281, 99282, 99284, 99286, 99287, 99288, 99289, 99290, 99291, 99292, 99293, 99294, 99295, 99299, 99301, 99303, 99306, 99308, 99309, 99310, 99313, 99314, 99315, 99316, 99318, 99321, 99322, 99323, 99324, 99325, 99327, 99330, 99332, 99333, 99334, 99336, 99338, 99339, 99340, 99341, 99343, 99345, 99346, 99347, 99348, 99349, 99350, 99354, 99355, 99356, 99357, 99358, 99359, 99360, 99365, 99368, 99369, 99370, 99371, 99372, 99373, 99375, 99376, 99377, 99378, 99379, 99381, 99385, 99387, 99388, 99390, 99391, 99393, 99394, 99395, 99396, 99398, 99400, 99401, 99402, 99403, 99404, 99406, 99407, 99408, 99409, 99410, 99412, 99413, 99415, 99416, 99417, 99418, 99419, 99422, 99424, 99426, 99427, 99429, 99430, 99433, 99435, 99436, 99437, 99440, 99442, 99443, 99445, 99446, 99447, 99448, 99449, 99450, 99452, 99455, 99456, 99458, 99459, 99460, 99461, 99464, 99465, 99466, 99467, 99468, 99469, 99471, 99472, 99473, 99476, 99478, 99479, 99480, 99481, 99482, 99484, 99485, 99486, 99489, 99490, 99492, 99495, 99497, 99498, 99500, 99501, 99502, 99504, 99505, 99506, 99509, 99511, 99514, 99515, 99516, 99517, 99518, 99521, 99522, 99523, 99524, 99526, 99527, 99529, 99530, 99532, 99534, 99535, 99536, 99537, 99539, 99540, 99543, 99546, 99548, 99549, 99550, 99551, 99552, 99553, 99556, 99558, 99559, 99561, 99562, 99563, 99564, 99565, 99566, 99567, 99571, 99572, 99573, 99574, 99575, 99577, 99578, 99579, 99580, 99584, 99586, 99588, 99589, 99590, 99593, 99596, 99598, 99599, 99600, 99601, 99602, 99603, 99604, 99605, 99606, 99607, 99608, 99610, 99611, 99612, 99614, 99617, 99618, 99620, 99621, 99624, 99625, 99627, 99628, 99629, 99630, 99631, 99632, 99633, 99634, 99635, 99636, 99637, 99639, 99640, 99641, 99644, 99645, 99648, 99649, 99653, 99654, 99658, 99659, 99660, 99661, 99663, 99664, 99672, 99673, 99675, 99677, 99680, 99681, 99682, 99683, 99685, 99686, 99692, 99694, 99695, 99699, 99700, 99701, 99704, 99706, 99708, 99711, 99715, 99717, 99725, 99731, 99738, 99739, 99742, 99743, 99746, 99747, 99748, 99749, 99751, 99753, 99756, 99757, 99760, 99763, 99764, 99765, 99767, 99768, 99769, 99770, 99774, 99775, 99776, 99780, 99782, 99784, 99785, 99788, 99791, 99792, 99795, 99800, 99801, 99804, 99806, 99807, 99809, 99815, 99820, 99821, 99822, 99826, 99829, 99831, 99833, 99835, 99837, 99838, 99840, 99841, 99847, 99850, 99852, 99855, 99856, 99861, 99869, 99870, 99877, 99881, 99889, 99890, 99891, 99892, 99893, 99895, 99897, 99902, 99907, 99908, 99909, 99910, 99911, 99914, 99916, 99918, 99921, 99924, 99928, 99932, 99934, 99935, 99939, 99942, 99946, 99948, 99949, 99950, 99951, 99952, 99953, 99954, 99956, 99957, 99958, 99962, 99966, 99970, 99972, 99974, 99983, 99987, 99989, 99996, 99997, 99999, 100003, 100008, 100011, 100014, 100019, 100022, 100023, 100024, 100027, 100029, 100030, 100034, 100035, 100037, 100038, 100039, 100040, 100044, 100045, 100048, 100049, 100050, 100052, 100059, 100063, 100065, 100066, 100068, 100069, 100070, 100080, 100081, 100082, 100083, 100084, 100092, 100097, 100104, 100105, 100110, 100113, 100117, 100119, 100120, 100123, 100125, 100127, 100128, 100135, 100140, 100148, 100151, 100152, 100158, 100163, 100166, 100170, 100171, 100186, 100192, 100194, 100195, 100196, 100197, 100202, 100209, 100212, 100213, 100214, 100216, 100219, 100224, 100226, 100231, 100236, 100237, 100239, 100244, 100249, 100251, 100253, 100256, 100257, 100262, 100263, 100265, 100266, 100267, 100268, 100269, 100275, 100281, 100284, 100288, 100291, 100294, 100300, 100301, 100302, 100303, 100304, 100307, 100311, 100312, 100315, 100316, 100318, 100322, 100324, 100325, 100331, 100334, 100337, 100342, 100343, 100345, 100348, 100351, 100353, 100355, 100356, 100357, 100359, 100362, 100363, 100365, 100366, 100368, 100374, 100375, 100377, 100379, 100381, 100382, 100383, 100384, 100389, 100395, 100397, 100398, 100400, 100404, 100405, 100408, 100409, 100420, 100423, 100426, 100431, 100433, 100435, 100436, 100438, 100439, 100440, 100442, 100445, 100450, 100451, 100453, 100454, 100459, 100460, 100465, 100475, 100476, 100479, 100481, 100484, 100487, 100488, 100489, 100492, 100495, 100497, 100498, 100502, 100503, 100508, 100510, 100521, 100525, 100536, 100539, 100541, 100545, 100546, 100548, 100552, 100555, 100557, 100560, 100563, 100566, 100571, 100572, 100576, 100585, 100587, 100589, 100590, 100592, 100595, 100596, 100612, 100613, 100614, 100615, 100616, 100617, 100620, 100621, 100624, 100637, 100638, 100641, 100643, 100646, 100658, 100666, 100669, 100671, 100675, 100676, 100678, 100682, 100686, 100687, 100689, 100692, 100694, 100697, 100700, 100703, 100704, 100706, 100710, 100718, 100719, 100721, 100722, 100723, 100725, 100728, 100730, 100734, 100737, 100738, 100739, 100741, 100742, 100743, 100746, 100748, 100751, 100752, 100755, 100756, 100761, 100764, 100765, 100766, 100796, 100797, 100800, 100803, 100809, 100811, 100812, 100813, 100814, 100815, 100817, 100819, 100820, 100823, 100824, 100825, 100828, 100829, 100830, 100832, 100835, 100841, 100845, 100846, 100847, 100850, 100851, 100853, 100855, 100857, 100861, 100862, 100863, 100864, 100866, 100867, 100868, 100870, 100871, 100873, 100875, 100876, 100882, 100883, 100884, 100885, 100886, 100887, 100888, 100890, 100891, 100894, 100899, 100901, 100902, 100903, 100904, 100906, 100907, 100911, 100912, 100914, 100916, 100917, 100918, 100919, 100920, 100921, 100922, 100923, 100925, 100927, 100928, 100930, 100931, 100932, 100933, 100935, 100936, 100937, 100938, 100941, 100942, 100945, 100946, 100947, 100949, 100950, 100951, 100952, 100957, 100958, 100959, 100960, 100961, 100962, 100964, 100965, 100968, 100969, 100970, 100971, 100972, 100973, 100974, 100975, 100977, 100979, 100980, 100981, 100982, 100983, 100984, 100986, 100987, 100989, 100992, 100993, 100995, 100996, 100997, 100998, 100999, 101001, 101003, 101006, 101008, 101009, 101011, 101012, 101015, 101016, 101021, 101024, 101026, 101027, 101028, 101031, 101034, 101035, 101036, 101037, 101038, 101039, 101040, 101041, 101042, 101043, 101046, 101049, 101050, 101051, 101052, 101053, 101054, 101056, 101058, 101061, 101062, 101063, 101065, 101066, 101067, 101068, 101069, 101073, 101075, 101077, 101079, 101080, 101081, 101083, 101085, 101086, 101091, 101092, 101095, 101097, 101099, 101100, 101105, 101107, 101108, 101111, 101113, 101114, 101116, 101122, 101123, 101124, 101126, 101127, 101128, 101131, 101133, 101134, 101135, 101140, 101143, 101145, 101147, 101149, 101150, 101152, 101153, 101154, 101157, 101158, 101159, 101160, 101161, 101163, 101165, 101166, 101168, 101170, 101172, 101173, 101174, 101175, 101176, 101177, 101179, 101180, 101182, 101183, 101184, 101187, 101188, 101189, 101190, 101191, 101192, 101193, 101194, 101195, 101196, 101202, 101206, 101207, 101208, 101212, 101214, 101216, 101219, 101223, 101225, 101227, 101229, 101230, 101231, 101232, 101235, 101240, 101242, 101245, 101247, 101250, 101256, 101257, 101258, 101259, 101260, 101261, 101266, 101267, 101268, 101269, 101271, 101273, 101285, 101287, 101292, 101298, 101299, 101300, 101302, 101303, 101304, 101305, 101306, 101307, 101310, 101313, 101317, 101320, 101321, 101322, 101326, 101330, 101331, 101332, 101333, 101334, 101336, 101341, 101342, 101343, 101344, 101349, 101351, 101353, 101355, 101358, 101360, 101361, 101364, 101365, 101367, 101368, 101369, 101370, 101371, 101372, 101373, 101374, 101376, 101378, 101382, 101383, 101384, 101385, 101388, 101389, 101390, 101393, 101394, 101397, 101399, 101401, 101402, 101406, 101410, 101411, 101413, 101414, 101416, 101418, 101419, 101422, 101425, 101426, 101428, 101431, 101432, 101433, 101434, 101436, 101437, 101438, 101439, 101443, 101445, 101447, 101449, 101453, 101454, 101455, 101463, 101464, 101465, 101470, 101472, 101473, 101476, 101477, 101478, 101479, 101481, 101483, 101488, 101490, 101494, 101495, 101501, 101504, 101510, 101511, 101512, 101513, 101514, 101517, 101518, 101522, 101523, 101524, 101526, 101527, 101528, 101529, 101530, 101533, 101536, 101538, 101541, 101544, 101547, 101548, 101549, 101551, 101556, 101557, 101558, 101560, 101561, 101562, 101563, 101566, 101567, 101568, 101569, 101570, 101573, 101574, 101575, 101577, 101580, 101584, 101586, 101588, 101591, 101592, 101597, 101598, 101599, 101601, 101602, 101603, 101605, 101608, 101609, 101610, 101611, 101612, 101614, 101615, 101616, 101618, 101620, 101623, 101626, 101628, 101629, 101630, 101631, 101635, 101636, 101639, 101640, 101642, 101644, 101645, 101646, 101649, 101650, 101651, 101652, 101653, 101660, 101662, 101663, 101665, 101668, 101670, 101671, 101672, 101673, 101676, 101677, 101678, 101679, 101680, 101683, 101686, 101687, 101688, 101690, 101691, 101695, 101696, 101697, 101703, 101704, 101705, 101706, 101707, 101711, 101712, 101716, 101717, 101718, 101719, 101720, 101722, 101725, 101727, 101728, 101732, 101733, 101734, 101735, 101739, 101740, 101743, 101747, 101748, 101749, 101750, 101754, 101755, 101758, 101761, 101762, 101763, 101765, 101768, 101770, 101774, 101775, 101778, 101780, 101785, 101786, 101788, 101789, 101791, 101792, 101793, 101796, 101797, 101798, 101799, 101801, 101803, 101805, 101806, 101808, 101810, 101811, 101812, 101814, 101819, 101822, 101852, 101860, 101883, 101890, 101926, 101935, 101938, 101955, 101975, 101984, 101999, 102021, 102025, 102091, 102092, 102180, 102194, 102234, 102296, 102313, 102377, 102487, 102522, 102541, 102551, 102566, 102594, 102636, 102637, 102650, 102659, 102666, 102676, 102709, 102720, 102724, 102726, 102737, 102769, 102782, 102787, 102814, 102824, 102887, 102914, 102916, 102918, 102935, 102979, 102982, 103032, 103061, 103068, 103083, 103096, 103102, 103112, 103113, 103116, 103143, 103155, 103219, 103235, 103246, 103252, 103253, 103281, 103299, 103312, 103414, 103436, 103456, 103487, 103526, 103529, 103543, 103556, 103558, 103591, 103646, 103720, 103769, 103812, 103828, 103838, 103879, 103905, 103923, 103928, 103999, 104030, 104102, 104104, 104117, 104227, 104261, 104389, 104442, 104677, 104682, 104695, 104800, 104827, 104923, 105106, 105111, 105178, 105215, 105278, 105290, 105473, 105515, 105520, 105600, 105630, 105671, 105717, 105734, 105789, 105879, 105888, 105955, 105993, 106008, 106031, 106043, 106078, 106144, 106172, 106218, 106220, 106225, 106367, 106422, 106458, 106487, 106573, 107056, 107256, 107310, 107352, 107392, 107423, 107434, 107463, 107515, 107596, 107646, 107697, 107710, 107724, 107825, 107837, 107866, 108045, 108198, 108270, 108317, 108319, 108321, 108345, 108398, 108422, 108467, 108618, 108710, 108716, 108720, 108785, 108803, 108832, 108837, 108985, 109010, 109067, 109082, 109170, 109183, 109206, 109226, 109245, 109295, 109296, 109298, 109299, 109303, 109304, 109306, 109308, 109309, 109311, 109313, 109316, 109319, 109323, 109324, 109328, 109329, 109332, 109334, 109335, 109336, 109337, 109338, 109339, 109340, 109351, 109353, 109356, 109359, 109361, 109371, 109373, 109375, 109376, 109377, 109379, 109380, 109381, 109383, 109384, 109386, 109388, 109390, 109393, 109394, 109396, 109397, 109398, 109400, 109403, 109405, 109408, 109409, 109413, 109416, 109419, 109422, 109423, 109425, 109426, 109427, 109428, 109431, 109432, 109434, 109437, 109438, 109442, 109448, 109454, 109455, 109458, 109459, 109460, 109462, 109464, 109465, 109468, 109469, 109470, 109471, 109473, 109474, 109475, 109476, 109477, 109478, 109481, 109482, 109483, 109484, 109490, 109491, 109494, 109496, 109499, 109501, 109503, 109507, 109510, 109513, 109514, 109516, 109517, 109518, 109521, 109522, 109524, 109528, 109529, 109531, 109533, 109537, 109539, 109540, 109548, 109551, 109552, 109555, 109556, 109558, 109559, 109564, 109566, 109567, 109568, 109569, 109570, 109574, 109575, 109577, 109579, 109581, 109582, 109584, 109585, 109589, 109600, 109605, 109609, 109611, 109612, 109615, 109619, 109620, 109622, 109626, 109627, 109634, 109635, 109638, 109640, 109641, 109644, 109645, 109647, 109664, 109666, 109667, 109668, 109669, 109671, 109672, 109678, 109679, 109681, 109682, 109683, 109684, 109685, 109689, 109691, 109692, 109697, 109698, 109699, 109702, 109706, 109707, 109708, 109710, 109715, 109717, 109720, 109721, 109723, 109724, 109725, 109726, 109730, 109732, 109736, 109740, 109741, 109742, 109744, 109745, 109747, 109748, 109749, 109751, 109753, 109754, 109755, 109759, 109761, 109762, 109763, 109768, 109769, 109771, 109775, 109781, 109782, 109787, 109791, 109799, 109800, 109802, 109806, 109809, 109810, 109813, 109815, 109820, 109826, 109829, 109830, 109831, 109833, 109834, 109835, 109838, 109842, 109845, 109847, 109852, 109853, 109866, 109868, 109873, 109876, 109879, 109881, 109882, 109883, 109886, 109888, 109892, 109899, 109900, 109901, 109902, 109913, 109914, 109915, 109918, 109919, 109921, 109923, 109924, 109926, 109927, 109931, 109932, 109933, 109936, 109939, 109943, 109948, 109949, 109952, 109955, 109957, 109961, 109966, 109968, 109971, 109974, 109975, 109976, 109980, 109983, 109991, 109996, 109997, 109999, 110000, 110002, 110005, 110011, 110012, 110015, 110016, 110017, 110019, 110026, 110027, 110035, 110036, 110039, 110040, 110041, 110046, 110050, 110051, 110055, 110059, 110062, 110063, 110064, 110066, 110069, 110071, 110072, 110074, 110076, 110077, 110081, 110082, 110086, 110087, 110089, 110090, 110091, 110095, 110096, 110100, 110104, 110105, 110106, 110109, 110111, 110114, 110115, 110116, 110119, 110120, 110122, 110124, 110132, 110133, 110135, 110139, 110140, 110145, 110147, 110148, 110149, 110150, 110151, 110152, 110153, 110156, 110159, 110162, 110163, 110166, 110169, 110171, 110178, 110180, 110181, 110184, 110191, 110194, 110195, 110198, 110200, 110205, 110209, 110217, 110218, 110220, 110222, 110224, 110226, 110227, 110232, 110234, 110237, 110238, 110239, 110241, 110242, 110244, 110246, 110249, 110250, 110253, 110254, 110256, 110257, 110258, 110259, 110260, 110261, 110273, 110274, 110275, 110279, 110280, 110282, 110285, 110286, 110287, 110290, 110295, 110298, 110299, 110300, 110303, 110304, 110310, 110311, 110312, 110315, 110317, 110318, 110320, 110321, 110323, 110324, 110326, 110328, 110330, 110331, 110333, 110344, 110362, 110376, 110379, 110458, 110491, 110502, 110574, 110603, 110610, 110689, 110703, 110775, 110786, 110788, 110867, 110875, 110893, 110920, 111048, 111049, 111055, 111059, 111066, 111113, 111139, 111156, 111183, 111235, 111243, 111263, 111273, 111275, 111278, 111291, 111337, 111357, 111358, 111377, 111380, 111431, 111453, 111494, 111499, 111502, 111508, 111521, 111540, 111549, 111553, 111554, 111559, 111560, 111574, 111587, 111618, 111632, 111640, 111660, 111663, 111682, 111734, 111736, 111747, 111758, 111767, 111780, 111786, 111801, 111813, 111839, 111852, 111855, 111859, 111885, 111886, 111888, 111898, 111938, 111952, 111960, 111978, 111987, 112028, 112033, 112040, 112042, 112046, 112047, 112157, 112242, 112552, 112639, 112674, 112768, 112863, 113002, 113024, 113111, 113113, 113115, 113116, 113117, 113118, 113119, 113120, 113121, 113122, 113123, 113124, 113125, 113126, 113127, 113128, 113131, 113132, 113135, 113136, 113137, 113139, 113140, 113141, 113142, 113144, 113148, 113149, 113151, 113152, 113153, 113154, 113156, 113157, 113159, 113164, 113166, 113167, 113168, 113169, 113170, 113171, 113172, 113173, 113174, 113175, 113177, 113179, 113180, 113181, 113182, 113183, 113184, 113185, 113186, 113188, 113189, 113190, 113191, 113193, 113196, 113197, 113198, 113199, 113202, 113204, 113206, 113207, 113208, 113209, 113210, 113211, 113212, 113214, 113215, 113216, 113217, 113219, 113220, 113223, 113224, 113225, 113226, 113228, 113230, 113232, 113233, 113234, 113236, 113237, 113238, 113239, 113240, 113241, 113242, 113244, 113247, 113248, 113249, 113250, 113251, 113252, 113256, 113257, 113258, 113259, 113261, 113262, 113264, 113265, 113267, 113268, 113269, 113270, 113271, 113273, 113274, 113275, 113276, 113277, 113278, 113279, 113281, 113282, 113283, 113284, 113285, 113286, 113287, 113288, 113289, 113290, 113291, 113293, 113295, 113296, 113297, 113298, 113300, 113301, 113302, 113303, 113304, 113306, 113307, 113308, 113309, 113311, 113312, 113314, 113315, 113316, 113317, 113318, 113320, 113321, 113323, 113324, 113325, 113326, 113328, 113330, 113331, 113332, 113333, 113334, 113335, 113336, 113337, 113338, 113340, 113341, 113342, 113343, 113346, 113347, 113348, 113349, 113350, 113351, 113352, 113354, 113356, 113357, 113358, 113359, 113360, 113361, 113363, 113364, 113365, 113368, 113370, 113371, 113372, 113373, 113374, 113376, 113377, 113378, 113379, 113381, 113382, 113383, 113384, 113386, 113387, 113388, 113389, 113390, 113391, 113392, 113394, 113395, 113398, 113399, 113400, 113401, 113402, 113403, 113406, 113408, 113409, 113411, 113412, 113413, 113415, 113417, 113418, 113420, 113422, 113423, 113427, 113430, 113431, 113432, 113433, 113434, 113437, 113438, 113439, 113440, 113442, 113443, 113444, 113445, 113446, 113449, 113450, 113451, 113452, 113454, 113455, 113456, 113457, 113458, 113460, 113461, 113463, 113466, 113467, 113468, 113469, 113470, 113471, 113475, 113476, 113477, 113479, 113481, 113482, 113484, 113487, 113488, 113491, 113494, 113495, 113496, 113497, 113498, 113499, 113503, 113504, 113505, 113506, 113507, 113508, 113510, 113513, 113515, 113516, 113517, 113518, 113519, 113520, 113521, 113522, 113523, 113525, 113526, 113528, 113529, 113530, 113531, 113532, 113534, 113535, 113537, 113539, 113540, 113542, 113543, 113545, 113546, 113547, 113548, 113550, 113551, 113552, 113553, 113554, 113555, 113556, 113558, 113559, 113560, 113561, 113563, 113564, 113566, 113568, 113569, 113570, 113571, 113572, 113573, 113574, 113575, 113578, 113580, 113583, 113584, 113585, 113586, 113587, 113588, 113590, 113591, 113593, 113594, 113597, 113598, 113602, 113603, 113604, 113605, 113606, 113607, 113609, 113610, 113611, 113613, 113615, 113616, 113617, 113619, 113620, 113621, 113622, 113623, 113625, 113626, 113627, 113628, 113629, 113630, 113631, 113633, 113634, 113635, 113636, 113637, 113638, 113639, 113640, 113641, 113642, 113644, 113645, 113646, 113647, 113649, 113652, 113656, 113657, 113658, 113659, 113660, 113661, 113662, 113663, 113664, 113665, 113666, 113667, 113668, 113671, 113672, 113673, 113674, 113676, 113678, 113679, 113682, 113683, 113686, 113687, 113688, 113690, 113692, 113693, 113694, 113695, 113696, 113699, 113700, 113701, 113702, 113703, 113704, 113705, 113707, 113708, 113709, 113710, 113711, 113712, 113713, 113714, 113715, 113716, 113717, 113719, 113720, 113721, 113723, 113725, 113726, 113727, 113728, 113729, 113730, 113731, 113732, 113733, 113734, 113735, 113736, 113737, 113740, 113786, 113830, 114147, 114229, 114279, 114707, 114716, 114758, 114795, 114799, 114818, 114831, 114869, 114916, 114920, 114992, 115088, 115098, 115111, 115112, 115216, 115239, 115254, 115386, 115429, 115537, 115632, 115650, 115658, 115671, 115791, 116045, 116052, 116116, 116189, 116279, 116378, 116379, 116384, 116388, 116392, 116393, 116399, 116405, 116415, 116420, 116423, 116424, 116439, 116442, 116444, 116446, 116447, 116454, 116456, 116457, 116459, 116460, 116462, 116465, 116472, 116474, 116480, 116482, 116483, 116485, 116487, 116492, 116498, 116504, 116505, 116506, 116509, 116512, 116519, 116520, 116523, 116525, 116526, 116546, 116552, 116558, 116563, 116564, 116569, 116572, 116574, 116584, 116592, 116596, 116601, 116603, 116606, 116611, 116617, 116624, 116627, 116632, 116633, 116634, 116635, 116636, 116637, 116638, 116643, 116654, 116661, 116665, 116683, 116702, 116714, 116722, 116723, 116728, 116729, 116734, 116740, 116746, 116759, 116764, 116777, 116780, 116784, 116789, 116795, 116798, 116804, 116813, 116820, 116823, 116829, 116834, 116836, 116838, 116846, 116860, 116866, 116867, 116869, 116875, 116890, 116892, 116898, 116901, 116903, 116906, 116912, 116933, 116938, 116941, 116953, 116954, 116974, 116981, 116986, 116990, 116994, 117002, 117003, 117009, 117012, 117017, 117018, 117032, 117035, 117036, 117042, 117047, 117052, 117053, 117062, 117065, 117066, 117075, 117077, 117080, 117091, 117106, 117107, 117111, 117113, 117121, 117124, 117125, 117127, 117129, 117130, 117138, 117139, 117151, 117155, 117156, 117160, 117167, 117168, 117173, 117176, 117182, 117187, 117190, 117191, 117195, 117204, 117207, 117209, 117210, 117236, 117239, 117241, 117252, 117254, 117256, 117258, 117259, 117263, 117266, 117272, 117274, 117284, 117286, 117287, 117295, 117296, 117298, 117301, 117304, 117306, 117316, 117317, 117326, 117330, 117332, 117333, 117352, 117353, 117357, 117362, 117367, 117370, 117371, 117372, 117382, 117387, 117390, 117391, 117395, 117400, 117401, 117407, 117409, 117410, 117413, 117417, 117430, 117433, 117438, 117451, 117462, 117464, 117469, 117470, 117473, 117475, 117477, 117479, 117483, 117493, 117500, 117501, 117505, 117715, 117875, 117918, 118067, 118194, 118411, 118532, 118684, 118722, 118773, 118834, 118957, 119067, 119143, 119306, 119408, 119446, 119532, 119554, 119567, 119702, 119745, 119824, 119827, 119960, 119970, 119989, 120023, 120050, 120106, 120163, 120216, 120219, 120358, 120402, 120526, 120612, 121232, 121274, 121368, 121819, 121915, 121938, 122184, 122185, 122187, 122188, 122189, 122191, 122193, 122194, 122195, 122196, 122198, 122202, 122203, 122204, 122205, 122208, 122210, 122211, 122212, 122213, 122214, 122215, 122217, 122218, 122219, 122220, 122224, 122225, 122232, 122233, 122234, 122238, 122239, 122244, 122245, 122249, 122250, 122251, 122252, 122253, 122257, 122258, 122260, 122262, 122263, 122264, 122265, 122266, 122267, 122268, 122275, 122277, 122279, 122280, 122282, 122287, 122288, 122289, 122292, 122293, 122294, 122297, 122299, 122300, 122302, 122307, 122308, 122309, 122311, 122312, 122314, 122315, 122316, 122317, 122318, 122320, 122321, 122323, 122324, 122326, 122328, 122331, 122334, 122335, 122340, 122343, 122344, 122346, 122347, 122348, 122352, 122353, 122354, 122355, 122356, 122360, 122361, 122365, 122370, 122372, 122373, 122374, 122379, 122380, 122383, 122384, 122385, 122386, 122387, 122388, 122390, 122391, 122393, 122394, 122395, 122396, 122397, 122400, 122401, 122403, 122405, 122406, 122407, 122409, 122411, 122412, 122414, 122416, 122418, 122419, 122420, 122421, 122422, 122423, 122424, 122425, 122426, 122431, 122432, 122433, 122435, 122436, 122437, 122438, 122439, 122440, 122441, 122442, 122443, 122444, 122448, 122450, 122452, 122457, 122460, 122461, 122462, 122464, 122466, 122467, 122468, 122472, 122473, 122474, 122475, 122476, 122477, 122478, 122479, 122481, 122484, 122485, 122487, 122491, 122492, 122494, 122495, 122496, 122499, 122501, 122503, 122507, 122508, 122510, 122511, 122513, 122514, 122515, 122516, 122517, 122519, 122522, 122526, 122527, 122533, 122534, 122536, 122537, 122538, 122540, 122541, 122543, 122545, 122551, 122557, 122562, 122568, 122569, 122570, 122571, 122572, 122573, 122574, 122576, 122577, 122578, 122579, 122582, 122583, 122586, 122590, 122591, 122593, 122595, 122597, 122599, 122600, 122601, 122602, 122606, 122607, 122609, 122611, 122614, 122615, 122618, 122619, 122621, 122622, 122623, 122624, 122626, 122628, 122630, 122632, 122634, 122637, 122638, 122639, 122641, 122644, 122648, 122650, 122651, 122653, 122655, 122657, 122659, 122665, 122666, 122670, 122672, 122673, 122675, 122676, 122682, 122683, 122684, 122686, 122687, 122690, 122692, 122693, 122694, 122695, 122697, 122698, 122703, 122705, 122707, 122710, 122712, 122713, 122714, 122715, 122716, 122717, 122718, 122719, 122720, 122723, 122724, 122725, 122726, 122733, 122734, 122736, 122737, 122739, 122741, 122742, 122744, 122745, 122747, 122748, 122749, 122751, 122752, 122753, 122755, 122756, 122757, 122758, 122761, 122767, 122768, 122772, 122773, 122774, 122776, 122778, 122781, 122783, 122785, 122786, 122787, 122788, 122790, 122792, 122793, 122797, 122798, 122799, 122802, 122803, 122805, 122809, 122811, 122813, 122818, 122819, 122820, 122821, 122826, 122827, 122830, 122832, 122834, 122837, 122838, 122839, 122840, 122841, 122843, 122844, 122845, 122846, 122847, 122849, 122853, 122854, 122860, 122863, 122864, 122869, 122870, 122872, 122873, 122874, 122876, 122877, 122878, 122881, 122882, 122883, 122884, 122885, 122886, 122887, 122888, 122890, 122891, 122892, 122894, 122895, 122896, 122897, 122898, 122899, 122901, 122903, 122904, 122907, 122908, 122909, 122910, 122911, 122914, 122921, 122922, 122923, 122925, 122926, 122929, 122931, 122932, 122933, 122934, 122936, 122937, 122938, 122940, 122942, 122943, 122944, 122945, 122946, 122948, 122950, 122952, 122957, 122959, 122961, 122962, 122963, 122964, 122966, 122967, 122969, 122970, 122974, 122975, 122976, 122978, 122981, 122982, 122983, 122984, 122985, 122989, 122990, 122991, 122993, 122995, 122996, 123003, 123238, 123502, 123556, 123784, 123955, 124057, 124102, 124109, 124123, 124139, 124149, 124174, 124190, 124219, 124256, 124304, 124310, 124327, 124386, 124453, 124518, 124644, 124678, 124725, 124734, 124772, 124819, 124874, 125032, 125122, 125223, 125331, 125464, 125499, 125553, 125597, 125630, 125714, 125763, 125768, 125812, 125822, 125838, 125982, 126016, 126052, 126055, 126056, 126073, 126101, 126152, 126276, 126484, 126507, 126555, 126573, 126614, 126656, 126716, 126721, 126728, 126779, 126818, 126855, 126951, 126977, 126989, 127114, 127153, 127244, 127626, 127719, 128020, 128028, 128029, 128047, 128050, 128082, 128097, 128159, 128179, 128245, 128268, 128288, 128290, 128294, 128297, 128333, 128342, 128348, 128366, 128370, 128373, 128395, 128417, 128467, 128468, 128514, 128517, 128536, 128641, 128657, 128665, 128667, 128692, 128698, 128712, 128731, 128762, 128786, 128791, 128823, 128836, 128872, 128899, 128923, 128926, 128934, 128942, 128951, 128957, 128988, 129014, 129140, 129168, 129191, 129350, 129358, 129467, 129682, 129734, 129862, 129958, 130002, 130030, 130230, 130251, 130415, 130525, 130765, 130769, 130777, 130787, 130793, 130806, 130809, 130832, 130874, 130878, 130886, 130906, 130910, 130915, 130923, 130936, 130948, 130956, 130969, 131009, 131011, 131017, 131054, 131058, 131062, 131066, 131100, 131146, 131169, 131177, 131185, 131187, 131214, 131223, 131238, 131253, 131256, 131287, 131297, 131302, 131311, 131328, 131329, 131348, 131369, 131375, 131377, 131380, 131405, 131412, 131420, 131442, 131455, 131465, 131466, 131471, 131485, 131514, 131520, 131523, 131528, 131541, 131604, 131612, 131624, 131638, 131644, 131653, 131663, 131676, 131778, 131879, 131966, 132080, 132087, 132235, 132299, 132334, 132368, 132387, 132393, 132441, 132445, 132455, 132558, 132700, 132819, 132820, 132822, 132823, 132824, 132825, 132826, 132827, 132829, 132831, 132832, 132833, 132834, 132835, 132836, 132840, 132841, 132842, 132843, 132844, 132846, 132847, 132851, 132852, 132855, 132856, 132857, 132858, 132859, 132861, 132863, 132864, 132869, 132870, 132871, 132872, 132875, 132876, 132877, 132880, 132881, 132885, 132886, 132888, 132890, 132891, 132894, 132896, 132900, 132901, 132902, 132903, 132904, 132907, 132909, 132910, 132911, 132912, 132917, 132919, 132920, 132923, 132924, 132925, 132927, 132928, 132929, 132930, 132932, 132934, 132935, 132936, 132937, 132939, 132940, 132942, 132943, 132944, 132946, 132948, 132949, 132950, 132951, 132952, 132955, 132956, 132957, 132958, 132960, 132961, 132962, 132963, 132965, 132967, 132968, 132969, 132970, 132971, 132972, 132975, 132979, 132980, 132981, 132982, 132983, 132984, 132985, 132986, 132989, 132991, 132992, 132993, 132994, 132999, 133000, 133001, 133005, 133006, 133009, 133010, 133012, 133015, 133016, 133020, 133021, 133022, 133023, 133024, 133025, 133026, 133029, 133030, 133031, 133035, 133037, 133038, 133039, 133040, 133041, 133042, 133043, 133045, 133047, 133048, 133053, 133054, 133055, 133056, 133057, 133058, 133059, 133060, 133061, 133063, 133066, 133069, 133071, 133073, 133075, 133076, 133078, 133079, 133080, 133083, 133084, 133085, 133086, 133088, 133090, 133091, 133093, 133094, 133095, 133096, 133098, 133099, 133100, 133104, 133105, 133106, 133107, 133108, 133109, 133110, 133117, 133118, 133119, 133121, 133122, 133124, 133125, 133126, 133129, 133132, 133133, 133135, 133136, 133137, 133139, 133142, 133144, 133146, 133147, 133150, 133154, 133157, 133158, 133160, 133161, 133162, 133163, 133166, 133167, 133172, 133173, 133182, 133183, 133187, 133189, 133190, 133191, 133192, 133193, 133196, 133197, 133199, 133200, 133201, 133202, 133204, 133211, 133212, 133213, 133215, 133217, 133224, 133225, 133228, 133230, 133231, 133236, 133237, 133239, 133240, 133241, 133242, 133243, 133244, 133245, 133246, 133248, 133249, 133250, 133251, 133252, 133254, 133256, 133258, 133260, 133262, 133265, 133266, 133269, 133271, 133272, 133273, 133274, 133276, 133278, 133281, 133282, 133283, 133285, 133287, 133289, 133290, 133291, 133292, 133293, 133294, 133296, 133300, 133303, 133308, 133309, 133310, 133314, 133315, 133316, 133317, 133318, 133323, 133326, 133328, 133329, 133330, 133332, 133334, 133335, 133336, 133338, 133339, 133340, 133342, 133343, 133344, 133345, 133346, 133351, 133354, 133355, 133357, 133361, 133362, 133363, 133365, 133368, 133370, 133371, 133373, 133374, 133376, 133378, 133381, 133382, 133383, 133384, 133389, 133390, 133391, 133392, 133395, 133396, 133398, 133399, 133400, 133402, 133404, 133407, 133408, 133409, 133411, 133413, 133419, 133421, 133423, 133427, 133428, 133430, 133432, 133433, 133434, 133436, 133437, 133438, 133440, 133447, 133448, 133449, 133450, 133451, 133452, 133453, 133456, 133457, 133460, 133461, 133463, 133464, 133466, 133469, 133470, 133471, 133473, 133475, 133477, 133478, 133480, 133481, 133486, 133487, 133488, 133489, 133491, 133492, 133493, 133494, 133495, 133498, 133501, 133502, 133503, 133504, 133505, 133508, 133509, 133510, 133513, 133515, 133517, 133518, 133522, 133524, 133526, 133528, 133529, 133530, 133532, 133534, 133535, 133536, 133538, 133539, 133540, 133541, 133542, 133543, 133545, 133547, 133548, 133550, 133553, 133554, 133555, 133559, 133564, 133565, 133570, 133571, 133573, 133574, 133575, 133576, 133579, 133580, 133581, 133583, 133584, 133585, 133586, 133591, 133592, 133593, 133595, 133596, 133597, 133598, 133599, 133601, 133602, 133604, 133622, 133643, 133645, 133650, 133654, 133655, 133667, 133675, 133695, 133711, 133730, 133732, 133768, 133786, 133813, 133824, 133835, 133860, 133929, 133937, 133943, 134004, 134021, 134085, 134123, 134151, 134182, 134183, 134194, 134198, 134199, 134230, 134278, 134281, 134297, 134338, 134349, 134350, 134352, 134359, 134362, 134397, 134414, 134460, 134479, 134552, 134566, 134568, 134574, 134597, 134602, 134639, 134674, 134693, 134708, 134727, 134765, 134793, 135025, 135057, 135084, 135096, 135272, 135409, 135657, 135896, 135969, 135992, 136047, 136094, 136123, 136190, 136380, 136501, 136768, 136830, 136831, 136834, 136836, 136837, 136838, 136839, 136842, 136843, 136844, 136845, 136846, 136848, 136849, 136850, 136855, 136856, 136860, 136861, 136865, 136866, 136867, 136870, 136871, 136872, 136873, 136874, 136875, 136876, 136878, 136879, 136880, 136881, 136882, 136883, 136890, 136892, 136893, 136896, 136897, 136898, 136900, 136902, 136906, 136907, 136908, 136909, 136911, 136913, 136914, 136915, 136916, 136917, 136918, 136919, 136922, 136923, 136924, 136926, 136927, 136930, 136931, 136933, 136934, 136935, 136936, 136937, 136939, 136940, 136942, 136943, 136944, 136946, 136947, 136948, 136950, 136952, 136953, 136954, 136955, 136957, 136959, 136960, 136961, 136964, 136965, 136968, 136969, 136970, 136971, 136972, 136973, 136974, 136975, 136976, 136977, 136979, 136980, 136983, 136984, 136986, 136987, 136989, 136990, 136991, 136996, 136998, 136999, 137000, 137001, 137002, 137004, 137005, 137006, 137009, 137011, 137012, 137014, 137015, 137017, 137018, 137019, 137021, 137023, 137028, 137029, 137032, 137033, 137034, 137035, 137037, 137038, 137039, 137042, 137044, 137045, 137046, 137047, 137048, 137051, 137052, 137055, 137056, 137058, 137059, 137060, 137061, 137062, 137063, 137064, 137065, 137067, 137068, 137070, 137071, 137074, 137075, 137076, 137077, 137078, 137081, 137084, 137085, 137086, 137087, 137088, 137092, 137093, 137094, 137097, 137099, 137101, 137102, 137106, 137107, 137108, 137109, 137110, 137111, 137112, 137113, 137115, 137116, 137118, 137119, 137120, 137123, 137124, 137128, 137130, 137131, 137133, 137134, 137135, 137136, 137138, 137141, 137143, 137144, 137146, 137149, 137150, 137151, 137152, 137153, 137155, 137157, 137160, 137161, 137162, 137167, 137168, 137171, 137173, 137175, 137176, 137177, 137179, 137183, 137184, 137186, 137187, 137189, 137191, 137196, 137200, 137201, 137202, 137203, 137207, 137208, 137212, 137213, 137215, 137216, 137218, 137219, 137220, 137221, 137222, 137223, 137224, 137226, 137227, 137233, 137234, 137237, 137238, 137239, 137240, 137241, 137244, 137246, 137248, 137250, 137253, 137256, 137257, 137259, 137260, 137261, 137262, 137263, 137266, 137267, 137268, 137269, 137270, 137272, 137274, 137277, 137279, 137280, 137283, 137285, 137286, 137288, 137289, 137293, 137294, 137295, 137296, 137297, 137298, 137299, 137300, 137302, 137304, 137306, 137307, 137309, 137310, 137311, 137312, 137320, 137321, 137325, 137327, 137329, 137330, 137332, 137334, 137335, 137336, 137337, 137341, 137342, 137343, 137344, 137345, 137347, 137352, 137359, 137360, 137361, 137364, 137365, 137366, 137367, 137370, 137374, 137375, 137377, 137378, 137380, 137381, 137384, 137387, 137388, 137390, 137391, 137393, 137395, 137400, 137401, 137402, 137403, 137407, 137409, 137410, 137411, 137414, 137415, 137418, 137419, 137420, 137421, 137422, 137423, 137425, 137430, 137432, 137433, 137434, 137436, 137437, 137438, 137440, 137441, 137444, 137445, 137446, 137447, 137448, 137450, 137452, 137454, 137455, 137456, 137458, 137460, 137461, 137462, 137470, 137471, 137472, 137473, 137474, 137475, 137476, 137481, 137482, 137485, 137486, 137487, 137488, 137491, 137492, 137497, 137498, 137499, 137501, 137502, 137504, 137505, 137508, 137510, 137512, 137516, 137520, 137521, 137522, 137525, 137531, 137533, 137534, 137537, 137538, 137540, 137543, 137544, 137545, 137547, 137549, 137550, 137551, 137552, 137553, 137554, 137555, 137556, 137557, 137559, 137560, 137561, 137563, 137564, 137565, 137566, 137567, 137570, 137574, 137575, 137576, 137577, 137582, 137584, 137585, 137586, 137587, 137588, 137590, 137591, 137592, 137593, 137594, 137595, 137599, 137600, 137602, 137603, 137605, 137606, 137607, 137608, 137610, 137613, 137616, 137622, 137626, 137627, 137629, 137633, 137634, 137635, 137636, 137637, 137638, 137639, 137640, 137641, 137642, 137643, 137645, 137646, 137647, 137648, 137649, 137651, 137653, 137654, 137664, 137666, 137668, 137669, 137670, 137671, 137672, 137674, 137675, 137679, 137680, 137682, 137683, 137684, 137685, 137686, 137689, 137690, 137691, 137693, 137695, 137696, 137698, 137699, 137702, 137703, 137704, 137708, 137709, 137710, 137711, 137712, 137713, 137714, 137716, 137717, 137720, 137725, 137726, 137727, 137730, 137731, 137732, 137733, 137735, 137737, 137738, 137740, 137741, 137744, 137745, 137746, 137747, 137749, 137750, 137751, 137752, 137753, 137754, 137755, 137758, 137760, 137761, 137768, 137769, 137772, 137775, 137776, 137780, 137781, 137782, 137784, 137785, 137788, 137790, 137791, 137794, 137795, 137800, 137802, 137804, 137805, 137806, 137808, 137809, 137810, 137811, 137812, 137813, 137815, 137816, 137817, 137819, 137821, 137822, 137823, 137824, 137826, 137829, 137832, 137834, 137835, 137838, 137839, 137840, 137841, 137844, 137845, 137846, 137848, 137851, 137852, 137853, 137857, 137858, 137859, 137861, 137862, 137864, 137866, 137867, 137868, 137870, 137872, 137873, 137874, 137878, 137879, 137881, 137885, 137886, 137887, 137888, 137889, 137890, 137892, 137894, 137895, 137898, 137900, 137901, 137902, 137904, 137905, 137906, 137907, 137909, 137911, 137912, 137947, 137955, 137987, 138071, 138981, 139251, 139345, 139555, 140039, 140063, 140087, 140361, 140418, 140635, 141067, 141230, 141232, 141419, 141912, 141987, 142034, 142054, 142065, 142103, 142111, 142133, 142169, 142255, 142271, 142305, 142309, 142384, 142430, 142437, 142489, 142619, 142664, 142666, 142678, 142715, 142722, 142731, 142762, 142811, 142849, 142857, 142947, 143078, 143330, 143335, 143349, 143383, 143652, 143807, 143854, 144067, 144201, 144322, 144335, 144368, 144631, 144741, 144756, 144759, 144766, 144768, 144783, 144799, 144800, 144825, 144828, 144873, 144877, 144898, 144903, 144912, 144972, 144989, 144991, 145009, 145012, 145019, 145090, 145093, 145099, 145121, 145131, 145132, 145144, 145149, 145164, 145174, 145177, 145183, 145227, 145238, 145254, 145257, 145259, 145283, 145290, 145296, 145299, 145308, 145312, 145383, 145403, 145409, 145416, 145428, 145455, 145464, 145472, 145487, 145488, 145492, 145515, 145520, 145531, 145541, 145553, 145569, 145583, 145599, 145601, 145610, 145624, 145628, 145640, 145654, 145656, 145666, 145674, 145676]\n"
     ]
    }
   ],
   "source": [
    "import sklearn\n",
    "from sklearn.covariance import EllipticEnvelope\n",
    "\n",
    "elip_env = sklearn.covariance.EllipticEnvelope().fit(nan_removed_data)\n",
    "detection = elip_env.predict(nan_removed_data)\n",
    "outlier_positions = [x for x in range(nan_removed_data.shape[0]) if detection[x] == -1]\n",
    "\n",
    "print('Outliers positions: ' + str(outlier_positions))"
   ]
  },
  {
   "cell_type": "code",
   "execution_count": 23,
   "metadata": {},
   "outputs": [
    {
     "data": {
      "text/plain": [
       "-1.0    130580\n",
       " 1.0       529\n",
       "Name: class, dtype: int64"
      ]
     },
     "execution_count": 23,
     "metadata": {},
     "output_type": "execute_result"
    }
   ],
   "source": [
    "outlier_free_data = nan_removed_data.drop(nan_removed_data.index[outlier_positions])\n",
    "\n",
    "outlier_free_data['class'].value_counts()"
   ]
  },
  {
   "cell_type": "markdown",
   "metadata": {},
   "source": [
    "We are loosing lot of minority class intances, so we are going to delete only the mayority class outliers."
   ]
  },
  {
   "cell_type": "code",
   "execution_count": 33,
   "metadata": {},
   "outputs": [
    {
     "data": {
      "text/plain": [
       "-1.0    130580\n",
       " 1.0      1296\n",
       "Name: class, dtype: int64"
      ]
     },
     "execution_count": 33,
     "metadata": {},
     "output_type": "execute_result"
    }
   ],
   "source": [
    "outlier_free_data = nan_removed_data.copy()\n",
    "\n",
    "numbers = []\n",
    "for n in outlier_positions:\n",
    "    if nan_removed_data.iloc[[n]]['class'].iloc[-1] == -1.0:\n",
    "        numbers.append(n)\n",
    "\n",
    "outlier_free_data.drop(outlier_free_data.index[numbers], inplace=True)\n",
    "outlier_free_data['class'].value_counts()"
   ]
  },
  {
   "cell_type": "markdown",
   "metadata": {},
   "source": [
    "### C"
   ]
  },
  {
   "cell_type": "code",
   "execution_count": 34,
   "metadata": {},
   "outputs": [],
   "source": [
    "outlier_free_data.to_csv('Hoerchen_1.csv')"
   ]
  },
  {
   "cell_type": "markdown",
   "metadata": {},
   "source": [
    "### (iii) The feature selection method SelectPercentile (sklearn.feature_selection.SelectPercentile) uses different scores (f_classif, mutual_info_classif, chi2, f_regression, etc) in order to select the most relevant features. In the Scikit-Learn documentation (https://scikit-learn.org/stable/modules/generated/sklearn.feature_selection.SelectPercentile.html#sklearn.feature_selection.SelectPercentile) you have the function info and an example of use of chi2 score. Use the feature selection method SelectPercentile with the mutual_info_classif score, and percentile parameter 20. [30%] "
   ]
  },
  {
   "cell_type": "code",
   "execution_count": 50,
   "metadata": {},
   "outputs": [
    {
     "data": {
      "text/plain": [
       "(131876, 74)"
      ]
     },
     "execution_count": 50,
     "metadata": {},
     "output_type": "execute_result"
    }
   ],
   "source": [
    "import pandas as pd\n",
    "\n",
    "df = pd.read_csv('Hoerchen_1.csv')\n",
    "df = df.loc[:, ~df.columns.str.contains('^Unnamed')]\n",
    "\n",
    "X = df.iloc[:,:-1]\n",
    "y = df.iloc[:,-1]\n",
    "\n",
    "X.shape"
   ]
  },
  {
   "cell_type": "markdown",
   "metadata": {},
   "source": [
    "### A"
   ]
  },
  {
   "cell_type": "code",
   "execution_count": 51,
   "metadata": {},
   "outputs": [
    {
     "data": {
      "text/plain": [
       "(131876, 15)"
      ]
     },
     "execution_count": 51,
     "metadata": {},
     "output_type": "execute_result"
    }
   ],
   "source": [
    "from sklearn.feature_selection import SelectPercentile, mutual_info_classif\n",
    "\n",
    "X_new = SelectPercentile(mutual_info_classif, percentile=20).fit_transform(X, y)\n",
    "X_new.shape"
   ]
  },
  {
   "cell_type": "markdown",
   "metadata": {},
   "source": [
    "Only 15 features where selected from a total of 75"
   ]
  },
  {
   "cell_type": "markdown",
   "metadata": {},
   "source": [
    "### B"
   ]
  },
  {
   "cell_type": "code",
   "execution_count": 52,
   "metadata": {},
   "outputs": [
    {
     "name": "stdout",
     "output_type": "stream",
     "text": [
      "Original score: 0.9776170428381525\n",
      "Selected features score: 0.962595332475693\n"
     ]
    }
   ],
   "source": [
    "xtr1, xte1, ytr1, yte1 = train_test_split(X, y, test_size=0.3, random_state=seed)\n",
    "print(\"Original score: \" + str(automatic_testing(xtr1, ytr1, xte1, yte1)))\n",
    "\n",
    "xtr2, xte2, ytr2, yte2 = train_test_split(X_new, y, test_size=0.3, random_state=seed)\n",
    "print(\"Selected features score: \" + str(automatic_testing(xtr2, ytr2, xte2, yte2)))\n"
   ]
  },
  {
   "cell_type": "markdown",
   "metadata": {},
   "source": [
    "We are getting a very good score on both cases. \n",
    "Probably if we play with de seed, we can get a case that we get a better score with only 15 features.\n",
    "In this case we get a better score with the original data so i would continue the exercises with the original data."
   ]
  },
  {
   "cell_type": "markdown",
   "metadata": {},
   "source": [
    "### C"
   ]
  },
  {
   "cell_type": "code",
   "execution_count": 53,
   "metadata": {},
   "outputs": [],
   "source": [
    "df.to_csv('Hoerchen_2.csv')"
   ]
  },
  {
   "cell_type": "markdown",
   "metadata": {},
   "source": [
    "###  (iv) Check the balance of your current dataset. Which is its imbalance ratio? We can understand it both as the number of times the majority class is bigger than the minority class, or the proportion of the samples that are from minority class. If imbalance ratio is higher than 49 to 1 (equivalent to having less than 2% of minority class samples), discuss if it makes sense to apply imbalanced data treatments or not. Consider the size of the data and the performance you have obtained in (iii) (b) for the data you currently have. Act in consequence with total freedom on the sampling method to use if you need any. [20%]"
   ]
  },
  {
   "cell_type": "code",
   "execution_count": 61,
   "metadata": {},
   "outputs": [
    {
     "data": {
      "text/plain": [
       "(131876, 75)"
      ]
     },
     "execution_count": 61,
     "metadata": {},
     "output_type": "execute_result"
    }
   ],
   "source": [
    "import pandas as pd\n",
    "df = pd.read_csv('Hoerchen_2.csv')\n",
    "df = df.loc[:, ~df.columns.str.contains('^Unnamed')]\n",
    "\n",
    "X = df.iloc[:,:-1]\n",
    "y = df.iloc[:,-1]\n",
    "\n",
    "df.shape"
   ]
  },
  {
   "cell_type": "code",
   "execution_count": 55,
   "metadata": {},
   "outputs": [
    {
     "data": {
      "text/plain": [
       "-1.0    130580\n",
       " 1.0      1296\n",
       "Name: class, dtype: int64"
      ]
     },
     "execution_count": 55,
     "metadata": {},
     "output_type": "execute_result"
    }
   ],
   "source": [
    "df['class'].value_counts()"
   ]
  },
  {
   "cell_type": "code",
   "execution_count": null,
   "metadata": {},
   "outputs": [],
   "source": [
    "from imblearn.over_sampling import SMOTE \n",
    "\n",
    "sm = SMOTE(random_state=seed)\n",
    "X_res, y_res = sm.fit_resample(X, y)"
   ]
  },
  {
   "cell_type": "markdown",
   "metadata": {},
   "source": [
    "### (v) Apply principal component analysis to your data for compression, capturing at least 95% of the cumulative variance. How many extracted variables do you have? Which reduction percentage would you get if you apply it? Compare the performance with the one of your current non-compressed data. Would you use the pca compression here? Act consequently with your answer, and keep the data overwriting the names. [15%]"
   ]
  },
  {
   "cell_type": "code",
   "execution_count": 57,
   "metadata": {},
   "outputs": [
    {
     "data": {
      "text/plain": [
       "(131876, 8)"
      ]
     },
     "execution_count": 57,
     "metadata": {},
     "output_type": "execute_result"
    }
   ],
   "source": [
    "import pandas as pd\n",
    "from sklearn.decomposition import PCA\n",
    "\n",
    "pca = PCA(n_components=0.95)\n",
    "\n",
    "# Calculates dataframe PCA\n",
    "def get_df_pca(df):    \n",
    "    X = df.iloc[:,:-1]\n",
    "    y = df.iloc[:,-1]\n",
    "    pca.fit(X)\n",
    "    X_reduced = pca.transform(X)\n",
    "    # print(\"There have been selected \" + str(X_reduced.shape[1]) + \" principal components.\")    \n",
    "    columns = []\n",
    "    for n in range(X_reduced.shape[1]):\n",
    "        columns.append(\"PCA\" + str(n))    \n",
    "    df = pd.DataFrame(X_reduced, columns=columns)\n",
    "    df['species'] = y\n",
    "    return df     \n",
    "\n",
    "df = pd.read_csv('Hoerchen_2.csv')\n",
    "df = df.loc[:, ~df.columns.str.contains('^Unnamed')]\n",
    "\n",
    "df_pca = get_df_pca(df)\n",
    "df_pca.shape"
   ]
  },
  {
   "cell_type": "code",
   "execution_count": 59,
   "metadata": {},
   "outputs": [
    {
     "name": "stdout",
     "output_type": "stream",
     "text": [
      "There have been selected 7 principal components.\n"
     ]
    }
   ],
   "source": [
    "print(\"There have been selected \" + str(df_pca.iloc[:,:-1].shape[1]) + \" principal components.\")"
   ]
  },
  {
   "cell_type": "code",
   "execution_count": 60,
   "metadata": {},
   "outputs": [
    {
     "name": "stdout",
     "output_type": "stream",
     "text": [
      "Original score: 0.9776170428381525\n",
      "Selected features score: 0.7913444620821342\n"
     ]
    }
   ],
   "source": [
    "xtr1, xte1, ytr1, yte1 = train_test_split(df.iloc[:,:-1], df.iloc[:,-1], test_size=0.3, random_state=seed)\n",
    "print(\"Original score: \" + str(automatic_testing(xtr1, ytr1, xte1, yte1)))\n",
    "\n",
    "xtr2, xte2, ytr2, yte2 = train_test_split(df_pca.iloc[:,:-1], df_pca.iloc[:,-1], test_size=0.3, random_state=seed)\n",
    "print(\"Selected features score: \" + str(automatic_testing(xtr2, ytr2, xte2, yte2)))"
   ]
  },
  {
   "cell_type": "markdown",
   "metadata": {},
   "source": [
    "We get a better score with the original data than with the 7 principal components."
   ]
  },
  {
   "cell_type": "code",
   "execution_count": null,
   "metadata": {},
   "outputs": [],
   "source": []
  }
 ],
 "metadata": {
  "kernelspec": {
   "display_name": "Python 3",
   "language": "python",
   "name": "python3"
  },
  "language_info": {
   "codemirror_mode": {
    "name": "ipython",
    "version": 3
   },
   "file_extension": ".py",
   "mimetype": "text/x-python",
   "name": "python",
   "nbconvert_exporter": "python",
   "pygments_lexer": "ipython3",
   "version": "3.7.4"
  }
 },
 "nbformat": 4,
 "nbformat_minor": 2
}
